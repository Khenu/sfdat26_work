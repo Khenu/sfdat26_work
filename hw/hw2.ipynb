{
 "cells": [
  {
   "cell_type": "code",
   "execution_count": 1,
   "metadata": {
    "collapsed": false
   },
   "outputs": [],
   "source": [
    "import tweepy       # python wrapper for twitter api\n",
    "import json\n",
    "import time\n",
    "import requests\n",
    "# step 0, get your own twitter credentials!"
   ]
  },
  {
   "cell_type": "code",
   "execution_count": 2,
   "metadata": {
    "collapsed": false
   },
   "outputs": [],
   "source": [
    "# this is my own personal twitter api information\n",
    "# if you could be so kind as to sign up yourself on both twitter and mashape that'd be great :)\n",
    "# It's FREEEEEEE\n",
    "api_key = 'g5uPIpw80nULQI1gfklv2zrh4'\n",
    "api_secret = 'cOWvNWxYvPmEZ0ArZVeeVVvJu41QYHdUS2GpqIKtSQ1isd5PJy'\n",
    "access_token = '49722956-TWl8J0aAS6KTdcbz3ppZ7NfqZEmrwmbsb9cYPNELG'\n",
    "access_secret = '3eqrVssF3ppv23qyflyAto8wLEiYRA8sXEPSghuOJWTub'"
   ]
  },
  {
   "cell_type": "code",
   "execution_count": 3,
   "metadata": {
    "collapsed": false
   },
   "outputs": [],
   "source": [
    "# Documentation is your friend! http://docs.tweepy.org/en/v3.1.0/\n",
    "auth = tweepy.OAuthHandler(api_key, api_secret)\n",
    "auth.set_access_token(access_token, access_secret)\n",
    "api = tweepy.API(auth) # returns a tweepy authorization handler object"
   ]
  },
  {
   "cell_type": "markdown",
   "metadata": {},
   "source": [
    "## 1. Use Twitter API to stream and store tweets"
   ]
  },
  {
   "cell_type": "code",
   "execution_count": 4,
   "metadata": {
    "collapsed": false
   },
   "outputs": [],
   "source": [
    "# 1. Use Twitter API to stream and store tweets (300 per candidate)\n",
    "# 37.781157,-122.39872 is the lat,lng for SF\n",
    "hilary_tweets = api.search(q='#ImWithHer', count=100, geocode=\"37.781157,-122.398720,10mi\") + api.search(q='#hillaryclinton', count=100, geocode=\"37.781157,-122.398720,50mi\") + api.search(q='#hillary2016', count=100, geocode=\"37.781157,-122.398720,50mi\")\n",
    "the_donald_tweets = api.search(q='#donaldtrump', count=100, geocode=\"37.781157,-122.398720,10mi\") + api.search(q='#trump2016', count=100, geocode=\"37.781157,-122.398720,50mi\") + api.search(q='#trump', count=100, geocode=\"37.781157,-122.398720,50mi\") + api.search(q='#makeamericagreatagain', count=100, geocode=\"37.781157,-122.398720,50mi\")"
   ]
  },
  {
   "cell_type": "code",
   "execution_count": 5,
   "metadata": {
    "collapsed": false
   },
   "outputs": [
    {
     "data": {
      "text/plain": [
       "u'Perhaps @JasonMillerinDC forgot #DonaldTrump questioned if his former boss #TedCruz was really an American\\u2026 https://t.co/E6tFqTi52J'"
      ]
     },
     "execution_count": 5,
     "metadata": {},
     "output_type": "execute_result"
    }
   ],
   "source": [
    "the_donald_tweets[0].text"
   ]
  },
  {
   "cell_type": "code",
   "execution_count": 6,
   "metadata": {
    "collapsed": false
   },
   "outputs": [
    {
     "data": {
      "text/plain": [
       "u'Too funny!! The college dropout making fun of the smart one home preparing for debate? When will these jokers grow\\u2026 https://t.co/RtbKVKDvRp'"
      ]
     },
     "execution_count": 6,
     "metadata": {},
     "output_type": "execute_result"
    }
   ],
   "source": [
    "hilary_tweets[0].text"
   ]
  },
  {
   "cell_type": "code",
   "execution_count": 7,
   "metadata": {
    "collapsed": false
   },
   "outputs": [
    {
     "name": "stdout",
     "output_type": "stream",
     "text": [
      "['__class__', '__delattr__', '__dict__', '__doc__', '__eq__', '__format__', '__getattribute__', '__getstate__', '__hash__', '__init__', '__module__', '__ne__', '__new__', '__reduce__', '__reduce_ex__', '__repr__', '__setattr__', '__sizeof__', '__str__', '__subclasshook__', '__weakref__', '_api', '_json', 'author', 'contributors', 'coordinates', 'created_at', 'destroy', 'entities', 'favorite', 'favorite_count', 'favorited', 'geo', 'id', 'id_str', 'in_reply_to_screen_name', 'in_reply_to_status_id', 'in_reply_to_status_id_str', 'in_reply_to_user_id', 'in_reply_to_user_id_str', 'is_quote_status', 'lang', 'metadata', 'parse', 'parse_list', 'place', 'possibly_sensitive', 'quoted_status', 'quoted_status_id', 'quoted_status_id_str', 'retweet', 'retweet_count', 'retweeted', 'retweets', 'source', 'source_url', 'text', 'truncated', 'user']\n"
     ]
    }
   ],
   "source": [
    "# wrappers come with built in python attributes and methods!\n",
    "print dir(the_donald_tweets[0])"
   ]
  },
  {
   "cell_type": "code",
   "execution_count": 8,
   "metadata": {
    "collapsed": false
   },
   "outputs": [
    {
     "name": "stdout",
     "output_type": "stream",
     "text": [
      "2016-10-06 18:07:08\n",
      "Perhaps @JasonMillerinDC forgot #DonaldTrump questioned if his former boss #TedCruz was really an American… https://t.co/E6tFqTi52J\n",
      "0\n",
      "False\n",
      "en\n",
      "None\n",
      "0\n",
      "False\n",
      "None\n"
     ]
    }
   ],
   "source": [
    "print the_donald_tweets[0].created_at\n",
    "print the_donald_tweets[0].text\n",
    "print the_donald_tweets[0].favorite_count\n",
    "print the_donald_tweets[0].favorited\n",
    "print the_donald_tweets[0].lang\n",
    "print the_donald_tweets[0].geo\n",
    "print the_donald_tweets[0].retweet_count\n",
    "print the_donald_tweets[0].retweeted\n",
    "print the_donald_tweets[0].coordinates"
   ]
  },
  {
   "cell_type": "code",
   "execution_count": 9,
   "metadata": {
    "collapsed": false
   },
   "outputs": [],
   "source": [
    "# modify the tweets to make a nice dictionary\n",
    "def parse_status_objects(tweet_list):\n",
    "    modified_tweets = list()\n",
    "    for x in tweet_list:\n",
    "        modified_tweets.append( [\n",
    "                    x.created_at,\n",
    "                    x.text,\n",
    "                    x.favorite_count,\n",
    "                    x.favorited,\n",
    "                    x.lang,\n",
    "                    x.geo,\n",
    "                    x.retweet_count,\n",
    "                    x.retweeted,\n",
    "                    x.coordinates\n",
    "                ])\n",
    "    return modified_tweets\n",
    "        \n",
    "hilary_tweets = parse_status_objects(hilary_tweets)\n",
    "the_donald_tweets = parse_status_objects(the_donald_tweets)"
   ]
  },
  {
   "cell_type": "code",
   "execution_count": 10,
   "metadata": {
    "collapsed": false
   },
   "outputs": [
    {
     "name": "stdout",
     "output_type": "stream",
     "text": [
      "[datetime.datetime(2016, 10, 6, 18, 7, 8), u'Perhaps @JasonMillerinDC forgot #DonaldTrump questioned if his former boss #TedCruz was really an American\\u2026 https://t.co/E6tFqTi52J', 0, False, u'en', None, 0, False, None]\n",
      "[datetime.datetime(2016, 10, 6, 18, 2, 40), u'Too funny!! The college dropout making fun of the smart one home preparing for debate? When will these jokers grow\\u2026 https://t.co/RtbKVKDvRp', 2, False, u'en', None, 0, False, None]\n"
     ]
    }
   ],
   "source": [
    "print the_donald_tweets[0]\n",
    "print hilary_tweets[0]"
   ]
  },
  {
   "cell_type": "code",
   "execution_count": 11,
   "metadata": {
    "collapsed": false
   },
   "outputs": [
    {
     "data": {
      "text/plain": [
       "316"
      ]
     },
     "execution_count": 11,
     "metadata": {},
     "output_type": "execute_result"
    }
   ],
   "source": [
    "len(the_donald_tweets)"
   ]
  },
  {
   "cell_type": "code",
   "execution_count": 12,
   "metadata": {
    "collapsed": false
   },
   "outputs": [
    {
     "data": {
      "text/plain": [
       "273"
      ]
     },
     "execution_count": 12,
     "metadata": {},
     "output_type": "execute_result"
    }
   ],
   "source": [
    "len(hilary_tweets)"
   ]
  },
  {
   "cell_type": "markdown",
   "metadata": {},
   "source": [
    "## 2. Create a dataframe that combines all of the tweets from each candidate"
   ]
  },
  {
   "cell_type": "code",
   "execution_count": 13,
   "metadata": {
    "collapsed": false
   },
   "outputs": [],
   "source": [
    "# 2 Create a dataframe that combines all of the tweets from each candidate\n",
    "# To do so, you will need to concat the data frames\n",
    "# so each row is a tweet and your columns should be \n",
    "# date, text, favorite_count, favorited, language, geocode, retweet count, retweeted, coordinates"
   ]
  },
  {
   "cell_type": "code",
   "execution_count": 14,
   "metadata": {
    "collapsed": true
   },
   "outputs": [],
   "source": [
    "import pandas as pd\n",
    "import numpy as np\n",
    "import matplotlib.pyplot as plt\n",
    "%matplotlib inline"
   ]
  },
  {
   "cell_type": "code",
   "execution_count": 15,
   "metadata": {
    "collapsed": false
   },
   "outputs": [
    {
     "data": {
      "text/html": [
       "<div>\n",
       "<table border=\"1\" class=\"dataframe\">\n",
       "  <thead>\n",
       "    <tr style=\"text-align: right;\">\n",
       "      <th></th>\n",
       "      <th>date</th>\n",
       "      <th>text</th>\n",
       "      <th>favorite_count</th>\n",
       "      <th>favorited</th>\n",
       "      <th>language</th>\n",
       "      <th>geocode</th>\n",
       "      <th>retweet_count</th>\n",
       "      <th>retweeted</th>\n",
       "      <th>coordinates</th>\n",
       "    </tr>\n",
       "  </thead>\n",
       "  <tbody>\n",
       "    <tr>\n",
       "      <th>0</th>\n",
       "      <td>2016-10-06 18:07:08</td>\n",
       "      <td>Perhaps @JasonMillerinDC forgot #DonaldTrump q...</td>\n",
       "      <td>0</td>\n",
       "      <td>False</td>\n",
       "      <td>en</td>\n",
       "      <td>None</td>\n",
       "      <td>0</td>\n",
       "      <td>False</td>\n",
       "      <td>None</td>\n",
       "    </tr>\n",
       "    <tr>\n",
       "      <th>1</th>\n",
       "      <td>2016-10-06 16:59:06</td>\n",
       "      <td>RT @CartoonGirl35: 🔥 #DonaldTrump Pants on 🔥...</td>\n",
       "      <td>0</td>\n",
       "      <td>False</td>\n",
       "      <td>en</td>\n",
       "      <td>None</td>\n",
       "      <td>1</td>\n",
       "      <td>False</td>\n",
       "      <td>None</td>\n",
       "    </tr>\n",
       "    <tr>\n",
       "      <th>2</th>\n",
       "      <td>2016-10-06 16:49:53</td>\n",
       "      <td>🔥 #DonaldTrump Pants on 🔥\\n\\n🔥 #DonaldTrump...</td>\n",
       "      <td>1</td>\n",
       "      <td>False</td>\n",
       "      <td>en</td>\n",
       "      <td>None</td>\n",
       "      <td>1</td>\n",
       "      <td>False</td>\n",
       "      <td>None</td>\n",
       "    </tr>\n",
       "    <tr>\n",
       "      <th>3</th>\n",
       "      <td>2016-10-06 16:48:36</td>\n",
       "      <td>🔥 #DonaldTrump Pante on 🔥\\n\\n@cspanwj https:...</td>\n",
       "      <td>1</td>\n",
       "      <td>False</td>\n",
       "      <td>en</td>\n",
       "      <td>None</td>\n",
       "      <td>0</td>\n",
       "      <td>False</td>\n",
       "      <td>None</td>\n",
       "    </tr>\n",
       "    <tr>\n",
       "      <th>4</th>\n",
       "      <td>2016-10-06 16:47:49</td>\n",
       "      <td>🔥 #DonaldTrump Pante on 🔥\\n\\n@cspanwj https:...</td>\n",
       "      <td>1</td>\n",
       "      <td>False</td>\n",
       "      <td>en</td>\n",
       "      <td>None</td>\n",
       "      <td>0</td>\n",
       "      <td>False</td>\n",
       "      <td>None</td>\n",
       "    </tr>\n",
       "  </tbody>\n",
       "</table>\n",
       "</div>"
      ],
      "text/plain": [
       "                 date                                               text  \\\n",
       "0 2016-10-06 18:07:08  Perhaps @JasonMillerinDC forgot #DonaldTrump q...   \n",
       "1 2016-10-06 16:59:06  RT @CartoonGirl35: 🔥 #DonaldTrump Pants on 🔥...   \n",
       "2 2016-10-06 16:49:53  🔥 #DonaldTrump Pants on 🔥\\n\\n🔥 #DonaldTrump...   \n",
       "3 2016-10-06 16:48:36  🔥 #DonaldTrump Pante on 🔥\\n\\n@cspanwj https:...   \n",
       "4 2016-10-06 16:47:49  🔥 #DonaldTrump Pante on 🔥\\n\\n@cspanwj https:...   \n",
       "\n",
       "   favorite_count favorited language geocode  retweet_count retweeted  \\\n",
       "0               0     False       en    None              0     False   \n",
       "1               0     False       en    None              1     False   \n",
       "2               1     False       en    None              1     False   \n",
       "3               1     False       en    None              0     False   \n",
       "4               1     False       en    None              0     False   \n",
       "\n",
       "  coordinates  \n",
       "0        None  \n",
       "1        None  \n",
       "2        None  \n",
       "3        None  \n",
       "4        None  "
      ]
     },
     "execution_count": 15,
     "metadata": {},
     "output_type": "execute_result"
    }
   ],
   "source": [
    "feature_cols =['date', 'text', 'favorite_count', 'favorited', 'language', 'geocode', 'retweet_count', \n",
    "               'retweeted', 'coordinates']\n",
    "tweets = pd.DataFrame(the_donald_tweets + hilary_tweets, columns=feature_cols)\n",
    "tweets.head()"
   ]
  },
  {
   "cell_type": "code",
   "execution_count": 16,
   "metadata": {
    "collapsed": false
   },
   "outputs": [
    {
     "data": {
      "text/plain": [
       "(589, 9)"
      ]
     },
     "execution_count": 16,
     "metadata": {},
     "output_type": "execute_result"
    }
   ],
   "source": [
    "tweets.shape"
   ]
  },
  {
   "cell_type": "markdown",
   "metadata": {},
   "source": [
    "## 3. Create a function to take in a string and output the textblob sentiment of that string"
   ]
  },
  {
   "cell_type": "code",
   "execution_count": 17,
   "metadata": {
    "collapsed": true
   },
   "outputs": [],
   "source": [
    "# 3 Create a function to take in a string and output the textblob sentiment of that string"
   ]
  },
  {
   "cell_type": "code",
   "execution_count": 18,
   "metadata": {
    "collapsed": true
   },
   "outputs": [],
   "source": [
    "from textblob import TextBlob"
   ]
  },
  {
   "cell_type": "code",
   "execution_count": 19,
   "metadata": {
    "collapsed": true
   },
   "outputs": [],
   "source": [
    "def detect_sentiment(text):\n",
    "    return TextBlob(text).sentiment.polarity"
   ]
  },
  {
   "cell_type": "markdown",
   "metadata": {},
   "source": [
    "## 4. Add a column to your data frame called 'sentiment'"
   ]
  },
  {
   "cell_type": "code",
   "execution_count": 20,
   "metadata": {
    "collapsed": true
   },
   "outputs": [],
   "source": [
    "# 4 Add a column to your data frame called 'sentiment'\n",
    "# which holds the sentiment of that tweet (hint: use the function from #3)"
   ]
  },
  {
   "cell_type": "code",
   "execution_count": 21,
   "metadata": {
    "collapsed": true
   },
   "outputs": [],
   "source": [
    "tweets['sentiment'] = tweets.text.apply(detect_sentiment)"
   ]
  },
  {
   "cell_type": "code",
   "execution_count": 22,
   "metadata": {
    "collapsed": false
   },
   "outputs": [
    {
     "data": {
      "text/html": [
       "<div>\n",
       "<table border=\"1\" class=\"dataframe\">\n",
       "  <thead>\n",
       "    <tr style=\"text-align: right;\">\n",
       "      <th></th>\n",
       "      <th>date</th>\n",
       "      <th>text</th>\n",
       "      <th>favorite_count</th>\n",
       "      <th>favorited</th>\n",
       "      <th>language</th>\n",
       "      <th>geocode</th>\n",
       "      <th>retweet_count</th>\n",
       "      <th>retweeted</th>\n",
       "      <th>coordinates</th>\n",
       "      <th>sentiment</th>\n",
       "    </tr>\n",
       "  </thead>\n",
       "  <tbody>\n",
       "    <tr>\n",
       "      <th>0</th>\n",
       "      <td>2016-10-06 18:07:08</td>\n",
       "      <td>Perhaps @JasonMillerinDC forgot #DonaldTrump q...</td>\n",
       "      <td>0</td>\n",
       "      <td>False</td>\n",
       "      <td>en</td>\n",
       "      <td>None</td>\n",
       "      <td>0</td>\n",
       "      <td>False</td>\n",
       "      <td>None</td>\n",
       "      <td>0.1</td>\n",
       "    </tr>\n",
       "    <tr>\n",
       "      <th>1</th>\n",
       "      <td>2016-10-06 16:59:06</td>\n",
       "      <td>RT @CartoonGirl35: 🔥 #DonaldTrump Pants on 🔥...</td>\n",
       "      <td>0</td>\n",
       "      <td>False</td>\n",
       "      <td>en</td>\n",
       "      <td>None</td>\n",
       "      <td>1</td>\n",
       "      <td>False</td>\n",
       "      <td>None</td>\n",
       "      <td>0.0</td>\n",
       "    </tr>\n",
       "    <tr>\n",
       "      <th>2</th>\n",
       "      <td>2016-10-06 16:49:53</td>\n",
       "      <td>🔥 #DonaldTrump Pants on 🔥\\n\\n🔥 #DonaldTrump...</td>\n",
       "      <td>1</td>\n",
       "      <td>False</td>\n",
       "      <td>en</td>\n",
       "      <td>None</td>\n",
       "      <td>1</td>\n",
       "      <td>False</td>\n",
       "      <td>None</td>\n",
       "      <td>0.0</td>\n",
       "    </tr>\n",
       "    <tr>\n",
       "      <th>3</th>\n",
       "      <td>2016-10-06 16:48:36</td>\n",
       "      <td>🔥 #DonaldTrump Pante on 🔥\\n\\n@cspanwj https:...</td>\n",
       "      <td>1</td>\n",
       "      <td>False</td>\n",
       "      <td>en</td>\n",
       "      <td>None</td>\n",
       "      <td>0</td>\n",
       "      <td>False</td>\n",
       "      <td>None</td>\n",
       "      <td>0.0</td>\n",
       "    </tr>\n",
       "    <tr>\n",
       "      <th>4</th>\n",
       "      <td>2016-10-06 16:47:49</td>\n",
       "      <td>🔥 #DonaldTrump Pante on 🔥\\n\\n@cspanwj https:...</td>\n",
       "      <td>1</td>\n",
       "      <td>False</td>\n",
       "      <td>en</td>\n",
       "      <td>None</td>\n",
       "      <td>0</td>\n",
       "      <td>False</td>\n",
       "      <td>None</td>\n",
       "      <td>0.0</td>\n",
       "    </tr>\n",
       "  </tbody>\n",
       "</table>\n",
       "</div>"
      ],
      "text/plain": [
       "                 date                                               text  \\\n",
       "0 2016-10-06 18:07:08  Perhaps @JasonMillerinDC forgot #DonaldTrump q...   \n",
       "1 2016-10-06 16:59:06  RT @CartoonGirl35: 🔥 #DonaldTrump Pants on 🔥...   \n",
       "2 2016-10-06 16:49:53  🔥 #DonaldTrump Pants on 🔥\\n\\n🔥 #DonaldTrump...   \n",
       "3 2016-10-06 16:48:36  🔥 #DonaldTrump Pante on 🔥\\n\\n@cspanwj https:...   \n",
       "4 2016-10-06 16:47:49  🔥 #DonaldTrump Pante on 🔥\\n\\n@cspanwj https:...   \n",
       "\n",
       "   favorite_count favorited language geocode  retweet_count retweeted  \\\n",
       "0               0     False       en    None              0     False   \n",
       "1               0     False       en    None              1     False   \n",
       "2               1     False       en    None              1     False   \n",
       "3               1     False       en    None              0     False   \n",
       "4               1     False       en    None              0     False   \n",
       "\n",
       "  coordinates  sentiment  \n",
       "0        None        0.1  \n",
       "1        None        0.0  \n",
       "2        None        0.0  \n",
       "3        None        0.0  \n",
       "4        None        0.0  "
      ]
     },
     "execution_count": 22,
     "metadata": {},
     "output_type": "execute_result"
    }
   ],
   "source": [
    "tweets.head()"
   ]
  },
  {
   "cell_type": "markdown",
   "metadata": {},
   "source": [
    "## 5. create a word count column"
   ]
  },
  {
   "cell_type": "code",
   "execution_count": 23,
   "metadata": {
    "collapsed": true
   },
   "outputs": [],
   "source": [
    "# 5 create a word count column, which holds the number of words in the text column"
   ]
  },
  {
   "cell_type": "code",
   "execution_count": 24,
   "metadata": {
    "collapsed": false
   },
   "outputs": [
    {
     "data": {
      "text/html": [
       "<div>\n",
       "<table border=\"1\" class=\"dataframe\">\n",
       "  <thead>\n",
       "    <tr style=\"text-align: right;\">\n",
       "      <th></th>\n",
       "      <th>date</th>\n",
       "      <th>text</th>\n",
       "      <th>favorite_count</th>\n",
       "      <th>favorited</th>\n",
       "      <th>language</th>\n",
       "      <th>geocode</th>\n",
       "      <th>retweet_count</th>\n",
       "      <th>retweeted</th>\n",
       "      <th>coordinates</th>\n",
       "      <th>sentiment</th>\n",
       "      <th>word_count</th>\n",
       "    </tr>\n",
       "  </thead>\n",
       "  <tbody>\n",
       "    <tr>\n",
       "      <th>0</th>\n",
       "      <td>2016-10-06 18:07:08</td>\n",
       "      <td>Perhaps @JasonMillerinDC forgot #DonaldTrump q...</td>\n",
       "      <td>0</td>\n",
       "      <td>False</td>\n",
       "      <td>en</td>\n",
       "      <td>None</td>\n",
       "      <td>0</td>\n",
       "      <td>False</td>\n",
       "      <td>None</td>\n",
       "      <td>0.1</td>\n",
       "      <td>15</td>\n",
       "    </tr>\n",
       "    <tr>\n",
       "      <th>1</th>\n",
       "      <td>2016-10-06 16:59:06</td>\n",
       "      <td>RT @CartoonGirl35: 🔥 #DonaldTrump Pants on 🔥...</td>\n",
       "      <td>0</td>\n",
       "      <td>False</td>\n",
       "      <td>en</td>\n",
       "      <td>None</td>\n",
       "      <td>1</td>\n",
       "      <td>False</td>\n",
       "      <td>None</td>\n",
       "      <td>0.0</td>\n",
       "      <td>19</td>\n",
       "    </tr>\n",
       "    <tr>\n",
       "      <th>2</th>\n",
       "      <td>2016-10-06 16:49:53</td>\n",
       "      <td>🔥 #DonaldTrump Pants on 🔥\\n\\n🔥 #DonaldTrump...</td>\n",
       "      <td>1</td>\n",
       "      <td>False</td>\n",
       "      <td>en</td>\n",
       "      <td>None</td>\n",
       "      <td>1</td>\n",
       "      <td>False</td>\n",
       "      <td>None</td>\n",
       "      <td>0.0</td>\n",
       "      <td>17</td>\n",
       "    </tr>\n",
       "    <tr>\n",
       "      <th>3</th>\n",
       "      <td>2016-10-06 16:48:36</td>\n",
       "      <td>🔥 #DonaldTrump Pante on 🔥\\n\\n@cspanwj https:...</td>\n",
       "      <td>1</td>\n",
       "      <td>False</td>\n",
       "      <td>en</td>\n",
       "      <td>None</td>\n",
       "      <td>0</td>\n",
       "      <td>False</td>\n",
       "      <td>None</td>\n",
       "      <td>0.0</td>\n",
       "      <td>7</td>\n",
       "    </tr>\n",
       "    <tr>\n",
       "      <th>4</th>\n",
       "      <td>2016-10-06 16:47:49</td>\n",
       "      <td>🔥 #DonaldTrump Pante on 🔥\\n\\n@cspanwj https:...</td>\n",
       "      <td>1</td>\n",
       "      <td>False</td>\n",
       "      <td>en</td>\n",
       "      <td>None</td>\n",
       "      <td>0</td>\n",
       "      <td>False</td>\n",
       "      <td>None</td>\n",
       "      <td>0.0</td>\n",
       "      <td>7</td>\n",
       "    </tr>\n",
       "  </tbody>\n",
       "</table>\n",
       "</div>"
      ],
      "text/plain": [
       "                 date                                               text  \\\n",
       "0 2016-10-06 18:07:08  Perhaps @JasonMillerinDC forgot #DonaldTrump q...   \n",
       "1 2016-10-06 16:59:06  RT @CartoonGirl35: 🔥 #DonaldTrump Pants on 🔥...   \n",
       "2 2016-10-06 16:49:53  🔥 #DonaldTrump Pants on 🔥\\n\\n🔥 #DonaldTrump...   \n",
       "3 2016-10-06 16:48:36  🔥 #DonaldTrump Pante on 🔥\\n\\n@cspanwj https:...   \n",
       "4 2016-10-06 16:47:49  🔥 #DonaldTrump Pante on 🔥\\n\\n@cspanwj https:...   \n",
       "\n",
       "   favorite_count favorited language geocode  retweet_count retweeted  \\\n",
       "0               0     False       en    None              0     False   \n",
       "1               0     False       en    None              1     False   \n",
       "2               1     False       en    None              1     False   \n",
       "3               1     False       en    None              0     False   \n",
       "4               1     False       en    None              0     False   \n",
       "\n",
       "  coordinates  sentiment  word_count  \n",
       "0        None        0.1          15  \n",
       "1        None        0.0          19  \n",
       "2        None        0.0          17  \n",
       "3        None        0.0           7  \n",
       "4        None        0.0           7  "
      ]
     },
     "execution_count": 24,
     "metadata": {},
     "output_type": "execute_result"
    }
   ],
   "source": [
    "tweets['word_count'] = tweets.text.str.split().apply(len)\n",
    "tweets.head()"
   ]
  },
  {
   "cell_type": "code",
   "execution_count": 25,
   "metadata": {
    "collapsed": false
   },
   "outputs": [
    {
     "data": {
      "text/plain": [
       "u'Perhaps @JasonMillerinDC forgot #DonaldTrump questioned if his former boss #TedCruz was really an American\\u2026 https://t.co/E6tFqTi52J'"
      ]
     },
     "execution_count": 25,
     "metadata": {},
     "output_type": "execute_result"
    }
   ],
   "source": [
    "tweets.text[0]"
   ]
  },
  {
   "cell_type": "code",
   "execution_count": 26,
   "metadata": {
    "collapsed": true
   },
   "outputs": [],
   "source": [
    "# use countvectorizer to create a document-term matrix and concatinate it to your main dataframe\n",
    "#(hint you should now have thousands of columns)\n",
    "# Don't add count vectorizer result to the original dataframe"
   ]
  },
  {
   "cell_type": "code",
   "execution_count": 27,
   "metadata": {
    "collapsed": true
   },
   "outputs": [],
   "source": [
    "from sklearn.feature_extraction.text import CountVectorizer"
   ]
  },
  {
   "cell_type": "code",
   "execution_count": 28,
   "metadata": {
    "collapsed": false
   },
   "outputs": [
    {
     "data": {
      "text/plain": [
       "(589, 2314)"
      ]
     },
     "execution_count": 28,
     "metadata": {},
     "output_type": "execute_result"
    }
   ],
   "source": [
    "# use CountVectorizer to create document-term matrices\n",
    "vect = CountVectorizer()\n",
    "tweets_dtm = vect.fit_transform(tweets.text)\n",
    "tweets_dtm.shape"
   ]
  },
  {
   "cell_type": "code",
   "execution_count": 29,
   "metadata": {
    "collapsed": false,
    "scrolled": true
   },
   "outputs": [
    {
     "data": {
      "text/plain": [
       "[u'000',\n",
       " u'00pm',\n",
       " u'01qb',\n",
       " u'02',\n",
       " u'03wzsojv3j',\n",
       " u'0bgeposlod',\n",
       " u'0hw5tovjea',\n",
       " u'0nzbprev7f',\n",
       " u'10',\n",
       " u'10e4vfkckg',\n",
       " u'11',\n",
       " u'14',\n",
       " u'15',\n",
       " u'16',\n",
       " u'16ghqfvzee',\n",
       " u'1776',\n",
       " u'183',\n",
       " u'1984',\n",
       " u'1995',\n",
       " u'1a',\n",
       " u'1bvkj0nsuj',\n",
       " u'1nvtaz0plu',\n",
       " u'1sided',\n",
       " u'1st',\n",
       " u'1tlrpbirno',\n",
       " u'1wmlo85vn7',\n",
       " u'1ye8sqegbd',\n",
       " u'200',\n",
       " u'2000',\n",
       " u'2007',\n",
       " u'2016',\n",
       " u'2016election',\n",
       " u'2020',\n",
       " u'24',\n",
       " u'250',\n",
       " u'27',\n",
       " u'2grpjlskim',\n",
       " u'2nt62z5kqo',\n",
       " u'2olhmljwcw',\n",
       " u'30',\n",
       " u'30yrs',\n",
       " u'32',\n",
       " u'36',\n",
       " u'39fmvsrsrp',\n",
       " u'3o9d696kkd',\n",
       " u'3qspwsqrdr',\n",
       " u'3qsxne2hke',\n",
       " u'3tn9jrkfd3',\n",
       " u'3vaipnhojz',\n",
       " u'4000',\n",
       " u'410lulu',\n",
       " u'42',\n",
       " u'43',\n",
       " u'43ilo4q',\n",
       " u'43ilo4qroy',\n",
       " u'44',\n",
       " u'45thpresidentofamazingamerica',\n",
       " u'4au8pagkgx',\n",
       " u'4b7tt5cf3c',\n",
       " u'4bxyfcq4cj',\n",
       " u'4ginq0wwur',\n",
       " u'4rs1lyncow',\n",
       " u'4uks0ihprv',\n",
       " u'500',\n",
       " u'53xz85e6vw',\n",
       " u'55',\n",
       " u'589bh0xhnh',\n",
       " u'5dgwvwrcwk',\n",
       " u'5kpp8cmaxz',\n",
       " u'5oklkan2uf',\n",
       " u'5yig6rpepo',\n",
       " u'61yn2isi0q',\n",
       " u'63',\n",
       " u'63i2g1mwtb',\n",
       " u'66zi0rhlvl',\n",
       " u'6bmgrf8drn',\n",
       " u'6hf5qlb7sn',\n",
       " u'70',\n",
       " u'78dhv7nxvs',\n",
       " u'79thandbishop_',\n",
       " u'7etlwitdzv',\n",
       " u'7jjcl7dm3i',\n",
       " u'7jorow5gvj',\n",
       " u'7k13tte8pg',\n",
       " u'7m821h969h',\n",
       " u'7prguwdtkj',\n",
       " u'7tkrbwjmzg',\n",
       " u'7uz0zkx7b0',\n",
       " u'8cybilzk7j',\n",
       " u'8pm',\n",
       " u'8tbxvpsf2m',\n",
       " u'8th',\n",
       " u'9amvbuujue',\n",
       " u'9fm1kddrnf',\n",
       " u'9h3kc6vfug',\n",
       " u'9qdcsrjoua',\n",
       " u'able',\n",
       " u'about',\n",
       " u'absentee',\n",
       " u'absolute',\n",
       " u'abuse',\n",
       " u'ac6qbewqnz',\n",
       " u'access',\n",
       " u'accident',\n",
       " u'accomplished',\n",
       " u'achieve',\n",
       " u'acnewman',\n",
       " u'actions',\n",
       " u'actor',\n",
       " u'actors',\n",
       " u'actress',\n",
       " u'actually',\n",
       " u'acumjdjgz5',\n",
       " u'ad',\n",
       " u'adams',\n",
       " u'adds',\n",
       " u'ads',\n",
       " u'advisor',\n",
       " u'afi5vbelcu',\n",
       " u'africanamericanvote',\n",
       " u'after',\n",
       " u'ag',\n",
       " u'agai',\n",
       " u'again',\n",
       " u'against',\n",
       " u'agrees',\n",
       " u'ah',\n",
       " u'aihui',\n",
       " u'airport',\n",
       " u'airtime',\n",
       " u'al7z9stmcp',\n",
       " u'alanbayer2',\n",
       " u'alexcapitalista',\n",
       " u'alice',\n",
       " u'alien',\n",
       " u'alivelylife',\n",
       " u'all',\n",
       " u'allegations',\n",
       " u'allgivenfromrichbadgivers',\n",
       " u'almost',\n",
       " u'alone',\n",
       " u'already',\n",
       " u'alt',\n",
       " u'altright',\n",
       " u'always',\n",
       " u'always_trump',\n",
       " u'alwaystrump',\n",
       " u'am',\n",
       " u'amazing',\n",
       " u'america',\n",
       " u'americafirst',\n",
       " u'american',\n",
       " u'americans',\n",
       " u'among',\n",
       " u'amp',\n",
       " u'an',\n",
       " u'analysis',\n",
       " u'anamariecox',\n",
       " u'and',\n",
       " u'anderes',\n",
       " u'andrew',\n",
       " u'angry',\n",
       " u'anmqvekvk2',\n",
       " u'anneapplebaum',\n",
       " u'announce',\n",
       " u'another',\n",
       " u'answer',\n",
       " u'anti',\n",
       " u'antiszayn',\n",
       " u'anxkofwotq',\n",
       " u'any',\n",
       " u'anylauri',\n",
       " u'anyone',\n",
       " u'anything',\n",
       " u'anyway',\n",
       " u'apart',\n",
       " u'api',\n",
       " u'apologists',\n",
       " u'app',\n",
       " u'appears',\n",
       " u'apple',\n",
       " u'appointments',\n",
       " u'apprentice',\n",
       " u'are',\n",
       " u'aren',\n",
       " u'argument',\n",
       " u'arguments',\n",
       " u'arianna8927',\n",
       " u'arizona',\n",
       " u'arkham',\n",
       " u'armed',\n",
       " u'army',\n",
       " u'around',\n",
       " u'arrest',\n",
       " u'article',\n",
       " u'as',\n",
       " u'asianamerican',\n",
       " u'asianamericans',\n",
       " u'ask',\n",
       " u'asked',\n",
       " u'asking',\n",
       " u'aspires',\n",
       " u'ass',\n",
       " u'assad',\n",
       " u'assange',\n",
       " u'assassinate',\n",
       " u'asylum',\n",
       " u'at',\n",
       " u'athletics',\n",
       " u'atlantic',\n",
       " u'attacks',\n",
       " u'attend',\n",
       " u'attention',\n",
       " u'attorney',\n",
       " u'atypikyle',\n",
       " u'audience',\n",
       " u'avert',\n",
       " u'avob',\n",
       " u'avobh41j9c',\n",
       " u'avoid',\n",
       " u'avoided',\n",
       " u'awaiting',\n",
       " u'awaits',\n",
       " u'awareness',\n",
       " u'away',\n",
       " u'awesome',\n",
       " u'ayzympijbn',\n",
       " u'az',\n",
       " u'b6fuvj59st',\n",
       " u'back',\n",
       " u'backtracking',\n",
       " u'bad',\n",
       " u'bail',\n",
       " u'bailed',\n",
       " u'baiting',\n",
       " u'balance',\n",
       " u'ballots',\n",
       " u'ban',\n",
       " u'bank',\n",
       " u'bankruptcy',\n",
       " u'bannonrace',\n",
       " u'bar',\n",
       " u'baseballs',\n",
       " u'basementdwellers',\n",
       " u'bats',\n",
       " u'bay',\n",
       " u'be',\n",
       " u'beachpelican',\n",
       " u'beans',\n",
       " u'beast',\n",
       " u'beat',\n",
       " u'beauty',\n",
       " u'became',\n",
       " u'because',\n",
       " u'becoming',\n",
       " u'bed',\n",
       " u'beeblebrox',\n",
       " u'been',\n",
       " u'before',\n",
       " u'begging',\n",
       " u'behold',\n",
       " u'bei',\n",
       " u'being',\n",
       " u'believe',\n",
       " u'believes',\n",
       " u'benefit',\n",
       " u'benioff',\n",
       " u'bernie',\n",
       " u'berniecrats',\n",
       " u'berniesanders',\n",
       " u'best',\n",
       " u'besthusbandtc',\n",
       " u'better',\n",
       " u'between',\n",
       " u'beztuxsgwx',\n",
       " u'bgwcvl6ory',\n",
       " u'biased',\n",
       " u'big',\n",
       " u'bigger',\n",
       " u'bigleaguetruth',\n",
       " u'bigmusclebabe',\n",
       " u'bike',\n",
       " u'bikerace',\n",
       " u'bill',\n",
       " u'billclinton',\n",
       " u'billion',\n",
       " u'billweld',\n",
       " u'bingo',\n",
       " u'bipartisanship',\n",
       " u'bipolar',\n",
       " u'bk6xnm9vjs',\n",
       " u'bleacherreport',\n",
       " u'blh7oc3qvs',\n",
       " u'blk4nhn3qc',\n",
       " u'blowhard',\n",
       " u'blowout',\n",
       " u'blows',\n",
       " u'blwx5oe7x4',\n",
       " u'board',\n",
       " u'bocavista2016',\n",
       " u'body',\n",
       " u'bono',\n",
       " u'boom',\n",
       " u'boost',\n",
       " u'bosrgtybqu',\n",
       " u'boss',\n",
       " u'bosses',\n",
       " u'botched',\n",
       " u'both',\n",
       " u'bought',\n",
       " u'bptijxrukb',\n",
       " u'brave',\n",
       " u'break',\n",
       " u'breaking',\n",
       " u'breakingnews',\n",
       " u'breaks',\n",
       " u'breitbart',\n",
       " u'brexit',\n",
       " u'bright',\n",
       " u'brilliant',\n",
       " u'bring',\n",
       " u'bringing',\n",
       " u'brings',\n",
       " u'british',\n",
       " u'brother',\n",
       " u'brucemirken',\n",
       " u'brucepknight',\n",
       " u'brucespringsteen',\n",
       " u'budget',\n",
       " u'build',\n",
       " u'bullying',\n",
       " u'bunch',\n",
       " u'bureau',\n",
       " u'burn',\n",
       " u'bus',\n",
       " u'bush',\n",
       " u'business',\n",
       " u'but',\n",
       " u'bvt0jvv0cz',\n",
       " u'by',\n",
       " u'bzllnzsqrp',\n",
       " u'c0nvey',\n",
       " u'c6cia2ewb7',\n",
       " u'ca15',\n",
       " u'cabqizdvfy',\n",
       " u'cages',\n",
       " u'california',\n",
       " u'call',\n",
       " u'called',\n",
       " u'callous',\n",
       " u'calls',\n",
       " u'camera',\n",
       " u'camp',\n",
       " u'campaign',\n",
       " u'can',\n",
       " u'candidacy',\n",
       " u'candidate',\n",
       " u'candidates',\n",
       " u'cannot',\n",
       " u'cant',\n",
       " u'capacity',\n",
       " u'captures',\n",
       " u'caqowc5vrd',\n",
       " u'car',\n",
       " u'care',\n",
       " u'carpet',\n",
       " u'carrerapulse',\n",
       " u'cartel',\n",
       " u'carter',\n",
       " u'cartoongirl35',\n",
       " u'case',\n",
       " u'caspershotdogs',\n",
       " u'cast',\n",
       " u'cat',\n",
       " u'category',\n",
       " u'cats',\n",
       " u'caught',\n",
       " u'cc',\n",
       " u'cddrldebate',\n",
       " u'celebrities',\n",
       " u'celebrity',\n",
       " u'celebs',\n",
       " u'cell',\n",
       " u'celzrmdjml',\n",
       " u'cgcqm8cgld',\n",
       " u'chanel',\n",
       " u'change',\n",
       " u'character',\n",
       " u'characters',\n",
       " u'charity',\n",
       " u'charming',\n",
       " u'chased',\n",
       " u'check',\n",
       " u'checking',\n",
       " u'checkout',\n",
       " u'chicago',\n",
       " u'chicken',\n",
       " u'chickenhawk',\n",
       " u'chief',\n",
       " u'child',\n",
       " u'children',\n",
       " u'china',\n",
       " u'chobani',\n",
       " u'choice',\n",
       " u'choke',\n",
       " u'choose',\n",
       " u'chopped',\n",
       " u'chrislhayes',\n",
       " u'christmas',\n",
       " u'chuck',\n",
       " u'citizens',\n",
       " u'claim',\n",
       " u'claimed',\n",
       " u'claiming',\n",
       " u'clean',\n",
       " u'clever',\n",
       " u'climate',\n",
       " u'climateaction',\n",
       " u'climatechange',\n",
       " u'clinton',\n",
       " u'clintonkaine',\n",
       " u'clintonkaine2016',\n",
       " u'clintons',\n",
       " u'clown',\n",
       " u'clowning',\n",
       " u'clownpocalypse',\n",
       " u'clowns',\n",
       " u'clownthreats',\n",
       " u'clue',\n",
       " u'cnbcnow',\n",
       " u'cnn',\n",
       " u'cnnpolitics',\n",
       " u'co',\n",
       " u'coaches',\n",
       " u'coincidence',\n",
       " u'collection',\n",
       " u'college',\n",
       " u'collegedemsatum',\n",
       " u'coma',\n",
       " u'come',\n",
       " u'comics',\n",
       " u'coming',\n",
       " u'commercials',\n",
       " u'communications',\n",
       " u'communist_dog',\n",
       " u'compete',\n",
       " u'complain',\n",
       " u'completely',\n",
       " u'con',\n",
       " u'concerning',\n",
       " u'concert',\n",
       " u'confederate',\n",
       " u'confidential',\n",
       " u'congress',\n",
       " u'conman',\n",
       " u'conservatives',\n",
       " u'consider',\n",
       " u'consorting',\n",
       " u'constancequeen8',\n",
       " u'constitutionnat',\n",
       " u'contests',\n",
       " u'continuing',\n",
       " u'contract',\n",
       " u'contributions',\n",
       " u'control',\n",
       " u'controlled',\n",
       " u'correction',\n",
       " u'corrupt',\n",
       " u'could',\n",
       " u'countries',\n",
       " u'course',\n",
       " u'courtesy',\n",
       " u'cover',\n",
       " u'cow',\n",
       " u'cpl9mq8jja',\n",
       " u'crap',\n",
       " u'crazy',\n",
       " u'create',\n",
       " u'created',\n",
       " u'creates',\n",
       " u'credibility',\n",
       " u'credit',\n",
       " u'creep',\n",
       " u'creepy',\n",
       " u'creepykaine',\n",
       " u'crew',\n",
       " u'cried',\n",
       " u'crook',\n",
       " u'crooked',\n",
       " u'crookeddonald',\n",
       " u'crookeddonny',\n",
       " u'crookedhilary',\n",
       " u'crookedhillary',\n",
       " u'crosses',\n",
       " u'crow',\n",
       " u'cruz',\n",
       " u'cspanwj',\n",
       " u'cuba',\n",
       " u'current',\n",
       " u'cx8s6ctxmf',\n",
       " u'cxjb8kvwnh',\n",
       " u'cynicalarch',\n",
       " u'czrcoghlu3',\n",
       " u'd7htaiclyw',\n",
       " u'daddy',\n",
       " u'daily',\n",
       " u'dailycaller',\n",
       " u'dalailama',\n",
       " u'damage',\n",
       " u'damn',\n",
       " u'damned',\n",
       " u'dance',\n",
       " u'dangerous',\n",
       " u'danius2192',\n",
       " u'danscavino',\n",
       " u'dare',\n",
       " u'data',\n",
       " u'datacenterchanel',\n",
       " u'dataviz',\n",
       " u'daughter',\n",
       " u'daughters',\n",
       " u'daveweigel',\n",
       " u'day',\n",
       " u'days',\n",
       " u'dbrdbe6fhe',\n",
       " u'de',\n",
       " u'dead',\n",
       " u'deal',\n",
       " u'dealing',\n",
       " u'deals',\n",
       " u'death',\n",
       " u'deaththreats',\n",
       " u'debacle',\n",
       " u'debate',\n",
       " u'debatenight',\n",
       " u'debates',\n",
       " u'debates2016',\n",
       " u'debramessing',\n",
       " u'debt',\n",
       " u'decide',\n",
       " u'deciding',\n",
       " u'decision2016',\n",
       " u'decisions',\n",
       " u'deebeethak',\n",
       " u'deeply',\n",
       " u'deeyah_khan',\n",
       " u'defamation',\n",
       " u'defeating',\n",
       " u'defend',\n",
       " u'defending',\n",
       " u'defense',\n",
       " u'deferments',\n",
       " u'deficit',\n",
       " u'deli',\n",
       " u'deliver',\n",
       " u'delusion',\n",
       " u'dem',\n",
       " u'demeaning',\n",
       " u'demexit',\n",
       " u'democracy',\n",
       " u'democraticparty',\n",
       " u'demonize',\n",
       " u'demopubican',\n",
       " u'dems',\n",
       " u'demvolctr',\n",
       " u'denier',\n",
       " u'deny',\n",
       " u'departed',\n",
       " u'deplorables',\n",
       " u'describe',\n",
       " u'described',\n",
       " u'deserve',\n",
       " u'deserves',\n",
       " u'designatedsurvivor',\n",
       " u'desperately',\n",
       " u'destroys',\n",
       " u'destruction',\n",
       " u'details',\n",
       " u'detroit',\n",
       " u'devastating',\n",
       " u'df16',\n",
       " u'dhts',\n",
       " u'dhtsyishoa',\n",
       " u'diazcayeros',\n",
       " u'dibzz',\n",
       " u'did',\n",
       " u'didn',\n",
       " u'difference',\n",
       " u'direction',\n",
       " u'directly',\n",
       " u'dirty',\n",
       " u'disabled',\n",
       " u'disavows',\n",
       " u'discusses',\n",
       " u'discussion',\n",
       " u'disgraceful',\n",
       " u'disgusting',\n",
       " u'disqualified',\n",
       " u'disrespector',\n",
       " u'ditched',\n",
       " u'diversity',\n",
       " u'djt',\n",
       " u'dkpnrmvnap',\n",
       " u'dm91kd0wqt',\n",
       " u'dmfhmzht0i',\n",
       " u'dmikydjfzt',\n",
       " u'dncleaks',\n",
       " u'do',\n",
       " u'dodge',\n",
       " u'does',\n",
       " u'doesn',\n",
       " u'dog',\n",
       " u'dogs',\n",
       " u'doing',\n",
       " u'dole',\n",
       " u'dollars',\n",
       " u'dolt',\n",
       " u'don',\n",
       " u'don_asmussen',\n",
       " u'donald',\n",
       " u'donaldcrooked',\n",
       " u'donaldtrump',\n",
       " u'donates',\n",
       " u'donation',\n",
       " u'donations',\n",
       " u'done',\n",
       " u'donniemaloo',\n",
       " u'double',\n",
       " u'doubles',\n",
       " u'douglas',\n",
       " u'down',\n",
       " u'download',\n",
       " u'dozen',\n",
       " u'dpacl0qht6',\n",
       " u'draft',\n",
       " u'dreamfest',\n",
       " u'dreamforce',\n",
       " u'dreams',\n",
       " u'drewsgqtn2',\n",
       " u'driven',\n",
       " u'driver',\n",
       " u'dropout',\n",
       " u'druekataoka',\n",
       " u'drumpf',\n",
       " u'dsmdphen67',\n",
       " u'dtodx',\n",
       " u'duh',\n",
       " u'dumb',\n",
       " u'dumbass',\n",
       " u'dummy',\n",
       " u'dumptrump',\n",
       " u'during',\n",
       " u'dwightmiller',\n",
       " u'dying',\n",
       " u'e0adizif',\n",
       " u'e1auomskcg',\n",
       " u'e6swtrwjae',\n",
       " u'e6tfqti52j',\n",
       " u'eagerly',\n",
       " u'early',\n",
       " u'earned',\n",
       " u'easily',\n",
       " u'east',\n",
       " u'eastridge',\n",
       " u'eating',\n",
       " u'ecd5ehrq1m',\n",
       " u'economy',\n",
       " u'edition',\n",
       " u'editorial',\n",
       " u'editors',\n",
       " u'educated',\n",
       " u'educational',\n",
       " u'eeads53aas',\n",
       " u'eine',\n",
       " u'either',\n",
       " u'ejgvhqoshx',\n",
       " u'ejlandwehr',\n",
       " u'ejvmih2jcs',\n",
       " u'elected',\n",
       " u'election',\n",
       " u'election2016',\n",
       " u'elite',\n",
       " u'elizabeth',\n",
       " u'em',\n",
       " u'emailgate',\n",
       " u'emails',\n",
       " u'emailscandal',\n",
       " u'emailserver',\n",
       " u'embargo',\n",
       " u'embarrassment',\n",
       " u'emergeamerica',\n",
       " u'empathize',\n",
       " u'empire',\n",
       " u'enacted',\n",
       " u'endorse',\n",
       " u'endorsement',\n",
       " u'endorsements',\n",
       " u'endorses',\n",
       " u'ends',\n",
       " u'enemies',\n",
       " u'enemy',\n",
       " u'energy',\n",
       " u'enjoying',\n",
       " u'enough',\n",
       " u'enthusiast',\n",
       " u'enthusiastically',\n",
       " u'entire',\n",
       " u'eoq2egzbt0',\n",
       " u'equal',\n",
       " u'equally',\n",
       " u'equates',\n",
       " u'er',\n",
       " u'eric',\n",
       " u'ericmccormack',\n",
       " u'erleben',\n",
       " u'errant',\n",
       " u'etc',\n",
       " u'eunuch',\n",
       " u'evades',\n",
       " u'evangelicals',\n",
       " u'evasion',\n",
       " u'even',\n",
       " u'events',\n",
       " u'ever',\n",
       " u'every',\n",
       " u'everyday',\n",
       " u'everyone',\n",
       " u'everything',\n",
       " u'evicted',\n",
       " u'evrvwoxw7p',\n",
       " u'exactly',\n",
       " u'excited',\n",
       " u'excuse',\n",
       " u'existin',\n",
       " u'expand',\n",
       " u'expect',\n",
       " u'expert',\n",
       " u'experts',\n",
       " u'explaining',\n",
       " u'exposing',\n",
       " u'extra',\n",
       " u'f4ga1sxl8d',\n",
       " u'face',\n",
       " u'fact',\n",
       " u'factcheck',\n",
       " u'facts',\n",
       " u'faculty',\n",
       " u'failed',\n",
       " u'failures',\n",
       " u'fairplay',\n",
       " u'falling',\n",
       " u'families',\n",
       " u'family',\n",
       " u'famous',\n",
       " u'far',\n",
       " u'fascination',\n",
       " u'father',\n",
       " u'favor',\n",
       " u'favorite',\n",
       " u'featuring',\n",
       " u'federal',\n",
       " u'feelthebern11',\n",
       " u'fellow',\n",
       " u'female',\n",
       " u'feminists',\n",
       " u'feud',\n",
       " u'fi9f2lwltg',\n",
       " u'fiction',\n",
       " u'filed',\n",
       " u'finally',\n",
       " u'find',\n",
       " u'fire',\n",
       " u'fired',\n",
       " u'fires',\n",
       " u'first',\n",
       " u'fitness',\n",
       " u'fix',\n",
       " u'fkr3e3dt8h',\n",
       " u'flashcard',\n",
       " u'flbpruh6p5',\n",
       " u'flies',\n",
       " u'flipitdem',\n",
       " u'flock',\n",
       " u'focus',\n",
       " u'follow',\n",
       " u'following',\n",
       " u'fool',\n",
       " u'footsteps',\n",
       " u'for',\n",
       " u'forecast',\n",
       " u'forgot',\n",
       " u'former',\n",
       " u'foundation',\n",
       " u'founders',\n",
       " u'four',\n",
       " u'foxandfriends',\n",
       " u'foxnews',\n",
       " u'fp',\n",
       " u'fracking',\n",
       " u'francisco',\n",
       " u'free',\n",
       " u'freespeech',\n",
       " u'friday',\n",
       " u'friend',\n",
       " u'friends',\n",
       " u'frog',\n",
       " u'frogs',\n",
       " u'from',\n",
       " u'frontal',\n",
       " u'ftz6ij9lvf',\n",
       " u'fu',\n",
       " u'fuck',\n",
       " u'fuckoff',\n",
       " u'full',\n",
       " u'fun',\n",
       " u'fundraising',\n",
       " u'funny',\n",
       " u'futur',\n",
       " u'future',\n",
       " u'g6rxiesapf',\n",
       " u'gadsaad',\n",
       " u'gary',\n",
       " u'gatherings',\n",
       " u'gave',\n",
       " u'gemini',\n",
       " u'general',\n",
       " u'genius',\n",
       " u'gentleman',\n",
       " u'george',\n",
       " u'georgeborovec',\n",
       " u'georgia',\n",
       " u'georgiasfirst',\n",
       " u'get',\n",
       " u'getting',\n",
       " u'gfrdqdkber',\n",
       " u'ggih35d74i',\n",
       " u'gigi',\n",
       " u'giphy',\n",
       " u'girl',\n",
       " u'girls',\n",
       " u'giuliani',\n",
       " u'give',\n",
       " u'given',\n",
       " u'giving',\n",
       " u'givqpyi5um',\n",
       " u'glad',\n",
       " u'gloriaallred',\n",
       " u'gnvorv5hvi',\n",
       " u'go',\n",
       " u'god',\n",
       " u'going',\n",
       " u'golden',\n",
       " u'goldengirls',\n",
       " u'goldwatergirl',\n",
       " u'golfing',\n",
       " u'good',\n",
       " u'gop',\n",
       " u'gore',\n",
       " u'got',\n",
       " u'gov',\n",
       " u'governor',\n",
       " u'govpencein',\n",
       " u'gpcvgvmghm',\n",
       " u'gqmagazine',\n",
       " u'grace',\n",
       " u'grateful',\n",
       " u'graydon',\n",
       " u'great',\n",
       " u'greatest',\n",
       " u'gregster56',\n",
       " u'griffin',\n",
       " u'grow',\n",
       " u'growth',\n",
       " u'gt',\n",
       " u'gtmyxo5tvs',\n",
       " u'guess',\n",
       " u'guns',\n",
       " u'gv9oxkmcuk',\n",
       " u'gy1bbcvoiq',\n",
       " u'gymtime',\n",
       " u'had',\n",
       " u'haha',\n",
       " u'hahaha',\n",
       " u'half',\n",
       " u'hall',\n",
       " u'hand',\n",
       " u'handle',\n",
       " u'hands',\n",
       " u'hannity',\n",
       " u'hanoi',\n",
       " u'happen',\n",
       " u'happened',\n",
       " u'happens',\n",
       " u'happiness',\n",
       " u'hard',\n",
       " u'hardballchris',\n",
       " u'hardworking',\n",
       " u'harsher',\n",
       " u'has',\n",
       " u'hasn',\n",
       " u'hate',\n",
       " u'hated',\n",
       " u'hatred',\n",
       " u'hats',\n",
       " u'have',\n",
       " u'hbpwmxjacv',\n",
       " u'he',\n",
       " u'health',\n",
       " u'healthcare',\n",
       " u'healthpolicy2020',\n",
       " u'hear',\n",
       " u'hearing',\n",
       " u'hectormorenco',\n",
       " u'help',\n",
       " u'henderson',\n",
       " u'her',\n",
       " u'here',\n",
       " u'heritage',\n",
       " u'hero',\n",
       " u'hers',\n",
       " u'hfa',\n",
       " u'hgvpi5jzd3',\n",
       " u'hh1brcoxcd',\n",
       " u'high',\n",
       " u'highs',\n",
       " u'hilarious',\n",
       " u'hilary',\n",
       " u'hill',\n",
       " u'hilla',\n",
       " u'hillar',\n",
       " u'hillary',\n",
       " u'hillary2016',\n",
       " u'hillarycampaign',\n",
       " u'hillaryclinton',\n",
       " u'hillaryforprison2016',\n",
       " u'hillarygangstanames',\n",
       " u'hillarysarmy',\n",
       " u'hillarysoqualified',\n",
       " u'hillyes',\n",
       " u'him',\n",
       " u'hired',\n",
       " u'hires',\n",
       " u'his',\n",
       " u'history',\n",
       " u'hit',\n",
       " u'hjfp7pwesn',\n",
       " u'hmmm',\n",
       " u'holdatpaco',\n",
       " u'hollywood',\n",
       " u'hom',\n",
       " u'home',\n",
       " u'homeland',\n",
       " u'homeless',\n",
       " u'hometown',\n",
       " u'hometowns',\n",
       " u'homophobes',\n",
       " u'homosexual',\n",
       " u'honest',\n",
       " u'honor',\n",
       " u'hope',\n",
       " u'hoping',\n",
       " u'hotdog',\n",
       " u'hotel',\n",
       " u'hour',\n",
       " u'house',\n",
       " u'housed',\n",
       " u'how',\n",
       " u'hpluckrose',\n",
       " u'hrc',\n",
       " u'hrc2016',\n",
       " u'hrfz70kuxe',\n",
       " u'ht',\n",
       " u'htt',\n",
       " u'http',\n",
       " u'https',\n",
       " u'huff',\n",
       " u'huffington',\n",
       " u'huffpostpol',\n",
       " u'hugooc',\n",
       " u'human',\n",
       " u'humanlife',\n",
       " u'humor',\n",
       " u'hundreds',\n",
       " u'hunterwalk',\n",
       " u'hx4voxthhg',\n",
       " u'hy0wr9cfhw',\n",
       " u'hybrid',\n",
       " u'hype',\n",
       " u'hypocite',\n",
       " u'hypocrites',\n",
       " u'i21nkyakl0',\n",
       " u'i2oucyyd4e',\n",
       " u'i3yisoqtgf',\n",
       " u'i6pzdcubzi',\n",
       " u'ib3ltqtwsw',\n",
       " u'icingonthecake',\n",
       " u'ick',\n",
       " u'idiot',\n",
       " u'idiots',\n",
       " u'if',\n",
       " ...]"
      ]
     },
     "execution_count": 29,
     "metadata": {},
     "output_type": "execute_result"
    }
   ],
   "source": [
    "vect.get_feature_names()"
   ]
  },
  {
   "cell_type": "code",
   "execution_count": 30,
   "metadata": {
    "collapsed": false
   },
   "outputs": [
    {
     "data": {
      "text/plain": [
       "(589, 2314)"
      ]
     },
     "execution_count": 30,
     "metadata": {},
     "output_type": "execute_result"
    }
   ],
   "source": [
    "dtm_df = pd.DataFrame(tweets_dtm.toarray(), columns=vect.get_feature_names())\n",
    "dtm_df.shape"
   ]
  },
  {
   "cell_type": "code",
   "execution_count": 31,
   "metadata": {
    "collapsed": false,
    "scrolled": true
   },
   "outputs": [
    {
     "data": {
      "text/html": [
       "<div>\n",
       "<table border=\"1\" class=\"dataframe\">\n",
       "  <thead>\n",
       "    <tr style=\"text-align: right;\">\n",
       "      <th></th>\n",
       "      <th>000</th>\n",
       "      <th>00pm</th>\n",
       "      <th>01qb</th>\n",
       "      <th>02</th>\n",
       "      <th>03wzsojv3j</th>\n",
       "      <th>0bgeposlod</th>\n",
       "      <th>0hw5tovjea</th>\n",
       "      <th>0nzbprev7f</th>\n",
       "      <th>10</th>\n",
       "      <th>10e4vfkckg</th>\n",
       "      <th>...</th>\n",
       "      <th>zenpopart</th>\n",
       "      <th>zie2y6m6dk</th>\n",
       "      <th>zmfe1wsfn1</th>\n",
       "      <th>zn2vhybrka</th>\n",
       "      <th>zones</th>\n",
       "      <th>zosm0x8kta</th>\n",
       "      <th>zqtrvp41bc</th>\n",
       "      <th>zspucvpdss</th>\n",
       "      <th>ztrn891uxr</th>\n",
       "      <th>zxjs7nlnsy</th>\n",
       "    </tr>\n",
       "  </thead>\n",
       "  <tbody>\n",
       "    <tr>\n",
       "      <th>0</th>\n",
       "      <td>0</td>\n",
       "      <td>0</td>\n",
       "      <td>0</td>\n",
       "      <td>0</td>\n",
       "      <td>0</td>\n",
       "      <td>0</td>\n",
       "      <td>0</td>\n",
       "      <td>0</td>\n",
       "      <td>0</td>\n",
       "      <td>0</td>\n",
       "      <td>...</td>\n",
       "      <td>0</td>\n",
       "      <td>0</td>\n",
       "      <td>0</td>\n",
       "      <td>0</td>\n",
       "      <td>0</td>\n",
       "      <td>0</td>\n",
       "      <td>0</td>\n",
       "      <td>0</td>\n",
       "      <td>0</td>\n",
       "      <td>0</td>\n",
       "    </tr>\n",
       "    <tr>\n",
       "      <th>1</th>\n",
       "      <td>0</td>\n",
       "      <td>0</td>\n",
       "      <td>0</td>\n",
       "      <td>0</td>\n",
       "      <td>0</td>\n",
       "      <td>0</td>\n",
       "      <td>0</td>\n",
       "      <td>0</td>\n",
       "      <td>0</td>\n",
       "      <td>0</td>\n",
       "      <td>...</td>\n",
       "      <td>0</td>\n",
       "      <td>0</td>\n",
       "      <td>0</td>\n",
       "      <td>0</td>\n",
       "      <td>0</td>\n",
       "      <td>0</td>\n",
       "      <td>0</td>\n",
       "      <td>0</td>\n",
       "      <td>0</td>\n",
       "      <td>0</td>\n",
       "    </tr>\n",
       "    <tr>\n",
       "      <th>2</th>\n",
       "      <td>0</td>\n",
       "      <td>0</td>\n",
       "      <td>0</td>\n",
       "      <td>0</td>\n",
       "      <td>0</td>\n",
       "      <td>0</td>\n",
       "      <td>0</td>\n",
       "      <td>0</td>\n",
       "      <td>0</td>\n",
       "      <td>0</td>\n",
       "      <td>...</td>\n",
       "      <td>0</td>\n",
       "      <td>0</td>\n",
       "      <td>0</td>\n",
       "      <td>0</td>\n",
       "      <td>0</td>\n",
       "      <td>0</td>\n",
       "      <td>0</td>\n",
       "      <td>0</td>\n",
       "      <td>0</td>\n",
       "      <td>0</td>\n",
       "    </tr>\n",
       "    <tr>\n",
       "      <th>3</th>\n",
       "      <td>0</td>\n",
       "      <td>0</td>\n",
       "      <td>0</td>\n",
       "      <td>0</td>\n",
       "      <td>0</td>\n",
       "      <td>0</td>\n",
       "      <td>0</td>\n",
       "      <td>0</td>\n",
       "      <td>0</td>\n",
       "      <td>0</td>\n",
       "      <td>...</td>\n",
       "      <td>0</td>\n",
       "      <td>0</td>\n",
       "      <td>0</td>\n",
       "      <td>0</td>\n",
       "      <td>0</td>\n",
       "      <td>0</td>\n",
       "      <td>0</td>\n",
       "      <td>0</td>\n",
       "      <td>0</td>\n",
       "      <td>0</td>\n",
       "    </tr>\n",
       "    <tr>\n",
       "      <th>4</th>\n",
       "      <td>0</td>\n",
       "      <td>0</td>\n",
       "      <td>0</td>\n",
       "      <td>0</td>\n",
       "      <td>0</td>\n",
       "      <td>0</td>\n",
       "      <td>0</td>\n",
       "      <td>0</td>\n",
       "      <td>0</td>\n",
       "      <td>0</td>\n",
       "      <td>...</td>\n",
       "      <td>0</td>\n",
       "      <td>0</td>\n",
       "      <td>0</td>\n",
       "      <td>0</td>\n",
       "      <td>0</td>\n",
       "      <td>0</td>\n",
       "      <td>0</td>\n",
       "      <td>0</td>\n",
       "      <td>0</td>\n",
       "      <td>0</td>\n",
       "    </tr>\n",
       "  </tbody>\n",
       "</table>\n",
       "<p>5 rows × 2314 columns</p>\n",
       "</div>"
      ],
      "text/plain": [
       "   000  00pm  01qb  02  03wzsojv3j  0bgeposlod  0hw5tovjea  0nzbprev7f  10  \\\n",
       "0    0     0     0   0           0           0           0           0   0   \n",
       "1    0     0     0   0           0           0           0           0   0   \n",
       "2    0     0     0   0           0           0           0           0   0   \n",
       "3    0     0     0   0           0           0           0           0   0   \n",
       "4    0     0     0   0           0           0           0           0   0   \n",
       "\n",
       "   10e4vfkckg     ...      zenpopart  zie2y6m6dk  zmfe1wsfn1  zn2vhybrka  \\\n",
       "0           0     ...              0           0           0           0   \n",
       "1           0     ...              0           0           0           0   \n",
       "2           0     ...              0           0           0           0   \n",
       "3           0     ...              0           0           0           0   \n",
       "4           0     ...              0           0           0           0   \n",
       "\n",
       "   zones  zosm0x8kta  zqtrvp41bc  zspucvpdss  ztrn891uxr  zxjs7nlnsy  \n",
       "0      0           0           0           0           0           0  \n",
       "1      0           0           0           0           0           0  \n",
       "2      0           0           0           0           0           0  \n",
       "3      0           0           0           0           0           0  \n",
       "4      0           0           0           0           0           0  \n",
       "\n",
       "[5 rows x 2314 columns]"
      ]
     },
     "execution_count": 31,
     "metadata": {},
     "output_type": "execute_result"
    }
   ],
   "source": [
    "dtm_df.head()"
   ]
  },
  {
   "cell_type": "code",
   "execution_count": 32,
   "metadata": {
    "collapsed": false
   },
   "outputs": [
    {
     "data": {
      "text/plain": [
       "<1x2314 sparse matrix of type '<type 'numpy.int64'>'\n",
       "\twith 17 stored elements in Compressed Sparse Row format>"
      ]
     },
     "execution_count": 32,
     "metadata": {},
     "output_type": "execute_result"
    }
   ],
   "source": [
    "tweets_dtm[0]"
   ]
  },
  {
   "cell_type": "code",
   "execution_count": 33,
   "metadata": {
    "collapsed": false
   },
   "outputs": [
    {
     "data": {
      "text/html": [
       "<div>\n",
       "<table border=\"1\" class=\"dataframe\">\n",
       "  <thead>\n",
       "    <tr style=\"text-align: right;\">\n",
       "      <th></th>\n",
       "      <th>date</th>\n",
       "      <th>text</th>\n",
       "      <th>favorite_count</th>\n",
       "      <th>favorited</th>\n",
       "      <th>language</th>\n",
       "      <th>geocode</th>\n",
       "      <th>retweet_count</th>\n",
       "      <th>retweeted</th>\n",
       "      <th>coordinates</th>\n",
       "      <th>sentiment</th>\n",
       "      <th>...</th>\n",
       "      <th>zenpopart</th>\n",
       "      <th>zie2y6m6dk</th>\n",
       "      <th>zmfe1wsfn1</th>\n",
       "      <th>zn2vhybrka</th>\n",
       "      <th>zones</th>\n",
       "      <th>zosm0x8kta</th>\n",
       "      <th>zqtrvp41bc</th>\n",
       "      <th>zspucvpdss</th>\n",
       "      <th>ztrn891uxr</th>\n",
       "      <th>zxjs7nlnsy</th>\n",
       "    </tr>\n",
       "  </thead>\n",
       "  <tbody>\n",
       "    <tr>\n",
       "      <th>0</th>\n",
       "      <td>2016-10-06 18:07:08</td>\n",
       "      <td>Perhaps @JasonMillerinDC forgot #DonaldTrump q...</td>\n",
       "      <td>0</td>\n",
       "      <td>False</td>\n",
       "      <td>en</td>\n",
       "      <td>None</td>\n",
       "      <td>0</td>\n",
       "      <td>False</td>\n",
       "      <td>None</td>\n",
       "      <td>0.1</td>\n",
       "      <td>...</td>\n",
       "      <td>0</td>\n",
       "      <td>0</td>\n",
       "      <td>0</td>\n",
       "      <td>0</td>\n",
       "      <td>0</td>\n",
       "      <td>0</td>\n",
       "      <td>0</td>\n",
       "      <td>0</td>\n",
       "      <td>0</td>\n",
       "      <td>0</td>\n",
       "    </tr>\n",
       "    <tr>\n",
       "      <th>1</th>\n",
       "      <td>2016-10-06 16:59:06</td>\n",
       "      <td>RT @CartoonGirl35: 🔥 #DonaldTrump Pants on 🔥...</td>\n",
       "      <td>0</td>\n",
       "      <td>False</td>\n",
       "      <td>en</td>\n",
       "      <td>None</td>\n",
       "      <td>1</td>\n",
       "      <td>False</td>\n",
       "      <td>None</td>\n",
       "      <td>0.0</td>\n",
       "      <td>...</td>\n",
       "      <td>0</td>\n",
       "      <td>0</td>\n",
       "      <td>0</td>\n",
       "      <td>0</td>\n",
       "      <td>0</td>\n",
       "      <td>0</td>\n",
       "      <td>0</td>\n",
       "      <td>0</td>\n",
       "      <td>0</td>\n",
       "      <td>0</td>\n",
       "    </tr>\n",
       "    <tr>\n",
       "      <th>2</th>\n",
       "      <td>2016-10-06 16:49:53</td>\n",
       "      <td>🔥 #DonaldTrump Pants on 🔥\\n\\n🔥 #DonaldTrump...</td>\n",
       "      <td>1</td>\n",
       "      <td>False</td>\n",
       "      <td>en</td>\n",
       "      <td>None</td>\n",
       "      <td>1</td>\n",
       "      <td>False</td>\n",
       "      <td>None</td>\n",
       "      <td>0.0</td>\n",
       "      <td>...</td>\n",
       "      <td>0</td>\n",
       "      <td>0</td>\n",
       "      <td>0</td>\n",
       "      <td>0</td>\n",
       "      <td>0</td>\n",
       "      <td>0</td>\n",
       "      <td>0</td>\n",
       "      <td>0</td>\n",
       "      <td>0</td>\n",
       "      <td>0</td>\n",
       "    </tr>\n",
       "    <tr>\n",
       "      <th>3</th>\n",
       "      <td>2016-10-06 16:48:36</td>\n",
       "      <td>🔥 #DonaldTrump Pante on 🔥\\n\\n@cspanwj https:...</td>\n",
       "      <td>1</td>\n",
       "      <td>False</td>\n",
       "      <td>en</td>\n",
       "      <td>None</td>\n",
       "      <td>0</td>\n",
       "      <td>False</td>\n",
       "      <td>None</td>\n",
       "      <td>0.0</td>\n",
       "      <td>...</td>\n",
       "      <td>0</td>\n",
       "      <td>0</td>\n",
       "      <td>0</td>\n",
       "      <td>0</td>\n",
       "      <td>0</td>\n",
       "      <td>0</td>\n",
       "      <td>0</td>\n",
       "      <td>0</td>\n",
       "      <td>0</td>\n",
       "      <td>0</td>\n",
       "    </tr>\n",
       "    <tr>\n",
       "      <th>4</th>\n",
       "      <td>2016-10-06 16:47:49</td>\n",
       "      <td>🔥 #DonaldTrump Pante on 🔥\\n\\n@cspanwj https:...</td>\n",
       "      <td>1</td>\n",
       "      <td>False</td>\n",
       "      <td>en</td>\n",
       "      <td>None</td>\n",
       "      <td>0</td>\n",
       "      <td>False</td>\n",
       "      <td>None</td>\n",
       "      <td>0.0</td>\n",
       "      <td>...</td>\n",
       "      <td>0</td>\n",
       "      <td>0</td>\n",
       "      <td>0</td>\n",
       "      <td>0</td>\n",
       "      <td>0</td>\n",
       "      <td>0</td>\n",
       "      <td>0</td>\n",
       "      <td>0</td>\n",
       "      <td>0</td>\n",
       "      <td>0</td>\n",
       "    </tr>\n",
       "  </tbody>\n",
       "</table>\n",
       "<p>5 rows × 2325 columns</p>\n",
       "</div>"
      ],
      "text/plain": [
       "                 date                                               text  \\\n",
       "0 2016-10-06 18:07:08  Perhaps @JasonMillerinDC forgot #DonaldTrump q...   \n",
       "1 2016-10-06 16:59:06  RT @CartoonGirl35: 🔥 #DonaldTrump Pants on 🔥...   \n",
       "2 2016-10-06 16:49:53  🔥 #DonaldTrump Pants on 🔥\\n\\n🔥 #DonaldTrump...   \n",
       "3 2016-10-06 16:48:36  🔥 #DonaldTrump Pante on 🔥\\n\\n@cspanwj https:...   \n",
       "4 2016-10-06 16:47:49  🔥 #DonaldTrump Pante on 🔥\\n\\n@cspanwj https:...   \n",
       "\n",
       "   favorite_count favorited language geocode  retweet_count retweeted  \\\n",
       "0               0     False       en    None              0     False   \n",
       "1               0     False       en    None              1     False   \n",
       "2               1     False       en    None              1     False   \n",
       "3               1     False       en    None              0     False   \n",
       "4               1     False       en    None              0     False   \n",
       "\n",
       "  coordinates  sentiment     ...      zenpopart  zie2y6m6dk  zmfe1wsfn1  \\\n",
       "0        None        0.1     ...              0           0           0   \n",
       "1        None        0.0     ...              0           0           0   \n",
       "2        None        0.0     ...              0           0           0   \n",
       "3        None        0.0     ...              0           0           0   \n",
       "4        None        0.0     ...              0           0           0   \n",
       "\n",
       "   zn2vhybrka  zones  zosm0x8kta  zqtrvp41bc  zspucvpdss  ztrn891uxr  \\\n",
       "0           0      0           0           0           0           0   \n",
       "1           0      0           0           0           0           0   \n",
       "2           0      0           0           0           0           0   \n",
       "3           0      0           0           0           0           0   \n",
       "4           0      0           0           0           0           0   \n",
       "\n",
       "   zxjs7nlnsy  \n",
       "0           0  \n",
       "1           0  \n",
       "2           0  \n",
       "3           0  \n",
       "4           0  \n",
       "\n",
       "[5 rows x 2325 columns]"
      ]
     },
     "execution_count": 33,
     "metadata": {},
     "output_type": "execute_result"
    }
   ],
   "source": [
    "# concatinate it to your main dataframe\n",
    "tweets_with_dtm = pd.concat([tweets, dtm_df], axis=1)\n",
    "tweets_with_dtm.head()"
   ]
  },
  {
   "cell_type": "code",
   "execution_count": 34,
   "metadata": {
    "collapsed": false
   },
   "outputs": [
    {
     "data": {
      "text/plain": [
       "(589, 2325)"
      ]
     },
     "execution_count": 34,
     "metadata": {},
     "output_type": "execute_result"
    }
   ],
   "source": [
    "tweets_with_dtm.shape"
   ]
  },
  {
   "cell_type": "markdown",
   "metadata": {},
   "source": [
    "## 6. Use kmean to create clusters for the dataframe"
   ]
  },
  {
   "cell_type": "code",
   "execution_count": 35,
   "metadata": {
    "collapsed": true
   },
   "outputs": [],
   "source": [
    "# 6 Use kmean to create clusters for the dataframe (choose an optimal k)\n",
    "# Don't add clusters to the original dataframe"
   ]
  },
  {
   "cell_type": "code",
   "execution_count": 37,
   "metadata": {
    "collapsed": true
   },
   "outputs": [],
   "source": [
    "from sklearn.cluster import KMeans\n",
    "from sklearn import metrics"
   ]
  },
  {
   "cell_type": "code",
   "execution_count": 38,
   "metadata": {
    "collapsed": false
   },
   "outputs": [],
   "source": [
    "# calculate SC for K=2 through K=19\n",
    "k_range = range(2, 20)\n",
    "scores = []\n",
    "for k in k_range:\n",
    "    km = KMeans(n_clusters=k, random_state=1)\n",
    "    km.fit(dtm_df)\n",
    "    scores.append(metrics.silhouette_score(dtm_df, km.labels_))"
   ]
  },
  {
   "cell_type": "code",
   "execution_count": 39,
   "metadata": {
    "collapsed": true
   },
   "outputs": [],
   "source": [
    "%matplotlib inline\n",
    "import matplotlib.pyplot as plt"
   ]
  },
  {
   "cell_type": "code",
   "execution_count": 40,
   "metadata": {
    "collapsed": false
   },
   "outputs": [
    {
     "data": {
      "image/png": "[encoded data removed]",
      "text/plain": [
       "<matplotlib.figure.Figure at 0x11cc5ddd0>"
      ]
     },
     "metadata": {},
     "output_type": "display_data"
    }
   ],
   "source": [
    "# plot the results\n",
    "plt.plot(k_range, scores)\n",
    "plt.xlabel('Number of clusters')\n",
    "plt.ylabel('Silhouette Coefficient')\n",
    "plt.grid(True)"
   ]
  },
  {
   "cell_type": "markdown",
   "metadata": {},
   "source": [
    "k =4 (This changes a little every time I run it.)"
   ]
  },
  {
   "cell_type": "markdown",
   "metadata": {},
   "source": [
    "## 7. Explore the clusters"
   ]
  },
  {
   "cell_type": "code",
   "execution_count": null,
   "metadata": {
    "collapsed": true
   },
   "outputs": [],
   "source": [
    "# 7 Explore the clusters\n",
    "# What is interesting? Surprising? Can you draw any inferences about each cluster?\n",
    "# Write your answer to these questions in markdown"
   ]
  },
  {
   "cell_type": "markdown",
   "metadata": {
    "collapsed": true
   },
   "source": [
    "The 1st time I ran this the silhouette coefficient is not showing a dip to indicate an optimal k.\n",
    "\n",
    "Am I using the right dataframe? More clusters?"
   ]
  },
  {
   "cell_type": "markdown",
   "metadata": {},
   "source": [
    "## 8. Create a column called 'democrat'"
   ]
  },
  {
   "cell_type": "code",
   "execution_count": 41,
   "metadata": {
    "collapsed": true
   },
   "outputs": [],
   "source": [
    "# 8 Create a column called 'democrat' and assign it to the corresponding candidate name for all the records\n",
    "# 1 for hilary and 0 for donald trump\n",
    "# Make a boxplot of sentiment for each candidate by the \"democrat\" column"
   ]
  },
  {
   "cell_type": "code",
   "execution_count": 42,
   "metadata": {
    "collapsed": false
   },
   "outputs": [
    {
     "data": {
      "text/html": [
       "<div>\n",
       "<table border=\"1\" class=\"dataframe\">\n",
       "  <thead>\n",
       "    <tr style=\"text-align: right;\">\n",
       "      <th></th>\n",
       "      <th>date</th>\n",
       "      <th>text</th>\n",
       "      <th>favorite_count</th>\n",
       "      <th>favorited</th>\n",
       "      <th>language</th>\n",
       "      <th>geocode</th>\n",
       "      <th>retweet_count</th>\n",
       "      <th>retweeted</th>\n",
       "      <th>coordinates</th>\n",
       "      <th>sentiment</th>\n",
       "      <th>word_count</th>\n",
       "      <th>democrat</th>\n",
       "    </tr>\n",
       "  </thead>\n",
       "  <tbody>\n",
       "    <tr>\n",
       "      <th>0</th>\n",
       "      <td>2016-10-06 18:02:40</td>\n",
       "      <td>Too funny!! The college dropout making fun of ...</td>\n",
       "      <td>2</td>\n",
       "      <td>False</td>\n",
       "      <td>en</td>\n",
       "      <td>None</td>\n",
       "      <td>0</td>\n",
       "      <td>False</td>\n",
       "      <td>None</td>\n",
       "      <td>0.301637</td>\n",
       "      <td>21</td>\n",
       "      <td>1</td>\n",
       "    </tr>\n",
       "    <tr>\n",
       "      <th>1</th>\n",
       "      <td>2016-10-06 17:50:13</td>\n",
       "      <td>Sean Hannity should promote party growth, not ...</td>\n",
       "      <td>0</td>\n",
       "      <td>False</td>\n",
       "      <td>en</td>\n",
       "      <td>None</td>\n",
       "      <td>0</td>\n",
       "      <td>False</td>\n",
       "      <td>None</td>\n",
       "      <td>0.285714</td>\n",
       "      <td>20</td>\n",
       "      <td>1</td>\n",
       "    </tr>\n",
       "    <tr>\n",
       "      <th>2</th>\n",
       "      <td>2016-10-06 17:44:28</td>\n",
       "      <td>Is #TrumpZERO running 4 President or a hybrid ...</td>\n",
       "      <td>0</td>\n",
       "      <td>False</td>\n",
       "      <td>en</td>\n",
       "      <td>None</td>\n",
       "      <td>0</td>\n",
       "      <td>False</td>\n",
       "      <td>None</td>\n",
       "      <td>0.000000</td>\n",
       "      <td>19</td>\n",
       "      <td>1</td>\n",
       "    </tr>\n",
       "    <tr>\n",
       "      <th>3</th>\n",
       "      <td>2016-10-06 17:43:41</td>\n",
       "      <td>'The Atlantic' Editors Endorse Hillary Clinton...</td>\n",
       "      <td>0</td>\n",
       "      <td>False</td>\n",
       "      <td>en</td>\n",
       "      <td>None</td>\n",
       "      <td>0</td>\n",
       "      <td>False</td>\n",
       "      <td>None</td>\n",
       "      <td>0.000000</td>\n",
       "      <td>10</td>\n",
       "      <td>1</td>\n",
       "    </tr>\n",
       "    <tr>\n",
       "      <th>4</th>\n",
       "      <td>2016-10-06 17:40:23</td>\n",
       "      <td>keeping my presidential vote confidential. #Im...</td>\n",
       "      <td>0</td>\n",
       "      <td>False</td>\n",
       "      <td>en</td>\n",
       "      <td>None</td>\n",
       "      <td>0</td>\n",
       "      <td>False</td>\n",
       "      <td>None</td>\n",
       "      <td>0.000000</td>\n",
       "      <td>6</td>\n",
       "      <td>1</td>\n",
       "    </tr>\n",
       "  </tbody>\n",
       "</table>\n",
       "</div>"
      ],
      "text/plain": [
       "                 date                                               text  \\\n",
       "0 2016-10-06 18:02:40  Too funny!! The college dropout making fun of ...   \n",
       "1 2016-10-06 17:50:13  Sean Hannity should promote party growth, not ...   \n",
       "2 2016-10-06 17:44:28  Is #TrumpZERO running 4 President or a hybrid ...   \n",
       "3 2016-10-06 17:43:41  'The Atlantic' Editors Endorse Hillary Clinton...   \n",
       "4 2016-10-06 17:40:23  keeping my presidential vote confidential. #Im...   \n",
       "\n",
       "   favorite_count favorited language geocode  retweet_count retweeted  \\\n",
       "0               2     False       en    None              0     False   \n",
       "1               0     False       en    None              0     False   \n",
       "2               0     False       en    None              0     False   \n",
       "3               0     False       en    None              0     False   \n",
       "4               0     False       en    None              0     False   \n",
       "\n",
       "  coordinates  sentiment  word_count  democrat  \n",
       "0        None   0.301637          21         1  \n",
       "1        None   0.285714          20         1  \n",
       "2        None   0.000000          19         1  \n",
       "3        None   0.000000          10         1  \n",
       "4        None   0.000000           6         1  "
      ]
     },
     "execution_count": 42,
     "metadata": {},
     "output_type": "execute_result"
    }
   ],
   "source": [
    "hilary_tweets_df = pd.DataFrame(hilary_tweets, columns=feature_cols)\n",
    "hilary_tweets_df['sentiment'] = hilary_tweets_df.text.apply(detect_sentiment)\n",
    "hilary_tweets_df['word_count'] = hilary_tweets_df.text.str.split().apply(len)\n",
    "hilary_tweets_df['democrat'] = 1\n",
    "\n",
    "donald_tweets_df = pd.DataFrame(the_donald_tweets, columns=feature_cols)\n",
    "donald_tweets_df['sentiment'] = donald_tweets_df.text.apply(detect_sentiment)\n",
    "donald_tweets_df['word_count'] = donald_tweets_df.text.str.split().apply(len)\n",
    "donald_tweets_df['democrat'] = 0\n",
    "\n",
    "tweets = pd.concat([hilary_tweets_df, donald_tweets_df])\n",
    "tweets.head()"
   ]
  },
  {
   "cell_type": "code",
   "execution_count": 43,
   "metadata": {
    "collapsed": false
   },
   "outputs": [
    {
     "data": {
      "text/html": [
       "<div>\n",
       "<table border=\"1\" class=\"dataframe\">\n",
       "  <thead>\n",
       "    <tr style=\"text-align: right;\">\n",
       "      <th></th>\n",
       "      <th>date</th>\n",
       "      <th>text</th>\n",
       "      <th>favorite_count</th>\n",
       "      <th>favorited</th>\n",
       "      <th>language</th>\n",
       "      <th>geocode</th>\n",
       "      <th>retweet_count</th>\n",
       "      <th>retweeted</th>\n",
       "      <th>coordinates</th>\n",
       "      <th>sentiment</th>\n",
       "      <th>word_count</th>\n",
       "      <th>democrat</th>\n",
       "    </tr>\n",
       "  </thead>\n",
       "  <tbody>\n",
       "    <tr>\n",
       "      <th>311</th>\n",
       "      <td>2016-10-05 02:18:18</td>\n",
       "      <td>Kaine is an absolute ASS! I mean talk about lo...</td>\n",
       "      <td>3</td>\n",
       "      <td>False</td>\n",
       "      <td>en</td>\n",
       "      <td>None</td>\n",
       "      <td>0</td>\n",
       "      <td>False</td>\n",
       "      <td>None</td>\n",
       "      <td>0.034375</td>\n",
       "      <td>20</td>\n",
       "      <td>0</td>\n",
       "    </tr>\n",
       "    <tr>\n",
       "      <th>312</th>\n",
       "      <td>2016-10-05 02:00:50</td>\n",
       "      <td>I support Team Trump! Download the official ap...</td>\n",
       "      <td>0</td>\n",
       "      <td>False</td>\n",
       "      <td>en</td>\n",
       "      <td>None</td>\n",
       "      <td>0</td>\n",
       "      <td>False</td>\n",
       "      <td>None</td>\n",
       "      <td>0.000000</td>\n",
       "      <td>12</td>\n",
       "      <td>0</td>\n",
       "    </tr>\n",
       "    <tr>\n",
       "      <th>313</th>\n",
       "      <td>2016-10-05 01:36:33</td>\n",
       "      <td>I can not believe his, Kaine's, ineptitude, im...</td>\n",
       "      <td>1</td>\n",
       "      <td>False</td>\n",
       "      <td>en</td>\n",
       "      <td>None</td>\n",
       "      <td>0</td>\n",
       "      <td>False</td>\n",
       "      <td>None</td>\n",
       "      <td>0.125000</td>\n",
       "      <td>13</td>\n",
       "      <td>0</td>\n",
       "    </tr>\n",
       "    <tr>\n",
       "      <th>314</th>\n",
       "      <td>2016-10-05 01:28:29</td>\n",
       "      <td>@HillaryClinton You're an idiot, Hill. Go back...</td>\n",
       "      <td>3</td>\n",
       "      <td>False</td>\n",
       "      <td>en</td>\n",
       "      <td>None</td>\n",
       "      <td>0</td>\n",
       "      <td>False</td>\n",
       "      <td>None</td>\n",
       "      <td>-0.400000</td>\n",
       "      <td>13</td>\n",
       "      <td>0</td>\n",
       "    </tr>\n",
       "    <tr>\n",
       "      <th>315</th>\n",
       "      <td>2016-10-05 00:40:01</td>\n",
       "      <td>@GovPenceIN Governor good luck tonight! Please...</td>\n",
       "      <td>0</td>\n",
       "      <td>False</td>\n",
       "      <td>en</td>\n",
       "      <td>None</td>\n",
       "      <td>0</td>\n",
       "      <td>False</td>\n",
       "      <td>None</td>\n",
       "      <td>0.295833</td>\n",
       "      <td>14</td>\n",
       "      <td>0</td>\n",
       "    </tr>\n",
       "  </tbody>\n",
       "</table>\n",
       "</div>"
      ],
      "text/plain": [
       "                   date                                               text  \\\n",
       "311 2016-10-05 02:18:18  Kaine is an absolute ASS! I mean talk about lo...   \n",
       "312 2016-10-05 02:00:50  I support Team Trump! Download the official ap...   \n",
       "313 2016-10-05 01:36:33  I can not believe his, Kaine's, ineptitude, im...   \n",
       "314 2016-10-05 01:28:29  @HillaryClinton You're an idiot, Hill. Go back...   \n",
       "315 2016-10-05 00:40:01  @GovPenceIN Governor good luck tonight! Please...   \n",
       "\n",
       "     favorite_count favorited language geocode  retweet_count retweeted  \\\n",
       "311               3     False       en    None              0     False   \n",
       "312               0     False       en    None              0     False   \n",
       "313               1     False       en    None              0     False   \n",
       "314               3     False       en    None              0     False   \n",
       "315               0     False       en    None              0     False   \n",
       "\n",
       "    coordinates  sentiment  word_count  democrat  \n",
       "311        None   0.034375          20         0  \n",
       "312        None   0.000000          12         0  \n",
       "313        None   0.125000          13         0  \n",
       "314        None  -0.400000          13         0  \n",
       "315        None   0.295833          14         0  "
      ]
     },
     "execution_count": 43,
     "metadata": {},
     "output_type": "execute_result"
    }
   ],
   "source": [
    "tweets.tail()"
   ]
  },
  {
   "cell_type": "code",
   "execution_count": 44,
   "metadata": {
    "collapsed": false
   },
   "outputs": [
    {
     "data": {
      "text/plain": [
       "<matplotlib.axes._subplots.AxesSubplot at 0x105005790>"
      ]
     },
     "execution_count": 44,
     "metadata": {},
     "output_type": "execute_result"
    },
    {
     "data": {
      "image/png": "[encoded data removed]",
      "text/plain": [
       "<matplotlib.figure.Figure at 0x11d0b0410>"
      ]
     },
     "metadata": {},
     "output_type": "display_data"
    }
   ],
   "source": [
    "# Make a boxplot of sentiment for each candidate by the \"democrat\" column\n",
    "import matplotlib.pyplot as plt\n",
    "%matplotlib inline\n",
    "\n",
    "tweets.boxplot(column='sentiment', by='democrat')\n",
    "\n"
   ]
  },
  {
   "cell_type": "code",
   "execution_count": null,
   "metadata": {
    "collapsed": true
   },
   "outputs": [],
   "source": []
  },
  {
   "cell_type": "code",
   "execution_count": null,
   "metadata": {
    "collapsed": true
   },
   "outputs": [],
   "source": []
  },
  {
   "cell_type": "markdown",
   "metadata": {},
   "source": [
    "## 9. Estimate classification models using knn and logistic regession."
   ]
  },
  {
   "cell_type": "code",
   "execution_count": 44,
   "metadata": {
    "collapsed": true
   },
   "outputs": [],
   "source": [
    "# 9 Estimate classification models using knn and logistic regession.  Dont forget to use cross validation \n",
    "    # (do not use cross_val_score because we will want a confusion matrix).\n",
    "# The cateogrical response here is predict democrat or republican\n",
    "# Your features can EITHER be your countvectorizer document term matrix OR \n",
    "# data from the original dataframe (sentiment, word count, etc)"
   ]
  },
  {
   "cell_type": "code",
   "execution_count": 45,
   "metadata": {
    "collapsed": false
   },
   "outputs": [],
   "source": [
    "from sklearn.cross_validation import train_test_split\n",
    "from sklearn.neighbors import KNeighborsClassifier\n",
    "from sklearn.linear_model import LogisticRegression\n",
    "knn = KNeighborsClassifier()\n",
    "logreg = LogisticRegression()\n",
    "\n",
    "#feature_cols = tweets.columns[:-1]\n",
    "feature_cols = ['sentiment', 'word_count']\n",
    "X = tweets[feature_cols]\n",
    "y = tweets.democrat\n",
    "\n"
   ]
  },
  {
   "cell_type": "code",
   "execution_count": 46,
   "metadata": {
    "collapsed": false
   },
   "outputs": [
    {
     "data": {
      "text/html": [
       "<div>\n",
       "<table border=\"1\" class=\"dataframe\">\n",
       "  <thead>\n",
       "    <tr style=\"text-align: right;\">\n",
       "      <th></th>\n",
       "      <th>sentiment</th>\n",
       "      <th>word_count</th>\n",
       "    </tr>\n",
       "  </thead>\n",
       "  <tbody>\n",
       "    <tr>\n",
       "      <th>0</th>\n",
       "      <td>0.301637</td>\n",
       "      <td>21</td>\n",
       "    </tr>\n",
       "    <tr>\n",
       "      <th>1</th>\n",
       "      <td>0.285714</td>\n",
       "      <td>20</td>\n",
       "    </tr>\n",
       "    <tr>\n",
       "      <th>2</th>\n",
       "      <td>0.000000</td>\n",
       "      <td>19</td>\n",
       "    </tr>\n",
       "    <tr>\n",
       "      <th>3</th>\n",
       "      <td>0.000000</td>\n",
       "      <td>10</td>\n",
       "    </tr>\n",
       "    <tr>\n",
       "      <th>4</th>\n",
       "      <td>0.000000</td>\n",
       "      <td>6</td>\n",
       "    </tr>\n",
       "  </tbody>\n",
       "</table>\n",
       "</div>"
      ],
      "text/plain": [
       "   sentiment  word_count\n",
       "0   0.301637          21\n",
       "1   0.285714          20\n",
       "2   0.000000          19\n",
       "3   0.000000          10\n",
       "4   0.000000           6"
      ]
     },
     "execution_count": 46,
     "metadata": {},
     "output_type": "execute_result"
    }
   ],
   "source": [
    "X.head()"
   ]
  },
  {
   "cell_type": "code",
   "execution_count": 47,
   "metadata": {
    "collapsed": false
   },
   "outputs": [
    {
     "data": {
      "text/plain": [
       "0    1\n",
       "1    1\n",
       "2    1\n",
       "3    1\n",
       "4    1\n",
       "Name: democrat, dtype: int64"
      ]
     },
     "execution_count": 47,
     "metadata": {},
     "output_type": "execute_result"
    }
   ],
   "source": [
    "y.head()"
   ]
  },
  {
   "cell_type": "code",
   "execution_count": 48,
   "metadata": {
    "collapsed": false
   },
   "outputs": [
    {
     "data": {
      "text/plain": [
       "LogisticRegression(C=1.0, class_weight=None, dual=False, fit_intercept=True,\n",
       "          intercept_scaling=1, max_iter=100, multi_class='ovr', n_jobs=1,\n",
       "          penalty='l2', random_state=None, solver='liblinear', tol=0.0001,\n",
       "          verbose=0, warm_start=False)"
      ]
     },
     "execution_count": 48,
     "metadata": {},
     "output_type": "execute_result"
    }
   ],
   "source": [
    "knn.fit(X, y)\n",
    "logreg.fit(X, y)"
   ]
  },
  {
   "cell_type": "markdown",
   "metadata": {},
   "source": [
    "## 10. Initialize a classification model (for both knn and logistic)"
   ]
  },
  {
   "cell_type": "code",
   "execution_count": null,
   "metadata": {
    "collapsed": true
   },
   "outputs": [],
   "source": [
    "# 10 Initialize a classification model (for both knn and logistic)\n",
    "# This is separate from step 9 because I will eventually want a \n",
    "# confusion matrix and we can't do that via cros validation"
   ]
  },
  {
   "cell_type": "code",
   "execution_count": null,
   "metadata": {
    "collapsed": true
   },
   "outputs": [],
   "source": []
  },
  {
   "cell_type": "markdown",
   "metadata": {},
   "source": [
    "## 11. Split and Train"
   ]
  },
  {
   "cell_type": "code",
   "execution_count": null,
   "metadata": {
    "collapsed": true
   },
   "outputs": [],
   "source": [
    "# 11 Split your data into training and testing tests and then\n",
    "# train your classification model  (for both knn and logistic)"
   ]
  },
  {
   "cell_type": "code",
   "execution_count": 49,
   "metadata": {
    "collapsed": true
   },
   "outputs": [],
   "source": [
    "X_train, X_test, y_train, y_test = train_test_split(X, y, random_state=1)"
   ]
  },
  {
   "cell_type": "markdown",
   "metadata": {},
   "source": [
    "## 12. Predict on your test features and targets"
   ]
  },
  {
   "cell_type": "code",
   "execution_count": null,
   "metadata": {
    "collapsed": true
   },
   "outputs": [],
   "source": [
    "# 12 Predict on your test features and targets (for both knn and logistic)"
   ]
  },
  {
   "cell_type": "code",
   "execution_count": 50,
   "metadata": {
    "collapsed": true
   },
   "outputs": [],
   "source": [
    "from sklearn import metrics\n",
    "\n",
    "preds_knn = knn.predict(X)\n",
    "preds_logreg = logreg.predict(X)"
   ]
  },
  {
   "cell_type": "markdown",
   "metadata": {},
   "source": [
    "## 13. output your accuracy"
   ]
  },
  {
   "cell_type": "code",
   "execution_count": null,
   "metadata": {
    "collapsed": true
   },
   "outputs": [],
   "source": [
    "# 13 output your accuracy (for both knn and logistic)"
   ]
  },
  {
   "cell_type": "code",
   "execution_count": 51,
   "metadata": {
    "collapsed": false,
    "scrolled": true
   },
   "outputs": [
    {
     "name": "stdout",
     "output_type": "stream",
     "text": [
      "             precision    recall  f1-score   support\n",
      "\n",
      "          0       0.70      0.73      0.71       316\n",
      "          1       0.67      0.64      0.66       273\n",
      "\n",
      "avg / total       0.69      0.69      0.69       589\n",
      "\n"
     ]
    }
   ],
   "source": [
    "# accuracy = (TP + TN)/total\n",
    "print metrics.classification_report(y, preds_knn)"
   ]
  },
  {
   "cell_type": "code",
   "execution_count": 52,
   "metadata": {
    "collapsed": false
   },
   "outputs": [
    {
     "name": "stdout",
     "output_type": "stream",
     "text": [
      "             precision    recall  f1-score   support\n",
      "\n",
      "          0       0.57      0.73      0.64       316\n",
      "          1       0.54      0.37      0.44       273\n",
      "\n",
      "avg / total       0.56      0.56      0.55       589\n",
      "\n"
     ]
    }
   ],
   "source": [
    "print metrics.classification_report(y, preds_logreg)"
   ]
  },
  {
   "cell_type": "markdown",
   "metadata": {},
   "source": [
    "## 14. Create a confusion matrix"
   ]
  },
  {
   "cell_type": "code",
   "execution_count": null,
   "metadata": {
    "collapsed": true
   },
   "outputs": [],
   "source": [
    "# 14 Create a confusion matrix for your predictions (for both knn and logistic)\n",
    "# What is the sensitivity and specificity?"
   ]
  },
  {
   "cell_type": "code",
   "execution_count": 53,
   "metadata": {
    "collapsed": false
   },
   "outputs": [
    {
     "name": "stdout",
     "output_type": "stream",
     "text": [
      "[[230  86]\n",
      " [ 98 175]]\n",
      "[[230  86]\n",
      " [173 100]]\n"
     ]
    }
   ],
   "source": [
    "from sklearn import metrics\n",
    "\n",
    "#preds = knn.predict(X)\n",
    "print metrics.confusion_matrix(y, preds_knn)\n",
    "\n",
    "#preds = logreg.predict(X)\n",
    "print metrics.confusion_matrix(y, preds_logreg)"
   ]
  },
  {
   "cell_type": "code",
   "execution_count": null,
   "metadata": {
    "collapsed": true
   },
   "outputs": [],
   "source": [
    "# Top Left: True Negatives \n",
    "# Top Right False Negatives \n",
    "# Bottom Left: False Negatives \n",
    "# Bottom Right: True Positives \n",
    "\n",
    "Sensitivity = TP/actual yes = TPR\n",
    "\n",
    "Specificity = "
   ]
  },
  {
   "cell_type": "markdown",
   "metadata": {},
   "source": [
    "## 15. Who is the easiest candidate to predict?"
   ]
  },
  {
   "cell_type": "code",
   "execution_count": null,
   "metadata": {
    "collapsed": true
   },
   "outputs": [],
   "source": [
    "# 15 Who is the easiest candidate to predict? Why do you think? \n",
    "# Who is the hardest? Why do you think?\n",
    "# Write your answers in markdown (for both knn and logistic)"
   ]
  },
  {
   "cell_type": "code",
   "execution_count": null,
   "metadata": {
    "collapsed": true
   },
   "outputs": [],
   "source": []
  },
  {
   "cell_type": "markdown",
   "metadata": {},
   "source": [
    "## Bonus"
   ]
  },
  {
   "cell_type": "code",
   "execution_count": null,
   "metadata": {
    "collapsed": true
   },
   "outputs": [],
   "source": [
    "# 16 BONUS: make a pipeline with the first step being a feature union of countvectorizer\n",
    "# and tfidfvectorizer and no other features and our second step is\n",
    "# a ML model (your choice) predict our binary response\n"
   ]
  },
  {
   "cell_type": "code",
   "execution_count": 16,
   "metadata": {
    "collapsed": true
   },
   "outputs": [],
   "source": [
    "# 17: BONUS: grid search the model in step 16 to obtain the best features (up to you)"
   ]
  },
  {
   "cell_type": "code",
   "execution_count": null,
   "metadata": {
    "collapsed": true
   },
   "outputs": [],
   "source": [
    "# 18: SUPER BONUS: make a custom transformer that extracts sentiment and word count\n",
    "# make a pipeline that combines countvec, tfidfvec and your custom transformer\n",
    "# and try to get the possible accuracy for predicting whether or not the person is talking\n",
    "# about democrats or republicans"
   ]
  }
 ],
 "metadata": {
  "anaconda-cloud": {},
  "kernelspec": {
   "display_name": "Python [sfdat26]",
   "language": "python",
   "name": "Python [sfdat26]"
  },
  "language_info": {
   "codemirror_mode": {
    "name": "ipython",
    "version": 2
   },
   "file_extension": ".py",
   "mimetype": "text/x-python",
   "name": "python",
   "nbconvert_exporter": "python",
   "pygments_lexer": "ipython2",
   "version": "2.7.12"
  }
 },
 "nbformat": 4,
 "nbformat_minor": 0
}
