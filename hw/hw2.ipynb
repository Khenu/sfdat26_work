{
 "cells": [
  {
   "cell_type": "code",
   "execution_count": 1,
   "metadata": {
    "collapsed": false
   },
   "outputs": [],
   "source": [
    "import tweepy       # python wrapper for twitter api\n",
    "import json\n",
    "import time\n",
    "import requests\n",
    "# step 0, get your own twitter credentials!"
   ]
  },
  {
   "cell_type": "code",
   "execution_count": 2,
   "metadata": {
    "collapsed": false
   },
   "outputs": [],
   "source": [
    "# this is my own personal twitter api information\n",
    "# if you could be so kind as to sign up yourself on both twitter and mashape that'd be great :)\n",
    "# It's FREEEEEEE\n",
    "api_key = 'g5uPIpw80nULQI1gfklv2zrh4'\n",
    "api_secret = 'cOWvNWxYvPmEZ0ArZVeeVVvJu41QYHdUS2GpqIKtSQ1isd5PJy'\n",
    "access_token = '49722956-TWl8J0aAS6KTdcbz3ppZ7NfqZEmrwmbsb9cYPNELG'\n",
    "access_secret = '3eqrVssF3ppv23qyflyAto8wLEiYRA8sXEPSghuOJWTub'"
   ]
  },
  {
   "cell_type": "code",
   "execution_count": 3,
   "metadata": {
    "collapsed": false
   },
   "outputs": [],
   "source": [
    "# Documentation is your friend! http://docs.tweepy.org/en/v3.1.0/\n",
    "auth = tweepy.OAuthHandler(api_key, api_secret)\n",
    "auth.set_access_token(access_token, access_secret)\n",
    "api = tweepy.API(auth) # returns a tweepy authorization handler object"
   ]
  },
  {
   "cell_type": "markdown",
   "metadata": {},
   "source": [
    "## 1. Use Twitter API to stream and store tweets"
   ]
  },
  {
   "cell_type": "code",
   "execution_count": 4,
   "metadata": {
    "collapsed": false
   },
   "outputs": [],
   "source": [
    "# 1. Use Twitter API to stream and store tweets (300 per candidate)\n",
    "# 37.781157,-122.39872 is the lat,lng for SF\n",
    "hilary_tweets = api.search(q='#ImWithHer', count=100, geocode=\"37.781157,-122.398720,10mi\") + api.search(q='#hillaryclinton', count=100, geocode=\"37.781157,-122.398720,50mi\") + api.search(q='#hillary2016', count=100, geocode=\"37.781157,-122.398720,50mi\")\n",
    "the_donald_tweets = api.search(q='#donaldtrump', count=100, geocode=\"37.781157,-122.398720,10mi\") + api.search(q='#trump2016', count=100, geocode=\"37.781157,-122.398720,50mi\") + api.search(q='#trump', count=100, geocode=\"37.781157,-122.398720,50mi\") + api.search(q='#makeamericagreatagain', count=100, geocode=\"37.781157,-122.398720,50mi\")"
   ]
  },
  {
   "cell_type": "code",
   "execution_count": 5,
   "metadata": {
    "collapsed": false
   },
   "outputs": [
    {
     "data": {
      "text/plain": [
       "u\"And unlike Lyin' #TedCruz, @JohnKasich &amp; @JebBush won't cave to pressure #DonaldTrump #NeverTrump https://t.co/9NBkDEgwRl\""
      ]
     },
     "execution_count": 5,
     "metadata": {},
     "output_type": "execute_result"
    }
   ],
   "source": [
    "the_donald_tweets[0].text"
   ]
  },
  {
   "cell_type": "code",
   "execution_count": 6,
   "metadata": {
    "collapsed": false
   },
   "outputs": [
    {
     "data": {
      "text/plain": [
       "u'RT @shawnbric: News that #Trump brought Santorum on his team... Another excuse to use this gif! #LGBT: Begone, homophobes! #ImWithHer #Xmen\\u2026'"
      ]
     },
     "execution_count": 6,
     "metadata": {},
     "output_type": "execute_result"
    }
   ],
   "source": [
    "hilary_tweets[0].text"
   ]
  },
  {
   "cell_type": "code",
   "execution_count": 7,
   "metadata": {
    "collapsed": false
   },
   "outputs": [
    {
     "name": "stdout",
     "output_type": "stream",
     "text": [
      "['__class__', '__delattr__', '__dict__', '__doc__', '__eq__', '__format__', '__getattribute__', '__getstate__', '__hash__', '__init__', '__module__', '__ne__', '__new__', '__reduce__', '__reduce_ex__', '__repr__', '__setattr__', '__sizeof__', '__str__', '__subclasshook__', '__weakref__', '_api', '_json', 'author', 'contributors', 'coordinates', 'created_at', 'destroy', 'entities', 'favorite', 'favorite_count', 'favorited', 'geo', 'id', 'id_str', 'in_reply_to_screen_name', 'in_reply_to_status_id', 'in_reply_to_status_id_str', 'in_reply_to_user_id', 'in_reply_to_user_id_str', 'is_quote_status', 'lang', 'metadata', 'parse', 'parse_list', 'place', 'possibly_sensitive', 'quoted_status', 'quoted_status_id', 'quoted_status_id_str', 'retweet', 'retweet_count', 'retweeted', 'retweets', 'source', 'source_url', 'text', 'truncated', 'user']\n"
     ]
    }
   ],
   "source": [
    "# wrappers come with built in python attributes and methods!\n",
    "print dir(the_donald_tweets[0])"
   ]
  },
  {
   "cell_type": "code",
   "execution_count": 8,
   "metadata": {
    "collapsed": false
   },
   "outputs": [
    {
     "name": "stdout",
     "output_type": "stream",
     "text": [
      "2016-09-23 19:11:29\n",
      "And unlike Lyin' #TedCruz, @JohnKasich &amp; @JebBush won't cave to pressure #DonaldTrump #NeverTrump https://t.co/9NBkDEgwRl\n",
      "0\n",
      "False\n",
      "en\n",
      "None\n",
      "0\n",
      "False\n",
      "None\n"
     ]
    }
   ],
   "source": [
    "print the_donald_tweets[0].created_at\n",
    "print the_donald_tweets[0].text\n",
    "print the_donald_tweets[0].favorite_count\n",
    "print the_donald_tweets[0].favorited\n",
    "print the_donald_tweets[0].lang\n",
    "print the_donald_tweets[0].geo\n",
    "print the_donald_tweets[0].retweet_count\n",
    "print the_donald_tweets[0].retweeted\n",
    "print the_donald_tweets[0].coordinates"
   ]
  },
  {
   "cell_type": "code",
   "execution_count": 9,
   "metadata": {
    "collapsed": false
   },
   "outputs": [],
   "source": [
    "# modify the tweets to make a nice dictionary\n",
    "def parse_status_objects(tweet_list):\n",
    "    modified_tweets = list()\n",
    "    for x in tweet_list:\n",
    "        modified_tweets.append( [\n",
    "                    x.created_at,\n",
    "                    x.text,\n",
    "                    x.favorite_count,\n",
    "                    x.favorited,\n",
    "                    x.lang,\n",
    "                    x.geo,\n",
    "                    x.retweet_count,\n",
    "                    x.retweeted,\n",
    "                    x.coordinates\n",
    "                ])\n",
    "    return modified_tweets\n",
    "        \n",
    "hilary_tweets = parse_status_objects(hilary_tweets)\n",
    "the_donald_tweets = parse_status_objects(the_donald_tweets)"
   ]
  },
  {
   "cell_type": "code",
   "execution_count": 10,
   "metadata": {
    "collapsed": false
   },
   "outputs": [
    {
     "name": "stdout",
     "output_type": "stream",
     "text": [
      "[datetime.datetime(2016, 9, 23, 19, 11, 29), u\"And unlike Lyin' #TedCruz, @JohnKasich &amp; @JebBush won't cave to pressure #DonaldTrump #NeverTrump https://t.co/9NBkDEgwRl\", 0, False, u'en', None, 0, False, None]\n",
      "[datetime.datetime(2016, 9, 23, 18, 52, 22), u'RT @shawnbric: News that #Trump brought Santorum on his team... Another excuse to use this gif! #LGBT: Begone, homophobes! #ImWithHer #Xmen\\u2026', 0, False, u'en', None, 1, False, None]\n"
     ]
    }
   ],
   "source": [
    "print the_donald_tweets[0]\n",
    "print hilary_tweets[0]"
   ]
  },
  {
   "cell_type": "code",
   "execution_count": 26,
   "metadata": {
    "collapsed": false
   },
   "outputs": [
    {
     "data": {
      "text/plain": [
       "311"
      ]
     },
     "execution_count": 26,
     "metadata": {},
     "output_type": "execute_result"
    }
   ],
   "source": [
    "len(the_donald_tweets)"
   ]
  },
  {
   "cell_type": "code",
   "execution_count": 27,
   "metadata": {
    "collapsed": false
   },
   "outputs": [
    {
     "data": {
      "text/plain": [
       "293"
      ]
     },
     "execution_count": 27,
     "metadata": {},
     "output_type": "execute_result"
    }
   ],
   "source": [
    "len(hilary_tweets)"
   ]
  },
  {
   "cell_type": "markdown",
   "metadata": {},
   "source": [
    "## 2. Create a dataframe that combines all of the tweets from each candidate"
   ]
  },
  {
   "cell_type": "code",
   "execution_count": 15,
   "metadata": {
    "collapsed": false
   },
   "outputs": [],
   "source": [
    "# 2 Create a dataframe that combines all of the tweets from each candidate\n",
    "# To do so, you will need to concat the data frames\n",
    "# so each row is a tweet and your columns should be \n",
    "# date, text, favorite_count, favorited, language, geocode, retweet count, retweeted, coordinates"
   ]
  },
  {
   "cell_type": "code",
   "execution_count": 17,
   "metadata": {
    "collapsed": true
   },
   "outputs": [],
   "source": [
    "import pandas as pd\n",
    "import numpy as np\n",
    "import matplotlib.pyplot as plt\n",
    "%matplotlib inline"
   ]
  },
  {
   "cell_type": "code",
   "execution_count": 28,
   "metadata": {
    "collapsed": false
   },
   "outputs": [
    {
     "data": {
      "text/html": [
       "<div>\n",
       "<table border=\"1\" class=\"dataframe\">\n",
       "  <thead>\n",
       "    <tr style=\"text-align: right;\">\n",
       "      <th></th>\n",
       "      <th>date</th>\n",
       "      <th>text</th>\n",
       "      <th>favorite_count</th>\n",
       "      <th>favorited</th>\n",
       "      <th>language</th>\n",
       "      <th>geocode</th>\n",
       "      <th>retweet_count</th>\n",
       "      <th>retweeted</th>\n",
       "      <th>coordinates</th>\n",
       "    </tr>\n",
       "  </thead>\n",
       "  <tbody>\n",
       "    <tr>\n",
       "      <th>0</th>\n",
       "      <td>2016-09-23 19:11:29</td>\n",
       "      <td>And unlike Lyin' #TedCruz, @JohnKasich &amp;amp; @...</td>\n",
       "      <td>0</td>\n",
       "      <td>False</td>\n",
       "      <td>en</td>\n",
       "      <td>None</td>\n",
       "      <td>0</td>\n",
       "      <td>False</td>\n",
       "      <td>None</td>\n",
       "    </tr>\n",
       "    <tr>\n",
       "      <th>1</th>\n",
       "      <td>2016-09-23 18:48:20</td>\n",
       "      <td>RT @BruceMirken: #DonaldTrump fortifies anti-#...</td>\n",
       "      <td>0</td>\n",
       "      <td>False</td>\n",
       "      <td>en</td>\n",
       "      <td>None</td>\n",
       "      <td>1</td>\n",
       "      <td>False</td>\n",
       "      <td>None</td>\n",
       "    </tr>\n",
       "    <tr>\n",
       "      <th>2</th>\n",
       "      <td>2016-09-23 18:34:44</td>\n",
       "      <td>Not so stunning Before #DonaldTrump attacked #...</td>\n",
       "      <td>0</td>\n",
       "      <td>False</td>\n",
       "      <td>en</td>\n",
       "      <td>None</td>\n",
       "      <td>0</td>\n",
       "      <td>False</td>\n",
       "      <td>None</td>\n",
       "    </tr>\n",
       "    <tr>\n",
       "      <th>3</th>\n",
       "      <td>2016-09-23 18:12:51</td>\n",
       "      <td>RT @tigerbeat: How #DonaldTrump got his start ...</td>\n",
       "      <td>0</td>\n",
       "      <td>False</td>\n",
       "      <td>en</td>\n",
       "      <td>None</td>\n",
       "      <td>1</td>\n",
       "      <td>False</td>\n",
       "      <td>None</td>\n",
       "    </tr>\n",
       "    <tr>\n",
       "      <th>4</th>\n",
       "      <td>2016-09-23 18:11:45</td>\n",
       "      <td>How #DonaldTrump got his start bc of Daddy htt...</td>\n",
       "      <td>0</td>\n",
       "      <td>False</td>\n",
       "      <td>en</td>\n",
       "      <td>None</td>\n",
       "      <td>1</td>\n",
       "      <td>False</td>\n",
       "      <td>None</td>\n",
       "    </tr>\n",
       "  </tbody>\n",
       "</table>\n",
       "</div>"
      ],
      "text/plain": [
       "                 date                                               text  \\\n",
       "0 2016-09-23 19:11:29  And unlike Lyin' #TedCruz, @JohnKasich &amp; @...   \n",
       "1 2016-09-23 18:48:20  RT @BruceMirken: #DonaldTrump fortifies anti-#...   \n",
       "2 2016-09-23 18:34:44  Not so stunning Before #DonaldTrump attacked #...   \n",
       "3 2016-09-23 18:12:51  RT @tigerbeat: How #DonaldTrump got his start ...   \n",
       "4 2016-09-23 18:11:45  How #DonaldTrump got his start bc of Daddy htt...   \n",
       "\n",
       "   favorite_count favorited language geocode  retweet_count retweeted  \\\n",
       "0               0     False       en    None              0     False   \n",
       "1               0     False       en    None              1     False   \n",
       "2               0     False       en    None              0     False   \n",
       "3               0     False       en    None              1     False   \n",
       "4               0     False       en    None              1     False   \n",
       "\n",
       "  coordinates  \n",
       "0        None  \n",
       "1        None  \n",
       "2        None  \n",
       "3        None  \n",
       "4        None  "
      ]
     },
     "execution_count": 28,
     "metadata": {},
     "output_type": "execute_result"
    }
   ],
   "source": [
    "feature_cols =['date', 'text', 'favorite_count', 'favorited', 'language', 'geocode', 'retweet_count', \n",
    "               'retweeted', 'coordinates']\n",
    "tweets = pd.DataFrame(the_donald_tweets + hilary_tweets, columns=feature_cols)\n",
    "tweets.head()"
   ]
  },
  {
   "cell_type": "code",
   "execution_count": 29,
   "metadata": {
    "collapsed": false
   },
   "outputs": [
    {
     "data": {
      "text/plain": [
       "(604, 9)"
      ]
     },
     "execution_count": 29,
     "metadata": {},
     "output_type": "execute_result"
    }
   ],
   "source": [
    "tweets.shape"
   ]
  },
  {
   "cell_type": "markdown",
   "metadata": {},
   "source": [
    "## 3. Create a function to take in a string and output the textblob sentiment of that string"
   ]
  },
  {
   "cell_type": "code",
   "execution_count": null,
   "metadata": {
    "collapsed": true
   },
   "outputs": [],
   "source": [
    "# 3 Create a function to take in a string and output the textblob sentiment of that string"
   ]
  },
  {
   "cell_type": "code",
   "execution_count": 30,
   "metadata": {
    "collapsed": true
   },
   "outputs": [],
   "source": [
    "from textblob import TextBlob"
   ]
  },
  {
   "cell_type": "code",
   "execution_count": 31,
   "metadata": {
    "collapsed": true
   },
   "outputs": [],
   "source": [
    "def detect_sentiment(text):\n",
    "    return TextBlob(text).sentiment.polarity"
   ]
  },
  {
   "cell_type": "markdown",
   "metadata": {},
   "source": [
    "## 4. Add a column to your data frame called 'sentiment'"
   ]
  },
  {
   "cell_type": "code",
   "execution_count": null,
   "metadata": {
    "collapsed": true
   },
   "outputs": [],
   "source": [
    "# 4 Add a column to your data frame called 'sentiment'\n",
    "# which holds the sentiment of that tweet (hint: use the function from #3)"
   ]
  },
  {
   "cell_type": "code",
   "execution_count": 32,
   "metadata": {
    "collapsed": true
   },
   "outputs": [],
   "source": [
    "tweets['sentiment'] = tweets.text.apply(detect_sentiment)"
   ]
  },
  {
   "cell_type": "code",
   "execution_count": 33,
   "metadata": {
    "collapsed": false
   },
   "outputs": [
    {
     "data": {
      "text/html": [
       "<div>\n",
       "<table border=\"1\" class=\"dataframe\">\n",
       "  <thead>\n",
       "    <tr style=\"text-align: right;\">\n",
       "      <th></th>\n",
       "      <th>date</th>\n",
       "      <th>text</th>\n",
       "      <th>favorite_count</th>\n",
       "      <th>favorited</th>\n",
       "      <th>language</th>\n",
       "      <th>geocode</th>\n",
       "      <th>retweet_count</th>\n",
       "      <th>retweeted</th>\n",
       "      <th>coordinates</th>\n",
       "      <th>sentiment</th>\n",
       "    </tr>\n",
       "  </thead>\n",
       "  <tbody>\n",
       "    <tr>\n",
       "      <th>0</th>\n",
       "      <td>2016-09-23 19:11:29</td>\n",
       "      <td>And unlike Lyin' #TedCruz, @JohnKasich &amp;amp; @...</td>\n",
       "      <td>0</td>\n",
       "      <td>False</td>\n",
       "      <td>en</td>\n",
       "      <td>None</td>\n",
       "      <td>0</td>\n",
       "      <td>False</td>\n",
       "      <td>None</td>\n",
       "      <td>0.0</td>\n",
       "    </tr>\n",
       "    <tr>\n",
       "      <th>1</th>\n",
       "      <td>2016-09-23 18:48:20</td>\n",
       "      <td>RT @BruceMirken: #DonaldTrump fortifies anti-#...</td>\n",
       "      <td>0</td>\n",
       "      <td>False</td>\n",
       "      <td>en</td>\n",
       "      <td>None</td>\n",
       "      <td>1</td>\n",
       "      <td>False</td>\n",
       "      <td>None</td>\n",
       "      <td>0.0</td>\n",
       "    </tr>\n",
       "    <tr>\n",
       "      <th>2</th>\n",
       "      <td>2016-09-23 18:34:44</td>\n",
       "      <td>Not so stunning Before #DonaldTrump attacked #...</td>\n",
       "      <td>0</td>\n",
       "      <td>False</td>\n",
       "      <td>en</td>\n",
       "      <td>None</td>\n",
       "      <td>0</td>\n",
       "      <td>False</td>\n",
       "      <td>None</td>\n",
       "      <td>0.5</td>\n",
       "    </tr>\n",
       "    <tr>\n",
       "      <th>3</th>\n",
       "      <td>2016-09-23 18:12:51</td>\n",
       "      <td>RT @tigerbeat: How #DonaldTrump got his start ...</td>\n",
       "      <td>0</td>\n",
       "      <td>False</td>\n",
       "      <td>en</td>\n",
       "      <td>None</td>\n",
       "      <td>1</td>\n",
       "      <td>False</td>\n",
       "      <td>None</td>\n",
       "      <td>0.0</td>\n",
       "    </tr>\n",
       "    <tr>\n",
       "      <th>4</th>\n",
       "      <td>2016-09-23 18:11:45</td>\n",
       "      <td>How #DonaldTrump got his start bc of Daddy htt...</td>\n",
       "      <td>0</td>\n",
       "      <td>False</td>\n",
       "      <td>en</td>\n",
       "      <td>None</td>\n",
       "      <td>1</td>\n",
       "      <td>False</td>\n",
       "      <td>None</td>\n",
       "      <td>0.0</td>\n",
       "    </tr>\n",
       "  </tbody>\n",
       "</table>\n",
       "</div>"
      ],
      "text/plain": [
       "                 date                                               text  \\\n",
       "0 2016-09-23 19:11:29  And unlike Lyin' #TedCruz, @JohnKasich &amp; @...   \n",
       "1 2016-09-23 18:48:20  RT @BruceMirken: #DonaldTrump fortifies anti-#...   \n",
       "2 2016-09-23 18:34:44  Not so stunning Before #DonaldTrump attacked #...   \n",
       "3 2016-09-23 18:12:51  RT @tigerbeat: How #DonaldTrump got his start ...   \n",
       "4 2016-09-23 18:11:45  How #DonaldTrump got his start bc of Daddy htt...   \n",
       "\n",
       "   favorite_count favorited language geocode  retweet_count retweeted  \\\n",
       "0               0     False       en    None              0     False   \n",
       "1               0     False       en    None              1     False   \n",
       "2               0     False       en    None              0     False   \n",
       "3               0     False       en    None              1     False   \n",
       "4               0     False       en    None              1     False   \n",
       "\n",
       "  coordinates  sentiment  \n",
       "0        None        0.0  \n",
       "1        None        0.0  \n",
       "2        None        0.5  \n",
       "3        None        0.0  \n",
       "4        None        0.0  "
      ]
     },
     "execution_count": 33,
     "metadata": {},
     "output_type": "execute_result"
    }
   ],
   "source": [
    "tweets.head()"
   ]
  },
  {
   "cell_type": "markdown",
   "metadata": {},
   "source": [
    "## 5. create a word count column"
   ]
  },
  {
   "cell_type": "code",
   "execution_count": null,
   "metadata": {
    "collapsed": true
   },
   "outputs": [],
   "source": [
    "# 5 create a word count column, which holds the number of words in the text column"
   ]
  },
  {
   "cell_type": "code",
   "execution_count": 36,
   "metadata": {
    "collapsed": false
   },
   "outputs": [
    {
     "data": {
      "text/html": [
       "<div>\n",
       "<table border=\"1\" class=\"dataframe\">\n",
       "  <thead>\n",
       "    <tr style=\"text-align: right;\">\n",
       "      <th></th>\n",
       "      <th>date</th>\n",
       "      <th>text</th>\n",
       "      <th>favorite_count</th>\n",
       "      <th>favorited</th>\n",
       "      <th>language</th>\n",
       "      <th>geocode</th>\n",
       "      <th>retweet_count</th>\n",
       "      <th>retweeted</th>\n",
       "      <th>coordinates</th>\n",
       "      <th>sentiment</th>\n",
       "      <th>word_count</th>\n",
       "    </tr>\n",
       "  </thead>\n",
       "  <tbody>\n",
       "    <tr>\n",
       "      <th>0</th>\n",
       "      <td>2016-09-23 19:11:29</td>\n",
       "      <td>And unlike Lyin' #TedCruz, @JohnKasich &amp;amp; @...</td>\n",
       "      <td>0</td>\n",
       "      <td>False</td>\n",
       "      <td>en</td>\n",
       "      <td>None</td>\n",
       "      <td>0</td>\n",
       "      <td>False</td>\n",
       "      <td>None</td>\n",
       "      <td>0.0</td>\n",
       "      <td>14</td>\n",
       "    </tr>\n",
       "    <tr>\n",
       "      <th>1</th>\n",
       "      <td>2016-09-23 18:48:20</td>\n",
       "      <td>RT @BruceMirken: #DonaldTrump fortifies anti-#...</td>\n",
       "      <td>0</td>\n",
       "      <td>False</td>\n",
       "      <td>en</td>\n",
       "      <td>None</td>\n",
       "      <td>1</td>\n",
       "      <td>False</td>\n",
       "      <td>None</td>\n",
       "      <td>0.0</td>\n",
       "      <td>17</td>\n",
       "    </tr>\n",
       "    <tr>\n",
       "      <th>2</th>\n",
       "      <td>2016-09-23 18:34:44</td>\n",
       "      <td>Not so stunning Before #DonaldTrump attacked #...</td>\n",
       "      <td>0</td>\n",
       "      <td>False</td>\n",
       "      <td>en</td>\n",
       "      <td>None</td>\n",
       "      <td>0</td>\n",
       "      <td>False</td>\n",
       "      <td>None</td>\n",
       "      <td>0.5</td>\n",
       "      <td>18</td>\n",
       "    </tr>\n",
       "    <tr>\n",
       "      <th>3</th>\n",
       "      <td>2016-09-23 18:12:51</td>\n",
       "      <td>RT @tigerbeat: How #DonaldTrump got his start ...</td>\n",
       "      <td>0</td>\n",
       "      <td>False</td>\n",
       "      <td>en</td>\n",
       "      <td>None</td>\n",
       "      <td>1</td>\n",
       "      <td>False</td>\n",
       "      <td>None</td>\n",
       "      <td>0.0</td>\n",
       "      <td>18</td>\n",
       "    </tr>\n",
       "    <tr>\n",
       "      <th>4</th>\n",
       "      <td>2016-09-23 18:11:45</td>\n",
       "      <td>How #DonaldTrump got his start bc of Daddy htt...</td>\n",
       "      <td>0</td>\n",
       "      <td>False</td>\n",
       "      <td>en</td>\n",
       "      <td>None</td>\n",
       "      <td>1</td>\n",
       "      <td>False</td>\n",
       "      <td>None</td>\n",
       "      <td>0.0</td>\n",
       "      <td>16</td>\n",
       "    </tr>\n",
       "  </tbody>\n",
       "</table>\n",
       "</div>"
      ],
      "text/plain": [
       "                 date                                               text  \\\n",
       "0 2016-09-23 19:11:29  And unlike Lyin' #TedCruz, @JohnKasich &amp; @...   \n",
       "1 2016-09-23 18:48:20  RT @BruceMirken: #DonaldTrump fortifies anti-#...   \n",
       "2 2016-09-23 18:34:44  Not so stunning Before #DonaldTrump attacked #...   \n",
       "3 2016-09-23 18:12:51  RT @tigerbeat: How #DonaldTrump got his start ...   \n",
       "4 2016-09-23 18:11:45  How #DonaldTrump got his start bc of Daddy htt...   \n",
       "\n",
       "   favorite_count favorited language geocode  retweet_count retweeted  \\\n",
       "0               0     False       en    None              0     False   \n",
       "1               0     False       en    None              1     False   \n",
       "2               0     False       en    None              0     False   \n",
       "3               0     False       en    None              1     False   \n",
       "4               0     False       en    None              1     False   \n",
       "\n",
       "  coordinates  sentiment  word_count  \n",
       "0        None        0.0          14  \n",
       "1        None        0.0          17  \n",
       "2        None        0.5          18  \n",
       "3        None        0.0          18  \n",
       "4        None        0.0          16  "
      ]
     },
     "execution_count": 36,
     "metadata": {},
     "output_type": "execute_result"
    }
   ],
   "source": [
    "tweets['word_count'] = tweets.text.str.split().apply(len)\n",
    "tweets.head()"
   ]
  },
  {
   "cell_type": "code",
   "execution_count": 37,
   "metadata": {
    "collapsed": false
   },
   "outputs": [
    {
     "data": {
      "text/plain": [
       "u\"And unlike Lyin' #TedCruz, @JohnKasich &amp; @JebBush won't cave to pressure #DonaldTrump #NeverTrump https://t.co/9NBkDEgwRl\""
      ]
     },
     "execution_count": 37,
     "metadata": {},
     "output_type": "execute_result"
    }
   ],
   "source": [
    "tweets.text[0]"
   ]
  },
  {
   "cell_type": "code",
   "execution_count": null,
   "metadata": {
    "collapsed": true
   },
   "outputs": [],
   "source": [
    "# use countvectorizer to create a document-term matrix and concatinate it to your main dataframe\n",
    "#(hint you should now have thousands of columns)\n",
    "# Don't add count vectorizer result to the original dataframe"
   ]
  },
  {
   "cell_type": "code",
   "execution_count": 38,
   "metadata": {
    "collapsed": true
   },
   "outputs": [],
   "source": [
    "from sklearn.feature_extraction.text import CountVectorizer"
   ]
  },
  {
   "cell_type": "code",
   "execution_count": 39,
   "metadata": {
    "collapsed": false
   },
   "outputs": [
    {
     "data": {
      "text/plain": [
       "(604, 2012)"
      ]
     },
     "execution_count": 39,
     "metadata": {},
     "output_type": "execute_result"
    }
   ],
   "source": [
    "# use CountVectorizer to create document-term matrices\n",
    "vect = CountVectorizer()\n",
    "tweets_dtm = vect.fit_transform(tweets.text)\n",
    "tweets_dtm.shape"
   ]
  },
  {
   "cell_type": "code",
   "execution_count": 54,
   "metadata": {
    "collapsed": false,
    "scrolled": true
   },
   "outputs": [
    {
     "data": {
      "text/plain": [
       "[u'00',\n",
       " u'000',\n",
       " u'00pm',\n",
       " u'06as31avyj',\n",
       " u'08o4bj72uw',\n",
       " u'09pmdkq9ww',\n",
       " u'0kcklxi019',\n",
       " u'0lxixcwdbc',\n",
       " u'0qsolfwm1b',\n",
       " u'0uw4ancvuu',\n",
       " u'0zum6gzc2h',\n",
       " u'10',\n",
       " u'100',\n",
       " u'1000',\n",
       " u'10m',\n",
       " u'11',\n",
       " u'110',\n",
       " u'116',\n",
       " u'120',\n",
       " u'13badny1jc',\n",
       " u'14gp9jrrgf',\n",
       " u'15',\n",
       " u'18sbkrgqtd',\n",
       " u'1962',\n",
       " u'1987',\n",
       " u'1991',\n",
       " u'1imbrub4t2',\n",
       " u'1kcms9ypda',\n",
       " u'2015',\n",
       " u'2016',\n",
       " u'2016election',\n",
       " u'2017',\n",
       " u'250k',\n",
       " u'26',\n",
       " u'2nd',\n",
       " u'2q0ye7oipp',\n",
       " u'2qljtsepog',\n",
       " u'3500',\n",
       " u'3dannyv',\n",
       " u'3ectif5wed',\n",
       " u'3efphw7tx3',\n",
       " u'3jlbjtydmk',\n",
       " u'3n2sjhyxkz',\n",
       " u'3svpboatf1',\n",
       " u'3vcv533yl0',\n",
       " u'3ytjiaekqi',\n",
       " u'4hillary',\n",
       " u'4kdhz7vomw',\n",
       " u'50',\n",
       " u'55iubdtgvf',\n",
       " u'5bzuaq6nhl',\n",
       " u'5nctrdmqjs',\n",
       " u'5qzffhkrdv',\n",
       " u'5tk92uksf6',\n",
       " u'5xvqbeard1',\n",
       " u'65',\n",
       " u'6jx6e5vlkj',\n",
       " u'6usbqecdzs',\n",
       " u'7eopcxmllw',\n",
       " u'7fi2xmdkly',\n",
       " u'7fw8d1mz7v',\n",
       " u'7j9q8hy4ay',\n",
       " u'7qy7uceirr',\n",
       " u'862arhisrc',\n",
       " u'8i8x4zvy7n',\n",
       " u'8qezrtj0un',\n",
       " u'8s50qm22kt',\n",
       " u'8sunelk1e9',\n",
       " u'8tzcb6kmcb',\n",
       " u'8vemsaqega',\n",
       " u'911',\n",
       " u'97zncpnscc',\n",
       " u'99',\n",
       " u'99owppo',\n",
       " u'99owppos',\n",
       " u'99owpposxq',\n",
       " u'9lnfay8xmr',\n",
       " u'9nbkdegwrl',\n",
       " u'9r15ctcgtz',\n",
       " u'_manny_23',\n",
       " u'_mct1_',\n",
       " u'_randysavage__',\n",
       " u'a55eluxhy8',\n",
       " u'abandoned',\n",
       " u'abbydphillip',\n",
       " u'abc',\n",
       " u'abcnews',\n",
       " u'aboard',\n",
       " u'abort',\n",
       " u'about',\n",
       " u'abuse',\n",
       " u'active',\n",
       " u'ad',\n",
       " u'adnight',\n",
       " u'advance',\n",
       " u'advertising',\n",
       " u'adviser',\n",
       " u'african',\n",
       " u'after',\n",
       " u'again',\n",
       " u'agency',\n",
       " u'ahead',\n",
       " u'ai0kmb0f6c',\n",
       " u'aide',\n",
       " u'aim',\n",
       " u'air2vent',\n",
       " u'alfonsohapp',\n",
       " u'all',\n",
       " u'allow',\n",
       " u'allowing',\n",
       " u'almost',\n",
       " u'alone',\n",
       " u'also',\n",
       " u'alt',\n",
       " u'always',\n",
       " u'am',\n",
       " u'amazing',\n",
       " u'amazon',\n",
       " u'amd223zrq0',\n",
       " u'america',\n",
       " u'america_1st_',\n",
       " u'americafirst',\n",
       " u'american',\n",
       " u'americanewsroom',\n",
       " u'americanism',\n",
       " u'americans',\n",
       " u'amount',\n",
       " u'amp',\n",
       " u'an',\n",
       " u'anbiad8ugg',\n",
       " u'and',\n",
       " u'andersoncooper',\n",
       " u'animalsorababy',\n",
       " u'anncoulter',\n",
       " u'another',\n",
       " u'answer',\n",
       " u'anti',\n",
       " u'any',\n",
       " u'anyone',\n",
       " u'app',\n",
       " u'approach',\n",
       " u'archive',\n",
       " u'are',\n",
       " u'aren',\n",
       " u'arroyo',\n",
       " u'article',\n",
       " u'as',\n",
       " u'ask',\n",
       " u'asked',\n",
       " u'asking',\n",
       " u'asks',\n",
       " u'asktrumponequestion',\n",
       " u'assholes',\n",
       " u'associated',\n",
       " u'at',\n",
       " u'atkins',\n",
       " u'atlanticcity',\n",
       " u'atpldgztku',\n",
       " u'attacked',\n",
       " u'attacks',\n",
       " u'attempt',\n",
       " u'attorney',\n",
       " u'avocados',\n",
       " u'away',\n",
       " u'awesome',\n",
       " u'ayhf3znixq',\n",
       " u'azbganl5jd',\n",
       " u'b17',\n",
       " u'babes',\n",
       " u'baby',\n",
       " u'back',\n",
       " u'bad',\n",
       " u'baddest',\n",
       " u'bag',\n",
       " u'balance',\n",
       " u'bannonrace',\n",
       " u'barackobama',\n",
       " u'barbie',\n",
       " u'base',\n",
       " u'basin',\n",
       " u'basketofdeplorables',\n",
       " u'batshit',\n",
       " u'bc',\n",
       " u'bca66a3hhz',\n",
       " u'bcgpblk7xe',\n",
       " u'be',\n",
       " u'beaarthur',\n",
       " u'because',\n",
       " u'become',\n",
       " u'becoming',\n",
       " u'bed',\n",
       " u'beds',\n",
       " u'been',\n",
       " u'before',\n",
       " u'begone',\n",
       " u'behavior',\n",
       " u'being',\n",
       " u'belief',\n",
       " u'believe',\n",
       " u'believes',\n",
       " u'benefits',\n",
       " u'berkeley',\n",
       " u'bernie',\n",
       " u'berniesanders',\n",
       " u'best',\n",
       " u'bettemidler',\n",
       " u'better',\n",
       " u'between',\n",
       " u'betweentwoferns',\n",
       " u'beyhive',\n",
       " u'beyonce',\n",
       " u'beyond',\n",
       " u'bhvp03k2bs',\n",
       " u'bias',\n",
       " u'bigger',\n",
       " u'biggestlandslideever',\n",
       " u'bigot',\n",
       " u'bikers4trump',\n",
       " u'bill',\n",
       " u'billclinton',\n",
       " u'billionaire',\n",
       " u'birthright',\n",
       " u'bitherism',\n",
       " u'black',\n",
       " u'blacklivesmatter',\n",
       " u'blacktwitter',\n",
       " u'blame',\n",
       " u'blaming',\n",
       " u'blitz',\n",
       " u'blnesnkonj',\n",
       " u'blow',\n",
       " u'blueorigin',\n",
       " u'bmt',\n",
       " u'bmtvkygclp',\n",
       " u'bnqjtn4ph5',\n",
       " u'bobby',\n",
       " u'bobschieffer',\n",
       " u'bobwrightnbc',\n",
       " u'bodyguards',\n",
       " u'bombing',\n",
       " u'bombings',\n",
       " u'bomer',\n",
       " u'book',\n",
       " u'born',\n",
       " u'bornstein',\n",
       " u'both',\n",
       " u'bowl',\n",
       " u'bpcleeemhf',\n",
       " u'braindead',\n",
       " u'brains',\n",
       " u'brangelina',\n",
       " u'breaking',\n",
       " u'breitbartnews',\n",
       " u'brian_sussman',\n",
       " u'brianmaxmann',\n",
       " u'briefly',\n",
       " u'bright',\n",
       " u'bring',\n",
       " u'bringthemtoheel',\n",
       " u'brioche',\n",
       " u'broached',\n",
       " u'brother',\n",
       " u'brought',\n",
       " u'brucemirken',\n",
       " u'bryan',\n",
       " u'btbkz2uxk6',\n",
       " u'build',\n",
       " u'buildthewall',\n",
       " u'bully',\n",
       " u'bums',\n",
       " u'bunch',\n",
       " u'business',\n",
       " u'businesses',\n",
       " u'but',\n",
       " u'buy',\n",
       " u'bx9wtbzlfc',\n",
       " u'by',\n",
       " u'byfpmwacqa',\n",
       " u'bzma3rwano',\n",
       " u'bzmsecp9ii',\n",
       " u'c0nvey',\n",
       " u'ca',\n",
       " u'ca_dem',\n",
       " u'cajunfortrump',\n",
       " u'california',\n",
       " u'call',\n",
       " u'called',\n",
       " u'calling',\n",
       " u'calls',\n",
       " u'camera',\n",
       " u'camp',\n",
       " u'campaign',\n",
       " u'campaigning',\n",
       " u'can',\n",
       " u'candidate',\n",
       " u'candidates',\n",
       " u'candy',\n",
       " u'cannot',\n",
       " u'capitalism',\n",
       " u'captainhook1961',\n",
       " u'care',\n",
       " u'carlbass',\n",
       " u'carnival',\n",
       " u'carolina',\n",
       " u'cartoon',\n",
       " u'catch',\n",
       " u'cause',\n",
       " u'cave',\n",
       " u'cbs',\n",
       " u'cbsnews',\n",
       " u'cc',\n",
       " u'cdachlgu1t',\n",
       " u'ce7aekzvsn',\n",
       " u'centralparkfive',\n",
       " u'certainly',\n",
       " u'cha',\n",
       " u'chair',\n",
       " u'chance',\n",
       " u'chant',\n",
       " u'character',\n",
       " u'characterday2016',\n",
       " u'charitable',\n",
       " u'charity',\n",
       " u'charlotte',\n",
       " u'charlotteprotest',\n",
       " u'charlotteprotests',\n",
       " u'charlotteriots',\n",
       " u'charming',\n",
       " u'cheat',\n",
       " u'check',\n",
       " u'chelsea',\n",
       " u'chelseaexplosion',\n",
       " u'cher',\n",
       " u'chicago',\n",
       " u'chief',\n",
       " u'child',\n",
       " u'choice',\n",
       " u'choose',\n",
       " u'chosen',\n",
       " u'chrisj',\n",
       " u'chrisjohnson82',\n",
       " u'chuckgrassley',\n",
       " u'chunk',\n",
       " u'circulate',\n",
       " u'class',\n",
       " u'cleanpowerplan',\n",
       " u'clevejones1',\n",
       " u'clewandowski_',\n",
       " u'climatechange',\n",
       " u'clinton',\n",
       " u'clinton2016',\n",
       " u'clintoncollapse',\n",
       " u'clintonfoundation',\n",
       " u'clintonkaine',\n",
       " u'clintonkaine2016',\n",
       " u'clown',\n",
       " u'clue',\n",
       " u'cndso09xsa',\n",
       " u'cnn',\n",
       " u'cnnfail',\n",
       " u'co',\n",
       " u'coal',\n",
       " u'codes',\n",
       " u'colbert',\n",
       " u'colin',\n",
       " u'cologne',\n",
       " u'coloradodems',\n",
       " u'column',\n",
       " u'come',\n",
       " u'comedy',\n",
       " u'comedycentral',\n",
       " u'coming',\n",
       " u'commander',\n",
       " u'comments',\n",
       " u'commercial',\n",
       " u'committed',\n",
       " u'common',\n",
       " u'communit',\n",
       " u'community',\n",
       " u'companies',\n",
       " u'company',\n",
       " u'compatible',\n",
       " u'con',\n",
       " u'concrete',\n",
       " u'conference',\n",
       " u'confidentiality',\n",
       " u'connections',\n",
       " u'consider',\n",
       " u'considering',\n",
       " u'conspiracy',\n",
       " u'constituted',\n",
       " u'contempt',\n",
       " u'contribution',\n",
       " u'convince',\n",
       " u'corruptdems',\n",
       " u'cosmopolitan',\n",
       " u'cost',\n",
       " u'could',\n",
       " u'counsel',\n",
       " u'count',\n",
       " u'counter',\n",
       " u'country',\n",
       " u'counts',\n",
       " u'couple',\n",
       " u'course',\n",
       " u'court',\n",
       " u'cover',\n",
       " u'covering',\n",
       " u'coz',\n",
       " u'cr',\n",
       " u'crap',\n",
       " u'crazy',\n",
       " u'crediting',\n",
       " u'creepy',\n",
       " u'crickets',\n",
       " u'crime',\n",
       " u'criminal',\n",
       " u'criminals',\n",
       " u'critically',\n",
       " u'criticize',\n",
       " u'crookedhillary',\n",
       " u'cruz',\n",
       " u'cspanwj',\n",
       " u'cuban',\n",
       " u'culture',\n",
       " u'cuyudym1zf',\n",
       " u'cvjigdsbig',\n",
       " u'cw1yuk0ezg',\n",
       " u'dad',\n",
       " u'daddy',\n",
       " u'daily',\n",
       " u'damaged',\n",
       " u'damn',\n",
       " u'damonbethea1',\n",
       " u'danacarvey',\n",
       " u'dangerous',\n",
       " u'danscavino',\n",
       " u'data',\n",
       " u'daughter',\n",
       " u'daughters',\n",
       " u'dawkins',\n",
       " u'day',\n",
       " u'days',\n",
       " u'ddez9edvja',\n",
       " u'ddo9gaoola',\n",
       " u'de',\n",
       " u'dead',\n",
       " u'deal',\n",
       " u'dealing',\n",
       " u'death',\n",
       " u'debate',\n",
       " u'debates',\n",
       " u'debates2016',\n",
       " u'decades',\n",
       " u'decay',\n",
       " u'deception',\n",
       " u'decides',\n",
       " u'deciding',\n",
       " u'decision2016',\n",
       " u'decrease',\n",
       " u'definitely',\n",
       " u'degenerates',\n",
       " u'delegation',\n",
       " u'delicate',\n",
       " u'delusional',\n",
       " u'demexit',\n",
       " u'democracy',\n",
       " u'democrat',\n",
       " u'democrats',\n",
       " u'demonic',\n",
       " u'deodalgfhz',\n",
       " u'deplo',\n",
       " u'deplorable',\n",
       " u'deplorables',\n",
       " u'deplorablesunite',\n",
       " u'deserve',\n",
       " u'dfncodxooc',\n",
       " u'dg3yah2efh',\n",
       " u'dickingbimbos',\n",
       " u'dictator',\n",
       " u'did',\n",
       " u'didn',\n",
       " u'digitalsack',\n",
       " u'directly',\n",
       " u'disarm',\n",
       " u'disgrace',\n",
       " u'dishonestmedia',\n",
       " u'disparityofwealth',\n",
       " u'dividing',\n",
       " u'djt',\n",
       " u'dm7dc3q31r',\n",
       " u'dnc',\n",
       " u'dncleak',\n",
       " u'dncleak\\u0646\\u062b\\u0644\\u062f\\u062f\\u0644\\u0627\\u06cc',\n",
       " u'do',\n",
       " u'do8ynpqz0o',\n",
       " u'does',\n",
       " u'doesn',\n",
       " u'doesnt',\n",
       " u'dog',\n",
       " u'don',\n",
       " u'don_asmussen',\n",
       " u'donald',\n",
       " u'donaldjtrumpjr',\n",
       " u'donaldtrump',\n",
       " u'donaldtrumpforpresident',\n",
       " u'donaltrump',\n",
       " u'donation',\n",
       " u'donking',\n",
       " u'donors',\n",
       " u'dont',\n",
       " u'dontrumpprez',\n",
       " u'double',\n",
       " u'doubt',\n",
       " u'doughenwood',\n",
       " u'down',\n",
       " u'download',\n",
       " u'dpianmwxt6',\n",
       " u'dq3d0z2v0h',\n",
       " u'dr',\n",
       " u'drive',\n",
       " u'drop',\n",
       " u'dropped',\n",
       " u'drugs',\n",
       " u'drumpf',\n",
       " u'drunkerhistory',\n",
       " u'dt',\n",
       " u'dump',\n",
       " u'dumptrump',\n",
       " u'dunno',\n",
       " u'during',\n",
       " u'duzyi4toow',\n",
       " u'dying',\n",
       " u'e0omrj5krw',\n",
       " u'e9jwthezgg',\n",
       " u'early',\n",
       " u'easier',\n",
       " u'eat',\n",
       " u'economic',\n",
       " u'educates',\n",
       " u'eh',\n",
       " u'either',\n",
       " u'ejlandwehr',\n",
       " u'ejnvl0dknx',\n",
       " u'elect',\n",
       " u'elected',\n",
       " u'election',\n",
       " u'election2016',\n",
       " u'eliminate',\n",
       " u'elites',\n",
       " u'elitist',\n",
       " u'elizabethwarren',\n",
       " u'else',\n",
       " u'em',\n",
       " u'email',\n",
       " u'emergeamerica',\n",
       " u'emotions',\n",
       " u'en32mipkhv',\n",
       " u'enabling',\n",
       " u'end',\n",
       " u'endorse',\n",
       " u'endorsement',\n",
       " u'endorses',\n",
       " u'energy',\n",
       " u'enlists',\n",
       " u'enormous',\n",
       " u'enough',\n",
       " u'enrich',\n",
       " u'entertainment',\n",
       " u'entitled',\n",
       " u'epd8t8oomz',\n",
       " u'epic',\n",
       " u'erictrump',\n",
       " u'essentially',\n",
       " u'estates',\n",
       " u'evan_mcmullin',\n",
       " u'even',\n",
       " u'ever',\n",
       " u'every',\n",
       " u'everyone',\n",
       " u'everything',\n",
       " u'eviscerate',\n",
       " u'ewrecfrjob',\n",
       " u'exactly',\n",
       " u'exceeds',\n",
       " u'except',\n",
       " u'excited',\n",
       " u'excuse',\n",
       " u'exorbitant',\n",
       " u'experience',\n",
       " u'experiences',\n",
       " u'extreme',\n",
       " u'extremist',\n",
       " u'ey7gzveso2',\n",
       " u'eyes',\n",
       " u'f2cwwvhvg0',\n",
       " u'facebook',\n",
       " u'factor',\n",
       " u'facts',\n",
       " u'fail',\n",
       " u'failing',\n",
       " u'fair',\n",
       " u'fairy',\n",
       " u'false',\n",
       " u'families',\n",
       " u'family',\n",
       " u'far',\n",
       " u'fares',\n",
       " u'fascist',\n",
       " u'fascists',\n",
       " u'fate',\n",
       " u'father',\n",
       " u'fault',\n",
       " u'fbpit1idox',\n",
       " u'fda',\n",
       " u'fear',\n",
       " u'featuring',\n",
       " u'federalist',\n",
       " u'feed',\n",
       " u'feel',\n",
       " u'feelthebern',\n",
       " u'female',\n",
       " u'ferns',\n",
       " u'few',\n",
       " u'fight',\n",
       " u'finally',\n",
       " u'finance',\n",
       " u'find',\n",
       " u'finished',\n",
       " u'fire',\n",
       " u'firm',\n",
       " u'first',\n",
       " u'fityshadesofred',\n",
       " u'fiveopera',\n",
       " u'fix',\n",
       " u'fladems',\n",
       " u'flag',\n",
       " u'flickr',\n",
       " u'florida',\n",
       " u'flower',\n",
       " u'fm',\n",
       " u'fmdoi7nkra',\n",
       " u'folks',\n",
       " u'food',\n",
       " u'fools',\n",
       " u'for',\n",
       " u'fordham',\n",
       " u'foretold',\n",
       " u'forget',\n",
       " u'form',\n",
       " u'former',\n",
       " u'forth',\n",
       " u'fortifies',\n",
       " u'forward',\n",
       " u'found',\n",
       " u'foundation',\n",
       " u'fox',\n",
       " u'foxnew',\n",
       " u'foxnews',\n",
       " u'francisco',\n",
       " u'frauds',\n",
       " u'free',\n",
       " u'freedoms',\n",
       " u'fridayfeeling',\n",
       " u'friend',\n",
       " u'from',\n",
       " u'front',\n",
       " u'frontlinepbs',\n",
       " u'fsalnzotgs',\n",
       " u'ftm3ufm5ju',\n",
       " u'fuckin',\n",
       " u'fucking',\n",
       " u'fucks',\n",
       " u'fucktheorangeskittle',\n",
       " u'fun',\n",
       " u'funding',\n",
       " u'funny',\n",
       " u'funnyordie',\n",
       " u'fuz',\n",
       " u'fuzh3szzwy',\n",
       " u'fvrl6une9q',\n",
       " u'fxckdonaldtrump',\n",
       " u'fxxligbylv',\n",
       " u'fyodorfish',\n",
       " u'g5eifmdjbo',\n",
       " u'g5njobwz4e',\n",
       " u'garyjohnson',\n",
       " u'gas',\n",
       " u'gave',\n",
       " u'gawker',\n",
       " u'gcdwgzjlob',\n",
       " u'gcvwop3mmp',\n",
       " u'gdlcwpmwqv',\n",
       " u'georgehwbush',\n",
       " u'georgesoros',\n",
       " u'gergie916',\n",
       " u'get',\n",
       " u'getting',\n",
       " u'gif',\n",
       " u'gifs',\n",
       " u'girls',\n",
       " u'giuliani',\n",
       " u'give',\n",
       " u'given',\n",
       " u'gives',\n",
       " u'gkdvaoh2tq',\n",
       " u'glbhvgkfm5',\n",
       " u'gleogvte1f',\n",
       " u'globalism',\n",
       " u'globalist',\n",
       " u'go',\n",
       " u'god',\n",
       " u'goddamn',\n",
       " u'goes',\n",
       " u'going',\n",
       " u'goknockdoors',\n",
       " u'golden',\n",
       " u'goldengirls',\n",
       " u'golfing',\n",
       " u'gona',\n",
       " u'gone',\n",
       " u'gonna',\n",
       " u'good',\n",
       " u'gop',\n",
       " u'got',\n",
       " u'gotten',\n",
       " u'government',\n",
       " u'govgaryjohnson',\n",
       " u'govt',\n",
       " u'gpa',\n",
       " u'graduated',\n",
       " u'grantcardone',\n",
       " u'grave',\n",
       " u'great',\n",
       " u'greatamericapac',\n",
       " u'gregster56',\n",
       " u'griffin',\n",
       " u'grocer',\n",
       " u'grows',\n",
       " u'gshmzyasbu',\n",
       " u'gt',\n",
       " u'guess',\n",
       " u'gun',\n",
       " u'guns',\n",
       " u'guy',\n",
       " u'guys',\n",
       " u'gvjwghwece',\n",
       " u'gxpojw0weg',\n",
       " u'gzu7hxtdc0',\n",
       " u'hack',\n",
       " u'had',\n",
       " u'haha',\n",
       " u'hahah',\n",
       " u'hahaha',\n",
       " u'hahahahahahahaahahahahahahahsockflwjqpanfpwqpakdpkfwlqkqlj',\n",
       " u'halo',\n",
       " u'hampshire',\n",
       " u'hand',\n",
       " u'handle',\n",
       " u'happened',\n",
       " u'happens',\n",
       " u'happy',\n",
       " u'happyfriday',\n",
       " u'hard',\n",
       " u'harvard',\n",
       " u'has',\n",
       " u'hate',\n",
       " u'hates',\n",
       " u'hating',\n",
       " u'hatred',\n",
       " u'have',\n",
       " u'hcallk27bm',\n",
       " u'he',\n",
       " u'headed',\n",
       " u'health',\n",
       " u'healthcare',\n",
       " u'hear',\n",
       " u'hearing',\n",
       " u'heart',\n",
       " u'hehehe',\n",
       " u'hell',\n",
       " u'help',\n",
       " u'her',\n",
       " u'here',\n",
       " u'hereby',\n",
       " u'hereditary',\n",
       " u'heritage',\n",
       " u'hes',\n",
       " u'hfa',\n",
       " u'hgm45yeqwk',\n",
       " u'hheadwrites',\n",
       " u'higher',\n",
       " u'highlights',\n",
       " u'hill',\n",
       " u'hillary',\n",
       " u'hillary2016',\n",
       " u'hillarybros',\n",
       " u'hillaryclinton',\n",
       " u'hillaryforoh',\n",
       " u'hillaryforprison',\n",
       " u'hillaryforprison2016',\n",
       " u'hillaryhealth',\n",
       " u'hillaryqualified',\n",
       " u'hillarysamerica',\n",
       " u'hillarysarmy',\n",
       " u'hillarysemails',\n",
       " u'hillaryshealth',\n",
       " u'hillyes',\n",
       " u'him',\n",
       " u'himself',\n",
       " u'hip',\n",
       " u'hire',\n",
       " u'his',\n",
       " u'hispanicheritagemonth',\n",
       " u'history',\n",
       " u'hitting',\n",
       " u'hk1hnu5r3e',\n",
       " u'hold',\n",
       " u'holding',\n",
       " u'holly_mrimaker',\n",
       " u'hollysmason',\n",
       " u'hollywood',\n",
       " u'home',\n",
       " u'homophobes',\n",
       " u'honestly',\n",
       " u'hope',\n",
       " u'hospital',\n",
       " u'hour',\n",
       " u'house',\n",
       " u'how',\n",
       " u'howardkurtz',\n",
       " u'hrpe7xiwb6',\n",
       " u'hrtablaze',\n",
       " u'htc',\n",
       " u'htt',\n",
       " u'https',\n",
       " u'huckster',\n",
       " u'huffpostpol',\n",
       " u'huge',\n",
       " u'humaabedin',\n",
       " u'human',\n",
       " u'hvk97husl9',\n",
       " u'hydzt8yywy',\n",
       " u'hypocrite',\n",
       " u'hypocrites',\n",
       " u'i7gzjqyier',\n",
       " u'iamnotwithher',\n",
       " u'iamwithher',\n",
       " u'icipmamdzq',\n",
       " u'icymi',\n",
       " u'idaho',\n",
       " u'idea',\n",
       " u'idiots',\n",
       " u'idontwanttoliveonthisplanetanymore',\n",
       " u'if',\n",
       " u'ifhpkysn8n',\n",
       " u'ignoring',\n",
       " u'ih0ggzvg59',\n",
       " u'illegal',\n",
       " u'ils',\n",
       " u'im',\n",
       " u'image',\n",
       " u'imagine',\n",
       " u'immunity',\n",
       " u'impact',\n",
       " u'impeach',\n",
       " u'impersonation',\n",
       " u'implicit',\n",
       " u'implicitbias',\n",
       " u'importance',\n",
       " u'important',\n",
       " u'improvement',\n",
       " u'imwithhe',\n",
       " u'imwithher',\n",
       " u'imwiththesmartone',\n",
       " u'imwithvive',\n",
       " u'in',\n",
       " u'inauguration',\n",
       " u'incendiary',\n",
       " u'incite',\n",
       " u'includes',\n",
       " u'indivisible',\n",
       " u'info',\n",
       " u'informed',\n",
       " u'ingrahamangle',\n",
       " u'innocent',\n",
       " u'insecure',\n",
       " u'insomnia',\n",
       " u'instead',\n",
       " u'instickeritrust',\n",
       " u'insulted',\n",
       " u'intel',\n",
       " u'intelligence',\n",
       " u'intelligently',\n",
       " u'interrupted',\n",
       " u'interview',\n",
       " u'into',\n",
       " u'investigation',\n",
       " u'invite',\n",
       " u'involved',\n",
       " u'ios',\n",
       " u'ios10update',\n",
       " u'iowa',\n",
       " u'iran',\n",
       " u'irc96gvaww',\n",
       " u'irregular',\n",
       " u'irresponsible',\n",
       " u'irs',\n",
       " u'is',\n",
       " u'isn',\n",
       " u'isnot',\n",
       " u'isnt',\n",
       " u'israel',\n",
       " u'israelnewsnow',\n",
       " u'israeltheregion',\n",
       " u'issues',\n",
       " u'it',\n",
       " u'itstonynow',\n",
       " u'iv90lvigea',\n",
       " u'ivanka',\n",
       " u'ivankatrump',\n",
       " u'iws8vppc8a',\n",
       " u'jack',\n",
       " u'jack_welch',\n",
       " u'jaclopac',\n",
       " u'jan2017',\n",
       " u'japan',\n",
       " u'jasonmillerindc',\n",
       " u'jdgujez2nt',\n",
       " u'jebbush',\n",
       " u'jedwheeler',\n",
       " u'jeffreycarr',\n",
       " u'jeffreydcash',\n",
       " u'jengranholm',\n",
       " u'jeremiahg',\n",
       " u'jewishtimes',\n",
       " u'ji69h0kvn2',\n",
       " u'jillstein2',\n",
       " u'jillstein2016',\n",
       " u'joanwalsh',\n",
       " u'job',\n",
       " u'johnkasich',\n",
       " u'johnmccain',\n",
       " u'joining',\n",
       " u'joke',\n",
       " u'jose',\n",
       " u'jot1f5nu0r',\n",
       " u'joyannreid',\n",
       " u'jrodz415',\n",
       " u'jsavoly',\n",
       " u'jt9ek31blf',\n",
       " u'july',\n",
       " u'jumping',\n",
       " u'june',\n",
       " u'juniper40',\n",
       " u'jupc0p99mh',\n",
       " u'jus',\n",
       " u'jusfice',\n",
       " u'just',\n",
       " u'justjennaslater',\n",
       " u'jvalentine613',\n",
       " u'jwbvyzjm0o',\n",
       " u'jz2nvqneyw',\n",
       " u'jzrcb9xuzy',\n",
       " u'k3hnahwgkd',\n",
       " u'k6cspytdzh',\n",
       " u'kaekykyn',\n",
       " u'kaieanllie',\n",
       " u'kate',\n",
       " u'katrinapierson',\n",
       " u'katsndogs',\n",
       " u'kayleighmcenany',\n",
       " u'kbandersen',\n",
       " u'kcxlfibbff',\n",
       " u'keefe',\n",
       " u'keep',\n",
       " u'keeping',\n",
       " u'keeps',\n",
       " u'kellisoprano',\n",
       " u'kellyannepolls',\n",
       " u'kellyayotte',\n",
       " u'ken',\n",
       " u'kenobi',\n",
       " u'kenzdahl',\n",
       " u'kevzin',\n",
       " u'kg821jytip',\n",
       " u'kicking',\n",
       " u'kidlivesmatter',\n",
       " u'kids',\n",
       " u'kiimethh',\n",
       " u'kill',\n",
       " u'killed',\n",
       " u'killing',\n",
       " u'kind',\n",
       " u'kirkpaulsen',\n",
       " u'kittens',\n",
       " u'kjremitsrs',\n",
       " u'knight',\n",
       " u'knocking',\n",
       " u'know',\n",
       " ...]"
      ]
     },
     "execution_count": 54,
     "metadata": {},
     "output_type": "execute_result"
    }
   ],
   "source": [
    "vect.get_feature_names()"
   ]
  },
  {
   "cell_type": "code",
   "execution_count": 55,
   "metadata": {
    "collapsed": false
   },
   "outputs": [
    {
     "data": {
      "text/plain": [
       "(604, 2012)"
      ]
     },
     "execution_count": 55,
     "metadata": {},
     "output_type": "execute_result"
    }
   ],
   "source": [
    "dtm_df = pd.DataFrame(tweets_dtm.toarray(), columns=vect.get_feature_names())\n",
    "dtm_df.shape"
   ]
  },
  {
   "cell_type": "code",
   "execution_count": 56,
   "metadata": {
    "collapsed": false,
    "scrolled": true
   },
   "outputs": [
    {
     "data": {
      "text/html": [
       "<div>\n",
       "<table border=\"1\" class=\"dataframe\">\n",
       "  <thead>\n",
       "    <tr style=\"text-align: right;\">\n",
       "      <th></th>\n",
       "      <th>00</th>\n",
       "      <th>000</th>\n",
       "      <th>00pm</th>\n",
       "      <th>06as31avyj</th>\n",
       "      <th>08o4bj72uw</th>\n",
       "      <th>09pmdkq9ww</th>\n",
       "      <th>0kcklxi019</th>\n",
       "      <th>0lxixcwdbc</th>\n",
       "      <th>0qsolfwm1b</th>\n",
       "      <th>0uw4ancvuu</th>\n",
       "      <th>...</th>\n",
       "      <th>zachgalifianakis</th>\n",
       "      <th>zccc3fjbvj</th>\n",
       "      <th>zd3eieoint</th>\n",
       "      <th>zdh89mq6mt</th>\n",
       "      <th>zhif4lsk0j</th>\n",
       "      <th>zjbdtm92vh</th>\n",
       "      <th>zlwnritskv</th>\n",
       "      <th>zvp9ctftdy</th>\n",
       "      <th>zxcsx0jvqk</th>\n",
       "      <th>zxiqyi9gd6</th>\n",
       "    </tr>\n",
       "  </thead>\n",
       "  <tbody>\n",
       "    <tr>\n",
       "      <th>0</th>\n",
       "      <td>0</td>\n",
       "      <td>0</td>\n",
       "      <td>0</td>\n",
       "      <td>0</td>\n",
       "      <td>0</td>\n",
       "      <td>0</td>\n",
       "      <td>0</td>\n",
       "      <td>0</td>\n",
       "      <td>0</td>\n",
       "      <td>0</td>\n",
       "      <td>...</td>\n",
       "      <td>0</td>\n",
       "      <td>0</td>\n",
       "      <td>0</td>\n",
       "      <td>0</td>\n",
       "      <td>0</td>\n",
       "      <td>0</td>\n",
       "      <td>0</td>\n",
       "      <td>0</td>\n",
       "      <td>0</td>\n",
       "      <td>0</td>\n",
       "    </tr>\n",
       "    <tr>\n",
       "      <th>1</th>\n",
       "      <td>0</td>\n",
       "      <td>0</td>\n",
       "      <td>0</td>\n",
       "      <td>0</td>\n",
       "      <td>0</td>\n",
       "      <td>0</td>\n",
       "      <td>0</td>\n",
       "      <td>0</td>\n",
       "      <td>0</td>\n",
       "      <td>0</td>\n",
       "      <td>...</td>\n",
       "      <td>0</td>\n",
       "      <td>0</td>\n",
       "      <td>0</td>\n",
       "      <td>0</td>\n",
       "      <td>0</td>\n",
       "      <td>0</td>\n",
       "      <td>0</td>\n",
       "      <td>0</td>\n",
       "      <td>0</td>\n",
       "      <td>0</td>\n",
       "    </tr>\n",
       "    <tr>\n",
       "      <th>2</th>\n",
       "      <td>0</td>\n",
       "      <td>0</td>\n",
       "      <td>0</td>\n",
       "      <td>0</td>\n",
       "      <td>0</td>\n",
       "      <td>0</td>\n",
       "      <td>0</td>\n",
       "      <td>0</td>\n",
       "      <td>0</td>\n",
       "      <td>0</td>\n",
       "      <td>...</td>\n",
       "      <td>0</td>\n",
       "      <td>0</td>\n",
       "      <td>0</td>\n",
       "      <td>0</td>\n",
       "      <td>1</td>\n",
       "      <td>0</td>\n",
       "      <td>0</td>\n",
       "      <td>0</td>\n",
       "      <td>0</td>\n",
       "      <td>0</td>\n",
       "    </tr>\n",
       "    <tr>\n",
       "      <th>3</th>\n",
       "      <td>0</td>\n",
       "      <td>0</td>\n",
       "      <td>0</td>\n",
       "      <td>0</td>\n",
       "      <td>0</td>\n",
       "      <td>0</td>\n",
       "      <td>0</td>\n",
       "      <td>0</td>\n",
       "      <td>0</td>\n",
       "      <td>0</td>\n",
       "      <td>...</td>\n",
       "      <td>0</td>\n",
       "      <td>0</td>\n",
       "      <td>0</td>\n",
       "      <td>0</td>\n",
       "      <td>0</td>\n",
       "      <td>0</td>\n",
       "      <td>0</td>\n",
       "      <td>0</td>\n",
       "      <td>0</td>\n",
       "      <td>0</td>\n",
       "    </tr>\n",
       "    <tr>\n",
       "      <th>4</th>\n",
       "      <td>0</td>\n",
       "      <td>0</td>\n",
       "      <td>0</td>\n",
       "      <td>0</td>\n",
       "      <td>0</td>\n",
       "      <td>0</td>\n",
       "      <td>0</td>\n",
       "      <td>0</td>\n",
       "      <td>0</td>\n",
       "      <td>0</td>\n",
       "      <td>...</td>\n",
       "      <td>0</td>\n",
       "      <td>0</td>\n",
       "      <td>0</td>\n",
       "      <td>0</td>\n",
       "      <td>0</td>\n",
       "      <td>0</td>\n",
       "      <td>0</td>\n",
       "      <td>0</td>\n",
       "      <td>0</td>\n",
       "      <td>0</td>\n",
       "    </tr>\n",
       "  </tbody>\n",
       "</table>\n",
       "<p>5 rows × 2012 columns</p>\n",
       "</div>"
      ],
      "text/plain": [
       "   00  000  00pm  06as31avyj  08o4bj72uw  09pmdkq9ww  0kcklxi019  0lxixcwdbc  \\\n",
       "0   0    0     0           0           0           0           0           0   \n",
       "1   0    0     0           0           0           0           0           0   \n",
       "2   0    0     0           0           0           0           0           0   \n",
       "3   0    0     0           0           0           0           0           0   \n",
       "4   0    0     0           0           0           0           0           0   \n",
       "\n",
       "   0qsolfwm1b  0uw4ancvuu     ...      zachgalifianakis  zccc3fjbvj  \\\n",
       "0           0           0     ...                     0           0   \n",
       "1           0           0     ...                     0           0   \n",
       "2           0           0     ...                     0           0   \n",
       "3           0           0     ...                     0           0   \n",
       "4           0           0     ...                     0           0   \n",
       "\n",
       "   zd3eieoint  zdh89mq6mt  zhif4lsk0j  zjbdtm92vh  zlwnritskv  zvp9ctftdy  \\\n",
       "0           0           0           0           0           0           0   \n",
       "1           0           0           0           0           0           0   \n",
       "2           0           0           1           0           0           0   \n",
       "3           0           0           0           0           0           0   \n",
       "4           0           0           0           0           0           0   \n",
       "\n",
       "   zxcsx0jvqk  zxiqyi9gd6  \n",
       "0           0           0  \n",
       "1           0           0  \n",
       "2           0           0  \n",
       "3           0           0  \n",
       "4           0           0  \n",
       "\n",
       "[5 rows x 2012 columns]"
      ]
     },
     "execution_count": 56,
     "metadata": {},
     "output_type": "execute_result"
    }
   ],
   "source": [
    "dtm_df.head()"
   ]
  },
  {
   "cell_type": "code",
   "execution_count": 41,
   "metadata": {
    "collapsed": false
   },
   "outputs": [
    {
     "data": {
      "text/plain": [
       "<1x2012 sparse matrix of type '<type 'numpy.int64'>'\n",
       "\twith 16 stored elements in Compressed Sparse Row format>"
      ]
     },
     "execution_count": 41,
     "metadata": {},
     "output_type": "execute_result"
    }
   ],
   "source": [
    "tweets_dtm[0]"
   ]
  },
  {
   "cell_type": "code",
   "execution_count": 60,
   "metadata": {
    "collapsed": false
   },
   "outputs": [
    {
     "data": {
      "text/html": [
       "<div>\n",
       "<table border=\"1\" class=\"dataframe\">\n",
       "  <thead>\n",
       "    <tr style=\"text-align: right;\">\n",
       "      <th></th>\n",
       "      <th>date</th>\n",
       "      <th>text</th>\n",
       "      <th>favorite_count</th>\n",
       "      <th>favorited</th>\n",
       "      <th>language</th>\n",
       "      <th>geocode</th>\n",
       "      <th>retweet_count</th>\n",
       "      <th>retweeted</th>\n",
       "      <th>coordinates</th>\n",
       "      <th>sentiment</th>\n",
       "      <th>...</th>\n",
       "      <th>zachgalifianakis</th>\n",
       "      <th>zccc3fjbvj</th>\n",
       "      <th>zd3eieoint</th>\n",
       "      <th>zdh89mq6mt</th>\n",
       "      <th>zhif4lsk0j</th>\n",
       "      <th>zjbdtm92vh</th>\n",
       "      <th>zlwnritskv</th>\n",
       "      <th>zvp9ctftdy</th>\n",
       "      <th>zxcsx0jvqk</th>\n",
       "      <th>zxiqyi9gd6</th>\n",
       "    </tr>\n",
       "  </thead>\n",
       "  <tbody>\n",
       "    <tr>\n",
       "      <th>0</th>\n",
       "      <td>2016-09-23 19:11:29</td>\n",
       "      <td>And unlike Lyin' #TedCruz, @JohnKasich &amp;amp; @...</td>\n",
       "      <td>0</td>\n",
       "      <td>False</td>\n",
       "      <td>en</td>\n",
       "      <td>None</td>\n",
       "      <td>0</td>\n",
       "      <td>False</td>\n",
       "      <td>None</td>\n",
       "      <td>0.0</td>\n",
       "      <td>...</td>\n",
       "      <td>0</td>\n",
       "      <td>0</td>\n",
       "      <td>0</td>\n",
       "      <td>0</td>\n",
       "      <td>0</td>\n",
       "      <td>0</td>\n",
       "      <td>0</td>\n",
       "      <td>0</td>\n",
       "      <td>0</td>\n",
       "      <td>0</td>\n",
       "    </tr>\n",
       "    <tr>\n",
       "      <th>1</th>\n",
       "      <td>2016-09-23 18:48:20</td>\n",
       "      <td>RT @BruceMirken: #DonaldTrump fortifies anti-#...</td>\n",
       "      <td>0</td>\n",
       "      <td>False</td>\n",
       "      <td>en</td>\n",
       "      <td>None</td>\n",
       "      <td>1</td>\n",
       "      <td>False</td>\n",
       "      <td>None</td>\n",
       "      <td>0.0</td>\n",
       "      <td>...</td>\n",
       "      <td>0</td>\n",
       "      <td>0</td>\n",
       "      <td>0</td>\n",
       "      <td>0</td>\n",
       "      <td>0</td>\n",
       "      <td>0</td>\n",
       "      <td>0</td>\n",
       "      <td>0</td>\n",
       "      <td>0</td>\n",
       "      <td>0</td>\n",
       "    </tr>\n",
       "    <tr>\n",
       "      <th>2</th>\n",
       "      <td>2016-09-23 18:34:44</td>\n",
       "      <td>Not so stunning Before #DonaldTrump attacked #...</td>\n",
       "      <td>0</td>\n",
       "      <td>False</td>\n",
       "      <td>en</td>\n",
       "      <td>None</td>\n",
       "      <td>0</td>\n",
       "      <td>False</td>\n",
       "      <td>None</td>\n",
       "      <td>0.5</td>\n",
       "      <td>...</td>\n",
       "      <td>0</td>\n",
       "      <td>0</td>\n",
       "      <td>0</td>\n",
       "      <td>0</td>\n",
       "      <td>1</td>\n",
       "      <td>0</td>\n",
       "      <td>0</td>\n",
       "      <td>0</td>\n",
       "      <td>0</td>\n",
       "      <td>0</td>\n",
       "    </tr>\n",
       "    <tr>\n",
       "      <th>3</th>\n",
       "      <td>2016-09-23 18:12:51</td>\n",
       "      <td>RT @tigerbeat: How #DonaldTrump got his start ...</td>\n",
       "      <td>0</td>\n",
       "      <td>False</td>\n",
       "      <td>en</td>\n",
       "      <td>None</td>\n",
       "      <td>1</td>\n",
       "      <td>False</td>\n",
       "      <td>None</td>\n",
       "      <td>0.0</td>\n",
       "      <td>...</td>\n",
       "      <td>0</td>\n",
       "      <td>0</td>\n",
       "      <td>0</td>\n",
       "      <td>0</td>\n",
       "      <td>0</td>\n",
       "      <td>0</td>\n",
       "      <td>0</td>\n",
       "      <td>0</td>\n",
       "      <td>0</td>\n",
       "      <td>0</td>\n",
       "    </tr>\n",
       "    <tr>\n",
       "      <th>4</th>\n",
       "      <td>2016-09-23 18:11:45</td>\n",
       "      <td>How #DonaldTrump got his start bc of Daddy htt...</td>\n",
       "      <td>0</td>\n",
       "      <td>False</td>\n",
       "      <td>en</td>\n",
       "      <td>None</td>\n",
       "      <td>1</td>\n",
       "      <td>False</td>\n",
       "      <td>None</td>\n",
       "      <td>0.0</td>\n",
       "      <td>...</td>\n",
       "      <td>0</td>\n",
       "      <td>0</td>\n",
       "      <td>0</td>\n",
       "      <td>0</td>\n",
       "      <td>0</td>\n",
       "      <td>0</td>\n",
       "      <td>0</td>\n",
       "      <td>0</td>\n",
       "      <td>0</td>\n",
       "      <td>0</td>\n",
       "    </tr>\n",
       "  </tbody>\n",
       "</table>\n",
       "<p>5 rows × 2023 columns</p>\n",
       "</div>"
      ],
      "text/plain": [
       "                 date                                               text  \\\n",
       "0 2016-09-23 19:11:29  And unlike Lyin' #TedCruz, @JohnKasich &amp; @...   \n",
       "1 2016-09-23 18:48:20  RT @BruceMirken: #DonaldTrump fortifies anti-#...   \n",
       "2 2016-09-23 18:34:44  Not so stunning Before #DonaldTrump attacked #...   \n",
       "3 2016-09-23 18:12:51  RT @tigerbeat: How #DonaldTrump got his start ...   \n",
       "4 2016-09-23 18:11:45  How #DonaldTrump got his start bc of Daddy htt...   \n",
       "\n",
       "   favorite_count favorited language geocode  retweet_count retweeted  \\\n",
       "0               0     False       en    None              0     False   \n",
       "1               0     False       en    None              1     False   \n",
       "2               0     False       en    None              0     False   \n",
       "3               0     False       en    None              1     False   \n",
       "4               0     False       en    None              1     False   \n",
       "\n",
       "  coordinates  sentiment     ...      zachgalifianakis  zccc3fjbvj  \\\n",
       "0        None        0.0     ...                     0           0   \n",
       "1        None        0.0     ...                     0           0   \n",
       "2        None        0.5     ...                     0           0   \n",
       "3        None        0.0     ...                     0           0   \n",
       "4        None        0.0     ...                     0           0   \n",
       "\n",
       "   zd3eieoint  zdh89mq6mt  zhif4lsk0j  zjbdtm92vh  zlwnritskv  zvp9ctftdy  \\\n",
       "0           0           0           0           0           0           0   \n",
       "1           0           0           0           0           0           0   \n",
       "2           0           0           1           0           0           0   \n",
       "3           0           0           0           0           0           0   \n",
       "4           0           0           0           0           0           0   \n",
       "\n",
       "   zxcsx0jvqk  zxiqyi9gd6  \n",
       "0           0           0  \n",
       "1           0           0  \n",
       "2           0           0  \n",
       "3           0           0  \n",
       "4           0           0  \n",
       "\n",
       "[5 rows x 2023 columns]"
      ]
     },
     "execution_count": 60,
     "metadata": {},
     "output_type": "execute_result"
    }
   ],
   "source": [
    "# concatinate it to your main dataframe\n",
    "tweets_with_dtm = pd.concat([tweets, dtm_df], axis=1)\n",
    "tweets_with_dtm.head()"
   ]
  },
  {
   "cell_type": "code",
   "execution_count": 61,
   "metadata": {
    "collapsed": false
   },
   "outputs": [
    {
     "data": {
      "text/plain": [
       "(604, 2023)"
      ]
     },
     "execution_count": 61,
     "metadata": {},
     "output_type": "execute_result"
    }
   ],
   "source": [
    "tweets_with_dtm.shape"
   ]
  },
  {
   "cell_type": "markdown",
   "metadata": {},
   "source": [
    "## 6. Use kmean to create clusters for the dataframe"
   ]
  },
  {
   "cell_type": "code",
   "execution_count": null,
   "metadata": {
    "collapsed": true
   },
   "outputs": [],
   "source": [
    "# 6 Use kmean to create clusters for the dataframe (choose an optimal k)\n",
    "# Don't add clusters to the original dataframe"
   ]
  },
  {
   "cell_type": "code",
   "execution_count": null,
   "metadata": {
    "collapsed": true
   },
   "outputs": [],
   "source": [
    "from sklearn.cluster import KMeans"
   ]
  },
  {
   "cell_type": "markdown",
   "metadata": {},
   "source": [
    "Where was this discussed in class?"
   ]
  },
  {
   "cell_type": "code",
   "execution_count": null,
   "metadata": {
    "collapsed": true
   },
   "outputs": [],
   "source": []
  },
  {
   "cell_type": "markdown",
   "metadata": {},
   "source": [
    "## 7. Explore the clusters"
   ]
  },
  {
   "cell_type": "code",
   "execution_count": null,
   "metadata": {
    "collapsed": true
   },
   "outputs": [],
   "source": [
    "# 7 Explore the clusters\n",
    "# What is interesting? Surprising? Can you draw any inferences about each cluster?\n",
    "# Write your answer to these questions in markdown"
   ]
  },
  {
   "cell_type": "code",
   "execution_count": null,
   "metadata": {
    "collapsed": true
   },
   "outputs": [],
   "source": []
  },
  {
   "cell_type": "markdown",
   "metadata": {},
   "source": [
    "## 8. Create a column called 'democrat'"
   ]
  },
  {
   "cell_type": "code",
   "execution_count": null,
   "metadata": {
    "collapsed": true
   },
   "outputs": [],
   "source": [
    "# 8 Create a column called 'democrat' and assign it to the corresponding candidate name for all the records\n",
    "# 1 for hilary and 0 for donald trump\n",
    "# Make a boxplot of sentiment for each candidate by the \"democrat\" column"
   ]
  },
  {
   "cell_type": "code",
   "execution_count": 65,
   "metadata": {
    "collapsed": false
   },
   "outputs": [
    {
     "data": {
      "text/html": [
       "<div>\n",
       "<table border=\"1\" class=\"dataframe\">\n",
       "  <thead>\n",
       "    <tr style=\"text-align: right;\">\n",
       "      <th></th>\n",
       "      <th>date</th>\n",
       "      <th>text</th>\n",
       "      <th>favorite_count</th>\n",
       "      <th>favorited</th>\n",
       "      <th>language</th>\n",
       "      <th>geocode</th>\n",
       "      <th>retweet_count</th>\n",
       "      <th>retweeted</th>\n",
       "      <th>coordinates</th>\n",
       "      <th>sentiment</th>\n",
       "      <th>word_count</th>\n",
       "      <th>democrat</th>\n",
       "    </tr>\n",
       "  </thead>\n",
       "  <tbody>\n",
       "    <tr>\n",
       "      <th>0</th>\n",
       "      <td>2016-09-23 18:52:22</td>\n",
       "      <td>RT @shawnbric: News that #Trump brought Santor...</td>\n",
       "      <td>0</td>\n",
       "      <td>False</td>\n",
       "      <td>en</td>\n",
       "      <td>None</td>\n",
       "      <td>1</td>\n",
       "      <td>False</td>\n",
       "      <td>None</td>\n",
       "      <td>-0.078125</td>\n",
       "      <td>21</td>\n",
       "      <td>1</td>\n",
       "    </tr>\n",
       "    <tr>\n",
       "      <th>1</th>\n",
       "      <td>2016-09-23 18:48:00</td>\n",
       "      <td>RT @JustJennaSlater: Watch. Listen. Learn. Vot...</td>\n",
       "      <td>0</td>\n",
       "      <td>False</td>\n",
       "      <td>en</td>\n",
       "      <td>None</td>\n",
       "      <td>1</td>\n",
       "      <td>False</td>\n",
       "      <td>None</td>\n",
       "      <td>0.000000</td>\n",
       "      <td>9</td>\n",
       "      <td>1</td>\n",
       "    </tr>\n",
       "    <tr>\n",
       "      <th>2</th>\n",
       "      <td>2016-09-23 18:47:25</td>\n",
       "      <td>Watch. Listen. Learn. Vote. #ImWithHer @Hillar...</td>\n",
       "      <td>1</td>\n",
       "      <td>False</td>\n",
       "      <td>en</td>\n",
       "      <td>None</td>\n",
       "      <td>1</td>\n",
       "      <td>False</td>\n",
       "      <td>None</td>\n",
       "      <td>0.000000</td>\n",
       "      <td>7</td>\n",
       "      <td>1</td>\n",
       "    </tr>\n",
       "    <tr>\n",
       "      <th>3</th>\n",
       "      <td>2016-09-23 18:42:12</td>\n",
       "      <td>RT @carlbass: Proud to stand with business lea...</td>\n",
       "      <td>0</td>\n",
       "      <td>False</td>\n",
       "      <td>en</td>\n",
       "      <td>None</td>\n",
       "      <td>3</td>\n",
       "      <td>False</td>\n",
       "      <td>None</td>\n",
       "      <td>0.525000</td>\n",
       "      <td>15</td>\n",
       "      <td>1</td>\n",
       "    </tr>\n",
       "    <tr>\n",
       "      <th>4</th>\n",
       "      <td>2016-09-23 18:32:14</td>\n",
       "      <td>RT @SF4Hillary: Matt Bomer: \"This is the most ...</td>\n",
       "      <td>0</td>\n",
       "      <td>False</td>\n",
       "      <td>en</td>\n",
       "      <td>None</td>\n",
       "      <td>328</td>\n",
       "      <td>False</td>\n",
       "      <td>None</td>\n",
       "      <td>0.383333</td>\n",
       "      <td>21</td>\n",
       "      <td>1</td>\n",
       "    </tr>\n",
       "  </tbody>\n",
       "</table>\n",
       "</div>"
      ],
      "text/plain": [
       "                 date                                               text  \\\n",
       "0 2016-09-23 18:52:22  RT @shawnbric: News that #Trump brought Santor...   \n",
       "1 2016-09-23 18:48:00  RT @JustJennaSlater: Watch. Listen. Learn. Vot...   \n",
       "2 2016-09-23 18:47:25  Watch. Listen. Learn. Vote. #ImWithHer @Hillar...   \n",
       "3 2016-09-23 18:42:12  RT @carlbass: Proud to stand with business lea...   \n",
       "4 2016-09-23 18:32:14  RT @SF4Hillary: Matt Bomer: \"This is the most ...   \n",
       "\n",
       "   favorite_count favorited language geocode  retweet_count retweeted  \\\n",
       "0               0     False       en    None              1     False   \n",
       "1               0     False       en    None              1     False   \n",
       "2               1     False       en    None              1     False   \n",
       "3               0     False       en    None              3     False   \n",
       "4               0     False       en    None            328     False   \n",
       "\n",
       "  coordinates  sentiment  word_count  democrat  \n",
       "0        None  -0.078125          21         1  \n",
       "1        None   0.000000           9         1  \n",
       "2        None   0.000000           7         1  \n",
       "3        None   0.525000          15         1  \n",
       "4        None   0.383333          21         1  "
      ]
     },
     "execution_count": 65,
     "metadata": {},
     "output_type": "execute_result"
    }
   ],
   "source": [
    "hilary_tweets_df = pd.DataFrame(hilary_tweets, columns=feature_cols)\n",
    "hilary_tweets_df['sentiment'] = hilary_tweets_df.text.apply(detect_sentiment)\n",
    "hilary_tweets_df['word_count'] = hilary_tweets_df.text.str.split().apply(len)\n",
    "hilary_tweets_df['democrat'] = 1\n",
    "\n",
    "donald_tweets_df = pd.DataFrame(the_donald_tweets, columns=feature_cols)\n",
    "donald_tweets_df['sentiment'] = donald_tweets_df.text.apply(detect_sentiment)\n",
    "donald_tweets_df['word_count'] = donald_tweets_df.text.str.split().apply(len)\n",
    "donald_tweets_df['democrat'] = 0\n",
    "\n",
    "tweets = pd.concat([hilary_tweets_df, donald_tweets_df])\n",
    "tweets.head()"
   ]
  },
  {
   "cell_type": "code",
   "execution_count": 66,
   "metadata": {
    "collapsed": false
   },
   "outputs": [
    {
     "data": {
      "text/html": [
       "<div>\n",
       "<table border=\"1\" class=\"dataframe\">\n",
       "  <thead>\n",
       "    <tr style=\"text-align: right;\">\n",
       "      <th></th>\n",
       "      <th>date</th>\n",
       "      <th>text</th>\n",
       "      <th>favorite_count</th>\n",
       "      <th>favorited</th>\n",
       "      <th>language</th>\n",
       "      <th>geocode</th>\n",
       "      <th>retweet_count</th>\n",
       "      <th>retweeted</th>\n",
       "      <th>coordinates</th>\n",
       "      <th>sentiment</th>\n",
       "      <th>word_count</th>\n",
       "      <th>democrat</th>\n",
       "    </tr>\n",
       "  </thead>\n",
       "  <tbody>\n",
       "    <tr>\n",
       "      <th>306</th>\n",
       "      <td>2016-09-21 09:45:08</td>\n",
       "      <td>Ivanka trump #MakeAmericaGreatAgain https://t....</td>\n",
       "      <td>0</td>\n",
       "      <td>False</td>\n",
       "      <td>pl</td>\n",
       "      <td>None</td>\n",
       "      <td>0</td>\n",
       "      <td>False</td>\n",
       "      <td>None</td>\n",
       "      <td>0.0</td>\n",
       "      <td>4</td>\n",
       "      <td>0</td>\n",
       "    </tr>\n",
       "    <tr>\n",
       "      <th>307</th>\n",
       "      <td>2016-09-21 08:37:31</td>\n",
       "      <td>😂 just saying this sounds like a great idea @...</td>\n",
       "      <td>2</td>\n",
       "      <td>False</td>\n",
       "      <td>en</td>\n",
       "      <td>None</td>\n",
       "      <td>0</td>\n",
       "      <td>False</td>\n",
       "      <td>None</td>\n",
       "      <td>0.8</td>\n",
       "      <td>15</td>\n",
       "      <td>0</td>\n",
       "    </tr>\n",
       "    <tr>\n",
       "      <th>308</th>\n",
       "      <td>2016-09-21 03:17:50</td>\n",
       "      <td>#makeAmericagreatagain by kicking millions off...</td>\n",
       "      <td>1</td>\n",
       "      <td>False</td>\n",
       "      <td>en</td>\n",
       "      <td>None</td>\n",
       "      <td>1</td>\n",
       "      <td>False</td>\n",
       "      <td>None</td>\n",
       "      <td>0.0</td>\n",
       "      <td>6</td>\n",
       "      <td>0</td>\n",
       "    </tr>\n",
       "    <tr>\n",
       "      <th>309</th>\n",
       "      <td>2016-09-21 01:00:23</td>\n",
       "      <td>This is awesome! #MakeAmericaGreatAgain #Trump...</td>\n",
       "      <td>1</td>\n",
       "      <td>False</td>\n",
       "      <td>en</td>\n",
       "      <td>None</td>\n",
       "      <td>0</td>\n",
       "      <td>False</td>\n",
       "      <td>None</td>\n",
       "      <td>1.0</td>\n",
       "      <td>7</td>\n",
       "      <td>0</td>\n",
       "    </tr>\n",
       "    <tr>\n",
       "      <th>310</th>\n",
       "      <td>2016-09-21 00:09:41</td>\n",
       "      <td>#trumpacandy #trump #MakeAmericaGreatAgain #ma...</td>\n",
       "      <td>0</td>\n",
       "      <td>False</td>\n",
       "      <td>und</td>\n",
       "      <td>None</td>\n",
       "      <td>0</td>\n",
       "      <td>False</td>\n",
       "      <td>None</td>\n",
       "      <td>0.0</td>\n",
       "      <td>7</td>\n",
       "      <td>0</td>\n",
       "    </tr>\n",
       "  </tbody>\n",
       "</table>\n",
       "</div>"
      ],
      "text/plain": [
       "                   date                                               text  \\\n",
       "306 2016-09-21 09:45:08  Ivanka trump #MakeAmericaGreatAgain https://t....   \n",
       "307 2016-09-21 08:37:31  😂 just saying this sounds like a great idea @...   \n",
       "308 2016-09-21 03:17:50  #makeAmericagreatagain by kicking millions off...   \n",
       "309 2016-09-21 01:00:23  This is awesome! #MakeAmericaGreatAgain #Trump...   \n",
       "310 2016-09-21 00:09:41  #trumpacandy #trump #MakeAmericaGreatAgain #ma...   \n",
       "\n",
       "     favorite_count favorited language geocode  retweet_count retweeted  \\\n",
       "306               0     False       pl    None              0     False   \n",
       "307               2     False       en    None              0     False   \n",
       "308               1     False       en    None              1     False   \n",
       "309               1     False       en    None              0     False   \n",
       "310               0     False      und    None              0     False   \n",
       "\n",
       "    coordinates  sentiment  word_count  democrat  \n",
       "306        None        0.0           4         0  \n",
       "307        None        0.8          15         0  \n",
       "308        None        0.0           6         0  \n",
       "309        None        1.0           7         0  \n",
       "310        None        0.0           7         0  "
      ]
     },
     "execution_count": 66,
     "metadata": {},
     "output_type": "execute_result"
    }
   ],
   "source": [
    "tweets.tail()"
   ]
  },
  {
   "cell_type": "code",
   "execution_count": 68,
   "metadata": {
    "collapsed": false
   },
   "outputs": [
    {
     "data": {
      "text/plain": [
       "<matplotlib.axes._subplots.AxesSubplot at 0x11ec94250>"
      ]
     },
     "execution_count": 68,
     "metadata": {},
     "output_type": "execute_result"
    },
    {
     "data": {
      "image/png": "[encoded data removed]",
      "text/plain": [
       "<matplotlib.figure.Figure at 0x11c2e0110>"
      ]
     },
     "metadata": {},
     "output_type": "display_data"
    }
   ],
   "source": [
    "# Make a boxplot of sentiment for each candidate by the \"democrat\" column\n",
    "import matplotlib.pyplot as plt\n",
    "%matplotlib inline\n",
    "\n",
    "tweets.boxplot(column='sentiment', by='democrat')\n",
    "\n",
    "# Check. This does not look right. There's no box on the left."
   ]
  },
  {
   "cell_type": "code",
   "execution_count": null,
   "metadata": {
    "collapsed": true
   },
   "outputs": [],
   "source": []
  },
  {
   "cell_type": "code",
   "execution_count": null,
   "metadata": {
    "collapsed": true
   },
   "outputs": [],
   "source": []
  },
  {
   "cell_type": "markdown",
   "metadata": {},
   "source": [
    "## 9. Estimate classification models using knn and logistic regession."
   ]
  },
  {
   "cell_type": "code",
   "execution_count": null,
   "metadata": {
    "collapsed": true
   },
   "outputs": [],
   "source": [
    "# 9 Estimate classification models using knn and logistic regession.  Dont forget to use cross validation \n",
    "    # (do not use cross_val_score because we will want a confusion matrix).\n",
    "# The cateogrical response here is predict democrat or republican\n",
    "# Your features can EITHER be your countvectorizer document term matrix OR \n",
    "# data from the original dataframe (sentiment, word count, etc)"
   ]
  },
  {
   "cell_type": "code",
   "execution_count": null,
   "metadata": {
    "collapsed": true
   },
   "outputs": [],
   "source": [
    "# from sklearn.neighbors import KNeighborsClassifier\n",
    "\n",
    "# knn = KNeighborsClassier"
   ]
  },
  {
   "cell_type": "markdown",
   "metadata": {},
   "source": [
    "## 10. Initialize a classification model (for both knn and logistic)"
   ]
  },
  {
   "cell_type": "code",
   "execution_count": null,
   "metadata": {
    "collapsed": true
   },
   "outputs": [],
   "source": [
    "# 10 Initialize a classification model (for both knn and logistic)\n",
    "# This is separate from step 9 because I will eventually want a \n",
    "# confusion matrix and we can't do that via cros validation"
   ]
  },
  {
   "cell_type": "code",
   "execution_count": null,
   "metadata": {
    "collapsed": true
   },
   "outputs": [],
   "source": []
  },
  {
   "cell_type": "markdown",
   "metadata": {},
   "source": [
    "## 11. Split and Train"
   ]
  },
  {
   "cell_type": "code",
   "execution_count": null,
   "metadata": {
    "collapsed": true
   },
   "outputs": [],
   "source": [
    "# 11 Split your data into training and testing tests and then\n",
    "# train your classification model  (for both knn and logistic)"
   ]
  },
  {
   "cell_type": "code",
   "execution_count": null,
   "metadata": {
    "collapsed": true
   },
   "outputs": [],
   "source": []
  },
  {
   "cell_type": "markdown",
   "metadata": {},
   "source": [
    "## 12. Predict on your test features and targets"
   ]
  },
  {
   "cell_type": "code",
   "execution_count": null,
   "metadata": {
    "collapsed": true
   },
   "outputs": [],
   "source": [
    "# 12 Predict on your test features and targets (for both knn and logistic)"
   ]
  },
  {
   "cell_type": "code",
   "execution_count": null,
   "metadata": {
    "collapsed": true
   },
   "outputs": [],
   "source": []
  },
  {
   "cell_type": "markdown",
   "metadata": {},
   "source": [
    "## 13. output your accuracy"
   ]
  },
  {
   "cell_type": "code",
   "execution_count": null,
   "metadata": {
    "collapsed": true
   },
   "outputs": [],
   "source": [
    "# 13 output your accuracy (for both knn and logistic)"
   ]
  },
  {
   "cell_type": "code",
   "execution_count": null,
   "metadata": {
    "collapsed": true
   },
   "outputs": [],
   "source": []
  },
  {
   "cell_type": "markdown",
   "metadata": {},
   "source": [
    "## 14. Create a confusion matrix"
   ]
  },
  {
   "cell_type": "code",
   "execution_count": null,
   "metadata": {
    "collapsed": true
   },
   "outputs": [],
   "source": [
    "# 14 Create a confusion matrix for your predictions (for both knn and logistic)\n",
    "# What is the sensitivity and specificity?"
   ]
  },
  {
   "cell_type": "code",
   "execution_count": null,
   "metadata": {
    "collapsed": true
   },
   "outputs": [],
   "source": []
  },
  {
   "cell_type": "markdown",
   "metadata": {},
   "source": [
    "## 15. Who is the easiest candidate to predict?"
   ]
  },
  {
   "cell_type": "code",
   "execution_count": null,
   "metadata": {
    "collapsed": true
   },
   "outputs": [],
   "source": [
    "# 15 Who is the easiest candidate to predict? Why do you think? \n",
    "# Who is the hardest? Why do you think?\n",
    "# Write your answers in markdown (for both knn and logistic)"
   ]
  },
  {
   "cell_type": "code",
   "execution_count": null,
   "metadata": {
    "collapsed": true
   },
   "outputs": [],
   "source": []
  },
  {
   "cell_type": "markdown",
   "metadata": {},
   "source": [
    "## Bonus"
   ]
  },
  {
   "cell_type": "code",
   "execution_count": null,
   "metadata": {
    "collapsed": true
   },
   "outputs": [],
   "source": [
    "# 16 BONUS: make a pipeline with the first step being a feature union of countvectorizer\n",
    "# and tfidfvectorizer and no other features and our second step is\n",
    "# a ML model (your choice) predict our binary response\n"
   ]
  },
  {
   "cell_type": "code",
   "execution_count": 16,
   "metadata": {
    "collapsed": true
   },
   "outputs": [],
   "source": [
    "# 17: BONUS: grid search the model in step 16 to obtain the best features (up to you)"
   ]
  },
  {
   "cell_type": "code",
   "execution_count": null,
   "metadata": {
    "collapsed": true
   },
   "outputs": [],
   "source": [
    "# 18: SUPER BONUS: make a custom transformer that extracts sentiment and word count\n",
    "# make a pipeline that combines countvec, tfidfvec and your custom transformer\n",
    "# and try to get the possible accuracy for predicting whether or not the person is talking\n",
    "# about democrats or republicans"
   ]
  }
 ],
 "metadata": {
  "anaconda-cloud": {},
  "kernelspec": {
   "display_name": "Python [sfdat26]",
   "language": "python",
   "name": "Python [sfdat26]"
  },
  "language_info": {
   "codemirror_mode": {
    "name": "ipython",
    "version": 2
   },
   "file_extension": ".py",
   "mimetype": "text/x-python",
   "name": "python",
   "nbconvert_exporter": "python",
   "pygments_lexer": "ipython2",
   "version": "2.7.12"
  }
 },
 "nbformat": 4,
 "nbformat_minor": 0
}
