{
 "cells": [
  {
   "cell_type": "code",
   "execution_count": 1,
   "metadata": {
    "collapsed": true
   },
   "outputs": [],
   "source": [
    "import pandas as pd\n",
    "# pd.set_option('max_colwidth', 50)\n",
    "# set this if you need to"
   ]
  },
  {
   "cell_type": "code",
   "execution_count": 2,
   "metadata": {
    "collapsed": false
   },
   "outputs": [
    {
     "data": {
      "text/plain": [
       "u'/Users/laushon/General_Assembly/sfdat26_work/hw'"
      ]
     },
     "execution_count": 2,
     "metadata": {},
     "output_type": "execute_result"
    }
   ],
   "source": [
    "pwd"
   ]
  },
  {
   "cell_type": "markdown",
   "metadata": {},
   "source": [
    "The Health Department has developed an inspection report and scoring system. \n",
    "After conducting an inspection of the facility, the Health Inspector calculates a score based on the violations observed. \n",
    "Violations can fall into:\n",
    "- **high risk category**: records specific violations that directly relate to the transmission of food borne illnesses,the adulteration of food products and the contamination of food-contact surfaces.\n",
    "- **moderate risk category**: records specific violations that are of a moderate risk to the public health and safety.\n",
    "- **low risk category**: records violations that are low risk or have no immediate risk to the public health and safety."
   ]
  },
  {
   "cell_type": "code",
   "execution_count": 290,
   "metadata": {
    "collapsed": false
   },
   "outputs": [
    {
     "data": {
      "text/html": [
       "<div>\n",
       "<table border=\"1\" class=\"dataframe\">\n",
       "  <thead>\n",
       "    <tr style=\"text-align: right;\">\n",
       "      <th></th>\n",
       "      <th>business_id</th>\n",
       "      <th>name</th>\n",
       "      <th>address</th>\n",
       "      <th>city</th>\n",
       "      <th>postal_code</th>\n",
       "      <th>latitude</th>\n",
       "      <th>longitude</th>\n",
       "      <th>phone_number</th>\n",
       "      <th>TaxCode</th>\n",
       "      <th>business_certificate</th>\n",
       "      <th>application_date</th>\n",
       "      <th>owner_name</th>\n",
       "      <th>owner_address</th>\n",
       "      <th>owner_city</th>\n",
       "      <th>owner_state</th>\n",
       "      <th>owner_zip</th>\n",
       "    </tr>\n",
       "  </thead>\n",
       "  <tbody>\n",
       "    <tr>\n",
       "      <th>0</th>\n",
       "      <td>10</td>\n",
       "      <td>Tiramisu Kitchen</td>\n",
       "      <td>033 Belden Pl</td>\n",
       "      <td>San Francisco</td>\n",
       "      <td>94104</td>\n",
       "      <td>37.791116</td>\n",
       "      <td>-122.403816</td>\n",
       "      <td>NaN</td>\n",
       "      <td>H24</td>\n",
       "      <td>779059.0</td>\n",
       "      <td>NaT</td>\n",
       "      <td>Tiramisu LLC</td>\n",
       "      <td>33 Belden St</td>\n",
       "      <td>San Francisco</td>\n",
       "      <td>CA</td>\n",
       "      <td>94104</td>\n",
       "    </tr>\n",
       "    <tr>\n",
       "      <th>1</th>\n",
       "      <td>19</td>\n",
       "      <td>Nrgize Lifestyle Cafe</td>\n",
       "      <td>1200 Van Ness Ave, 3rd Floor</td>\n",
       "      <td>San Francisco</td>\n",
       "      <td>94109</td>\n",
       "      <td>37.786848</td>\n",
       "      <td>-122.421547</td>\n",
       "      <td>NaN</td>\n",
       "      <td>H24</td>\n",
       "      <td>NaN</td>\n",
       "      <td>NaT</td>\n",
       "      <td>24 Hour Fitness Inc</td>\n",
       "      <td>1200 Van Ness Ave, 3rd Floor</td>\n",
       "      <td>San Francisco</td>\n",
       "      <td>CA</td>\n",
       "      <td>94109</td>\n",
       "    </tr>\n",
       "    <tr>\n",
       "      <th>2</th>\n",
       "      <td>24</td>\n",
       "      <td>OMNI S.F. Hotel - 2nd Floor Pantry</td>\n",
       "      <td>500 California St, 2nd  Floor</td>\n",
       "      <td>San Francisco</td>\n",
       "      <td>94104</td>\n",
       "      <td>37.792888</td>\n",
       "      <td>-122.403135</td>\n",
       "      <td>NaN</td>\n",
       "      <td>H24</td>\n",
       "      <td>352312.0</td>\n",
       "      <td>NaT</td>\n",
       "      <td>OMNI San Francisco Hotel Corp</td>\n",
       "      <td>500 California St, 2nd Floor</td>\n",
       "      <td>San Francisco</td>\n",
       "      <td>CA</td>\n",
       "      <td>94104</td>\n",
       "    </tr>\n",
       "    <tr>\n",
       "      <th>3</th>\n",
       "      <td>31</td>\n",
       "      <td>Norman's Ice Cream and Freezes</td>\n",
       "      <td>2801 Leavenworth St</td>\n",
       "      <td>San Francisco</td>\n",
       "      <td>94133</td>\n",
       "      <td>37.807155</td>\n",
       "      <td>-122.419004</td>\n",
       "      <td>NaN</td>\n",
       "      <td>H24</td>\n",
       "      <td>346882.0</td>\n",
       "      <td>NaT</td>\n",
       "      <td>Norman Antiforda</td>\n",
       "      <td>2801 Leavenworth St</td>\n",
       "      <td>San Francisco</td>\n",
       "      <td>CA</td>\n",
       "      <td>94133</td>\n",
       "    </tr>\n",
       "    <tr>\n",
       "      <th>4</th>\n",
       "      <td>45</td>\n",
       "      <td>CHARLIE'S DELI CAFE</td>\n",
       "      <td>3202 FOLSOM St</td>\n",
       "      <td>S.F.</td>\n",
       "      <td>94110</td>\n",
       "      <td>37.747114</td>\n",
       "      <td>-122.413641</td>\n",
       "      <td>NaN</td>\n",
       "      <td>H24</td>\n",
       "      <td>340024.0</td>\n",
       "      <td>2001-10-10</td>\n",
       "      <td>HARB, CHARLES AND KRISTIN</td>\n",
       "      <td>1150 SANCHEZ</td>\n",
       "      <td>S.F.</td>\n",
       "      <td>CA</td>\n",
       "      <td>94114</td>\n",
       "    </tr>\n",
       "  </tbody>\n",
       "</table>\n",
       "</div>"
      ],
      "text/plain": [
       "   business_id                                name  \\\n",
       "0           10                    Tiramisu Kitchen   \n",
       "1           19               Nrgize Lifestyle Cafe   \n",
       "2           24  OMNI S.F. Hotel - 2nd Floor Pantry   \n",
       "3           31      Norman's Ice Cream and Freezes   \n",
       "4           45                 CHARLIE'S DELI CAFE   \n",
       "\n",
       "                         address           city postal_code   latitude  \\\n",
       "0                  033 Belden Pl  San Francisco       94104  37.791116   \n",
       "1   1200 Van Ness Ave, 3rd Floor  San Francisco       94109  37.786848   \n",
       "2  500 California St, 2nd  Floor  San Francisco       94104  37.792888   \n",
       "3           2801 Leavenworth St   San Francisco       94133  37.807155   \n",
       "4                3202 FOLSOM St            S.F.       94110  37.747114   \n",
       "\n",
       "    longitude phone_number TaxCode  business_certificate application_date  \\\n",
       "0 -122.403816          NaN     H24              779059.0              NaT   \n",
       "1 -122.421547          NaN     H24                   NaN              NaT   \n",
       "2 -122.403135          NaN     H24              352312.0              NaT   \n",
       "3 -122.419004          NaN     H24              346882.0              NaT   \n",
       "4 -122.413641          NaN     H24              340024.0       2001-10-10   \n",
       "\n",
       "                      owner_name                 owner_address     owner_city  \\\n",
       "0                   Tiramisu LLC                  33 Belden St  San Francisco   \n",
       "1            24 Hour Fitness Inc  1200 Van Ness Ave, 3rd Floor  San Francisco   \n",
       "2  OMNI San Francisco Hotel Corp  500 California St, 2nd Floor  San Francisco   \n",
       "3               Norman Antiforda           2801 Leavenworth St  San Francisco   \n",
       "4      HARB, CHARLES AND KRISTIN                  1150 SANCHEZ           S.F.   \n",
       "\n",
       "  owner_state owner_zip  \n",
       "0          CA     94104  \n",
       "1          CA     94109  \n",
       "2          CA     94104  \n",
       "3          CA     94133  \n",
       "4          CA     94114  "
      ]
     },
     "execution_count": 290,
     "metadata": {},
     "output_type": "execute_result"
    }
   ],
   "source": [
    "#businesses = pd.read_csv('./data/businesses_plus.csv', parse_dates=True, dtype={'phone_number': str})\n",
    "businesses = pd.read_csv('./data/businesses_plus.csv', parse_dates=['application_date'], dtype={'phone_number': str})\n",
    "businesses.head()\n",
    "# dtype casts the column as a specific data type"
   ]
  },
  {
   "cell_type": "code",
   "execution_count": 14,
   "metadata": {
    "collapsed": false
   },
   "outputs": [
    {
     "data": {
      "text/html": [
       "<div>\n",
       "<table border=\"1\" class=\"dataframe\">\n",
       "  <thead>\n",
       "    <tr style=\"text-align: right;\">\n",
       "      <th></th>\n",
       "      <th>business_id</th>\n",
       "      <th>Score</th>\n",
       "      <th>date</th>\n",
       "      <th>type</th>\n",
       "    </tr>\n",
       "  </thead>\n",
       "  <tbody>\n",
       "    <tr>\n",
       "      <th>0</th>\n",
       "      <td>10</td>\n",
       "      <td>NaN</td>\n",
       "      <td>2014-08-07</td>\n",
       "      <td>Reinspection/Followup</td>\n",
       "    </tr>\n",
       "    <tr>\n",
       "      <th>1</th>\n",
       "      <td>10</td>\n",
       "      <td>94.0</td>\n",
       "      <td>2014-07-29</td>\n",
       "      <td>Routine - Unscheduled</td>\n",
       "    </tr>\n",
       "    <tr>\n",
       "      <th>2</th>\n",
       "      <td>10</td>\n",
       "      <td>NaN</td>\n",
       "      <td>2014-01-24</td>\n",
       "      <td>Reinspection/Followup</td>\n",
       "    </tr>\n",
       "    <tr>\n",
       "      <th>3</th>\n",
       "      <td>10</td>\n",
       "      <td>92.0</td>\n",
       "      <td>2014-01-14</td>\n",
       "      <td>Routine - Unscheduled</td>\n",
       "    </tr>\n",
       "    <tr>\n",
       "      <th>4</th>\n",
       "      <td>19</td>\n",
       "      <td>94.0</td>\n",
       "      <td>2014-11-10</td>\n",
       "      <td>Routine - Unscheduled</td>\n",
       "    </tr>\n",
       "  </tbody>\n",
       "</table>\n",
       "</div>"
      ],
      "text/plain": [
       "   business_id  Score       date                   type\n",
       "0           10    NaN 2014-08-07  Reinspection/Followup\n",
       "1           10   94.0 2014-07-29  Routine - Unscheduled\n",
       "2           10    NaN 2014-01-24  Reinspection/Followup\n",
       "3           10   92.0 2014-01-14  Routine - Unscheduled\n",
       "4           19   94.0 2014-11-10  Routine - Unscheduled"
      ]
     },
     "execution_count": 14,
     "metadata": {},
     "output_type": "execute_result"
    }
   ],
   "source": [
    "inspections = pd.read_csv('./data/inspections_plus.csv', parse_dates=['date'])\n",
    "inspections.head()"
   ]
  },
  {
   "cell_type": "code",
   "execution_count": 15,
   "metadata": {
    "collapsed": false,
    "scrolled": true
   },
   "outputs": [
    {
     "data": {
      "text/html": [
       "<div>\n",
       "<table border=\"1\" class=\"dataframe\">\n",
       "  <thead>\n",
       "    <tr style=\"text-align: right;\">\n",
       "      <th></th>\n",
       "      <th>business_id</th>\n",
       "      <th>date</th>\n",
       "      <th>ViolationTypeID</th>\n",
       "      <th>risk_category</th>\n",
       "      <th>description</th>\n",
       "    </tr>\n",
       "  </thead>\n",
       "  <tbody>\n",
       "    <tr>\n",
       "      <th>0</th>\n",
       "      <td>10</td>\n",
       "      <td>2014-01-14</td>\n",
       "      <td>103154</td>\n",
       "      <td>Low Risk</td>\n",
       "      <td>Unclean or degraded floors walls or ceilings</td>\n",
       "    </tr>\n",
       "    <tr>\n",
       "      <th>1</th>\n",
       "      <td>10</td>\n",
       "      <td>2014-01-14</td>\n",
       "      <td>103119</td>\n",
       "      <td>Moderate Risk</td>\n",
       "      <td>Inadequate and inaccessible handwashing facili...</td>\n",
       "    </tr>\n",
       "    <tr>\n",
       "      <th>2</th>\n",
       "      <td>10</td>\n",
       "      <td>2014-01-14</td>\n",
       "      <td>103145</td>\n",
       "      <td>Low Risk</td>\n",
       "      <td>Improper storage of equipment utensils or linens</td>\n",
       "    </tr>\n",
       "    <tr>\n",
       "      <th>3</th>\n",
       "      <td>10</td>\n",
       "      <td>2014-07-29</td>\n",
       "      <td>103129</td>\n",
       "      <td>Moderate Risk</td>\n",
       "      <td>Insufficient hot water or running water</td>\n",
       "    </tr>\n",
       "    <tr>\n",
       "      <th>4</th>\n",
       "      <td>10</td>\n",
       "      <td>2014-07-29</td>\n",
       "      <td>103144</td>\n",
       "      <td>Low Risk</td>\n",
       "      <td>Unapproved or unmaintained equipment or utensils</td>\n",
       "    </tr>\n",
       "  </tbody>\n",
       "</table>\n",
       "</div>"
      ],
      "text/plain": [
       "   business_id       date  ViolationTypeID  risk_category  \\\n",
       "0           10 2014-01-14           103154       Low Risk   \n",
       "1           10 2014-01-14           103119  Moderate Risk   \n",
       "2           10 2014-01-14           103145       Low Risk   \n",
       "3           10 2014-07-29           103129  Moderate Risk   \n",
       "4           10 2014-07-29           103144       Low Risk   \n",
       "\n",
       "                                         description  \n",
       "0       Unclean or degraded floors walls or ceilings  \n",
       "1  Inadequate and inaccessible handwashing facili...  \n",
       "2   Improper storage of equipment utensils or linens  \n",
       "3            Insufficient hot water or running water  \n",
       "4   Unapproved or unmaintained equipment or utensils  "
      ]
     },
     "execution_count": 15,
     "metadata": {},
     "output_type": "execute_result"
    }
   ],
   "source": [
    "violations = pd.read_csv('./data/violations_plus.csv', parse_dates=['date'])\n",
    "violations.head()"
   ]
  },
  {
   "cell_type": "code",
   "execution_count": 291,
   "metadata": {
    "collapsed": false,
    "scrolled": false
   },
   "outputs": [
    {
     "data": {
      "text/html": [
       "<div>\n",
       "<table border=\"1\" class=\"dataframe\">\n",
       "  <thead>\n",
       "    <tr style=\"text-align: right;\">\n",
       "      <th></th>\n",
       "      <th>business_id</th>\n",
       "      <th>name</th>\n",
       "      <th>address</th>\n",
       "      <th>city</th>\n",
       "      <th>postal_code</th>\n",
       "      <th>latitude</th>\n",
       "      <th>longitude</th>\n",
       "      <th>phone_number</th>\n",
       "      <th>tax_code</th>\n",
       "      <th>business_certificate</th>\n",
       "      <th>application_date</th>\n",
       "      <th>owner_name</th>\n",
       "      <th>owner_address</th>\n",
       "      <th>owner_city</th>\n",
       "      <th>owner_state</th>\n",
       "      <th>owner_zip</th>\n",
       "    </tr>\n",
       "  </thead>\n",
       "  <tbody>\n",
       "    <tr>\n",
       "      <th>0</th>\n",
       "      <td>10</td>\n",
       "      <td>Tiramisu Kitchen</td>\n",
       "      <td>033 Belden Pl</td>\n",
       "      <td>San Francisco</td>\n",
       "      <td>94104</td>\n",
       "      <td>37.791116</td>\n",
       "      <td>-122.403816</td>\n",
       "      <td>NaN</td>\n",
       "      <td>H24</td>\n",
       "      <td>779059.0</td>\n",
       "      <td>NaT</td>\n",
       "      <td>Tiramisu LLC</td>\n",
       "      <td>33 Belden St</td>\n",
       "      <td>San Francisco</td>\n",
       "      <td>CA</td>\n",
       "      <td>94104</td>\n",
       "    </tr>\n",
       "    <tr>\n",
       "      <th>1</th>\n",
       "      <td>19</td>\n",
       "      <td>Nrgize Lifestyle Cafe</td>\n",
       "      <td>1200 Van Ness Ave, 3rd Floor</td>\n",
       "      <td>San Francisco</td>\n",
       "      <td>94109</td>\n",
       "      <td>37.786848</td>\n",
       "      <td>-122.421547</td>\n",
       "      <td>NaN</td>\n",
       "      <td>H24</td>\n",
       "      <td>NaN</td>\n",
       "      <td>NaT</td>\n",
       "      <td>24 Hour Fitness Inc</td>\n",
       "      <td>1200 Van Ness Ave, 3rd Floor</td>\n",
       "      <td>San Francisco</td>\n",
       "      <td>CA</td>\n",
       "      <td>94109</td>\n",
       "    </tr>\n",
       "    <tr>\n",
       "      <th>2</th>\n",
       "      <td>24</td>\n",
       "      <td>OMNI S.F. Hotel - 2nd Floor Pantry</td>\n",
       "      <td>500 California St, 2nd  Floor</td>\n",
       "      <td>San Francisco</td>\n",
       "      <td>94104</td>\n",
       "      <td>37.792888</td>\n",
       "      <td>-122.403135</td>\n",
       "      <td>NaN</td>\n",
       "      <td>H24</td>\n",
       "      <td>352312.0</td>\n",
       "      <td>NaT</td>\n",
       "      <td>OMNI San Francisco Hotel Corp</td>\n",
       "      <td>500 California St, 2nd Floor</td>\n",
       "      <td>San Francisco</td>\n",
       "      <td>CA</td>\n",
       "      <td>94104</td>\n",
       "    </tr>\n",
       "    <tr>\n",
       "      <th>3</th>\n",
       "      <td>31</td>\n",
       "      <td>Norman's Ice Cream and Freezes</td>\n",
       "      <td>2801 Leavenworth St</td>\n",
       "      <td>San Francisco</td>\n",
       "      <td>94133</td>\n",
       "      <td>37.807155</td>\n",
       "      <td>-122.419004</td>\n",
       "      <td>NaN</td>\n",
       "      <td>H24</td>\n",
       "      <td>346882.0</td>\n",
       "      <td>NaT</td>\n",
       "      <td>Norman Antiforda</td>\n",
       "      <td>2801 Leavenworth St</td>\n",
       "      <td>San Francisco</td>\n",
       "      <td>CA</td>\n",
       "      <td>94133</td>\n",
       "    </tr>\n",
       "    <tr>\n",
       "      <th>4</th>\n",
       "      <td>45</td>\n",
       "      <td>CHARLIE'S DELI CAFE</td>\n",
       "      <td>3202 FOLSOM St</td>\n",
       "      <td>S.F.</td>\n",
       "      <td>94110</td>\n",
       "      <td>37.747114</td>\n",
       "      <td>-122.413641</td>\n",
       "      <td>NaN</td>\n",
       "      <td>H24</td>\n",
       "      <td>340024.0</td>\n",
       "      <td>2001-10-10</td>\n",
       "      <td>HARB, CHARLES AND KRISTIN</td>\n",
       "      <td>1150 SANCHEZ</td>\n",
       "      <td>S.F.</td>\n",
       "      <td>CA</td>\n",
       "      <td>94114</td>\n",
       "    </tr>\n",
       "  </tbody>\n",
       "</table>\n",
       "</div>"
      ],
      "text/plain": [
       "   business_id                                name  \\\n",
       "0           10                    Tiramisu Kitchen   \n",
       "1           19               Nrgize Lifestyle Cafe   \n",
       "2           24  OMNI S.F. Hotel - 2nd Floor Pantry   \n",
       "3           31      Norman's Ice Cream and Freezes   \n",
       "4           45                 CHARLIE'S DELI CAFE   \n",
       "\n",
       "                         address           city postal_code   latitude  \\\n",
       "0                  033 Belden Pl  San Francisco       94104  37.791116   \n",
       "1   1200 Van Ness Ave, 3rd Floor  San Francisco       94109  37.786848   \n",
       "2  500 California St, 2nd  Floor  San Francisco       94104  37.792888   \n",
       "3           2801 Leavenworth St   San Francisco       94133  37.807155   \n",
       "4                3202 FOLSOM St            S.F.       94110  37.747114   \n",
       "\n",
       "    longitude phone_number tax_code  business_certificate application_date  \\\n",
       "0 -122.403816          NaN      H24              779059.0              NaT   \n",
       "1 -122.421547          NaN      H24                   NaN              NaT   \n",
       "2 -122.403135          NaN      H24              352312.0              NaT   \n",
       "3 -122.419004          NaN      H24              346882.0              NaT   \n",
       "4 -122.413641          NaN      H24              340024.0       2001-10-10   \n",
       "\n",
       "                      owner_name                 owner_address     owner_city  \\\n",
       "0                   Tiramisu LLC                  33 Belden St  San Francisco   \n",
       "1            24 Hour Fitness Inc  1200 Van Ness Ave, 3rd Floor  San Francisco   \n",
       "2  OMNI San Francisco Hotel Corp  500 California St, 2nd Floor  San Francisco   \n",
       "3               Norman Antiforda           2801 Leavenworth St  San Francisco   \n",
       "4      HARB, CHARLES AND KRISTIN                  1150 SANCHEZ           S.F.   \n",
       "\n",
       "  owner_state owner_zip  \n",
       "0          CA     94104  \n",
       "1          CA     94109  \n",
       "2          CA     94104  \n",
       "3          CA     94133  \n",
       "4          CA     94114  "
      ]
     },
     "execution_count": 291,
     "metadata": {},
     "output_type": "execute_result"
    }
   ],
   "source": [
    "businesses.rename(columns={'TaxCode': 'tax_code'}, inplace=True)\n",
    "businesses.head()"
   ]
  },
  {
   "cell_type": "code",
   "execution_count": 17,
   "metadata": {
    "collapsed": false
   },
   "outputs": [
    {
     "data": {
      "text/html": [
       "<div>\n",
       "<table border=\"1\" class=\"dataframe\">\n",
       "  <thead>\n",
       "    <tr style=\"text-align: right;\">\n",
       "      <th></th>\n",
       "      <th>business_id</th>\n",
       "      <th>score</th>\n",
       "      <th>date</th>\n",
       "      <th>type</th>\n",
       "    </tr>\n",
       "  </thead>\n",
       "  <tbody>\n",
       "    <tr>\n",
       "      <th>0</th>\n",
       "      <td>10</td>\n",
       "      <td>NaN</td>\n",
       "      <td>2014-08-07</td>\n",
       "      <td>Reinspection/Followup</td>\n",
       "    </tr>\n",
       "    <tr>\n",
       "      <th>1</th>\n",
       "      <td>10</td>\n",
       "      <td>94.0</td>\n",
       "      <td>2014-07-29</td>\n",
       "      <td>Routine - Unscheduled</td>\n",
       "    </tr>\n",
       "    <tr>\n",
       "      <th>2</th>\n",
       "      <td>10</td>\n",
       "      <td>NaN</td>\n",
       "      <td>2014-01-24</td>\n",
       "      <td>Reinspection/Followup</td>\n",
       "    </tr>\n",
       "    <tr>\n",
       "      <th>3</th>\n",
       "      <td>10</td>\n",
       "      <td>92.0</td>\n",
       "      <td>2014-01-14</td>\n",
       "      <td>Routine - Unscheduled</td>\n",
       "    </tr>\n",
       "    <tr>\n",
       "      <th>4</th>\n",
       "      <td>19</td>\n",
       "      <td>94.0</td>\n",
       "      <td>2014-11-10</td>\n",
       "      <td>Routine - Unscheduled</td>\n",
       "    </tr>\n",
       "  </tbody>\n",
       "</table>\n",
       "</div>"
      ],
      "text/plain": [
       "   business_id  score       date                   type\n",
       "0           10    NaN 2014-08-07  Reinspection/Followup\n",
       "1           10   94.0 2014-07-29  Routine - Unscheduled\n",
       "2           10    NaN 2014-01-24  Reinspection/Followup\n",
       "3           10   92.0 2014-01-14  Routine - Unscheduled\n",
       "4           19   94.0 2014-11-10  Routine - Unscheduled"
      ]
     },
     "execution_count": 17,
     "metadata": {},
     "output_type": "execute_result"
    }
   ],
   "source": [
    "inspections.rename(columns={'Score': 'score'}, inplace=True)\n",
    "inspections.head()"
   ]
  },
  {
   "cell_type": "code",
   "execution_count": 18,
   "metadata": {
    "collapsed": false
   },
   "outputs": [
    {
     "data": {
      "text/html": [
       "<div>\n",
       "<table border=\"1\" class=\"dataframe\">\n",
       "  <thead>\n",
       "    <tr style=\"text-align: right;\">\n",
       "      <th></th>\n",
       "      <th>business_id</th>\n",
       "      <th>date</th>\n",
       "      <th>violation_type_id</th>\n",
       "      <th>risk_category</th>\n",
       "      <th>description</th>\n",
       "    </tr>\n",
       "  </thead>\n",
       "  <tbody>\n",
       "    <tr>\n",
       "      <th>0</th>\n",
       "      <td>10</td>\n",
       "      <td>2014-01-14</td>\n",
       "      <td>103154</td>\n",
       "      <td>Low Risk</td>\n",
       "      <td>Unclean or degraded floors walls or ceilings</td>\n",
       "    </tr>\n",
       "    <tr>\n",
       "      <th>1</th>\n",
       "      <td>10</td>\n",
       "      <td>2014-01-14</td>\n",
       "      <td>103119</td>\n",
       "      <td>Moderate Risk</td>\n",
       "      <td>Inadequate and inaccessible handwashing facili...</td>\n",
       "    </tr>\n",
       "    <tr>\n",
       "      <th>2</th>\n",
       "      <td>10</td>\n",
       "      <td>2014-01-14</td>\n",
       "      <td>103145</td>\n",
       "      <td>Low Risk</td>\n",
       "      <td>Improper storage of equipment utensils or linens</td>\n",
       "    </tr>\n",
       "    <tr>\n",
       "      <th>3</th>\n",
       "      <td>10</td>\n",
       "      <td>2014-07-29</td>\n",
       "      <td>103129</td>\n",
       "      <td>Moderate Risk</td>\n",
       "      <td>Insufficient hot water or running water</td>\n",
       "    </tr>\n",
       "    <tr>\n",
       "      <th>4</th>\n",
       "      <td>10</td>\n",
       "      <td>2014-07-29</td>\n",
       "      <td>103144</td>\n",
       "      <td>Low Risk</td>\n",
       "      <td>Unapproved or unmaintained equipment or utensils</td>\n",
       "    </tr>\n",
       "  </tbody>\n",
       "</table>\n",
       "</div>"
      ],
      "text/plain": [
       "   business_id       date  violation_type_id  risk_category  \\\n",
       "0           10 2014-01-14             103154       Low Risk   \n",
       "1           10 2014-01-14             103119  Moderate Risk   \n",
       "2           10 2014-01-14             103145       Low Risk   \n",
       "3           10 2014-07-29             103129  Moderate Risk   \n",
       "4           10 2014-07-29             103144       Low Risk   \n",
       "\n",
       "                                         description  \n",
       "0       Unclean or degraded floors walls or ceilings  \n",
       "1  Inadequate and inaccessible handwashing facili...  \n",
       "2   Improper storage of equipment utensils or linens  \n",
       "3            Insufficient hot water or running water  \n",
       "4   Unapproved or unmaintained equipment or utensils  "
      ]
     },
     "execution_count": 18,
     "metadata": {},
     "output_type": "execute_result"
    }
   ],
   "source": [
    "violations.rename(columns={'ViolationTypeID': 'violation_type_id'}, inplace=True)\n",
    "violations.head()"
   ]
  },
  {
   "cell_type": "code",
   "execution_count": 292,
   "metadata": {
    "collapsed": false,
    "scrolled": true
   },
   "outputs": [
    {
     "data": {
      "text/plain": [
       "(27285, 5)"
      ]
     },
     "execution_count": 292,
     "metadata": {},
     "output_type": "execute_result"
    }
   ],
   "source": [
    "inspections.shape"
   ]
  },
  {
   "cell_type": "code",
   "execution_count": 20,
   "metadata": {
    "collapsed": false
   },
   "outputs": [
    {
     "data": {
      "text/plain": [
       "(39720, 5)"
      ]
     },
     "execution_count": 20,
     "metadata": {},
     "output_type": "execute_result"
    }
   ],
   "source": [
    "violations.shape"
   ]
  },
  {
   "cell_type": "code",
   "execution_count": 21,
   "metadata": {
    "collapsed": false
   },
   "outputs": [
    {
     "data": {
      "text/plain": [
       "(7544, 16)"
      ]
     },
     "execution_count": 21,
     "metadata": {},
     "output_type": "execute_result"
    }
   ],
   "source": [
    "businesses.shape"
   ]
  },
  {
   "cell_type": "code",
   "execution_count": 293,
   "metadata": {
    "collapsed": false,
    "scrolled": false
   },
   "outputs": [
    {
     "data": {
      "text/html": [
       "<div>\n",
       "<table border=\"1\" class=\"dataframe\">\n",
       "  <thead>\n",
       "    <tr style=\"text-align: right;\">\n",
       "      <th></th>\n",
       "      <th>business_id</th>\n",
       "      <th>score</th>\n",
       "      <th>date</th>\n",
       "      <th>type</th>\n",
       "      <th>month</th>\n",
       "      <th>violation_type_id</th>\n",
       "      <th>risk_category</th>\n",
       "      <th>description</th>\n",
       "    </tr>\n",
       "  </thead>\n",
       "  <tbody>\n",
       "    <tr>\n",
       "      <th>0</th>\n",
       "      <td>10</td>\n",
       "      <td>NaN</td>\n",
       "      <td>2014-08-07</td>\n",
       "      <td>Reinspection/Followup</td>\n",
       "      <td>8</td>\n",
       "      <td>NaN</td>\n",
       "      <td>NaN</td>\n",
       "      <td>NaN</td>\n",
       "    </tr>\n",
       "    <tr>\n",
       "      <th>1</th>\n",
       "      <td>10</td>\n",
       "      <td>94.0</td>\n",
       "      <td>2014-07-29</td>\n",
       "      <td>Routine - Unscheduled</td>\n",
       "      <td>7</td>\n",
       "      <td>103129.0</td>\n",
       "      <td>Moderate Risk</td>\n",
       "      <td>Insufficient hot water or running water</td>\n",
       "    </tr>\n",
       "    <tr>\n",
       "      <th>2</th>\n",
       "      <td>10</td>\n",
       "      <td>94.0</td>\n",
       "      <td>2014-07-29</td>\n",
       "      <td>Routine - Unscheduled</td>\n",
       "      <td>7</td>\n",
       "      <td>103144.0</td>\n",
       "      <td>Low Risk</td>\n",
       "      <td>Unapproved or unmaintained equipment or utensils</td>\n",
       "    </tr>\n",
       "    <tr>\n",
       "      <th>3</th>\n",
       "      <td>10</td>\n",
       "      <td>NaN</td>\n",
       "      <td>2014-01-24</td>\n",
       "      <td>Reinspection/Followup</td>\n",
       "      <td>1</td>\n",
       "      <td>NaN</td>\n",
       "      <td>NaN</td>\n",
       "      <td>NaN</td>\n",
       "    </tr>\n",
       "    <tr>\n",
       "      <th>4</th>\n",
       "      <td>10</td>\n",
       "      <td>92.0</td>\n",
       "      <td>2014-01-14</td>\n",
       "      <td>Routine - Unscheduled</td>\n",
       "      <td>1</td>\n",
       "      <td>103154.0</td>\n",
       "      <td>Low Risk</td>\n",
       "      <td>Unclean or degraded floors walls or ceilings</td>\n",
       "    </tr>\n",
       "    <tr>\n",
       "      <th>5</th>\n",
       "      <td>10</td>\n",
       "      <td>92.0</td>\n",
       "      <td>2014-01-14</td>\n",
       "      <td>Routine - Unscheduled</td>\n",
       "      <td>1</td>\n",
       "      <td>103119.0</td>\n",
       "      <td>Moderate Risk</td>\n",
       "      <td>Inadequate and inaccessible handwashing facili...</td>\n",
       "    </tr>\n",
       "    <tr>\n",
       "      <th>6</th>\n",
       "      <td>10</td>\n",
       "      <td>92.0</td>\n",
       "      <td>2014-01-14</td>\n",
       "      <td>Routine - Unscheduled</td>\n",
       "      <td>1</td>\n",
       "      <td>103145.0</td>\n",
       "      <td>Low Risk</td>\n",
       "      <td>Improper storage of equipment utensils or linens</td>\n",
       "    </tr>\n",
       "    <tr>\n",
       "      <th>7</th>\n",
       "      <td>19</td>\n",
       "      <td>94.0</td>\n",
       "      <td>2014-11-10</td>\n",
       "      <td>Routine - Unscheduled</td>\n",
       "      <td>11</td>\n",
       "      <td>103145.0</td>\n",
       "      <td>Low Risk</td>\n",
       "      <td>Improper storage of equipment utensils or linens</td>\n",
       "    </tr>\n",
       "    <tr>\n",
       "      <th>8</th>\n",
       "      <td>19</td>\n",
       "      <td>94.0</td>\n",
       "      <td>2014-11-10</td>\n",
       "      <td>Routine - Unscheduled</td>\n",
       "      <td>11</td>\n",
       "      <td>103116.0</td>\n",
       "      <td>Moderate Risk</td>\n",
       "      <td>Inadequate food safety knowledge or lack of ce...</td>\n",
       "    </tr>\n",
       "    <tr>\n",
       "      <th>9</th>\n",
       "      <td>19</td>\n",
       "      <td>94.0</td>\n",
       "      <td>2014-02-14</td>\n",
       "      <td>Routine - Unscheduled</td>\n",
       "      <td>2</td>\n",
       "      <td>103156.0</td>\n",
       "      <td>Low Risk</td>\n",
       "      <td>Permit license or inspection report not posted</td>\n",
       "    </tr>\n",
       "    <tr>\n",
       "      <th>10</th>\n",
       "      <td>19</td>\n",
       "      <td>94.0</td>\n",
       "      <td>2014-02-14</td>\n",
       "      <td>Routine - Unscheduled</td>\n",
       "      <td>2</td>\n",
       "      <td>103124.0</td>\n",
       "      <td>Moderate Risk</td>\n",
       "      <td>Inadequately cleaned or sanitized food contact...</td>\n",
       "    </tr>\n",
       "    <tr>\n",
       "      <th>11</th>\n",
       "      <td>19</td>\n",
       "      <td>96.0</td>\n",
       "      <td>2013-09-04</td>\n",
       "      <td>Routine - Unscheduled</td>\n",
       "      <td>9</td>\n",
       "      <td>103133.0</td>\n",
       "      <td>Moderate Risk</td>\n",
       "      <td>Foods not protected from contamination</td>\n",
       "    </tr>\n",
       "    <tr>\n",
       "      <th>12</th>\n",
       "      <td>24</td>\n",
       "      <td>96.0</td>\n",
       "      <td>2016-03-11</td>\n",
       "      <td>Routine - Unscheduled</td>\n",
       "      <td>3</td>\n",
       "      <td>103154.0</td>\n",
       "      <td>Low Risk</td>\n",
       "      <td>Unclean or degraded floors walls or ceilings</td>\n",
       "    </tr>\n",
       "    <tr>\n",
       "      <th>13</th>\n",
       "      <td>24</td>\n",
       "      <td>96.0</td>\n",
       "      <td>2016-03-11</td>\n",
       "      <td>Routine - Unscheduled</td>\n",
       "      <td>3</td>\n",
       "      <td>103154.0</td>\n",
       "      <td>Low Risk</td>\n",
       "      <td>Unclean or degraded floors walls or ceilings</td>\n",
       "    </tr>\n",
       "    <tr>\n",
       "      <th>14</th>\n",
       "      <td>24</td>\n",
       "      <td>96.0</td>\n",
       "      <td>2014-11-24</td>\n",
       "      <td>Routine - Unscheduled</td>\n",
       "      <td>11</td>\n",
       "      <td>103119.0</td>\n",
       "      <td>Moderate Risk</td>\n",
       "      <td>Inadequate and inaccessible handwashing facili...</td>\n",
       "    </tr>\n",
       "    <tr>\n",
       "      <th>15</th>\n",
       "      <td>24</td>\n",
       "      <td>96.0</td>\n",
       "      <td>2014-06-12</td>\n",
       "      <td>Routine - Unscheduled</td>\n",
       "      <td>6</td>\n",
       "      <td>103145.0</td>\n",
       "      <td>Low Risk</td>\n",
       "      <td>Improper storage of equipment utensils or linens</td>\n",
       "    </tr>\n",
       "    <tr>\n",
       "      <th>16</th>\n",
       "      <td>24</td>\n",
       "      <td>96.0</td>\n",
       "      <td>2014-06-12</td>\n",
       "      <td>Routine - Unscheduled</td>\n",
       "      <td>6</td>\n",
       "      <td>103156.0</td>\n",
       "      <td>Low Risk</td>\n",
       "      <td>Permit license or inspection report not posted</td>\n",
       "    </tr>\n",
       "    <tr>\n",
       "      <th>17</th>\n",
       "      <td>24</td>\n",
       "      <td>100.0</td>\n",
       "      <td>2013-11-18</td>\n",
       "      <td>Routine - Unscheduled</td>\n",
       "      <td>11</td>\n",
       "      <td>NaN</td>\n",
       "      <td>NaN</td>\n",
       "      <td>NaN</td>\n",
       "    </tr>\n",
       "    <tr>\n",
       "      <th>18</th>\n",
       "      <td>31</td>\n",
       "      <td>98.0</td>\n",
       "      <td>2015-12-04</td>\n",
       "      <td>Routine - Unscheduled</td>\n",
       "      <td>12</td>\n",
       "      <td>103157.0</td>\n",
       "      <td>Low Risk</td>\n",
       "      <td>Food safety certificate or food handler card n...</td>\n",
       "    </tr>\n",
       "    <tr>\n",
       "      <th>19</th>\n",
       "      <td>31</td>\n",
       "      <td>100.0</td>\n",
       "      <td>2014-09-08</td>\n",
       "      <td>Routine - Unscheduled</td>\n",
       "      <td>9</td>\n",
       "      <td>NaN</td>\n",
       "      <td>NaN</td>\n",
       "      <td>NaN</td>\n",
       "    </tr>\n",
       "    <tr>\n",
       "      <th>20</th>\n",
       "      <td>45</td>\n",
       "      <td>78.0</td>\n",
       "      <td>2016-01-04</td>\n",
       "      <td>Routine - Unscheduled</td>\n",
       "      <td>1</td>\n",
       "      <td>103118.0</td>\n",
       "      <td>Moderate Risk</td>\n",
       "      <td>Employee eating or smoking</td>\n",
       "    </tr>\n",
       "    <tr>\n",
       "      <th>21</th>\n",
       "      <td>45</td>\n",
       "      <td>78.0</td>\n",
       "      <td>2016-01-04</td>\n",
       "      <td>Routine - Unscheduled</td>\n",
       "      <td>1</td>\n",
       "      <td>103154.0</td>\n",
       "      <td>Low Risk</td>\n",
       "      <td>Unclean or degraded floors walls or ceilings</td>\n",
       "    </tr>\n",
       "    <tr>\n",
       "      <th>22</th>\n",
       "      <td>45</td>\n",
       "      <td>78.0</td>\n",
       "      <td>2016-01-04</td>\n",
       "      <td>Routine - Unscheduled</td>\n",
       "      <td>1</td>\n",
       "      <td>103116.0</td>\n",
       "      <td>Moderate Risk</td>\n",
       "      <td>Inadequate food safety knowledge or lack of ce...</td>\n",
       "    </tr>\n",
       "    <tr>\n",
       "      <th>23</th>\n",
       "      <td>45</td>\n",
       "      <td>78.0</td>\n",
       "      <td>2016-01-04</td>\n",
       "      <td>Routine - Unscheduled</td>\n",
       "      <td>1</td>\n",
       "      <td>103119.0</td>\n",
       "      <td>Moderate Risk</td>\n",
       "      <td>Inadequate and inaccessible handwashing facili...</td>\n",
       "    </tr>\n",
       "    <tr>\n",
       "      <th>24</th>\n",
       "      <td>45</td>\n",
       "      <td>78.0</td>\n",
       "      <td>2016-01-04</td>\n",
       "      <td>Routine - Unscheduled</td>\n",
       "      <td>1</td>\n",
       "      <td>103124.0</td>\n",
       "      <td>Moderate Risk</td>\n",
       "      <td>Inadequately cleaned or sanitized food contact...</td>\n",
       "    </tr>\n",
       "    <tr>\n",
       "      <th>25</th>\n",
       "      <td>45</td>\n",
       "      <td>78.0</td>\n",
       "      <td>2016-01-04</td>\n",
       "      <td>Routine - Unscheduled</td>\n",
       "      <td>1</td>\n",
       "      <td>103142.0</td>\n",
       "      <td>Low Risk</td>\n",
       "      <td>Unclean nonfood contact surfaces</td>\n",
       "    </tr>\n",
       "    <tr>\n",
       "      <th>26</th>\n",
       "      <td>45</td>\n",
       "      <td>78.0</td>\n",
       "      <td>2016-01-04</td>\n",
       "      <td>Routine - Unscheduled</td>\n",
       "      <td>1</td>\n",
       "      <td>103144.0</td>\n",
       "      <td>Low Risk</td>\n",
       "      <td>Unapproved or unmaintained equipment or utensils</td>\n",
       "    </tr>\n",
       "    <tr>\n",
       "      <th>27</th>\n",
       "      <td>45</td>\n",
       "      <td>NaN</td>\n",
       "      <td>2015-12-30</td>\n",
       "      <td>Non-inspection site visit</td>\n",
       "      <td>12</td>\n",
       "      <td>NaN</td>\n",
       "      <td>NaN</td>\n",
       "      <td>NaN</td>\n",
       "    </tr>\n",
       "    <tr>\n",
       "      <th>28</th>\n",
       "      <td>45</td>\n",
       "      <td>94.0</td>\n",
       "      <td>2014-09-09</td>\n",
       "      <td>Routine - Unscheduled</td>\n",
       "      <td>9</td>\n",
       "      <td>103149.0</td>\n",
       "      <td>Low Risk</td>\n",
       "      <td>Wiping cloths not clean or properly stored or ...</td>\n",
       "    </tr>\n",
       "    <tr>\n",
       "      <th>29</th>\n",
       "      <td>45</td>\n",
       "      <td>94.0</td>\n",
       "      <td>2014-09-09</td>\n",
       "      <td>Routine - Unscheduled</td>\n",
       "      <td>9</td>\n",
       "      <td>103154.0</td>\n",
       "      <td>Low Risk</td>\n",
       "      <td>Unclean or degraded floors walls or ceilings</td>\n",
       "    </tr>\n",
       "  </tbody>\n",
       "</table>\n",
       "</div>"
      ],
      "text/plain": [
       "    business_id  score       date                       type  month  \\\n",
       "0            10    NaN 2014-08-07      Reinspection/Followup      8   \n",
       "1            10   94.0 2014-07-29      Routine - Unscheduled      7   \n",
       "2            10   94.0 2014-07-29      Routine - Unscheduled      7   \n",
       "3            10    NaN 2014-01-24      Reinspection/Followup      1   \n",
       "4            10   92.0 2014-01-14      Routine - Unscheduled      1   \n",
       "5            10   92.0 2014-01-14      Routine - Unscheduled      1   \n",
       "6            10   92.0 2014-01-14      Routine - Unscheduled      1   \n",
       "7            19   94.0 2014-11-10      Routine - Unscheduled     11   \n",
       "8            19   94.0 2014-11-10      Routine - Unscheduled     11   \n",
       "9            19   94.0 2014-02-14      Routine - Unscheduled      2   \n",
       "10           19   94.0 2014-02-14      Routine - Unscheduled      2   \n",
       "11           19   96.0 2013-09-04      Routine - Unscheduled      9   \n",
       "12           24   96.0 2016-03-11      Routine - Unscheduled      3   \n",
       "13           24   96.0 2016-03-11      Routine - Unscheduled      3   \n",
       "14           24   96.0 2014-11-24      Routine - Unscheduled     11   \n",
       "15           24   96.0 2014-06-12      Routine - Unscheduled      6   \n",
       "16           24   96.0 2014-06-12      Routine - Unscheduled      6   \n",
       "17           24  100.0 2013-11-18      Routine - Unscheduled     11   \n",
       "18           31   98.0 2015-12-04      Routine - Unscheduled     12   \n",
       "19           31  100.0 2014-09-08      Routine - Unscheduled      9   \n",
       "20           45   78.0 2016-01-04      Routine - Unscheduled      1   \n",
       "21           45   78.0 2016-01-04      Routine - Unscheduled      1   \n",
       "22           45   78.0 2016-01-04      Routine - Unscheduled      1   \n",
       "23           45   78.0 2016-01-04      Routine - Unscheduled      1   \n",
       "24           45   78.0 2016-01-04      Routine - Unscheduled      1   \n",
       "25           45   78.0 2016-01-04      Routine - Unscheduled      1   \n",
       "26           45   78.0 2016-01-04      Routine - Unscheduled      1   \n",
       "27           45    NaN 2015-12-30  Non-inspection site visit     12   \n",
       "28           45   94.0 2014-09-09      Routine - Unscheduled      9   \n",
       "29           45   94.0 2014-09-09      Routine - Unscheduled      9   \n",
       "\n",
       "    violation_type_id  risk_category  \\\n",
       "0                 NaN            NaN   \n",
       "1            103129.0  Moderate Risk   \n",
       "2            103144.0       Low Risk   \n",
       "3                 NaN            NaN   \n",
       "4            103154.0       Low Risk   \n",
       "5            103119.0  Moderate Risk   \n",
       "6            103145.0       Low Risk   \n",
       "7            103145.0       Low Risk   \n",
       "8            103116.0  Moderate Risk   \n",
       "9            103156.0       Low Risk   \n",
       "10           103124.0  Moderate Risk   \n",
       "11           103133.0  Moderate Risk   \n",
       "12           103154.0       Low Risk   \n",
       "13           103154.0       Low Risk   \n",
       "14           103119.0  Moderate Risk   \n",
       "15           103145.0       Low Risk   \n",
       "16           103156.0       Low Risk   \n",
       "17                NaN            NaN   \n",
       "18           103157.0       Low Risk   \n",
       "19                NaN            NaN   \n",
       "20           103118.0  Moderate Risk   \n",
       "21           103154.0       Low Risk   \n",
       "22           103116.0  Moderate Risk   \n",
       "23           103119.0  Moderate Risk   \n",
       "24           103124.0  Moderate Risk   \n",
       "25           103142.0       Low Risk   \n",
       "26           103144.0       Low Risk   \n",
       "27                NaN            NaN   \n",
       "28           103149.0       Low Risk   \n",
       "29           103154.0       Low Risk   \n",
       "\n",
       "                                          description  \n",
       "0                                                 NaN  \n",
       "1             Insufficient hot water or running water  \n",
       "2    Unapproved or unmaintained equipment or utensils  \n",
       "3                                                 NaN  \n",
       "4        Unclean or degraded floors walls or ceilings  \n",
       "5   Inadequate and inaccessible handwashing facili...  \n",
       "6    Improper storage of equipment utensils or linens  \n",
       "7    Improper storage of equipment utensils or linens  \n",
       "8   Inadequate food safety knowledge or lack of ce...  \n",
       "9      Permit license or inspection report not posted  \n",
       "10  Inadequately cleaned or sanitized food contact...  \n",
       "11             Foods not protected from contamination  \n",
       "12       Unclean or degraded floors walls or ceilings  \n",
       "13       Unclean or degraded floors walls or ceilings  \n",
       "14  Inadequate and inaccessible handwashing facili...  \n",
       "15   Improper storage of equipment utensils or linens  \n",
       "16     Permit license or inspection report not posted  \n",
       "17                                                NaN  \n",
       "18  Food safety certificate or food handler card n...  \n",
       "19                                                NaN  \n",
       "20                         Employee eating or smoking  \n",
       "21       Unclean or degraded floors walls or ceilings  \n",
       "22  Inadequate food safety knowledge or lack of ce...  \n",
       "23  Inadequate and inaccessible handwashing facili...  \n",
       "24  Inadequately cleaned or sanitized food contact...  \n",
       "25                   Unclean nonfood contact surfaces  \n",
       "26   Unapproved or unmaintained equipment or utensils  \n",
       "27                                                NaN  \n",
       "28  Wiping cloths not clean or properly stored or ...  \n",
       "29       Unclean or degraded floors walls or ceilings  "
      ]
     },
     "execution_count": 293,
     "metadata": {},
     "output_type": "execute_result"
    }
   ],
   "source": [
    "# 1 Combine the three dataframes into one data frame called restaurant_scores\n",
    "# Hint: http://pandas.pydata.org/pandas-docs/stable/merging.html\n",
    "temp = pd.merge(inspections, violations, on=['business_id', 'date'], how='left')      #also on date, parse date, left join not inner\n",
    "temp.head(30)"
   ]
  },
  {
   "cell_type": "code",
   "execution_count": 294,
   "metadata": {
    "collapsed": false
   },
   "outputs": [
    {
     "data": {
      "text/plain": [
       "(57303, 8)"
      ]
     },
     "execution_count": 294,
     "metadata": {},
     "output_type": "execute_result"
    }
   ],
   "source": [
    "temp.shape"
   ]
  },
  {
   "cell_type": "code",
   "execution_count": 24,
   "metadata": {
    "collapsed": false
   },
   "outputs": [
    {
     "data": {
      "text/html": [
       "<div>\n",
       "<table border=\"1\" class=\"dataframe\">\n",
       "  <thead>\n",
       "    <tr style=\"text-align: right;\">\n",
       "      <th></th>\n",
       "      <th>business_id</th>\n",
       "      <th>name</th>\n",
       "      <th>address</th>\n",
       "      <th>city</th>\n",
       "      <th>postal_code</th>\n",
       "      <th>latitude</th>\n",
       "      <th>longitude</th>\n",
       "      <th>phone_number</th>\n",
       "      <th>tax_code</th>\n",
       "      <th>business_certificate</th>\n",
       "      <th>...</th>\n",
       "      <th>owner_address</th>\n",
       "      <th>owner_city</th>\n",
       "      <th>owner_state</th>\n",
       "      <th>owner_zip</th>\n",
       "      <th>score</th>\n",
       "      <th>date</th>\n",
       "      <th>type</th>\n",
       "      <th>violation_type_id</th>\n",
       "      <th>risk_category</th>\n",
       "      <th>description</th>\n",
       "    </tr>\n",
       "  </thead>\n",
       "  <tbody>\n",
       "    <tr>\n",
       "      <th>0</th>\n",
       "      <td>10</td>\n",
       "      <td>Tiramisu Kitchen</td>\n",
       "      <td>033 Belden Pl</td>\n",
       "      <td>San Francisco</td>\n",
       "      <td>94104</td>\n",
       "      <td>37.791116</td>\n",
       "      <td>-122.403816</td>\n",
       "      <td>NaN</td>\n",
       "      <td>H24</td>\n",
       "      <td>779059.0</td>\n",
       "      <td>...</td>\n",
       "      <td>33 Belden St</td>\n",
       "      <td>San Francisco</td>\n",
       "      <td>CA</td>\n",
       "      <td>94104</td>\n",
       "      <td>NaN</td>\n",
       "      <td>2014-08-07</td>\n",
       "      <td>Reinspection/Followup</td>\n",
       "      <td>NaN</td>\n",
       "      <td>NaN</td>\n",
       "      <td>NaN</td>\n",
       "    </tr>\n",
       "    <tr>\n",
       "      <th>1</th>\n",
       "      <td>10</td>\n",
       "      <td>Tiramisu Kitchen</td>\n",
       "      <td>033 Belden Pl</td>\n",
       "      <td>San Francisco</td>\n",
       "      <td>94104</td>\n",
       "      <td>37.791116</td>\n",
       "      <td>-122.403816</td>\n",
       "      <td>NaN</td>\n",
       "      <td>H24</td>\n",
       "      <td>779059.0</td>\n",
       "      <td>...</td>\n",
       "      <td>33 Belden St</td>\n",
       "      <td>San Francisco</td>\n",
       "      <td>CA</td>\n",
       "      <td>94104</td>\n",
       "      <td>94.0</td>\n",
       "      <td>2014-07-29</td>\n",
       "      <td>Routine - Unscheduled</td>\n",
       "      <td>103129.0</td>\n",
       "      <td>Moderate Risk</td>\n",
       "      <td>Insufficient hot water or running water</td>\n",
       "    </tr>\n",
       "    <tr>\n",
       "      <th>2</th>\n",
       "      <td>10</td>\n",
       "      <td>Tiramisu Kitchen</td>\n",
       "      <td>033 Belden Pl</td>\n",
       "      <td>San Francisco</td>\n",
       "      <td>94104</td>\n",
       "      <td>37.791116</td>\n",
       "      <td>-122.403816</td>\n",
       "      <td>NaN</td>\n",
       "      <td>H24</td>\n",
       "      <td>779059.0</td>\n",
       "      <td>...</td>\n",
       "      <td>33 Belden St</td>\n",
       "      <td>San Francisco</td>\n",
       "      <td>CA</td>\n",
       "      <td>94104</td>\n",
       "      <td>94.0</td>\n",
       "      <td>2014-07-29</td>\n",
       "      <td>Routine - Unscheduled</td>\n",
       "      <td>103144.0</td>\n",
       "      <td>Low Risk</td>\n",
       "      <td>Unapproved or unmaintained equipment or utensils</td>\n",
       "    </tr>\n",
       "    <tr>\n",
       "      <th>3</th>\n",
       "      <td>10</td>\n",
       "      <td>Tiramisu Kitchen</td>\n",
       "      <td>033 Belden Pl</td>\n",
       "      <td>San Francisco</td>\n",
       "      <td>94104</td>\n",
       "      <td>37.791116</td>\n",
       "      <td>-122.403816</td>\n",
       "      <td>NaN</td>\n",
       "      <td>H24</td>\n",
       "      <td>779059.0</td>\n",
       "      <td>...</td>\n",
       "      <td>33 Belden St</td>\n",
       "      <td>San Francisco</td>\n",
       "      <td>CA</td>\n",
       "      <td>94104</td>\n",
       "      <td>NaN</td>\n",
       "      <td>2014-01-24</td>\n",
       "      <td>Reinspection/Followup</td>\n",
       "      <td>NaN</td>\n",
       "      <td>NaN</td>\n",
       "      <td>NaN</td>\n",
       "    </tr>\n",
       "    <tr>\n",
       "      <th>4</th>\n",
       "      <td>10</td>\n",
       "      <td>Tiramisu Kitchen</td>\n",
       "      <td>033 Belden Pl</td>\n",
       "      <td>San Francisco</td>\n",
       "      <td>94104</td>\n",
       "      <td>37.791116</td>\n",
       "      <td>-122.403816</td>\n",
       "      <td>NaN</td>\n",
       "      <td>H24</td>\n",
       "      <td>779059.0</td>\n",
       "      <td>...</td>\n",
       "      <td>33 Belden St</td>\n",
       "      <td>San Francisco</td>\n",
       "      <td>CA</td>\n",
       "      <td>94104</td>\n",
       "      <td>92.0</td>\n",
       "      <td>2014-01-14</td>\n",
       "      <td>Routine - Unscheduled</td>\n",
       "      <td>103154.0</td>\n",
       "      <td>Low Risk</td>\n",
       "      <td>Unclean or degraded floors walls or ceilings</td>\n",
       "    </tr>\n",
       "  </tbody>\n",
       "</table>\n",
       "<p>5 rows × 22 columns</p>\n",
       "</div>"
      ],
      "text/plain": [
       "   business_id              name        address           city postal_code  \\\n",
       "0           10  Tiramisu Kitchen  033 Belden Pl  San Francisco       94104   \n",
       "1           10  Tiramisu Kitchen  033 Belden Pl  San Francisco       94104   \n",
       "2           10  Tiramisu Kitchen  033 Belden Pl  San Francisco       94104   \n",
       "3           10  Tiramisu Kitchen  033 Belden Pl  San Francisco       94104   \n",
       "4           10  Tiramisu Kitchen  033 Belden Pl  San Francisco       94104   \n",
       "\n",
       "    latitude   longitude phone_number tax_code  business_certificate  \\\n",
       "0  37.791116 -122.403816          NaN      H24              779059.0   \n",
       "1  37.791116 -122.403816          NaN      H24              779059.0   \n",
       "2  37.791116 -122.403816          NaN      H24              779059.0   \n",
       "3  37.791116 -122.403816          NaN      H24              779059.0   \n",
       "4  37.791116 -122.403816          NaN      H24              779059.0   \n",
       "\n",
       "                         ...                        owner_address  \\\n",
       "0                        ...                         33 Belden St   \n",
       "1                        ...                         33 Belden St   \n",
       "2                        ...                         33 Belden St   \n",
       "3                        ...                         33 Belden St   \n",
       "4                        ...                         33 Belden St   \n",
       "\n",
       "      owner_city owner_state owner_zip score       date  \\\n",
       "0  San Francisco          CA     94104   NaN 2014-08-07   \n",
       "1  San Francisco          CA     94104  94.0 2014-07-29   \n",
       "2  San Francisco          CA     94104  94.0 2014-07-29   \n",
       "3  San Francisco          CA     94104   NaN 2014-01-24   \n",
       "4  San Francisco          CA     94104  92.0 2014-01-14   \n",
       "\n",
       "                    type violation_type_id  risk_category  \\\n",
       "0  Reinspection/Followup               NaN            NaN   \n",
       "1  Routine - Unscheduled          103129.0  Moderate Risk   \n",
       "2  Routine - Unscheduled          103144.0       Low Risk   \n",
       "3  Reinspection/Followup               NaN            NaN   \n",
       "4  Routine - Unscheduled          103154.0       Low Risk   \n",
       "\n",
       "                                        description  \n",
       "0                                               NaN  \n",
       "1           Insufficient hot water or running water  \n",
       "2  Unapproved or unmaintained equipment or utensils  \n",
       "3                                               NaN  \n",
       "4      Unclean or degraded floors walls or ceilings  \n",
       "\n",
       "[5 rows x 22 columns]"
      ]
     },
     "execution_count": 24,
     "metadata": {},
     "output_type": "execute_result"
    }
   ],
   "source": [
    "restaurant_scores = pd.merge(businesses, temp, on='business_id')\n",
    "restaurant_scores.head()"
   ]
  },
  {
   "cell_type": "code",
   "execution_count": 25,
   "metadata": {
    "collapsed": false
   },
   "outputs": [
    {
     "data": {
      "text/plain": [
       "(57185, 22)"
      ]
     },
     "execution_count": 25,
     "metadata": {},
     "output_type": "execute_result"
    }
   ],
   "source": [
    "restaurant_scores.shape"
   ]
  },
  {
   "cell_type": "code",
   "execution_count": 310,
   "metadata": {
    "collapsed": false,
    "scrolled": false
   },
   "outputs": [
    {
     "data": {
      "text/plain": [
       "name\n",
       "Peet's Coffee & Tea           87\n",
       "Starbucks Coffee              71\n",
       "Whole Foods Market            54\n",
       "STARBUCKS                     49\n",
       "Specialty's Cafe & Bakery     48\n",
       "San Francisco Soup Company    44\n",
       "STARBUCKS COFFEE              44\n",
       "KENTUCKY FRIED CHICKEN        32\n",
       "Lee's Deli                    31\n",
       "Subway Sandwiches             31\n",
       "Name: date, dtype: int64"
      ]
     },
     "execution_count": 310,
     "metadata": {},
     "output_type": "execute_result"
    }
   ],
   "source": [
    "# 2 Which ten business have had the most inspections?\n",
    "\n",
    "#inspections.groupby('business_id').date.count().sort_values(ascending=False).head(10)\n",
    "\n",
    "inspections2 = pd.merge(businesses, inspections)\n",
    "inspections2.groupby('name').date.count().sort_values(ascending=False).head(10)"
   ]
  },
  {
   "cell_type": "code",
   "execution_count": 33,
   "metadata": {
    "collapsed": false
   },
   "outputs": [
    {
     "data": {
      "text/plain": [
       "Routine - Unscheduled                42054\n",
       "Reinspection/Followup                 6020\n",
       "Complaint                             3150\n",
       "New Ownership                         2660\n",
       "New Construction                      1635\n",
       "Non-inspection site visit             1003\n",
       "Foodborne Illness Investigation        246\n",
       "Complaint Reinspection/Followup        168\n",
       "Structural Inspection                  141\n",
       "Routine - Scheduled                    100\n",
       "Administrative or Document Review        4\n",
       "Special Event                            2\n",
       "Multi-agency Investigation               2\n",
       "Name: type, dtype: int64"
      ]
     },
     "execution_count": 33,
     "metadata": {},
     "output_type": "execute_result"
    }
   ],
   "source": [
    "# 3 Group and count the inspections by type\n",
    "\n",
    "restaurant_scores.type.value_counts()"
   ]
  },
  {
   "cell_type": "code",
   "execution_count": 34,
   "metadata": {
    "collapsed": true
   },
   "outputs": [],
   "source": [
    "import numpy as np\n",
    "import matplotlib.pyplot as plt\n",
    "%matplotlib inline"
   ]
  },
  {
   "cell_type": "code",
   "execution_count": 37,
   "metadata": {
    "collapsed": true
   },
   "outputs": [],
   "source": [
    "from datetime import datetime"
   ]
  },
  {
   "cell_type": "code",
   "execution_count": 38,
   "metadata": {
    "collapsed": false
   },
   "outputs": [
    {
     "data": {
      "text/html": [
       "<div>\n",
       "<table border=\"1\" class=\"dataframe\">\n",
       "  <thead>\n",
       "    <tr style=\"text-align: right;\">\n",
       "      <th></th>\n",
       "      <th>business_id</th>\n",
       "      <th>score</th>\n",
       "      <th>date</th>\n",
       "      <th>type</th>\n",
       "      <th>month</th>\n",
       "    </tr>\n",
       "  </thead>\n",
       "  <tbody>\n",
       "    <tr>\n",
       "      <th>0</th>\n",
       "      <td>10</td>\n",
       "      <td>NaN</td>\n",
       "      <td>2014-08-07</td>\n",
       "      <td>Reinspection/Followup</td>\n",
       "      <td>8</td>\n",
       "    </tr>\n",
       "    <tr>\n",
       "      <th>1</th>\n",
       "      <td>10</td>\n",
       "      <td>94.0</td>\n",
       "      <td>2014-07-29</td>\n",
       "      <td>Routine - Unscheduled</td>\n",
       "      <td>7</td>\n",
       "    </tr>\n",
       "    <tr>\n",
       "      <th>2</th>\n",
       "      <td>10</td>\n",
       "      <td>NaN</td>\n",
       "      <td>2014-01-24</td>\n",
       "      <td>Reinspection/Followup</td>\n",
       "      <td>1</td>\n",
       "    </tr>\n",
       "    <tr>\n",
       "      <th>3</th>\n",
       "      <td>10</td>\n",
       "      <td>92.0</td>\n",
       "      <td>2014-01-14</td>\n",
       "      <td>Routine - Unscheduled</td>\n",
       "      <td>1</td>\n",
       "    </tr>\n",
       "    <tr>\n",
       "      <th>4</th>\n",
       "      <td>19</td>\n",
       "      <td>94.0</td>\n",
       "      <td>2014-11-10</td>\n",
       "      <td>Routine - Unscheduled</td>\n",
       "      <td>11</td>\n",
       "    </tr>\n",
       "    <tr>\n",
       "      <th>5</th>\n",
       "      <td>19</td>\n",
       "      <td>94.0</td>\n",
       "      <td>2014-02-14</td>\n",
       "      <td>Routine - Unscheduled</td>\n",
       "      <td>2</td>\n",
       "    </tr>\n",
       "    <tr>\n",
       "      <th>6</th>\n",
       "      <td>19</td>\n",
       "      <td>96.0</td>\n",
       "      <td>2013-09-04</td>\n",
       "      <td>Routine - Unscheduled</td>\n",
       "      <td>9</td>\n",
       "    </tr>\n",
       "    <tr>\n",
       "      <th>7</th>\n",
       "      <td>24</td>\n",
       "      <td>96.0</td>\n",
       "      <td>2016-03-11</td>\n",
       "      <td>Routine - Unscheduled</td>\n",
       "      <td>3</td>\n",
       "    </tr>\n",
       "    <tr>\n",
       "      <th>8</th>\n",
       "      <td>24</td>\n",
       "      <td>96.0</td>\n",
       "      <td>2014-11-24</td>\n",
       "      <td>Routine - Unscheduled</td>\n",
       "      <td>11</td>\n",
       "    </tr>\n",
       "    <tr>\n",
       "      <th>9</th>\n",
       "      <td>24</td>\n",
       "      <td>96.0</td>\n",
       "      <td>2014-06-12</td>\n",
       "      <td>Routine - Unscheduled</td>\n",
       "      <td>6</td>\n",
       "    </tr>\n",
       "    <tr>\n",
       "      <th>10</th>\n",
       "      <td>24</td>\n",
       "      <td>100.0</td>\n",
       "      <td>2013-11-18</td>\n",
       "      <td>Routine - Unscheduled</td>\n",
       "      <td>11</td>\n",
       "    </tr>\n",
       "    <tr>\n",
       "      <th>11</th>\n",
       "      <td>31</td>\n",
       "      <td>98.0</td>\n",
       "      <td>2015-12-04</td>\n",
       "      <td>Routine - Unscheduled</td>\n",
       "      <td>12</td>\n",
       "    </tr>\n",
       "    <tr>\n",
       "      <th>12</th>\n",
       "      <td>31</td>\n",
       "      <td>100.0</td>\n",
       "      <td>2014-09-08</td>\n",
       "      <td>Routine - Unscheduled</td>\n",
       "      <td>9</td>\n",
       "    </tr>\n",
       "    <tr>\n",
       "      <th>13</th>\n",
       "      <td>45</td>\n",
       "      <td>78.0</td>\n",
       "      <td>2016-01-04</td>\n",
       "      <td>Routine - Unscheduled</td>\n",
       "      <td>1</td>\n",
       "    </tr>\n",
       "    <tr>\n",
       "      <th>14</th>\n",
       "      <td>45</td>\n",
       "      <td>NaN</td>\n",
       "      <td>2015-12-30</td>\n",
       "      <td>Non-inspection site visit</td>\n",
       "      <td>12</td>\n",
       "    </tr>\n",
       "    <tr>\n",
       "      <th>15</th>\n",
       "      <td>45</td>\n",
       "      <td>94.0</td>\n",
       "      <td>2014-09-09</td>\n",
       "      <td>Routine - Unscheduled</td>\n",
       "      <td>9</td>\n",
       "    </tr>\n",
       "    <tr>\n",
       "      <th>16</th>\n",
       "      <td>45</td>\n",
       "      <td>94.0</td>\n",
       "      <td>2013-12-09</td>\n",
       "      <td>Routine - Unscheduled</td>\n",
       "      <td>12</td>\n",
       "    </tr>\n",
       "    <tr>\n",
       "      <th>17</th>\n",
       "      <td>48</td>\n",
       "      <td>92.0</td>\n",
       "      <td>2014-05-23</td>\n",
       "      <td>Routine - Unscheduled</td>\n",
       "      <td>5</td>\n",
       "    </tr>\n",
       "    <tr>\n",
       "      <th>18</th>\n",
       "      <td>48</td>\n",
       "      <td>90.0</td>\n",
       "      <td>2013-11-01</td>\n",
       "      <td>Routine - Unscheduled</td>\n",
       "      <td>11</td>\n",
       "    </tr>\n",
       "    <tr>\n",
       "      <th>19</th>\n",
       "      <td>50</td>\n",
       "      <td>NaN</td>\n",
       "      <td>2015-05-13</td>\n",
       "      <td>Non-inspection site visit</td>\n",
       "      <td>5</td>\n",
       "    </tr>\n",
       "  </tbody>\n",
       "</table>\n",
       "</div>"
      ],
      "text/plain": [
       "    business_id  score       date                       type  month\n",
       "0            10    NaN 2014-08-07      Reinspection/Followup      8\n",
       "1            10   94.0 2014-07-29      Routine - Unscheduled      7\n",
       "2            10    NaN 2014-01-24      Reinspection/Followup      1\n",
       "3            10   92.0 2014-01-14      Routine - Unscheduled      1\n",
       "4            19   94.0 2014-11-10      Routine - Unscheduled     11\n",
       "5            19   94.0 2014-02-14      Routine - Unscheduled      2\n",
       "6            19   96.0 2013-09-04      Routine - Unscheduled      9\n",
       "7            24   96.0 2016-03-11      Routine - Unscheduled      3\n",
       "8            24   96.0 2014-11-24      Routine - Unscheduled     11\n",
       "9            24   96.0 2014-06-12      Routine - Unscheduled      6\n",
       "10           24  100.0 2013-11-18      Routine - Unscheduled     11\n",
       "11           31   98.0 2015-12-04      Routine - Unscheduled     12\n",
       "12           31  100.0 2014-09-08      Routine - Unscheduled      9\n",
       "13           45   78.0 2016-01-04      Routine - Unscheduled      1\n",
       "14           45    NaN 2015-12-30  Non-inspection site visit     12\n",
       "15           45   94.0 2014-09-09      Routine - Unscheduled      9\n",
       "16           45   94.0 2013-12-09      Routine - Unscheduled     12\n",
       "17           48   92.0 2014-05-23      Routine - Unscheduled      5\n",
       "18           48   90.0 2013-11-01      Routine - Unscheduled     11\n",
       "19           50    NaN 2015-05-13  Non-inspection site visit      5"
      ]
     },
     "execution_count": 38,
     "metadata": {},
     "output_type": "execute_result"
    }
   ],
   "source": [
    "inspections['month'] = inspections['date'].dt.month\n",
    "inspections.head(20)"
   ]
  },
  {
   "cell_type": "code",
   "execution_count": 39,
   "metadata": {
    "collapsed": false
   },
   "outputs": [
    {
     "data": {
      "text/plain": [
       "dtype('int64')"
      ]
     },
     "execution_count": 39,
     "metadata": {},
     "output_type": "execute_result"
    }
   ],
   "source": [
    "inspections.month.dtype\n"
   ]
  },
  {
   "cell_type": "code",
   "execution_count": 40,
   "metadata": {
    "collapsed": false
   },
   "outputs": [
    {
     "data": {
      "text/plain": [
       "<matplotlib.text.Text at 0x1181c1690>"
      ]
     },
     "execution_count": 40,
     "metadata": {},
     "output_type": "execute_result"
    },
    {
     "data": {
      "image/png": "[encoded data removed]",
      "text/plain": [
       "<matplotlib.figure.Figure at 0x117983f90>"
      ]
     },
     "metadata": {},
     "output_type": "display_data"
    }
   ],
   "source": [
    "# 4 Create a plot that shows number of inspections per month\n",
    "# Bonus for creating a heatmap\n",
    "# http://stanford.edu/~mwaskom/software/seaborn/generated/seaborn.heatmap.html?highlight=heatmap\n",
    "\n",
    "\n",
    "inspections.month.value_counts().plot(kind='bar', title='Inspections per Month')\n",
    "plt.xlabel('Month')\n",
    "plt.ylabel('Count')\n",
    "\n",
    "#How do I sort by month?"
   ]
  },
  {
   "cell_type": "code",
   "execution_count": 312,
   "metadata": {
    "collapsed": false
   },
   "outputs": [
    {
     "name": "stderr",
     "output_type": "stream",
     "text": [
      "/Users/laushon/anaconda/envs/sfdat26/lib/python2.7/site-packages/ipykernel/__main__.py:5: FutureWarning: by argument to sort_index is deprecated, pls use .sort_values(by=...)\n"
     ]
    },
    {
     "data": {
      "text/html": [
       "<div>\n",
       "<table border=\"1\" class=\"dataframe\">\n",
       "  <thead>\n",
       "    <tr style=\"text-align: right;\">\n",
       "      <th></th>\n",
       "      <th>risk_category</th>\n",
       "    </tr>\n",
       "    <tr>\n",
       "      <th>postal_code</th>\n",
       "      <th></th>\n",
       "    </tr>\n",
       "  </thead>\n",
       "  <tbody>\n",
       "    <tr>\n",
       "      <th>94133</th>\n",
       "      <td>618</td>\n",
       "    </tr>\n",
       "    <tr>\n",
       "      <th>94103</th>\n",
       "      <td>569</td>\n",
       "    </tr>\n",
       "    <tr>\n",
       "      <th>94110</th>\n",
       "      <td>556</td>\n",
       "    </tr>\n",
       "    <tr>\n",
       "      <th>94122</th>\n",
       "      <td>460</td>\n",
       "    </tr>\n",
       "    <tr>\n",
       "      <th>94109</th>\n",
       "      <td>459</td>\n",
       "    </tr>\n",
       "  </tbody>\n",
       "</table>\n",
       "</div>"
      ],
      "text/plain": [
       "             risk_category\n",
       "postal_code               \n",
       "94133                  618\n",
       "94103                  569\n",
       "94110                  556\n",
       "94122                  460\n",
       "94109                  459"
      ]
     },
     "execution_count": 312,
     "metadata": {},
     "output_type": "execute_result"
    }
   ],
   "source": [
    "# 5 Which zip code contains the most high risk violations?\n",
    "\n",
    "#restaurant_scores[['postal_code', 'risk_category']][restaurant_scores.risk_category=='High Risk'].head(10)\n",
    "\n",
    "restaurant_scores[['postal_code', 'risk_category']][restaurant_scores.risk_category==\"High Risk\"].groupby('postal_code').count().sort_index(by='risk_category', ascending=False).head(5)\n",
    "\n",
    "# 94133"
   ]
  },
  {
   "cell_type": "code",
   "execution_count": 80,
   "metadata": {
    "collapsed": false
   },
   "outputs": [
    {
     "data": {
      "text/html": [
       "<div>\n",
       "<table border=\"1\" class=\"dataframe\">\n",
       "  <thead>\n",
       "    <tr style=\"text-align: right;\">\n",
       "      <th></th>\n",
       "      <th>type</th>\n",
       "    </tr>\n",
       "    <tr>\n",
       "      <th>risk_category</th>\n",
       "      <th></th>\n",
       "    </tr>\n",
       "  </thead>\n",
       "  <tbody>\n",
       "    <tr>\n",
       "      <th>High Risk</th>\n",
       "      <td>148</td>\n",
       "    </tr>\n",
       "    <tr>\n",
       "      <th>Low Risk</th>\n",
       "      <td>553</td>\n",
       "    </tr>\n",
       "    <tr>\n",
       "      <th>Moderate Risk</th>\n",
       "      <td>419</td>\n",
       "    </tr>\n",
       "  </tbody>\n",
       "</table>\n",
       "</div>"
      ],
      "text/plain": [
       "               type\n",
       "risk_category      \n",
       "High Risk       148\n",
       "Low Risk        553\n",
       "Moderate Risk   419"
      ]
     },
     "execution_count": 80,
     "metadata": {},
     "output_type": "execute_result"
    }
   ],
   "source": [
    "# 6 If inspection is prompted by a change in restaurant ownership, \n",
    "# is the inspection more likely to be categorized as higher or lower risk?\n",
    "\n",
    "restaurant_scores[['type', 'risk_category']][restaurant_scores.type=='New Ownership'].groupby('risk_category').count()\n",
    "\n",
    "# Low Risk"
   ]
  },
  {
   "cell_type": "code",
   "execution_count": 85,
   "metadata": {
    "collapsed": false
   },
   "outputs": [
    {
     "data": {
      "text/plain": [
       "Unclean or degraded floors walls or ceilings                          3746\n",
       "Moderate risk food holding temperature                                2862\n",
       "Inadequate and inaccessible handwashing facilities                    2689\n",
       "Unapproved or unmaintained equipment or utensils                      2598\n",
       "Wiping cloths not clean or properly stored or inadequate sanitizer    2504\n",
       "Name: description, dtype: int64"
      ]
     },
     "execution_count": 85,
     "metadata": {},
     "output_type": "execute_result"
    }
   ],
   "source": [
    "# 7 Examining the descriptions, what is the most common violation?\n",
    "\n",
    "restaurant_scores.description.value_counts().head(5)\n",
    "\n",
    "# Unclean or degraded floors walls or ceilings"
   ]
  },
  {
   "cell_type": "code",
   "execution_count": 95,
   "metadata": {
    "collapsed": false
   },
   "outputs": [
    {
     "data": {
      "text/plain": [
       "<matplotlib.axes._subplots.AxesSubplot at 0x11ccd3750>"
      ]
     },
     "execution_count": 95,
     "metadata": {},
     "output_type": "execute_result"
    },
    {
     "data": {
      "image/png": "[encoded data removed]",
      "text/plain": [
       "<matplotlib.figure.Figure at 0x11cd17490>"
      ]
     },
     "metadata": {},
     "output_type": "display_data"
    }
   ],
   "source": [
    "# 8 Create a hist of the scores with 10 bins\n",
    "\n",
    "#restaurant_scores.score.value_counts().plot(kind='hist', bins=10, title='Inspection Scores')\n",
    "\n",
    "restaurant_scores.score.value_counts().hist(bins=10)"
   ]
  },
  {
   "cell_type": "code",
   "execution_count": 87,
   "metadata": {
    "collapsed": true
   },
   "outputs": [],
   "source": [
    "# 9 Can you predict risk category based on the other features in this dataset?\n",
    "\n",
    "# Yes. Based on type.\n",
    "\n",
    "\n",
    "\n",
    "\n",
    "\n",
    "\n",
    "\n",
    "\n",
    "\n",
    "\n",
    "\n"
   ]
  },
  {
   "cell_type": "code",
   "execution_count": null,
   "metadata": {
    "collapsed": true
   },
   "outputs": [],
   "source": [
    "# 10 Extra Credit:\n",
    "# Use Instagram location API to find pictures taken at the lat, long of the most High Risk restaurant\n",
    "# https://www.instagram.com/developer/endpoints/locations/\n",
    "\n"
   ]
  },
  {
   "cell_type": "code",
   "execution_count": null,
   "metadata": {
    "collapsed": true
   },
   "outputs": [],
   "source": [
    "############################\n",
    "### A Little More Morbid ###\n",
    "############################"
   ]
  },
  {
   "cell_type": "code",
   "execution_count": 96,
   "metadata": {
    "collapsed": false
   },
   "outputs": [
    {
     "data": {
      "text/html": [
       "<div>\n",
       "<table border=\"1\" class=\"dataframe\">\n",
       "  <thead>\n",
       "    <tr style=\"text-align: right;\">\n",
       "      <th></th>\n",
       "      <th>Unnamed: 0</th>\n",
       "      <th>name</th>\n",
       "      <th>age</th>\n",
       "      <th>gender</th>\n",
       "      <th>raceethnicity</th>\n",
       "      <th>month</th>\n",
       "      <th>day</th>\n",
       "      <th>year</th>\n",
       "      <th>streetaddress</th>\n",
       "      <th>city</th>\n",
       "      <th>state</th>\n",
       "      <th>lawenforcementagency</th>\n",
       "      <th>cause</th>\n",
       "      <th>armed</th>\n",
       "      <th>county_income</th>\n",
       "    </tr>\n",
       "  </thead>\n",
       "  <tbody>\n",
       "    <tr>\n",
       "      <th>0</th>\n",
       "      <td>0</td>\n",
       "      <td>A'donte Washington</td>\n",
       "      <td>16</td>\n",
       "      <td>Male</td>\n",
       "      <td>Black</td>\n",
       "      <td>February</td>\n",
       "      <td>23</td>\n",
       "      <td>2015</td>\n",
       "      <td>Clearview Ln</td>\n",
       "      <td>Millbrook</td>\n",
       "      <td>AL</td>\n",
       "      <td>Millbrook Police Department</td>\n",
       "      <td>Gunshot</td>\n",
       "      <td>No</td>\n",
       "      <td>54766</td>\n",
       "    </tr>\n",
       "    <tr>\n",
       "      <th>1</th>\n",
       "      <td>1</td>\n",
       "      <td>Aaron Rutledge</td>\n",
       "      <td>27</td>\n",
       "      <td>Male</td>\n",
       "      <td>White</td>\n",
       "      <td>April</td>\n",
       "      <td>2</td>\n",
       "      <td>2015</td>\n",
       "      <td>300 block Iris Park Dr</td>\n",
       "      <td>Pineville</td>\n",
       "      <td>LA</td>\n",
       "      <td>Rapides Parish Sheriff's Office</td>\n",
       "      <td>Gunshot</td>\n",
       "      <td>No</td>\n",
       "      <td>40930</td>\n",
       "    </tr>\n",
       "    <tr>\n",
       "      <th>2</th>\n",
       "      <td>2</td>\n",
       "      <td>Aaron Siler</td>\n",
       "      <td>26</td>\n",
       "      <td>Male</td>\n",
       "      <td>White</td>\n",
       "      <td>March</td>\n",
       "      <td>14</td>\n",
       "      <td>2015</td>\n",
       "      <td>22nd Ave and 56th St</td>\n",
       "      <td>Kenosha</td>\n",
       "      <td>WI</td>\n",
       "      <td>Kenosha Police Department</td>\n",
       "      <td>Gunshot</td>\n",
       "      <td>No</td>\n",
       "      <td>54930</td>\n",
       "    </tr>\n",
       "    <tr>\n",
       "      <th>3</th>\n",
       "      <td>3</td>\n",
       "      <td>Aaron Valdez</td>\n",
       "      <td>25</td>\n",
       "      <td>Male</td>\n",
       "      <td>Hispanic/Latino</td>\n",
       "      <td>March</td>\n",
       "      <td>11</td>\n",
       "      <td>2015</td>\n",
       "      <td>3000 Seminole Ave</td>\n",
       "      <td>South Gate</td>\n",
       "      <td>CA</td>\n",
       "      <td>South Gate Police Department</td>\n",
       "      <td>Gunshot</td>\n",
       "      <td>Firearm</td>\n",
       "      <td>55909</td>\n",
       "    </tr>\n",
       "    <tr>\n",
       "      <th>4</th>\n",
       "      <td>4</td>\n",
       "      <td>Adam Jovicic</td>\n",
       "      <td>29</td>\n",
       "      <td>Male</td>\n",
       "      <td>White</td>\n",
       "      <td>March</td>\n",
       "      <td>19</td>\n",
       "      <td>2015</td>\n",
       "      <td>364 Hiwood Ave</td>\n",
       "      <td>Munroe Falls</td>\n",
       "      <td>OH</td>\n",
       "      <td>Kent Police Department</td>\n",
       "      <td>Gunshot</td>\n",
       "      <td>No</td>\n",
       "      <td>49669</td>\n",
       "    </tr>\n",
       "  </tbody>\n",
       "</table>\n",
       "</div>"
      ],
      "text/plain": [
       "   Unnamed: 0                name  age gender    raceethnicity     month  day  \\\n",
       "0           0  A'donte Washington   16   Male            Black  February   23   \n",
       "1           1      Aaron Rutledge   27   Male            White     April    2   \n",
       "2           2         Aaron Siler   26   Male            White     March   14   \n",
       "3           3        Aaron Valdez   25   Male  Hispanic/Latino     March   11   \n",
       "4           4        Adam Jovicic   29   Male            White     March   19   \n",
       "\n",
       "   year           streetaddress          city state  \\\n",
       "0  2015            Clearview Ln     Millbrook    AL   \n",
       "1  2015  300 block Iris Park Dr     Pineville    LA   \n",
       "2  2015    22nd Ave and 56th St       Kenosha    WI   \n",
       "3  2015       3000 Seminole Ave    South Gate    CA   \n",
       "4  2015          364 Hiwood Ave  Munroe Falls    OH   \n",
       "\n",
       "              lawenforcementagency    cause    armed  county_income  \n",
       "0      Millbrook Police Department  Gunshot       No          54766  \n",
       "1  Rapides Parish Sheriff's Office  Gunshot       No          40930  \n",
       "2        Kenosha Police Department  Gunshot       No          54930  \n",
       "3     South Gate Police Department  Gunshot  Firearm          55909  \n",
       "4           Kent Police Department  Gunshot       No          49669  "
      ]
     },
     "execution_count": 96,
     "metadata": {},
     "output_type": "execute_result"
    }
   ],
   "source": [
    "killings = pd.read_csv('./data/police-killings.csv')\n",
    "killings.head()"
   ]
  },
  {
   "cell_type": "code",
   "execution_count": 98,
   "metadata": {
    "collapsed": false
   },
   "outputs": [
    {
     "data": {
      "text/html": [
       "<div>\n",
       "<table border=\"1\" class=\"dataframe\">\n",
       "  <thead>\n",
       "    <tr style=\"text-align: right;\">\n",
       "      <th></th>\n",
       "      <th>Unnamed: 0</th>\n",
       "      <th>name</th>\n",
       "      <th>age</th>\n",
       "      <th>gender</th>\n",
       "      <th>race</th>\n",
       "      <th>month</th>\n",
       "      <th>day</th>\n",
       "      <th>year</th>\n",
       "      <th>streetaddress</th>\n",
       "      <th>city</th>\n",
       "      <th>state</th>\n",
       "      <th>agency</th>\n",
       "      <th>cause</th>\n",
       "      <th>armed</th>\n",
       "      <th>county_income</th>\n",
       "    </tr>\n",
       "  </thead>\n",
       "  <tbody>\n",
       "    <tr>\n",
       "      <th>0</th>\n",
       "      <td>0</td>\n",
       "      <td>A'donte Washington</td>\n",
       "      <td>16</td>\n",
       "      <td>Male</td>\n",
       "      <td>Black</td>\n",
       "      <td>February</td>\n",
       "      <td>23</td>\n",
       "      <td>2015</td>\n",
       "      <td>Clearview Ln</td>\n",
       "      <td>Millbrook</td>\n",
       "      <td>AL</td>\n",
       "      <td>Millbrook Police Department</td>\n",
       "      <td>Gunshot</td>\n",
       "      <td>No</td>\n",
       "      <td>54766</td>\n",
       "    </tr>\n",
       "    <tr>\n",
       "      <th>1</th>\n",
       "      <td>1</td>\n",
       "      <td>Aaron Rutledge</td>\n",
       "      <td>27</td>\n",
       "      <td>Male</td>\n",
       "      <td>White</td>\n",
       "      <td>April</td>\n",
       "      <td>2</td>\n",
       "      <td>2015</td>\n",
       "      <td>300 block Iris Park Dr</td>\n",
       "      <td>Pineville</td>\n",
       "      <td>LA</td>\n",
       "      <td>Rapides Parish Sheriff's Office</td>\n",
       "      <td>Gunshot</td>\n",
       "      <td>No</td>\n",
       "      <td>40930</td>\n",
       "    </tr>\n",
       "    <tr>\n",
       "      <th>2</th>\n",
       "      <td>2</td>\n",
       "      <td>Aaron Siler</td>\n",
       "      <td>26</td>\n",
       "      <td>Male</td>\n",
       "      <td>White</td>\n",
       "      <td>March</td>\n",
       "      <td>14</td>\n",
       "      <td>2015</td>\n",
       "      <td>22nd Ave and 56th St</td>\n",
       "      <td>Kenosha</td>\n",
       "      <td>WI</td>\n",
       "      <td>Kenosha Police Department</td>\n",
       "      <td>Gunshot</td>\n",
       "      <td>No</td>\n",
       "      <td>54930</td>\n",
       "    </tr>\n",
       "    <tr>\n",
       "      <th>3</th>\n",
       "      <td>3</td>\n",
       "      <td>Aaron Valdez</td>\n",
       "      <td>25</td>\n",
       "      <td>Male</td>\n",
       "      <td>Hispanic/Latino</td>\n",
       "      <td>March</td>\n",
       "      <td>11</td>\n",
       "      <td>2015</td>\n",
       "      <td>3000 Seminole Ave</td>\n",
       "      <td>South Gate</td>\n",
       "      <td>CA</td>\n",
       "      <td>South Gate Police Department</td>\n",
       "      <td>Gunshot</td>\n",
       "      <td>Firearm</td>\n",
       "      <td>55909</td>\n",
       "    </tr>\n",
       "    <tr>\n",
       "      <th>4</th>\n",
       "      <td>4</td>\n",
       "      <td>Adam Jovicic</td>\n",
       "      <td>29</td>\n",
       "      <td>Male</td>\n",
       "      <td>White</td>\n",
       "      <td>March</td>\n",
       "      <td>19</td>\n",
       "      <td>2015</td>\n",
       "      <td>364 Hiwood Ave</td>\n",
       "      <td>Munroe Falls</td>\n",
       "      <td>OH</td>\n",
       "      <td>Kent Police Department</td>\n",
       "      <td>Gunshot</td>\n",
       "      <td>No</td>\n",
       "      <td>49669</td>\n",
       "    </tr>\n",
       "  </tbody>\n",
       "</table>\n",
       "</div>"
      ],
      "text/plain": [
       "   Unnamed: 0                name  age gender             race     month  day  \\\n",
       "0           0  A'donte Washington   16   Male            Black  February   23   \n",
       "1           1      Aaron Rutledge   27   Male            White     April    2   \n",
       "2           2         Aaron Siler   26   Male            White     March   14   \n",
       "3           3        Aaron Valdez   25   Male  Hispanic/Latino     March   11   \n",
       "4           4        Adam Jovicic   29   Male            White     March   19   \n",
       "\n",
       "   year           streetaddress          city state  \\\n",
       "0  2015            Clearview Ln     Millbrook    AL   \n",
       "1  2015  300 block Iris Park Dr     Pineville    LA   \n",
       "2  2015    22nd Ave and 56th St       Kenosha    WI   \n",
       "3  2015       3000 Seminole Ave    South Gate    CA   \n",
       "4  2015          364 Hiwood Ave  Munroe Falls    OH   \n",
       "\n",
       "                            agency    cause    armed  county_income  \n",
       "0      Millbrook Police Department  Gunshot       No          54766  \n",
       "1  Rapides Parish Sheriff's Office  Gunshot       No          40930  \n",
       "2        Kenosha Police Department  Gunshot       No          54930  \n",
       "3     South Gate Police Department  Gunshot  Firearm          55909  \n",
       "4           Kent Police Department  Gunshot       No          49669  "
      ]
     },
     "execution_count": 98,
     "metadata": {},
     "output_type": "execute_result"
    }
   ],
   "source": [
    "# 1. Make the following changed to column names:\n",
    "# lawenforcementagency -> agency\n",
    "# raceethnicity        -> race\n",
    "\n",
    "killings.rename(columns={'lawenforcementagency': 'agency', 'raceethnicity': 'race'}, inplace=True)\n",
    "killings.head()\n"
   ]
  },
  {
   "cell_type": "code",
   "execution_count": 101,
   "metadata": {
    "collapsed": false
   },
   "outputs": [
    {
     "data": {
      "text/plain": [
       "Unnamed: 0       0\n",
       "name             0\n",
       "age              0\n",
       "gender           0\n",
       "race             0\n",
       "month            0\n",
       "day              0\n",
       "year             0\n",
       "streetaddress    4\n",
       "city             0\n",
       "state            0\n",
       "agency           0\n",
       "cause            0\n",
       "armed            0\n",
       "county_income    0\n",
       "dtype: int64"
      ]
     },
     "execution_count": 101,
     "metadata": {},
     "output_type": "execute_result"
    }
   ],
   "source": [
    "# 2. Show the count of missing values in each column\n",
    "\n",
    "killings.isnull().sum()\n"
   ]
  },
  {
   "cell_type": "code",
   "execution_count": 106,
   "metadata": {
    "collapsed": false
   },
   "outputs": [],
   "source": [
    "# 3. replace each null value in the dataframe with the string \"Unknown\"\n",
    "killings.fillna(value='Unknown', inplace=True)"
   ]
  },
  {
   "cell_type": "code",
   "execution_count": 107,
   "metadata": {
    "collapsed": false
   },
   "outputs": [
    {
     "data": {
      "text/plain": [
       "Unnamed: 0       0\n",
       "name             0\n",
       "age              0\n",
       "gender           0\n",
       "race             0\n",
       "month            0\n",
       "day              0\n",
       "year             0\n",
       "streetaddress    0\n",
       "city             0\n",
       "state            0\n",
       "agency           0\n",
       "cause            0\n",
       "armed            0\n",
       "county_income    0\n",
       "dtype: int64"
      ]
     },
     "execution_count": 107,
     "metadata": {},
     "output_type": "execute_result"
    }
   ],
   "source": [
    "killings.isnull().sum()"
   ]
  },
  {
   "cell_type": "code",
   "execution_count": 112,
   "metadata": {
    "collapsed": false
   },
   "outputs": [
    {
     "data": {
      "text/plain": [
       "2015    467\n",
       "Name: year, dtype: int64"
      ]
     },
     "execution_count": 112,
     "metadata": {},
     "output_type": "execute_result"
    }
   ],
   "source": [
    "# 4. How many killings were there so far in 2015?\n",
    "\n",
    "killings[killings.year==2015].year.value_counts()\n",
    "\n",
    "# 467"
   ]
  },
  {
   "cell_type": "code",
   "execution_count": 114,
   "metadata": {
    "collapsed": false
   },
   "outputs": [
    {
     "data": {
      "text/plain": [
       "Male      445\n",
       "Female     22\n",
       "Name: gender, dtype: int64"
      ]
     },
     "execution_count": 114,
     "metadata": {},
     "output_type": "execute_result"
    }
   ],
   "source": [
    "# 5. Of all killings, how many were male and how many female?\n",
    "\n",
    "killings.gender.value_counts()\n",
    "\n",
    "# Male: 445\n",
    "# Female: 22"
   ]
  },
  {
   "cell_type": "code",
   "execution_count": 120,
   "metadata": {
    "collapsed": false
   },
   "outputs": [
    {
     "data": {
      "text/plain": [
       "102"
      ]
     },
     "execution_count": 120,
     "metadata": {},
     "output_type": "execute_result"
    }
   ],
   "source": [
    "# 6. How many killings were of unarmed people?\n",
    "#killings[killings.armed=='No'].armed.value_counts()\n",
    "killings[killings.armed=='No'].armed.count()"
   ]
  },
  {
   "cell_type": "code",
   "execution_count": 123,
   "metadata": {
    "collapsed": false
   },
   "outputs": [
    {
     "data": {
      "text/plain": [
       "467"
      ]
     },
     "execution_count": 123,
     "metadata": {},
     "output_type": "execute_result"
    }
   ],
   "source": [
    "killings.shape[0]"
   ]
  },
  {
   "cell_type": "code",
   "execution_count": 130,
   "metadata": {
    "collapsed": false
   },
   "outputs": [
    {
     "name": "stdout",
     "output_type": "stream",
     "text": [
      "0.22\n"
     ]
    }
   ],
   "source": [
    "# 7. What percentage of all killings were unarmed?\n",
    "\n",
    "a = float(killings[killings.armed=='No'].armed.count())/killings.shape[0]\n",
    "print(\"%.2f\" % a)"
   ]
  },
  {
   "cell_type": "code",
   "execution_count": 132,
   "metadata": {
    "collapsed": false
   },
   "outputs": [
    {
     "data": {
      "text/plain": [
       "CA    74\n",
       "TX    46\n",
       "FL    29\n",
       "AZ    25\n",
       "OK    22\n",
       "Name: state, dtype: int64"
      ]
     },
     "execution_count": 132,
     "metadata": {},
     "output_type": "execute_result"
    }
   ],
   "source": [
    "# 8. What are the 5 states with the most killings?\n",
    "killings.state.value_counts().head(5)"
   ]
  },
  {
   "cell_type": "code",
   "execution_count": 134,
   "metadata": {
    "collapsed": false
   },
   "outputs": [
    {
     "data": {
      "text/plain": [
       "White                     236\n",
       "Black                     135\n",
       "Hispanic/Latino            67\n",
       "Unknown                    15\n",
       "Asian/Pacific Islander     10\n",
       "Native American             4\n",
       "Name: race, dtype: int64"
      ]
     },
     "execution_count": 134,
     "metadata": {},
     "output_type": "execute_result"
    }
   ],
   "source": [
    "# 9. Show a value counts of deaths for each race\n",
    "\n",
    "killings.race.value_counts()"
   ]
  },
  {
   "cell_type": "code",
   "execution_count": 137,
   "metadata": {
    "collapsed": false
   },
   "outputs": [
    {
     "data": {
      "text/plain": [
       "<matplotlib.axes._subplots.AxesSubplot at 0x11d2881d0>"
      ]
     },
     "execution_count": 137,
     "metadata": {},
     "output_type": "execute_result"
    },
    {
     "data": {
      "image/png": "[encoded data removed]",
      "text/plain": [
       "<matplotlib.figure.Figure at 0x11d2907d0>"
      ]
     },
     "metadata": {},
     "output_type": "display_data"
    }
   ],
   "source": [
    "# 10. Display a histogram of ages of all killings\n",
    "\n",
    "killings.age.hist()"
   ]
  },
  {
   "cell_type": "code",
   "execution_count": 140,
   "metadata": {
    "collapsed": false
   },
   "outputs": [
    {
     "data": {
      "text/plain": [
       "array([[<matplotlib.axes._subplots.AxesSubplot object at 0x11d220990>,\n",
       "        <matplotlib.axes._subplots.AxesSubplot object at 0x11d5d7290>],\n",
       "       [<matplotlib.axes._subplots.AxesSubplot object at 0x11d65a890>,\n",
       "        <matplotlib.axes._subplots.AxesSubplot object at 0x11d6bc7d0>],\n",
       "       [<matplotlib.axes._subplots.AxesSubplot object at 0x11d73dc50>,\n",
       "        <matplotlib.axes._subplots.AxesSubplot object at 0x11d796510>]], dtype=object)"
      ]
     },
     "execution_count": 140,
     "metadata": {},
     "output_type": "execute_result"
    },
    {
     "data": {
      "image/png": "[encoded data removed]",
      "text/plain": [
       "<matplotlib.figure.Figure at 0x11d419f10>"
      ]
     },
     "metadata": {},
     "output_type": "display_data"
    }
   ],
   "source": [
    "# 11. Show 6 histograms of ages by race\n",
    "killings.age.hist(by=killings.race)"
   ]
  },
  {
   "cell_type": "code",
   "execution_count": 146,
   "metadata": {
    "collapsed": false
   },
   "outputs": [
    {
     "data": {
      "text/plain": [
       "race\n",
       "Asian/Pacific Islander    40.800000\n",
       "Black                     34.044444\n",
       "Hispanic/Latino           31.716418\n",
       "Native American           27.750000\n",
       "Unknown                   43.533333\n",
       "White                     40.466102\n",
       "Name: age, dtype: float64"
      ]
     },
     "execution_count": 146,
     "metadata": {},
     "output_type": "execute_result"
    }
   ],
   "source": [
    "# 12. What is the average age of death by race?\n",
    "\n",
    "killings.groupby('race').age.mean()"
   ]
  },
  {
   "cell_type": "code",
   "execution_count": 151,
   "metadata": {
    "collapsed": false
   },
   "outputs": [
    {
     "data": {
      "text/plain": [
       "<matplotlib.axes._subplots.AxesSubplot at 0x11d29c790>"
      ]
     },
     "execution_count": 151,
     "metadata": {},
     "output_type": "execute_result"
    },
    {
     "data": {
      "image/png": "[encoded data removed]",
      "text/plain": [
       "<matplotlib.figure.Figure at 0x11e487250>"
      ]
     },
     "metadata": {},
     "output_type": "display_data"
    }
   ],
   "source": [
    "# 13. Show a bar chart with counts of deaths every month\n",
    "\n",
    "killings.month.value_counts().plot(kind='bar')"
   ]
  },
  {
   "cell_type": "code",
   "execution_count": null,
   "metadata": {
    "collapsed": true
   },
   "outputs": [],
   "source": [
    "###################\n",
    "### Less Morbid ###\n",
    "###################"
   ]
  },
  {
   "cell_type": "code",
   "execution_count": 170,
   "metadata": {
    "collapsed": false,
    "scrolled": true
   },
   "outputs": [
    {
     "data": {
      "text/html": [
       "<div>\n",
       "<table border=\"1\" class=\"dataframe\">\n",
       "  <thead>\n",
       "    <tr style=\"text-align: right;\">\n",
       "      <th></th>\n",
       "      <th>Unnamed: 0</th>\n",
       "      <th>Major_code</th>\n",
       "      <th>Major</th>\n",
       "      <th>Major_category</th>\n",
       "      <th>Total</th>\n",
       "      <th>Employed</th>\n",
       "      <th>Employed_full_time_year_round</th>\n",
       "      <th>Unemployed</th>\n",
       "      <th>Unemployment_rate</th>\n",
       "      <th>Median</th>\n",
       "      <th>P25th</th>\n",
       "      <th>P75th</th>\n",
       "    </tr>\n",
       "  </thead>\n",
       "  <tbody>\n",
       "    <tr>\n",
       "      <th>0</th>\n",
       "      <td>0</td>\n",
       "      <td>1100</td>\n",
       "      <td>GENERAL AGRICULTURE</td>\n",
       "      <td>Agriculture &amp; Natural Resources</td>\n",
       "      <td>128148</td>\n",
       "      <td>90245</td>\n",
       "      <td>74078</td>\n",
       "      <td>2423</td>\n",
       "      <td>0.026147</td>\n",
       "      <td>50000</td>\n",
       "      <td>34000</td>\n",
       "      <td>80000.0</td>\n",
       "    </tr>\n",
       "    <tr>\n",
       "      <th>1</th>\n",
       "      <td>1</td>\n",
       "      <td>1101</td>\n",
       "      <td>AGRICULTURE PRODUCTION AND MANAGEMENT</td>\n",
       "      <td>Agriculture &amp; Natural Resources</td>\n",
       "      <td>95326</td>\n",
       "      <td>76865</td>\n",
       "      <td>64240</td>\n",
       "      <td>2266</td>\n",
       "      <td>0.028636</td>\n",
       "      <td>54000</td>\n",
       "      <td>36000</td>\n",
       "      <td>80000.0</td>\n",
       "    </tr>\n",
       "    <tr>\n",
       "      <th>2</th>\n",
       "      <td>2</td>\n",
       "      <td>1102</td>\n",
       "      <td>AGRICULTURAL ECONOMICS</td>\n",
       "      <td>Agriculture &amp; Natural Resources</td>\n",
       "      <td>33955</td>\n",
       "      <td>26321</td>\n",
       "      <td>22810</td>\n",
       "      <td>821</td>\n",
       "      <td>0.030248</td>\n",
       "      <td>63000</td>\n",
       "      <td>40000</td>\n",
       "      <td>98000.0</td>\n",
       "    </tr>\n",
       "    <tr>\n",
       "      <th>3</th>\n",
       "      <td>3</td>\n",
       "      <td>1103</td>\n",
       "      <td>ANIMAL SCIENCES</td>\n",
       "      <td>Agriculture &amp; Natural Resources</td>\n",
       "      <td>103549</td>\n",
       "      <td>81177</td>\n",
       "      <td>64937</td>\n",
       "      <td>3619</td>\n",
       "      <td>0.042679</td>\n",
       "      <td>46000</td>\n",
       "      <td>30000</td>\n",
       "      <td>72000.0</td>\n",
       "    </tr>\n",
       "    <tr>\n",
       "      <th>4</th>\n",
       "      <td>4</td>\n",
       "      <td>1104</td>\n",
       "      <td>FOOD SCIENCE</td>\n",
       "      <td>Agriculture &amp; Natural Resources</td>\n",
       "      <td>24280</td>\n",
       "      <td>17281</td>\n",
       "      <td>12722</td>\n",
       "      <td>894</td>\n",
       "      <td>0.049188</td>\n",
       "      <td>62000</td>\n",
       "      <td>38500</td>\n",
       "      <td>90000.0</td>\n",
       "    </tr>\n",
       "  </tbody>\n",
       "</table>\n",
       "</div>"
      ],
      "text/plain": [
       "   Unnamed: 0  Major_code                                  Major  \\\n",
       "0           0        1100                    GENERAL AGRICULTURE   \n",
       "1           1        1101  AGRICULTURE PRODUCTION AND MANAGEMENT   \n",
       "2           2        1102                 AGRICULTURAL ECONOMICS   \n",
       "3           3        1103                        ANIMAL SCIENCES   \n",
       "4           4        1104                           FOOD SCIENCE   \n",
       "\n",
       "                    Major_category   Total  Employed  \\\n",
       "0  Agriculture & Natural Resources  128148     90245   \n",
       "1  Agriculture & Natural Resources   95326     76865   \n",
       "2  Agriculture & Natural Resources   33955     26321   \n",
       "3  Agriculture & Natural Resources  103549     81177   \n",
       "4  Agriculture & Natural Resources   24280     17281   \n",
       "\n",
       "   Employed_full_time_year_round  Unemployed  Unemployment_rate  Median  \\\n",
       "0                          74078        2423           0.026147   50000   \n",
       "1                          64240        2266           0.028636   54000   \n",
       "2                          22810         821           0.030248   63000   \n",
       "3                          64937        3619           0.042679   46000   \n",
       "4                          12722         894           0.049188   62000   \n",
       "\n",
       "   P25th    P75th  \n",
       "0  34000  80000.0  \n",
       "1  36000  80000.0  \n",
       "2  40000  98000.0  \n",
       "3  30000  72000.0  \n",
       "4  38500  90000.0  "
      ]
     },
     "execution_count": 170,
     "metadata": {},
     "output_type": "execute_result"
    }
   ],
   "source": [
    "majors = pd.read_csv('./data/college-majors.csv')\n",
    "majors.head()"
   ]
  },
  {
   "cell_type": "code",
   "execution_count": 171,
   "metadata": {
    "collapsed": true
   },
   "outputs": [],
   "source": [
    "majors.columns = [i.replace(' ','_').lower() for i in majors.columns]\n"
   ]
  },
  {
   "cell_type": "code",
   "execution_count": 172,
   "metadata": {
    "collapsed": false
   },
   "outputs": [],
   "source": [
    "# 1. Delete the columns (employed_full_time_year_round, major_code)\n",
    "\n",
    "del majors['employed_full_time_year_round']\n",
    "del majors['major_code']"
   ]
  },
  {
   "cell_type": "code",
   "execution_count": 173,
   "metadata": {
    "collapsed": false
   },
   "outputs": [
    {
     "data": {
      "text/html": [
       "<div>\n",
       "<table border=\"1\" class=\"dataframe\">\n",
       "  <thead>\n",
       "    <tr style=\"text-align: right;\">\n",
       "      <th></th>\n",
       "      <th>unnamed:_0</th>\n",
       "      <th>major</th>\n",
       "      <th>major_category</th>\n",
       "      <th>total</th>\n",
       "      <th>employed</th>\n",
       "      <th>unemployed</th>\n",
       "      <th>unemployment_rate</th>\n",
       "      <th>median</th>\n",
       "      <th>p25th</th>\n",
       "      <th>p75th</th>\n",
       "    </tr>\n",
       "  </thead>\n",
       "  <tbody>\n",
       "    <tr>\n",
       "      <th>0</th>\n",
       "      <td>0</td>\n",
       "      <td>GENERAL AGRICULTURE</td>\n",
       "      <td>Agriculture &amp; Natural Resources</td>\n",
       "      <td>128148</td>\n",
       "      <td>90245</td>\n",
       "      <td>2423</td>\n",
       "      <td>0.026147</td>\n",
       "      <td>50000</td>\n",
       "      <td>34000</td>\n",
       "      <td>80000.0</td>\n",
       "    </tr>\n",
       "    <tr>\n",
       "      <th>1</th>\n",
       "      <td>1</td>\n",
       "      <td>AGRICULTURE PRODUCTION AND MANAGEMENT</td>\n",
       "      <td>Agriculture &amp; Natural Resources</td>\n",
       "      <td>95326</td>\n",
       "      <td>76865</td>\n",
       "      <td>2266</td>\n",
       "      <td>0.028636</td>\n",
       "      <td>54000</td>\n",
       "      <td>36000</td>\n",
       "      <td>80000.0</td>\n",
       "    </tr>\n",
       "    <tr>\n",
       "      <th>2</th>\n",
       "      <td>2</td>\n",
       "      <td>AGRICULTURAL ECONOMICS</td>\n",
       "      <td>Agriculture &amp; Natural Resources</td>\n",
       "      <td>33955</td>\n",
       "      <td>26321</td>\n",
       "      <td>821</td>\n",
       "      <td>0.030248</td>\n",
       "      <td>63000</td>\n",
       "      <td>40000</td>\n",
       "      <td>98000.0</td>\n",
       "    </tr>\n",
       "    <tr>\n",
       "      <th>3</th>\n",
       "      <td>3</td>\n",
       "      <td>ANIMAL SCIENCES</td>\n",
       "      <td>Agriculture &amp; Natural Resources</td>\n",
       "      <td>103549</td>\n",
       "      <td>81177</td>\n",
       "      <td>3619</td>\n",
       "      <td>0.042679</td>\n",
       "      <td>46000</td>\n",
       "      <td>30000</td>\n",
       "      <td>72000.0</td>\n",
       "    </tr>\n",
       "    <tr>\n",
       "      <th>4</th>\n",
       "      <td>4</td>\n",
       "      <td>FOOD SCIENCE</td>\n",
       "      <td>Agriculture &amp; Natural Resources</td>\n",
       "      <td>24280</td>\n",
       "      <td>17281</td>\n",
       "      <td>894</td>\n",
       "      <td>0.049188</td>\n",
       "      <td>62000</td>\n",
       "      <td>38500</td>\n",
       "      <td>90000.0</td>\n",
       "    </tr>\n",
       "  </tbody>\n",
       "</table>\n",
       "</div>"
      ],
      "text/plain": [
       "   unnamed:_0                                  major  \\\n",
       "0           0                    GENERAL AGRICULTURE   \n",
       "1           1  AGRICULTURE PRODUCTION AND MANAGEMENT   \n",
       "2           2                 AGRICULTURAL ECONOMICS   \n",
       "3           3                        ANIMAL SCIENCES   \n",
       "4           4                           FOOD SCIENCE   \n",
       "\n",
       "                    major_category   total  employed  unemployed  \\\n",
       "0  Agriculture & Natural Resources  128148     90245        2423   \n",
       "1  Agriculture & Natural Resources   95326     76865        2266   \n",
       "2  Agriculture & Natural Resources   33955     26321         821   \n",
       "3  Agriculture & Natural Resources  103549     81177        3619   \n",
       "4  Agriculture & Natural Resources   24280     17281         894   \n",
       "\n",
       "   unemployment_rate  median  p25th    p75th  \n",
       "0           0.026147   50000  34000  80000.0  \n",
       "1           0.028636   54000  36000  80000.0  \n",
       "2           0.030248   63000  40000  98000.0  \n",
       "3           0.042679   46000  30000  72000.0  \n",
       "4           0.049188   62000  38500  90000.0  "
      ]
     },
     "execution_count": 173,
     "metadata": {},
     "output_type": "execute_result"
    }
   ],
   "source": [
    "majors.head()"
   ]
  },
  {
   "cell_type": "code",
   "execution_count": 164,
   "metadata": {
    "collapsed": false
   },
   "outputs": [
    {
     "data": {
      "text/plain": [
       "Unnamed: 0           0\n",
       "Major                0\n",
       "Major_category       0\n",
       "Total                0\n",
       "Employed             0\n",
       "Unemployed           0\n",
       "Unemployment_rate    0\n",
       "Median               0\n",
       "P25th                0\n",
       "P75th                0\n",
       "dtype: int64"
      ]
     },
     "execution_count": 164,
     "metadata": {},
     "output_type": "execute_result"
    }
   ],
   "source": [
    "# 2. Show the cout of missing values in each column\n",
    "\n",
    "majors.isnull().sum()"
   ]
  },
  {
   "cell_type": "code",
   "execution_count": 177,
   "metadata": {
    "collapsed": false
   },
   "outputs": [
    {
     "name": "stderr",
     "output_type": "stream",
     "text": [
      "/Users/laushon/anaconda/envs/sfdat26/lib/python2.7/site-packages/ipykernel/__main__.py:3: FutureWarning: by argument to sort_index is deprecated, pls use .sort_values(by=...)\n",
      "  app.launch_new_instance()\n"
     ]
    },
    {
     "data": {
      "text/html": [
       "<div>\n",
       "<table border=\"1\" class=\"dataframe\">\n",
       "  <thead>\n",
       "    <tr style=\"text-align: right;\">\n",
       "      <th></th>\n",
       "      <th>major</th>\n",
       "      <th>median</th>\n",
       "    </tr>\n",
       "  </thead>\n",
       "  <tbody>\n",
       "    <tr>\n",
       "      <th>59</th>\n",
       "      <td>PETROLEUM ENGINEERING</td>\n",
       "      <td>125000</td>\n",
       "    </tr>\n",
       "    <tr>\n",
       "      <th>154</th>\n",
       "      <td>PHARMACY PHARMACEUTICAL SCIENCES AND ADMINISTR...</td>\n",
       "      <td>106000</td>\n",
       "    </tr>\n",
       "    <tr>\n",
       "      <th>57</th>\n",
       "      <td>NAVAL ARCHITECTURE AND MARINE ENGINEERING</td>\n",
       "      <td>97000</td>\n",
       "    </tr>\n",
       "    <tr>\n",
       "      <th>55</th>\n",
       "      <td>METALLURGICAL ENGINEERING</td>\n",
       "      <td>96000</td>\n",
       "    </tr>\n",
       "    <tr>\n",
       "      <th>58</th>\n",
       "      <td>NUCLEAR ENGINEERING</td>\n",
       "      <td>95000</td>\n",
       "    </tr>\n",
       "    <tr>\n",
       "      <th>56</th>\n",
       "      <td>MINING AND MINERAL ENGINEERING</td>\n",
       "      <td>92000</td>\n",
       "    </tr>\n",
       "    <tr>\n",
       "      <th>97</th>\n",
       "      <td>MATHEMATICS AND COMPUTER SCIENCE</td>\n",
       "      <td>92000</td>\n",
       "    </tr>\n",
       "    <tr>\n",
       "      <th>48</th>\n",
       "      <td>ELECTRICAL ENGINEERING</td>\n",
       "      <td>88000</td>\n",
       "    </tr>\n",
       "    <tr>\n",
       "      <th>45</th>\n",
       "      <td>CHEMICAL ENGINEERING</td>\n",
       "      <td>86000</td>\n",
       "    </tr>\n",
       "    <tr>\n",
       "      <th>51</th>\n",
       "      <td>GEOLOGICAL AND GEOPHYSICAL ENGINEERING</td>\n",
       "      <td>85000</td>\n",
       "    </tr>\n",
       "  </tbody>\n",
       "</table>\n",
       "</div>"
      ],
      "text/plain": [
       "                                                 major  median\n",
       "59                               PETROLEUM ENGINEERING  125000\n",
       "154  PHARMACY PHARMACEUTICAL SCIENCES AND ADMINISTR...  106000\n",
       "57           NAVAL ARCHITECTURE AND MARINE ENGINEERING   97000\n",
       "55                           METALLURGICAL ENGINEERING   96000\n",
       "58                                 NUCLEAR ENGINEERING   95000\n",
       "56                      MINING AND MINERAL ENGINEERING   92000\n",
       "97                    MATHEMATICS AND COMPUTER SCIENCE   92000\n",
       "48                              ELECTRICAL ENGINEERING   88000\n",
       "45                                CHEMICAL ENGINEERING   86000\n",
       "51              GEOLOGICAL AND GEOPHYSICAL ENGINEERING   85000"
      ]
     },
     "execution_count": 177,
     "metadata": {},
     "output_type": "execute_result"
    }
   ],
   "source": [
    "# 3. What are the top 10 highest paying majors?\n",
    "\n",
    "majors[['major', 'median']].sort_index(by='median', ascending=False).head(10)"
   ]
  },
  {
   "cell_type": "code",
   "execution_count": 205,
   "metadata": {
    "collapsed": false
   },
   "outputs": [
    {
     "name": "stderr",
     "output_type": "stream",
     "text": [
      "/Users/laushon/anaconda/envs/sfdat26/lib/python2.7/site-packages/ipykernel/__main__.py:2: FutureWarning: by argument to sort_index is deprecated, pls use .sort_values(by=...)\n",
      "  from ipykernel import kernelapp as app\n"
     ]
    },
    {
     "data": {
      "text/plain": [
       "<matplotlib.text.Text at 0x123888210>"
      ]
     },
     "execution_count": 205,
     "metadata": {},
     "output_type": "execute_result"
    },
    {
     "data": {
      "image/png": "[encoded data removed]",
      "text/plain": [
       "<matplotlib.figure.Figure at 0x123b1d8d0>"
      ]
     },
     "metadata": {},
     "output_type": "display_data"
    }
   ],
   "source": [
    "# 4. Plot the data from the last question in a bar chart, include proper title, and labels!\n",
    "topten = majors[['major', 'median']].sort_index(by='median', ascending=False).head(10)\n",
    "topten.plot(kind='bar', x='major', y='median', title='top 10 highest paying majors')\n",
    "plt.xlabel('Major')\n",
    "plt.ylabel('Salary')"
   ]
  },
  {
   "cell_type": "code",
   "execution_count": 216,
   "metadata": {
    "collapsed": false
   },
   "outputs": [
    {
     "data": {
      "text/plain": [
       "major_category\n",
       "Agriculture & Natural Resources        55000.000000\n",
       "Arts                                   43525.000000\n",
       "Biology & Life Science                 50821.428571\n",
       "Business                               60615.384615\n",
       "Communications & Journalism            49500.000000\n",
       "Computers & Mathematics                66272.727273\n",
       "Education                              43831.250000\n",
       "Engineering                            77758.620690\n",
       "Health                                 56458.333333\n",
       "Humanities & Liberal Arts              46080.000000\n",
       "Industrial Arts & Consumer Services    52642.857143\n",
       "Interdisciplinary                      43000.000000\n",
       "Law & Public Policy                    52800.000000\n",
       "Physical Sciences                      62400.000000\n",
       "Psychology & Social Work               44555.555556\n",
       "Social Science                         53222.222222\n",
       "Name: median_sal, dtype: float64"
      ]
     },
     "execution_count": 216,
     "metadata": {},
     "output_type": "execute_result"
    }
   ],
   "source": [
    "# 5. What is the average median salary for each major category?\n",
    "majors.rename(columns={'median': 'median_sal'}, inplace=True)\n",
    "majors.groupby('major_category').median_sal.mean()\n"
   ]
  },
  {
   "cell_type": "code",
   "execution_count": 245,
   "metadata": {
    "collapsed": false
   },
   "outputs": [],
   "source": [
    "# 6. Show only the top 5 paying major categories\n",
    "\n",
    "top_five_categories = majors.groupby('major_category').median_sal.mean().to_frame(name='avg_median_salary')\n",
    "top_five_categories.colums = ['major_categor', 'avg_median_salary']\n"
   ]
  },
  {
   "cell_type": "code",
   "execution_count": 254,
   "metadata": {
    "collapsed": false
   },
   "outputs": [
    {
     "data": {
      "text/html": [
       "<div>\n",
       "<table border=\"1\" class=\"dataframe\">\n",
       "  <thead>\n",
       "    <tr style=\"text-align: right;\">\n",
       "      <th></th>\n",
       "      <th>avg_median_salary</th>\n",
       "    </tr>\n",
       "    <tr>\n",
       "      <th>major_category</th>\n",
       "      <th></th>\n",
       "    </tr>\n",
       "  </thead>\n",
       "  <tbody>\n",
       "    <tr>\n",
       "      <th>Engineering</th>\n",
       "      <td>77758.620690</td>\n",
       "    </tr>\n",
       "    <tr>\n",
       "      <th>Computers &amp; Mathematics</th>\n",
       "      <td>66272.727273</td>\n",
       "    </tr>\n",
       "    <tr>\n",
       "      <th>Physical Sciences</th>\n",
       "      <td>62400.000000</td>\n",
       "    </tr>\n",
       "    <tr>\n",
       "      <th>Business</th>\n",
       "      <td>60615.384615</td>\n",
       "    </tr>\n",
       "    <tr>\n",
       "      <th>Health</th>\n",
       "      <td>56458.333333</td>\n",
       "    </tr>\n",
       "  </tbody>\n",
       "</table>\n",
       "</div>"
      ],
      "text/plain": [
       "                         avg_median_salary\n",
       "major_category                            \n",
       "Engineering                   77758.620690\n",
       "Computers & Mathematics       66272.727273\n",
       "Physical Sciences             62400.000000\n",
       "Business                      60615.384615\n",
       "Health                        56458.333333"
      ]
     },
     "execution_count": 254,
     "metadata": {},
     "output_type": "execute_result"
    }
   ],
   "source": [
    "top_five_categories.sort_values(by='avg_median_salary', ascending=False).head(5)"
   ]
  },
  {
   "cell_type": "code",
   "execution_count": 262,
   "metadata": {
    "collapsed": false
   },
   "outputs": [
    {
     "data": {
      "text/plain": [
       "<matplotlib.axes._subplots.AxesSubplot at 0x12cde2610>"
      ]
     },
     "execution_count": 262,
     "metadata": {},
     "output_type": "execute_result"
    },
    {
     "data": {
      "image/png": "[encoded data removed]",
      "text/plain": [
       "<matplotlib.figure.Figure at 0x12d3633d0>"
      ]
     },
     "metadata": {},
     "output_type": "display_data"
    }
   ],
   "source": [
    "# 7. Plot a histogram of the distribution of median salaries\n",
    "\n",
    "majors.median_sal.hist()"
   ]
  },
  {
   "cell_type": "code",
   "execution_count": 259,
   "metadata": {
    "collapsed": false
   },
   "outputs": [
    {
     "data": {
      "text/plain": [
       "array([[<matplotlib.axes._subplots.AxesSubplot object at 0x124903410>]], dtype=object)"
      ]
     },
     "execution_count": 259,
     "metadata": {},
     "output_type": "execute_result"
    },
    {
     "data": {
      "image/png": "[encoded data removed]",
      "text/plain": [
       "<matplotlib.figure.Figure at 0x137fb5ed0>"
      ]
     },
     "metadata": {},
     "output_type": "display_data"
    }
   ],
   "source": [
    "# 8. Plot a histogram of the distribution of median salaries by major category\n",
    "\n",
    "top_five_categories.hist()"
   ]
  },
  {
   "cell_type": "code",
   "execution_count": 272,
   "metadata": {
    "collapsed": false
   },
   "outputs": [
    {
     "name": "stderr",
     "output_type": "stream",
     "text": [
      "/Users/laushon/anaconda/envs/sfdat26/lib/python2.7/site-packages/ipykernel/__main__.py:3: FutureWarning: by argument to sort_index is deprecated, pls use .sort_values(by=...)\n",
      "  app.launch_new_instance()\n"
     ]
    },
    {
     "data": {
      "text/html": [
       "<div>\n",
       "<table border=\"1\" class=\"dataframe\">\n",
       "  <thead>\n",
       "    <tr style=\"text-align: right;\">\n",
       "      <th></th>\n",
       "      <th>major</th>\n",
       "      <th>unemployed</th>\n",
       "    </tr>\n",
       "  </thead>\n",
       "  <tbody>\n",
       "    <tr>\n",
       "      <th>161</th>\n",
       "      <td>BUSINESS MANAGEMENT AND ADMINISTRATION</td>\n",
       "      <td>147261</td>\n",
       "    </tr>\n",
       "    <tr>\n",
       "      <th>158</th>\n",
       "      <td>GENERAL BUSINESS</td>\n",
       "      <td>85626</td>\n",
       "    </tr>\n",
       "    <tr>\n",
       "      <th>114</th>\n",
       "      <td>PSYCHOLOGY</td>\n",
       "      <td>79066</td>\n",
       "    </tr>\n",
       "    <tr>\n",
       "      <th>159</th>\n",
       "      <td>ACCOUNTING</td>\n",
       "      <td>75379</td>\n",
       "    </tr>\n",
       "    <tr>\n",
       "      <th>13</th>\n",
       "      <td>COMMUNICATIONS</td>\n",
       "      <td>54390</td>\n",
       "    </tr>\n",
       "    <tr>\n",
       "      <th>73</th>\n",
       "      <td>ENGLISH LANGUAGE AND LITERATURE</td>\n",
       "      <td>52248</td>\n",
       "    </tr>\n",
       "    <tr>\n",
       "      <th>164</th>\n",
       "      <td>MARKETING AND MARKETING RESEARCH</td>\n",
       "      <td>51839</td>\n",
       "    </tr>\n",
       "    <tr>\n",
       "      <th>132</th>\n",
       "      <td>POLITICAL SCIENCE AND GOVERNMENT</td>\n",
       "      <td>40376</td>\n",
       "    </tr>\n",
       "    <tr>\n",
       "      <th>25</th>\n",
       "      <td>GENERAL EDUCATION</td>\n",
       "      <td>38742</td>\n",
       "    </tr>\n",
       "    <tr>\n",
       "      <th>78</th>\n",
       "      <td>BIOLOGY</td>\n",
       "      <td>36757</td>\n",
       "    </tr>\n",
       "  </tbody>\n",
       "</table>\n",
       "</div>"
      ],
      "text/plain": [
       "                                      major  unemployed\n",
       "161  BUSINESS MANAGEMENT AND ADMINISTRATION      147261\n",
       "158                        GENERAL BUSINESS       85626\n",
       "114                              PSYCHOLOGY       79066\n",
       "159                              ACCOUNTING       75379\n",
       "13                           COMMUNICATIONS       54390\n",
       "73          ENGLISH LANGUAGE AND LITERATURE       52248\n",
       "164        MARKETING AND MARKETING RESEARCH       51839\n",
       "132        POLITICAL SCIENCE AND GOVERNMENT       40376\n",
       "25                        GENERAL EDUCATION       38742\n",
       "78                                  BIOLOGY       36757"
      ]
     },
     "execution_count": 272,
     "metadata": {},
     "output_type": "execute_result"
    }
   ],
   "source": [
    "# 9. What are the top 10 most UNemployed majors?\n",
    "\n",
    "majors[['major', 'unemployed']].sort_index(by='unemployed', ascending=False).head(10)"
   ]
  },
  {
   "cell_type": "code",
   "execution_count": 287,
   "metadata": {
    "collapsed": false
   },
   "outputs": [
    {
     "name": "stderr",
     "output_type": "stream",
     "text": [
      "/Users/laushon/anaconda/envs/sfdat26/lib/python2.7/site-packages/ipykernel/__main__.py:5: FutureWarning: by argument to sort_index is deprecated, pls use .sort_values(by=...)\n"
     ]
    },
    {
     "data": {
      "text/html": [
       "<div>\n",
       "<table border=\"1\" class=\"dataframe\">\n",
       "  <thead>\n",
       "    <tr style=\"text-align: right;\">\n",
       "      <th></th>\n",
       "      <th>major</th>\n",
       "      <th>unemployment_rate</th>\n",
       "    </tr>\n",
       "  </thead>\n",
       "  <tbody>\n",
       "    <tr>\n",
       "      <th>146</th>\n",
       "      <td>MISCELLANEOUS FINE ARTS</td>\n",
       "      <td>0.156147</td>\n",
       "    </tr>\n",
       "    <tr>\n",
       "      <th>116</th>\n",
       "      <td>CLINICAL PSYCHOLOGY</td>\n",
       "      <td>0.102712</td>\n",
       "    </tr>\n",
       "    <tr>\n",
       "      <th>93</th>\n",
       "      <td>MILITARY TECHNOLOGIES</td>\n",
       "      <td>0.101796</td>\n",
       "    </tr>\n",
       "    <tr>\n",
       "      <th>27</th>\n",
       "      <td>SCHOOL STUDENT COUNSELING</td>\n",
       "      <td>0.101746</td>\n",
       "    </tr>\n",
       "    <tr>\n",
       "      <th>77</th>\n",
       "      <td>LIBRARY SCIENCE</td>\n",
       "      <td>0.094843</td>\n",
       "    </tr>\n",
       "    <tr>\n",
       "      <th>141</th>\n",
       "      <td>VISUAL AND PERFORMING ARTS</td>\n",
       "      <td>0.094658</td>\n",
       "    </tr>\n",
       "    <tr>\n",
       "      <th>19</th>\n",
       "      <td>COMPUTER PROGRAMMING AND DATA PROCESSING</td>\n",
       "      <td>0.090264</td>\n",
       "    </tr>\n",
       "    <tr>\n",
       "      <th>119</th>\n",
       "      <td>SOCIAL PSYCHOLOGY</td>\n",
       "      <td>0.087336</td>\n",
       "    </tr>\n",
       "    <tr>\n",
       "      <th>104</th>\n",
       "      <td>ASTRONOMY AND ASTROPHYSICS</td>\n",
       "      <td>0.086022</td>\n",
       "    </tr>\n",
       "    <tr>\n",
       "      <th>11</th>\n",
       "      <td>ARCHITECTURE</td>\n",
       "      <td>0.085991</td>\n",
       "    </tr>\n",
       "  </tbody>\n",
       "</table>\n",
       "</div>"
      ],
      "text/plain": [
       "                                        major  unemployment_rate\n",
       "146                   MISCELLANEOUS FINE ARTS           0.156147\n",
       "116                       CLINICAL PSYCHOLOGY           0.102712\n",
       "93                      MILITARY TECHNOLOGIES           0.101796\n",
       "27                  SCHOOL STUDENT COUNSELING           0.101746\n",
       "77                            LIBRARY SCIENCE           0.094843\n",
       "141                VISUAL AND PERFORMING ARTS           0.094658\n",
       "19   COMPUTER PROGRAMMING AND DATA PROCESSING           0.090264\n",
       "119                         SOCIAL PSYCHOLOGY           0.087336\n",
       "104                ASTRONOMY AND ASTROPHYSICS           0.086022\n",
       "11                               ARCHITECTURE           0.085991"
      ]
     },
     "execution_count": 287,
     "metadata": {},
     "output_type": "execute_result"
    }
   ],
   "source": [
    "# What are the unemployment rates?\n",
    "\n",
    "majors[['major', 'unemployment_rate']].sort_index(by='unemployment_rate', ascending=False).head(10)"
   ]
  },
  {
   "cell_type": "code",
   "execution_count": 286,
   "metadata": {
    "collapsed": false
   },
   "outputs": [
    {
     "name": "stderr",
     "output_type": "stream",
     "text": [
      "/Users/laushon/anaconda/envs/sfdat26/lib/python2.7/site-packages/ipykernel/__main__.py:4: FutureWarning: order is deprecated, use sort_values(...)\n"
     ]
    },
    {
     "data": {
      "text/plain": [
       "major_category\n",
       "Engineering                            77758.620690\n",
       "Computers & Mathematics                66272.727273\n",
       "Physical Sciences                      62400.000000\n",
       "Business                               60615.384615\n",
       "Health                                 56458.333333\n",
       "Agriculture & Natural Resources        55000.000000\n",
       "Social Science                         53222.222222\n",
       "Law & Public Policy                    52800.000000\n",
       "Industrial Arts & Consumer Services    52642.857143\n",
       "Biology & Life Science                 50821.428571\n",
       "Name: median_sal, dtype: float64"
      ]
     },
     "execution_count": 286,
     "metadata": {},
     "output_type": "execute_result"
    }
   ],
   "source": [
    "# 10. What are the top 10 most UNemployed majors CATEGORIES? Use the mean for each category\n",
    "# What are the unemployment rates?\n",
    "\n",
    "majors.groupby('major_category').median_sal.mean().order(ascending=False)[:10]\n"
   ]
  },
  {
   "cell_type": "code",
   "execution_count": 288,
   "metadata": {
    "collapsed": false
   },
   "outputs": [
    {
     "data": {
      "text/html": [
       "<div>\n",
       "<table border=\"1\" class=\"dataframe\">\n",
       "  <thead>\n",
       "    <tr style=\"text-align: right;\">\n",
       "      <th></th>\n",
       "      <th>unnamed:_0</th>\n",
       "      <th>major</th>\n",
       "      <th>major_category</th>\n",
       "      <th>total</th>\n",
       "      <th>employed</th>\n",
       "      <th>unemployed</th>\n",
       "      <th>unemployment_rate</th>\n",
       "      <th>median_sal</th>\n",
       "      <th>p25th</th>\n",
       "      <th>p75th</th>\n",
       "      <th>sample_employment_rate</th>\n",
       "    </tr>\n",
       "  </thead>\n",
       "  <tbody>\n",
       "    <tr>\n",
       "      <th>0</th>\n",
       "      <td>0</td>\n",
       "      <td>GENERAL AGRICULTURE</td>\n",
       "      <td>Agriculture &amp; Natural Resources</td>\n",
       "      <td>128148</td>\n",
       "      <td>90245</td>\n",
       "      <td>2423</td>\n",
       "      <td>0.026147</td>\n",
       "      <td>50000</td>\n",
       "      <td>34000</td>\n",
       "      <td>80000.0</td>\n",
       "      <td>0.704225</td>\n",
       "    </tr>\n",
       "    <tr>\n",
       "      <th>1</th>\n",
       "      <td>1</td>\n",
       "      <td>AGRICULTURE PRODUCTION AND MANAGEMENT</td>\n",
       "      <td>Agriculture &amp; Natural Resources</td>\n",
       "      <td>95326</td>\n",
       "      <td>76865</td>\n",
       "      <td>2266</td>\n",
       "      <td>0.028636</td>\n",
       "      <td>54000</td>\n",
       "      <td>36000</td>\n",
       "      <td>80000.0</td>\n",
       "      <td>0.806338</td>\n",
       "    </tr>\n",
       "    <tr>\n",
       "      <th>2</th>\n",
       "      <td>2</td>\n",
       "      <td>AGRICULTURAL ECONOMICS</td>\n",
       "      <td>Agriculture &amp; Natural Resources</td>\n",
       "      <td>33955</td>\n",
       "      <td>26321</td>\n",
       "      <td>821</td>\n",
       "      <td>0.030248</td>\n",
       "      <td>63000</td>\n",
       "      <td>40000</td>\n",
       "      <td>98000.0</td>\n",
       "      <td>0.775173</td>\n",
       "    </tr>\n",
       "    <tr>\n",
       "      <th>3</th>\n",
       "      <td>3</td>\n",
       "      <td>ANIMAL SCIENCES</td>\n",
       "      <td>Agriculture &amp; Natural Resources</td>\n",
       "      <td>103549</td>\n",
       "      <td>81177</td>\n",
       "      <td>3619</td>\n",
       "      <td>0.042679</td>\n",
       "      <td>46000</td>\n",
       "      <td>30000</td>\n",
       "      <td>72000.0</td>\n",
       "      <td>0.783948</td>\n",
       "    </tr>\n",
       "    <tr>\n",
       "      <th>4</th>\n",
       "      <td>4</td>\n",
       "      <td>FOOD SCIENCE</td>\n",
       "      <td>Agriculture &amp; Natural Resources</td>\n",
       "      <td>24280</td>\n",
       "      <td>17281</td>\n",
       "      <td>894</td>\n",
       "      <td>0.049188</td>\n",
       "      <td>62000</td>\n",
       "      <td>38500</td>\n",
       "      <td>90000.0</td>\n",
       "      <td>0.711738</td>\n",
       "    </tr>\n",
       "  </tbody>\n",
       "</table>\n",
       "</div>"
      ],
      "text/plain": [
       "   unnamed:_0                                  major  \\\n",
       "0           0                    GENERAL AGRICULTURE   \n",
       "1           1  AGRICULTURE PRODUCTION AND MANAGEMENT   \n",
       "2           2                 AGRICULTURAL ECONOMICS   \n",
       "3           3                        ANIMAL SCIENCES   \n",
       "4           4                           FOOD SCIENCE   \n",
       "\n",
       "                    major_category   total  employed  unemployed  \\\n",
       "0  Agriculture & Natural Resources  128148     90245        2423   \n",
       "1  Agriculture & Natural Resources   95326     76865        2266   \n",
       "2  Agriculture & Natural Resources   33955     26321         821   \n",
       "3  Agriculture & Natural Resources  103549     81177        3619   \n",
       "4  Agriculture & Natural Resources   24280     17281         894   \n",
       "\n",
       "   unemployment_rate  median_sal  p25th    p75th  sample_employment_rate  \n",
       "0           0.026147       50000  34000  80000.0                0.704225  \n",
       "1           0.028636       54000  36000  80000.0                0.806338  \n",
       "2           0.030248       63000  40000  98000.0                0.775173  \n",
       "3           0.042679       46000  30000  72000.0                0.783948  \n",
       "4           0.049188       62000  38500  90000.0                0.711738  "
      ]
     },
     "execution_count": 288,
     "metadata": {},
     "output_type": "execute_result"
    }
   ],
   "source": [
    "# 11. the total and employed column refer to the people that were surveyed.\n",
    "# Create a new column showing the emlpoyment rate of the people surveyed for each major\n",
    "# call it \"sample_employment_rate\"\n",
    "# Example the first row has total: 128148 and employed: 90245. it's \n",
    "# sample_employment_rate should be 90245.0 / 128148.0 = .7042\n",
    "majors['sample_employment_rate'] = majors.employed/majors.total\n",
    "majors.head()"
   ]
  },
  {
   "cell_type": "code",
   "execution_count": 289,
   "metadata": {
    "collapsed": false
   },
   "outputs": [
    {
     "data": {
      "text/html": [
       "<div>\n",
       "<table border=\"1\" class=\"dataframe\">\n",
       "  <thead>\n",
       "    <tr style=\"text-align: right;\">\n",
       "      <th></th>\n",
       "      <th>unnamed:_0</th>\n",
       "      <th>major</th>\n",
       "      <th>major_category</th>\n",
       "      <th>total</th>\n",
       "      <th>employed</th>\n",
       "      <th>unemployed</th>\n",
       "      <th>unemployment_rate</th>\n",
       "      <th>median_sal</th>\n",
       "      <th>p25th</th>\n",
       "      <th>p75th</th>\n",
       "      <th>sample_employment_rate</th>\n",
       "      <th>sample_unemployment_rate</th>\n",
       "    </tr>\n",
       "  </thead>\n",
       "  <tbody>\n",
       "    <tr>\n",
       "      <th>0</th>\n",
       "      <td>0</td>\n",
       "      <td>GENERAL AGRICULTURE</td>\n",
       "      <td>Agriculture &amp; Natural Resources</td>\n",
       "      <td>128148</td>\n",
       "      <td>90245</td>\n",
       "      <td>2423</td>\n",
       "      <td>0.026147</td>\n",
       "      <td>50000</td>\n",
       "      <td>34000</td>\n",
       "      <td>80000.0</td>\n",
       "      <td>0.704225</td>\n",
       "      <td>0.295775</td>\n",
       "    </tr>\n",
       "    <tr>\n",
       "      <th>1</th>\n",
       "      <td>1</td>\n",
       "      <td>AGRICULTURE PRODUCTION AND MANAGEMENT</td>\n",
       "      <td>Agriculture &amp; Natural Resources</td>\n",
       "      <td>95326</td>\n",
       "      <td>76865</td>\n",
       "      <td>2266</td>\n",
       "      <td>0.028636</td>\n",
       "      <td>54000</td>\n",
       "      <td>36000</td>\n",
       "      <td>80000.0</td>\n",
       "      <td>0.806338</td>\n",
       "      <td>0.193662</td>\n",
       "    </tr>\n",
       "    <tr>\n",
       "      <th>2</th>\n",
       "      <td>2</td>\n",
       "      <td>AGRICULTURAL ECONOMICS</td>\n",
       "      <td>Agriculture &amp; Natural Resources</td>\n",
       "      <td>33955</td>\n",
       "      <td>26321</td>\n",
       "      <td>821</td>\n",
       "      <td>0.030248</td>\n",
       "      <td>63000</td>\n",
       "      <td>40000</td>\n",
       "      <td>98000.0</td>\n",
       "      <td>0.775173</td>\n",
       "      <td>0.224827</td>\n",
       "    </tr>\n",
       "    <tr>\n",
       "      <th>3</th>\n",
       "      <td>3</td>\n",
       "      <td>ANIMAL SCIENCES</td>\n",
       "      <td>Agriculture &amp; Natural Resources</td>\n",
       "      <td>103549</td>\n",
       "      <td>81177</td>\n",
       "      <td>3619</td>\n",
       "      <td>0.042679</td>\n",
       "      <td>46000</td>\n",
       "      <td>30000</td>\n",
       "      <td>72000.0</td>\n",
       "      <td>0.783948</td>\n",
       "      <td>0.216052</td>\n",
       "    </tr>\n",
       "    <tr>\n",
       "      <th>4</th>\n",
       "      <td>4</td>\n",
       "      <td>FOOD SCIENCE</td>\n",
       "      <td>Agriculture &amp; Natural Resources</td>\n",
       "      <td>24280</td>\n",
       "      <td>17281</td>\n",
       "      <td>894</td>\n",
       "      <td>0.049188</td>\n",
       "      <td>62000</td>\n",
       "      <td>38500</td>\n",
       "      <td>90000.0</td>\n",
       "      <td>0.711738</td>\n",
       "      <td>0.288262</td>\n",
       "    </tr>\n",
       "  </tbody>\n",
       "</table>\n",
       "</div>"
      ],
      "text/plain": [
       "   unnamed:_0                                  major  \\\n",
       "0           0                    GENERAL AGRICULTURE   \n",
       "1           1  AGRICULTURE PRODUCTION AND MANAGEMENT   \n",
       "2           2                 AGRICULTURAL ECONOMICS   \n",
       "3           3                        ANIMAL SCIENCES   \n",
       "4           4                           FOOD SCIENCE   \n",
       "\n",
       "                    major_category   total  employed  unemployed  \\\n",
       "0  Agriculture & Natural Resources  128148     90245        2423   \n",
       "1  Agriculture & Natural Resources   95326     76865        2266   \n",
       "2  Agriculture & Natural Resources   33955     26321         821   \n",
       "3  Agriculture & Natural Resources  103549     81177        3619   \n",
       "4  Agriculture & Natural Resources   24280     17281         894   \n",
       "\n",
       "   unemployment_rate  median_sal  p25th    p75th  sample_employment_rate  \\\n",
       "0           0.026147       50000  34000  80000.0                0.704225   \n",
       "1           0.028636       54000  36000  80000.0                0.806338   \n",
       "2           0.030248       63000  40000  98000.0                0.775173   \n",
       "3           0.042679       46000  30000  72000.0                0.783948   \n",
       "4           0.049188       62000  38500  90000.0                0.711738   \n",
       "\n",
       "   sample_unemployment_rate  \n",
       "0                  0.295775  \n",
       "1                  0.193662  \n",
       "2                  0.224827  \n",
       "3                  0.216052  \n",
       "4                  0.288262  "
      ]
     },
     "execution_count": 289,
     "metadata": {},
     "output_type": "execute_result"
    }
   ],
   "source": [
    "# 12. Create a \"sample_unemployment_rate\" column\n",
    "# this column should be 1 - \"sample_employment_rate\"\n",
    "majors['sample_unemployment_rate'] = 1 - majors.sample_employment_rate\n",
    "majors.head()"
   ]
  },
  {
   "cell_type": "code",
   "execution_count": null,
   "metadata": {
    "collapsed": true
   },
   "outputs": [],
   "source": []
  }
 ],
 "metadata": {
  "anaconda-cloud": {},
  "kernelspec": {
   "display_name": "Python [sfdat26]",
   "language": "python",
   "name": "Python [sfdat26]"
  },
  "language_info": {
   "codemirror_mode": {
    "name": "ipython",
    "version": 2
   },
   "file_extension": ".py",
   "mimetype": "text/x-python",
   "name": "python",
   "nbconvert_exporter": "python",
   "pygments_lexer": "ipython2",
   "version": "2.7.12"
  }
 },
 "nbformat": 4,
 "nbformat_minor": 0
}
