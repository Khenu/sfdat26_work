{
 "cells": [
  {
   "cell_type": "code",
   "execution_count": 1,
   "metadata": {
    "collapsed": false
   },
   "outputs": [],
   "source": [
    "import tweepy       # python wrapper for twitter api\n",
    "import json\n",
    "import time\n",
    "import requests\n",
    "# step 0, get your own twitter credentials!"
   ]
  },
  {
   "cell_type": "code",
   "execution_count": 2,
   "metadata": {
    "collapsed": false
   },
   "outputs": [],
   "source": [
    "# this is my own personal twitter api information\n",
    "# if you could be so kind as to sign up yourself on both twitter and mashape that'd be great :)\n",
    "# It's FREEEEEEE\n",
    "api_key = 'g5uPIpw80nULQI1gfklv2zrh4'\n",
    "api_secret = 'cOWvNWxYvPmEZ0ArZVeeVVvJu41QYHdUS2GpqIKtSQ1isd5PJy'\n",
    "access_token = '49722956-TWl8J0aAS6KTdcbz3ppZ7NfqZEmrwmbsb9cYPNELG'\n",
    "access_secret = '3eqrVssF3ppv23qyflyAto8wLEiYRA8sXEPSghuOJWTub'"
   ]
  },
  {
   "cell_type": "code",
   "execution_count": 3,
   "metadata": {
    "collapsed": false
   },
   "outputs": [],
   "source": [
    "# Documentation is your friend! http://docs.tweepy.org/en/v3.1.0/\n",
    "auth = tweepy.OAuthHandler(api_key, api_secret)\n",
    "auth.set_access_token(access_token, access_secret)\n",
    "api = tweepy.API(auth) # returns a tweepy authorization handler object"
   ]
  },
  {
   "cell_type": "markdown",
   "metadata": {},
   "source": [
    "## 1. Use Twitter API to stream and store tweets"
   ]
  },
  {
   "cell_type": "code",
   "execution_count": 4,
   "metadata": {
    "collapsed": false
   },
   "outputs": [],
   "source": [
    "# 1. Use Twitter API to stream and store tweets (300 per candidate)\n",
    "# 37.781157,-122.39872 is the lat,lng for SF\n",
    "hilary_tweets = api.search(q='#ImWithHer', count=100, geocode=\"37.781157,-122.398720,10mi\") + api.search(q='#hillaryclinton', count=100, geocode=\"37.781157,-122.398720,50mi\") + api.search(q='#hillary2016', count=100, geocode=\"37.781157,-122.398720,50mi\")\n",
    "the_donald_tweets = api.search(q='#donaldtrump', count=100, geocode=\"37.781157,-122.398720,10mi\") + api.search(q='#trump2016', count=100, geocode=\"37.781157,-122.398720,50mi\") + api.search(q='#trump', count=100, geocode=\"37.781157,-122.398720,50mi\") + api.search(q='#makeamericagreatagain', count=100, geocode=\"37.781157,-122.398720,50mi\")"
   ]
  },
  {
   "cell_type": "code",
   "execution_count": 5,
   "metadata": {
    "collapsed": false
   },
   "outputs": [
    {
     "data": {
      "text/plain": [
       "u\"Now #donaldtrump #trumptrain says #war #veterans with #ptsd aren't #strong! This #sjw says that is anti #american.\\nhttps://t.co/oTnpm8gwTn\""
      ]
     },
     "execution_count": 5,
     "metadata": {},
     "output_type": "execute_result"
    }
   ],
   "source": [
    "the_donald_tweets[0].text"
   ]
  },
  {
   "cell_type": "code",
   "execution_count": 6,
   "metadata": {
    "collapsed": false
   },
   "outputs": [
    {
     "data": {
      "text/plain": [
       "u'Trump attacked G.S. parents, POWs, generals &amp; now vets with PTSD. Next he will attack wounded  for \"not getting out\\u2026 https://t.co/mNNeiluqDv'"
      ]
     },
     "execution_count": 6,
     "metadata": {},
     "output_type": "execute_result"
    }
   ],
   "source": [
    "hilary_tweets[0].text"
   ]
  },
  {
   "cell_type": "code",
   "execution_count": 7,
   "metadata": {
    "collapsed": false
   },
   "outputs": [
    {
     "name": "stdout",
     "output_type": "stream",
     "text": [
      "['__class__', '__delattr__', '__dict__', '__doc__', '__eq__', '__format__', '__getattribute__', '__getstate__', '__hash__', '__init__', '__module__', '__ne__', '__new__', '__reduce__', '__reduce_ex__', '__repr__', '__setattr__', '__sizeof__', '__str__', '__subclasshook__', '__weakref__', '_api', '_json', 'author', 'contributors', 'coordinates', 'created_at', 'destroy', 'entities', 'favorite', 'favorite_count', 'favorited', 'geo', 'id', 'id_str', 'in_reply_to_screen_name', 'in_reply_to_status_id', 'in_reply_to_status_id_str', 'in_reply_to_user_id', 'in_reply_to_user_id_str', 'is_quote_status', 'lang', 'metadata', 'parse', 'parse_list', 'place', 'possibly_sensitive', 'retweet', 'retweet_count', 'retweeted', 'retweets', 'source', 'source_url', 'text', 'truncated', 'user']\n"
     ]
    }
   ],
   "source": [
    "# wrappers come with built in python attributes and methods!\n",
    "print dir(the_donald_tweets[0])"
   ]
  },
  {
   "cell_type": "code",
   "execution_count": 8,
   "metadata": {
    "collapsed": false
   },
   "outputs": [
    {
     "name": "stdout",
     "output_type": "stream",
     "text": [
      "2016-10-03 20:06:30\n",
      "Now #donaldtrump #trumptrain says #war #veterans with #ptsd aren't #strong! This #sjw says that is anti #american.\n",
      "https://t.co/oTnpm8gwTn\n",
      "0\n",
      "False\n",
      "en\n",
      "None\n",
      "0\n",
      "False\n",
      "None\n"
     ]
    }
   ],
   "source": [
    "print the_donald_tweets[0].created_at\n",
    "print the_donald_tweets[0].text\n",
    "print the_donald_tweets[0].favorite_count\n",
    "print the_donald_tweets[0].favorited\n",
    "print the_donald_tweets[0].lang\n",
    "print the_donald_tweets[0].geo\n",
    "print the_donald_tweets[0].retweet_count\n",
    "print the_donald_tweets[0].retweeted\n",
    "print the_donald_tweets[0].coordinates"
   ]
  },
  {
   "cell_type": "code",
   "execution_count": 9,
   "metadata": {
    "collapsed": false
   },
   "outputs": [],
   "source": [
    "# modify the tweets to make a nice dictionary\n",
    "def parse_status_objects(tweet_list):\n",
    "    modified_tweets = list()\n",
    "    for x in tweet_list:\n",
    "        modified_tweets.append( [\n",
    "                    x.created_at,\n",
    "                    x.text,\n",
    "                    x.favorite_count,\n",
    "                    x.favorited,\n",
    "                    x.lang,\n",
    "                    x.geo,\n",
    "                    x.retweet_count,\n",
    "                    x.retweeted,\n",
    "                    x.coordinates\n",
    "                ])\n",
    "    return modified_tweets\n",
    "        \n",
    "hilary_tweets = parse_status_objects(hilary_tweets)\n",
    "the_donald_tweets = parse_status_objects(the_donald_tweets)"
   ]
  },
  {
   "cell_type": "code",
   "execution_count": 10,
   "metadata": {
    "collapsed": false
   },
   "outputs": [
    {
     "name": "stdout",
     "output_type": "stream",
     "text": [
      "[datetime.datetime(2016, 10, 3, 20, 6, 30), u\"Now #donaldtrump #trumptrain says #war #veterans with #ptsd aren't #strong! This #sjw says that is anti #american.\\nhttps://t.co/oTnpm8gwTn\", 0, False, u'en', None, 0, False, None]\n",
      "[datetime.datetime(2016, 10, 3, 20, 37, 5), u'Trump attacked G.S. parents, POWs, generals &amp; now vets with PTSD. Next he will attack wounded  for \"not getting out\\u2026 https://t.co/mNNeiluqDv', 0, False, u'en', None, 0, False, None]\n"
     ]
    }
   ],
   "source": [
    "print the_donald_tweets[0]\n",
    "print hilary_tweets[0]"
   ]
  },
  {
   "cell_type": "code",
   "execution_count": 11,
   "metadata": {
    "collapsed": false
   },
   "outputs": [
    {
     "data": {
      "text/plain": [
       "382"
      ]
     },
     "execution_count": 11,
     "metadata": {},
     "output_type": "execute_result"
    }
   ],
   "source": [
    "len(the_donald_tweets)"
   ]
  },
  {
   "cell_type": "code",
   "execution_count": 12,
   "metadata": {
    "collapsed": false
   },
   "outputs": [
    {
     "data": {
      "text/plain": [
       "300"
      ]
     },
     "execution_count": 12,
     "metadata": {},
     "output_type": "execute_result"
    }
   ],
   "source": [
    "len(hilary_tweets)"
   ]
  },
  {
   "cell_type": "markdown",
   "metadata": {},
   "source": [
    "## 2. Create a dataframe that combines all of the tweets from each candidate"
   ]
  },
  {
   "cell_type": "code",
   "execution_count": 13,
   "metadata": {
    "collapsed": false
   },
   "outputs": [],
   "source": [
    "# 2 Create a dataframe that combines all of the tweets from each candidate\n",
    "# To do so, you will need to concat the data frames\n",
    "# so each row is a tweet and your columns should be \n",
    "# date, text, favorite_count, favorited, language, geocode, retweet count, retweeted, coordinates"
   ]
  },
  {
   "cell_type": "code",
   "execution_count": 14,
   "metadata": {
    "collapsed": true
   },
   "outputs": [],
   "source": [
    "import pandas as pd\n",
    "import numpy as np\n",
    "import matplotlib.pyplot as plt\n",
    "%matplotlib inline"
   ]
  },
  {
   "cell_type": "code",
   "execution_count": 15,
   "metadata": {
    "collapsed": false
   },
   "outputs": [
    {
     "data": {
      "text/html": [
       "<div>\n",
       "<table border=\"1\" class=\"dataframe\">\n",
       "  <thead>\n",
       "    <tr style=\"text-align: right;\">\n",
       "      <th></th>\n",
       "      <th>date</th>\n",
       "      <th>text</th>\n",
       "      <th>favorite_count</th>\n",
       "      <th>favorited</th>\n",
       "      <th>language</th>\n",
       "      <th>geocode</th>\n",
       "      <th>retweet_count</th>\n",
       "      <th>retweeted</th>\n",
       "      <th>coordinates</th>\n",
       "    </tr>\n",
       "  </thead>\n",
       "  <tbody>\n",
       "    <tr>\n",
       "      <th>0</th>\n",
       "      <td>2016-10-03 20:06:30</td>\n",
       "      <td>Now #donaldtrump #trumptrain says #war #vetera...</td>\n",
       "      <td>0</td>\n",
       "      <td>False</td>\n",
       "      <td>en</td>\n",
       "      <td>None</td>\n",
       "      <td>0</td>\n",
       "      <td>False</td>\n",
       "      <td>None</td>\n",
       "    </tr>\n",
       "    <tr>\n",
       "      <th>1</th>\n",
       "      <td>2016-10-03 18:05:35</td>\n",
       "      <td>@robertcaruso Being an equal opportunity offen...</td>\n",
       "      <td>0</td>\n",
       "      <td>False</td>\n",
       "      <td>en</td>\n",
       "      <td>None</td>\n",
       "      <td>0</td>\n",
       "      <td>False</td>\n",
       "      <td>None</td>\n",
       "    </tr>\n",
       "    <tr>\n",
       "      <th>2</th>\n",
       "      <td>2016-10-03 16:27:17</td>\n",
       "      <td>Right, that too! #trumptrain is #insane and fu...</td>\n",
       "      <td>1</td>\n",
       "      <td>False</td>\n",
       "      <td>en</td>\n",
       "      <td>None</td>\n",
       "      <td>0</td>\n",
       "      <td>False</td>\n",
       "      <td>None</td>\n",
       "    </tr>\n",
       "    <tr>\n",
       "      <th>3</th>\n",
       "      <td>2016-10-03 16:10:45</td>\n",
       "      <td>RT @sonnylebythebay: As #DonaldTrump offends, ...</td>\n",
       "      <td>0</td>\n",
       "      <td>False</td>\n",
       "      <td>en</td>\n",
       "      <td>None</td>\n",
       "      <td>3</td>\n",
       "      <td>False</td>\n",
       "      <td>None</td>\n",
       "    </tr>\n",
       "    <tr>\n",
       "      <th>4</th>\n",
       "      <td>2016-10-03 15:44:59</td>\n",
       "      <td>RT @sonnylebythebay: As #DonaldTrump offends, ...</td>\n",
       "      <td>0</td>\n",
       "      <td>False</td>\n",
       "      <td>en</td>\n",
       "      <td>None</td>\n",
       "      <td>3</td>\n",
       "      <td>False</td>\n",
       "      <td>None</td>\n",
       "    </tr>\n",
       "  </tbody>\n",
       "</table>\n",
       "</div>"
      ],
      "text/plain": [
       "                 date                                               text  \\\n",
       "0 2016-10-03 20:06:30  Now #donaldtrump #trumptrain says #war #vetera...   \n",
       "1 2016-10-03 18:05:35  @robertcaruso Being an equal opportunity offen...   \n",
       "2 2016-10-03 16:27:17  Right, that too! #trumptrain is #insane and fu...   \n",
       "3 2016-10-03 16:10:45  RT @sonnylebythebay: As #DonaldTrump offends, ...   \n",
       "4 2016-10-03 15:44:59  RT @sonnylebythebay: As #DonaldTrump offends, ...   \n",
       "\n",
       "   favorite_count favorited language geocode  retweet_count retweeted  \\\n",
       "0               0     False       en    None              0     False   \n",
       "1               0     False       en    None              0     False   \n",
       "2               1     False       en    None              0     False   \n",
       "3               0     False       en    None              3     False   \n",
       "4               0     False       en    None              3     False   \n",
       "\n",
       "  coordinates  \n",
       "0        None  \n",
       "1        None  \n",
       "2        None  \n",
       "3        None  \n",
       "4        None  "
      ]
     },
     "execution_count": 15,
     "metadata": {},
     "output_type": "execute_result"
    }
   ],
   "source": [
    "feature_cols =['date', 'text', 'favorite_count', 'favorited', 'language', 'geocode', 'retweet_count', \n",
    "               'retweeted', 'coordinates']\n",
    "tweets = pd.DataFrame(the_donald_tweets + hilary_tweets, columns=feature_cols)\n",
    "tweets.head()"
   ]
  },
  {
   "cell_type": "code",
   "execution_count": 16,
   "metadata": {
    "collapsed": false
   },
   "outputs": [
    {
     "data": {
      "text/plain": [
       "(682, 9)"
      ]
     },
     "execution_count": 16,
     "metadata": {},
     "output_type": "execute_result"
    }
   ],
   "source": [
    "tweets.shape"
   ]
  },
  {
   "cell_type": "markdown",
   "metadata": {},
   "source": [
    "## 3. Create a function to take in a string and output the textblob sentiment of that string"
   ]
  },
  {
   "cell_type": "code",
   "execution_count": 17,
   "metadata": {
    "collapsed": true
   },
   "outputs": [],
   "source": [
    "# 3 Create a function to take in a string and output the textblob sentiment of that string"
   ]
  },
  {
   "cell_type": "code",
   "execution_count": 18,
   "metadata": {
    "collapsed": true
   },
   "outputs": [],
   "source": [
    "from textblob import TextBlob"
   ]
  },
  {
   "cell_type": "code",
   "execution_count": 19,
   "metadata": {
    "collapsed": true
   },
   "outputs": [],
   "source": [
    "def detect_sentiment(text):\n",
    "    return TextBlob(text).sentiment.polarity"
   ]
  },
  {
   "cell_type": "markdown",
   "metadata": {},
   "source": [
    "## 4. Add a column to your data frame called 'sentiment'"
   ]
  },
  {
   "cell_type": "code",
   "execution_count": 20,
   "metadata": {
    "collapsed": true
   },
   "outputs": [],
   "source": [
    "# 4 Add a column to your data frame called 'sentiment'\n",
    "# which holds the sentiment of that tweet (hint: use the function from #3)"
   ]
  },
  {
   "cell_type": "code",
   "execution_count": 21,
   "metadata": {
    "collapsed": true
   },
   "outputs": [],
   "source": [
    "tweets['sentiment'] = tweets.text.apply(detect_sentiment)"
   ]
  },
  {
   "cell_type": "code",
   "execution_count": 22,
   "metadata": {
    "collapsed": false
   },
   "outputs": [
    {
     "data": {
      "text/html": [
       "<div>\n",
       "<table border=\"1\" class=\"dataframe\">\n",
       "  <thead>\n",
       "    <tr style=\"text-align: right;\">\n",
       "      <th></th>\n",
       "      <th>date</th>\n",
       "      <th>text</th>\n",
       "      <th>favorite_count</th>\n",
       "      <th>favorited</th>\n",
       "      <th>language</th>\n",
       "      <th>geocode</th>\n",
       "      <th>retweet_count</th>\n",
       "      <th>retweeted</th>\n",
       "      <th>coordinates</th>\n",
       "      <th>sentiment</th>\n",
       "    </tr>\n",
       "  </thead>\n",
       "  <tbody>\n",
       "    <tr>\n",
       "      <th>0</th>\n",
       "      <td>2016-10-03 20:06:30</td>\n",
       "      <td>Now #donaldtrump #trumptrain says #war #vetera...</td>\n",
       "      <td>0</td>\n",
       "      <td>False</td>\n",
       "      <td>en</td>\n",
       "      <td>None</td>\n",
       "      <td>0</td>\n",
       "      <td>False</td>\n",
       "      <td>None</td>\n",
       "      <td>0.270833</td>\n",
       "    </tr>\n",
       "    <tr>\n",
       "      <th>1</th>\n",
       "      <td>2016-10-03 18:05:35</td>\n",
       "      <td>@robertcaruso Being an equal opportunity offen...</td>\n",
       "      <td>0</td>\n",
       "      <td>False</td>\n",
       "      <td>en</td>\n",
       "      <td>None</td>\n",
       "      <td>0</td>\n",
       "      <td>False</td>\n",
       "      <td>None</td>\n",
       "      <td>-0.233333</td>\n",
       "    </tr>\n",
       "    <tr>\n",
       "      <th>2</th>\n",
       "      <td>2016-10-03 16:27:17</td>\n",
       "      <td>Right, that too! #trumptrain is #insane and fu...</td>\n",
       "      <td>1</td>\n",
       "      <td>False</td>\n",
       "      <td>en</td>\n",
       "      <td>None</td>\n",
       "      <td>0</td>\n",
       "      <td>False</td>\n",
       "      <td>None</td>\n",
       "      <td>-0.097619</td>\n",
       "    </tr>\n",
       "    <tr>\n",
       "      <th>3</th>\n",
       "      <td>2016-10-03 16:10:45</td>\n",
       "      <td>RT @sonnylebythebay: As #DonaldTrump offends, ...</td>\n",
       "      <td>0</td>\n",
       "      <td>False</td>\n",
       "      <td>en</td>\n",
       "      <td>None</td>\n",
       "      <td>3</td>\n",
       "      <td>False</td>\n",
       "      <td>None</td>\n",
       "      <td>0.000000</td>\n",
       "    </tr>\n",
       "    <tr>\n",
       "      <th>4</th>\n",
       "      <td>2016-10-03 15:44:59</td>\n",
       "      <td>RT @sonnylebythebay: As #DonaldTrump offends, ...</td>\n",
       "      <td>0</td>\n",
       "      <td>False</td>\n",
       "      <td>en</td>\n",
       "      <td>None</td>\n",
       "      <td>3</td>\n",
       "      <td>False</td>\n",
       "      <td>None</td>\n",
       "      <td>0.000000</td>\n",
       "    </tr>\n",
       "  </tbody>\n",
       "</table>\n",
       "</div>"
      ],
      "text/plain": [
       "                 date                                               text  \\\n",
       "0 2016-10-03 20:06:30  Now #donaldtrump #trumptrain says #war #vetera...   \n",
       "1 2016-10-03 18:05:35  @robertcaruso Being an equal opportunity offen...   \n",
       "2 2016-10-03 16:27:17  Right, that too! #trumptrain is #insane and fu...   \n",
       "3 2016-10-03 16:10:45  RT @sonnylebythebay: As #DonaldTrump offends, ...   \n",
       "4 2016-10-03 15:44:59  RT @sonnylebythebay: As #DonaldTrump offends, ...   \n",
       "\n",
       "   favorite_count favorited language geocode  retweet_count retweeted  \\\n",
       "0               0     False       en    None              0     False   \n",
       "1               0     False       en    None              0     False   \n",
       "2               1     False       en    None              0     False   \n",
       "3               0     False       en    None              3     False   \n",
       "4               0     False       en    None              3     False   \n",
       "\n",
       "  coordinates  sentiment  \n",
       "0        None   0.270833  \n",
       "1        None  -0.233333  \n",
       "2        None  -0.097619  \n",
       "3        None   0.000000  \n",
       "4        None   0.000000  "
      ]
     },
     "execution_count": 22,
     "metadata": {},
     "output_type": "execute_result"
    }
   ],
   "source": [
    "tweets.head()"
   ]
  },
  {
   "cell_type": "markdown",
   "metadata": {},
   "source": [
    "## 5. create a word count column"
   ]
  },
  {
   "cell_type": "code",
   "execution_count": 23,
   "metadata": {
    "collapsed": true
   },
   "outputs": [],
   "source": [
    "# 5 create a word count column, which holds the number of words in the text column"
   ]
  },
  {
   "cell_type": "code",
   "execution_count": 24,
   "metadata": {
    "collapsed": false
   },
   "outputs": [
    {
     "data": {
      "text/html": [
       "<div>\n",
       "<table border=\"1\" class=\"dataframe\">\n",
       "  <thead>\n",
       "    <tr style=\"text-align: right;\">\n",
       "      <th></th>\n",
       "      <th>date</th>\n",
       "      <th>text</th>\n",
       "      <th>favorite_count</th>\n",
       "      <th>favorited</th>\n",
       "      <th>language</th>\n",
       "      <th>geocode</th>\n",
       "      <th>retweet_count</th>\n",
       "      <th>retweeted</th>\n",
       "      <th>coordinates</th>\n",
       "      <th>sentiment</th>\n",
       "      <th>word_count</th>\n",
       "    </tr>\n",
       "  </thead>\n",
       "  <tbody>\n",
       "    <tr>\n",
       "      <th>0</th>\n",
       "      <td>2016-10-03 20:06:30</td>\n",
       "      <td>Now #donaldtrump #trumptrain says #war #vetera...</td>\n",
       "      <td>0</td>\n",
       "      <td>False</td>\n",
       "      <td>en</td>\n",
       "      <td>None</td>\n",
       "      <td>0</td>\n",
       "      <td>False</td>\n",
       "      <td>None</td>\n",
       "      <td>0.270833</td>\n",
       "      <td>18</td>\n",
       "    </tr>\n",
       "    <tr>\n",
       "      <th>1</th>\n",
       "      <td>2016-10-03 18:05:35</td>\n",
       "      <td>@robertcaruso Being an equal opportunity offen...</td>\n",
       "      <td>0</td>\n",
       "      <td>False</td>\n",
       "      <td>en</td>\n",
       "      <td>None</td>\n",
       "      <td>0</td>\n",
       "      <td>False</td>\n",
       "      <td>None</td>\n",
       "      <td>-0.233333</td>\n",
       "      <td>19</td>\n",
       "    </tr>\n",
       "    <tr>\n",
       "      <th>2</th>\n",
       "      <td>2016-10-03 16:27:17</td>\n",
       "      <td>Right, that too! #trumptrain is #insane and fu...</td>\n",
       "      <td>1</td>\n",
       "      <td>False</td>\n",
       "      <td>en</td>\n",
       "      <td>None</td>\n",
       "      <td>0</td>\n",
       "      <td>False</td>\n",
       "      <td>None</td>\n",
       "      <td>-0.097619</td>\n",
       "      <td>17</td>\n",
       "    </tr>\n",
       "    <tr>\n",
       "      <th>3</th>\n",
       "      <td>2016-10-03 16:10:45</td>\n",
       "      <td>RT @sonnylebythebay: As #DonaldTrump offends, ...</td>\n",
       "      <td>0</td>\n",
       "      <td>False</td>\n",
       "      <td>en</td>\n",
       "      <td>None</td>\n",
       "      <td>3</td>\n",
       "      <td>False</td>\n",
       "      <td>None</td>\n",
       "      <td>0.000000</td>\n",
       "      <td>14</td>\n",
       "    </tr>\n",
       "    <tr>\n",
       "      <th>4</th>\n",
       "      <td>2016-10-03 15:44:59</td>\n",
       "      <td>RT @sonnylebythebay: As #DonaldTrump offends, ...</td>\n",
       "      <td>0</td>\n",
       "      <td>False</td>\n",
       "      <td>en</td>\n",
       "      <td>None</td>\n",
       "      <td>3</td>\n",
       "      <td>False</td>\n",
       "      <td>None</td>\n",
       "      <td>0.000000</td>\n",
       "      <td>14</td>\n",
       "    </tr>\n",
       "  </tbody>\n",
       "</table>\n",
       "</div>"
      ],
      "text/plain": [
       "                 date                                               text  \\\n",
       "0 2016-10-03 20:06:30  Now #donaldtrump #trumptrain says #war #vetera...   \n",
       "1 2016-10-03 18:05:35  @robertcaruso Being an equal opportunity offen...   \n",
       "2 2016-10-03 16:27:17  Right, that too! #trumptrain is #insane and fu...   \n",
       "3 2016-10-03 16:10:45  RT @sonnylebythebay: As #DonaldTrump offends, ...   \n",
       "4 2016-10-03 15:44:59  RT @sonnylebythebay: As #DonaldTrump offends, ...   \n",
       "\n",
       "   favorite_count favorited language geocode  retweet_count retweeted  \\\n",
       "0               0     False       en    None              0     False   \n",
       "1               0     False       en    None              0     False   \n",
       "2               1     False       en    None              0     False   \n",
       "3               0     False       en    None              3     False   \n",
       "4               0     False       en    None              3     False   \n",
       "\n",
       "  coordinates  sentiment  word_count  \n",
       "0        None   0.270833          18  \n",
       "1        None  -0.233333          19  \n",
       "2        None  -0.097619          17  \n",
       "3        None   0.000000          14  \n",
       "4        None   0.000000          14  "
      ]
     },
     "execution_count": 24,
     "metadata": {},
     "output_type": "execute_result"
    }
   ],
   "source": [
    "tweets['word_count'] = tweets.text.str.split().apply(len)\n",
    "tweets.head()"
   ]
  },
  {
   "cell_type": "code",
   "execution_count": 25,
   "metadata": {
    "collapsed": false
   },
   "outputs": [
    {
     "data": {
      "text/plain": [
       "u\"Now #donaldtrump #trumptrain says #war #veterans with #ptsd aren't #strong! This #sjw says that is anti #american.\\nhttps://t.co/oTnpm8gwTn\""
      ]
     },
     "execution_count": 25,
     "metadata": {},
     "output_type": "execute_result"
    }
   ],
   "source": [
    "tweets.text[0]"
   ]
  },
  {
   "cell_type": "code",
   "execution_count": 26,
   "metadata": {
    "collapsed": true
   },
   "outputs": [],
   "source": [
    "# use countvectorizer to create a document-term matrix and concatinate it to your main dataframe\n",
    "#(hint you should now have thousands of columns)\n",
    "# Don't add count vectorizer result to the original dataframe"
   ]
  },
  {
   "cell_type": "code",
   "execution_count": 27,
   "metadata": {
    "collapsed": true
   },
   "outputs": [],
   "source": [
    "from sklearn.feature_extraction.text import CountVectorizer"
   ]
  },
  {
   "cell_type": "code",
   "execution_count": 28,
   "metadata": {
    "collapsed": false
   },
   "outputs": [
    {
     "data": {
      "text/plain": [
       "(682, 2378)"
      ]
     },
     "execution_count": 28,
     "metadata": {},
     "output_type": "execute_result"
    }
   ],
   "source": [
    "# use CountVectorizer to create document-term matrices\n",
    "vect = CountVectorizer()\n",
    "tweets_dtm = vect.fit_transform(tweets.text)\n",
    "tweets_dtm.shape"
   ]
  },
  {
   "cell_type": "code",
   "execution_count": 29,
   "metadata": {
    "collapsed": false,
    "scrolled": true
   },
   "outputs": [
    {
     "data": {
      "text/plain": [
       "[u'000',\n",
       " u'00am',\n",
       " u'00pm',\n",
       " u'02',\n",
       " u'066if566hq',\n",
       " u'06nqcpdbnc',\n",
       " u'0bgeposlod',\n",
       " u'0nzbprev7f',\n",
       " u'0rr6lxrseq',\n",
       " u'10',\n",
       " u'100',\n",
       " u'11',\n",
       " u'16',\n",
       " u'1988',\n",
       " u'19th',\n",
       " u'1aedwm',\n",
       " u'1america',\n",
       " u'1cyzjfvgeg',\n",
       " u'1kq9dn9buq',\n",
       " u'1st',\n",
       " u'1u',\n",
       " u'1zpdp1crwf',\n",
       " u'20',\n",
       " u'2000',\n",
       " u'2014',\n",
       " u'2016',\n",
       " u'22',\n",
       " u'2a',\n",
       " u'2am',\n",
       " u'2b9ipqyzcy',\n",
       " u'2grpjlskim',\n",
       " u'2lyyqzuh9w',\n",
       " u'2nt62z5kqo',\n",
       " u'2pizfyrpdm',\n",
       " u'2snq4ba0hm',\n",
       " u'2state',\n",
       " u'2supskhm9u',\n",
       " u'2wyqnwn9lx',\n",
       " u'30',\n",
       " u'30yrs',\n",
       " u'35',\n",
       " u'37days',\n",
       " u'3am',\n",
       " u'3dkluyowxz',\n",
       " u'3hykzagwxq',\n",
       " u'3k1el0hd85',\n",
       " u'3obuli2dfd',\n",
       " u'3qspwsqrdr',\n",
       " u'3rdtermobama',\n",
       " u'3rgnjdfg6m',\n",
       " u'45thpresidentofamazingamerica',\n",
       " u'47',\n",
       " u'48baekbxfb',\n",
       " u'4b7tt5cf3c',\n",
       " u'4br6e5iv7g',\n",
       " u'4bxyfcq4cj',\n",
       " u'4ginq0wwur',\n",
       " u'4h8gm7sbhh',\n",
       " u'4rs1lyncow',\n",
       " u'4s3g5fruzl',\n",
       " u'4selling',\n",
       " u'4thad6av4x',\n",
       " u'4ydmzdhuy6',\n",
       " u'54',\n",
       " u'55',\n",
       " u'555',\n",
       " u'560ksfo',\n",
       " u'5cbly0labn',\n",
       " u'5kgyt0dsiq',\n",
       " u'5mfwcxp51q',\n",
       " u'5myvuzjlaz',\n",
       " u'5pfqub0lqf',\n",
       " u'5yig6rpepo',\n",
       " u'5yqrbebq1g',\n",
       " u'63i2g1mwtb',\n",
       " u'664xa9ykip',\n",
       " u'6a1cm099hb',\n",
       " u'6bmfcmic1o',\n",
       " u'6fqux4pisf',\n",
       " u'6t0u0jjicj',\n",
       " u'72f07bvvac',\n",
       " u'79thandbishop_',\n",
       " u'7a4acuzezr',\n",
       " u'7m821h969h',\n",
       " u'7o1vin3kk9',\n",
       " u'7qmtrzkfmf',\n",
       " u'7uz0zkx7b0',\n",
       " u'84',\n",
       " u'8h5d45pjiu',\n",
       " u'8qacwh34fs',\n",
       " u'8tbxvpsf2m',\n",
       " u'8xpdeioojq',\n",
       " u'90wqfhd8no',\n",
       " u'915',\n",
       " u'93',\n",
       " u'9cjnuvukyp',\n",
       " u'9dx2mfs72v',\n",
       " u'9fyi4puwz2',\n",
       " u'9igi7jlivl',\n",
       " u'9qdcsrjoua',\n",
       " u'9rk9wwgvh5',\n",
       " u'9th',\n",
       " u'a3dp0kd0nc',\n",
       " u'a8yd4yv9bp',\n",
       " u'about',\n",
       " u'above',\n",
       " u'absentee',\n",
       " u'abuse',\n",
       " u'abuttars',\n",
       " u'access',\n",
       " u'accomplishments',\n",
       " u'account',\n",
       " u'accurate',\n",
       " u'accurately',\n",
       " u'accused',\n",
       " u'achieve',\n",
       " u'acronym',\n",
       " u'act',\n",
       " u'actually',\n",
       " u'acute',\n",
       " u'ad',\n",
       " u'adamparkhomenko',\n",
       " u'admit',\n",
       " u'ads',\n",
       " u'afi5vbelcu',\n",
       " u'africanamericanvote',\n",
       " u'africans',\n",
       " u'after',\n",
       " u'ag',\n",
       " u'aga',\n",
       " u'again',\n",
       " u'against',\n",
       " u'agian',\n",
       " u'agony',\n",
       " u'agree',\n",
       " u'agreed',\n",
       " u'agsmuvlu82',\n",
       " u'ah',\n",
       " u'ahead',\n",
       " u'ahem',\n",
       " u'air',\n",
       " u'airports',\n",
       " u'aka',\n",
       " u'al43hkipqm',\n",
       " u'alcohol',\n",
       " u'alecbaldwin',\n",
       " u'alexcapitalista',\n",
       " u'alice',\n",
       " u'alive',\n",
       " u'all',\n",
       " u'allegations',\n",
       " u'allgivenfromrichbadgivers',\n",
       " u'allowed',\n",
       " u'almost',\n",
       " u'already',\n",
       " u'aluminum',\n",
       " u'always',\n",
       " u'always_trump',\n",
       " u'alwaystrump',\n",
       " u'am',\n",
       " u'amazing',\n",
       " u'amendment',\n",
       " u'america',\n",
       " u'americafirst',\n",
       " u'american',\n",
       " u'americans',\n",
       " u'amjoy',\n",
       " u'amp',\n",
       " u'an',\n",
       " u'an4d1pdfdw',\n",
       " u'ancestry',\n",
       " u'and',\n",
       " u'andersoncooper',\n",
       " u'animal',\n",
       " u'anncoulter',\n",
       " u'another',\n",
       " u'anothet',\n",
       " u'answered',\n",
       " u'anti',\n",
       " u'anxiety',\n",
       " u'any',\n",
       " u'anybody',\n",
       " u'anymore',\n",
       " u'anyone',\n",
       " u'anything',\n",
       " u'anyway',\n",
       " u'app',\n",
       " u'appear',\n",
       " u'appears',\n",
       " u'apwirg0hct',\n",
       " u'aqenqjtu75',\n",
       " u'aqqcpfo3m0',\n",
       " u'aqyaz40p0r',\n",
       " u'arabia',\n",
       " u'are',\n",
       " u'aren',\n",
       " u'argument',\n",
       " u'arizona',\n",
       " u'armed',\n",
       " u'army',\n",
       " u'arrest',\n",
       " u'arrived',\n",
       " u'art',\n",
       " u'article',\n",
       " u'artist',\n",
       " u'as',\n",
       " u'asfa',\n",
       " u'ashamed',\n",
       " u'asianamericans',\n",
       " u'ask',\n",
       " u'asking',\n",
       " u'askphoenix',\n",
       " u'assange',\n",
       " u'assume',\n",
       " u'at',\n",
       " u'attack',\n",
       " u'attacked',\n",
       " u'attend',\n",
       " u'attention',\n",
       " u'attorney',\n",
       " u'atty',\n",
       " u'atypikyle',\n",
       " u'audio',\n",
       " u'audits',\n",
       " u'auntie',\n",
       " u'aupmqgwvpz',\n",
       " u'author',\n",
       " u'authors',\n",
       " u'av59dcufah',\n",
       " u'averageincome',\n",
       " u'avert',\n",
       " u'avob',\n",
       " u'avobh41j9c',\n",
       " u'avoid',\n",
       " u'avoidance',\n",
       " u'avoided',\n",
       " u'avq51egnwi',\n",
       " u'avtoxb4xy3',\n",
       " u'aware',\n",
       " u'awesome',\n",
       " u'azwinos',\n",
       " u'b6fuvj59st',\n",
       " u'baby',\n",
       " u'babyboy',\n",
       " u'back',\n",
       " u'backing',\n",
       " u'bad',\n",
       " u'badmove',\n",
       " u'baffled',\n",
       " u'bailout',\n",
       " u'bait',\n",
       " u'baiting',\n",
       " u'ballots',\n",
       " u'bank',\n",
       " u'bankrupt',\n",
       " u'bankruptcy',\n",
       " u'bannonrace',\n",
       " u'barack',\n",
       " u'barely',\n",
       " u'barf',\n",
       " u'basementdwellers',\n",
       " u'bastion',\n",
       " u'bateman',\n",
       " u'bay',\n",
       " u'bbioe3ghsr',\n",
       " u'bcaettrc0l',\n",
       " u'be',\n",
       " u'beans',\n",
       " u'beast',\n",
       " u'beat',\n",
       " u'beauty',\n",
       " u'became',\n",
       " u'because',\n",
       " u'becoming',\n",
       " u'bed',\n",
       " u'been',\n",
       " u'beetwen',\n",
       " u'begging',\n",
       " u'beginning',\n",
       " u'behave',\n",
       " u'behind',\n",
       " u'behold',\n",
       " u'being',\n",
       " u'believe',\n",
       " u'belt',\n",
       " u'ben',\n",
       " u'bengals',\n",
       " u'berkeley',\n",
       " u'bernie',\n",
       " u'berniecrats',\n",
       " u'bernieorbust',\n",
       " u'berniesanders',\n",
       " u'best',\n",
       " u'better',\n",
       " u'beyond',\n",
       " u'bible',\n",
       " u'biblebelt',\n",
       " u'big',\n",
       " u'biggest',\n",
       " u'bigmusclebabe',\n",
       " u'bigots',\n",
       " u'bill',\n",
       " u'billclinton',\n",
       " u'billion',\n",
       " u'billmaher',\n",
       " u'bipartisanship',\n",
       " u'bipvapjqei',\n",
       " u'birdgirl1001',\n",
       " u'birthday',\n",
       " u'bitch',\n",
       " u'bjttukpm62',\n",
       " u'black',\n",
       " u'blacklivesmatter',\n",
       " u'blind',\n",
       " u'block',\n",
       " u'blood',\n",
       " u'blue',\n",
       " u'board',\n",
       " u'boasts',\n",
       " u'book',\n",
       " u'born',\n",
       " u'boss',\n",
       " u'boss1949',\n",
       " u'both',\n",
       " u'bottom',\n",
       " u'bought',\n",
       " u'bouta',\n",
       " u'bowaaazhvr',\n",
       " u'boycotttrump',\n",
       " u'bqpj9srn',\n",
       " u'bqpj9srnir',\n",
       " u'break',\n",
       " u'breakingnews',\n",
       " u'breathe',\n",
       " u'breitbart',\n",
       " u'bridges',\n",
       " u'bright',\n",
       " u'bring',\n",
       " u'bringrealusaback',\n",
       " u'brings',\n",
       " u'brn',\n",
       " u'bro',\n",
       " u'broke',\n",
       " u'broken',\n",
       " u'brownie',\n",
       " u'brucespringsteen',\n",
       " u'bs',\n",
       " u'bulgarian',\n",
       " u'burden',\n",
       " u'buses',\n",
       " u'bush',\n",
       " u'business',\n",
       " u'busted',\n",
       " u'busy',\n",
       " u'but',\n",
       " u'butt',\n",
       " u'buying',\n",
       " u'buzbarn',\n",
       " u'bxmftjindd',\n",
       " u'by',\n",
       " u'byedonald',\n",
       " u'byetrump',\n",
       " u'c0nvey',\n",
       " u'c33nvxlb0x',\n",
       " u'c9rizw5u25',\n",
       " u'ca',\n",
       " u'ca15',\n",
       " u'cabqizdvfy',\n",
       " u'cages',\n",
       " u'caitlyn_jenner',\n",
       " u'california',\n",
       " u'call',\n",
       " u'called',\n",
       " u'calling',\n",
       " u'calls',\n",
       " u'calm',\n",
       " u'campaign',\n",
       " u'campaigners',\n",
       " u'can',\n",
       " u'candidate',\n",
       " u'cannot',\n",
       " u'cant',\n",
       " u'canvass',\n",
       " u'capitalism',\n",
       " u'car',\n",
       " u'caroleradziwill',\n",
       " u'carolina',\n",
       " u'carrerapulse',\n",
       " u'carryover',\n",
       " u'cartoon',\n",
       " u'cash',\n",
       " u'casinos',\n",
       " u'castro',\n",
       " u'cat',\n",
       " u'catch',\n",
       " u'central',\n",
       " u'cernovich',\n",
       " u'certain',\n",
       " u'chances',\n",
       " u'change',\n",
       " u'charities',\n",
       " u'charity',\n",
       " u'charming',\n",
       " u'chart',\n",
       " u'cheat',\n",
       " u'cheated',\n",
       " u'chicago',\n",
       " u'chicken',\n",
       " u'child',\n",
       " u'china',\n",
       " u'choi',\n",
       " u'choice',\n",
       " u'choices',\n",
       " u'choke',\n",
       " u'choosing',\n",
       " u'chris',\n",
       " u'chrisgorham',\n",
       " u'christ',\n",
       " u'christian',\n",
       " u'christianity',\n",
       " u'christians',\n",
       " u'christie',\n",
       " u'christie__clark',\n",
       " u'christmas',\n",
       " u'chuck',\n",
       " u'chucktodd',\n",
       " u'circa',\n",
       " u'circus',\n",
       " u'citizensunited',\n",
       " u'cixjeck5k1',\n",
       " u'ckjn0i22fq',\n",
       " u'clear',\n",
       " u'clearer',\n",
       " u'clearly',\n",
       " u'cleveland',\n",
       " u'clickbait',\n",
       " u'clin',\n",
       " u'clinton',\n",
       " u'clintoncash',\n",
       " u'clintoncokaine',\n",
       " u'clintoncorruption',\n",
       " u'clintonfein',\n",
       " u'clintonkaine',\n",
       " u'clintonkaine2016',\n",
       " u'clintonvstrump',\n",
       " u'closed',\n",
       " u'club',\n",
       " u'clubsomething',\n",
       " u'clueless',\n",
       " u'cmmgsomjvx',\n",
       " u'cnn',\n",
       " u'cnndebate',\n",
       " u'co',\n",
       " u'coaches',\n",
       " u'coast',\n",
       " u'cocaine',\n",
       " u'code',\n",
       " u'coke',\n",
       " u'com',\n",
       " u'come',\n",
       " u'comedy',\n",
       " u'comes',\n",
       " u'coming',\n",
       " u'comm',\n",
       " u'comment',\n",
       " u'comments',\n",
       " u'commercial',\n",
       " u'commit',\n",
       " u'community',\n",
       " u'compare',\n",
       " u'compares',\n",
       " u'comparisons',\n",
       " u'compete',\n",
       " u'con',\n",
       " u'condemning',\n",
       " u'congress',\n",
       " u'conservative',\n",
       " u'consider',\n",
       " u'constancequeen8',\n",
       " u'cont',\n",
       " u'contests',\n",
       " u'continuing',\n",
       " u'control',\n",
       " u'controversies',\n",
       " u'conversation',\n",
       " u'conversion',\n",
       " u'corner',\n",
       " u'corporat',\n",
       " u'correction',\n",
       " u'corruptclintons',\n",
       " u'corrupthillary',\n",
       " u'corruptions',\n",
       " u'corsepius',\n",
       " u'cosmopolitan',\n",
       " u'could',\n",
       " u'couldn',\n",
       " u'countin',\n",
       " u'country',\n",
       " u'courier429',\n",
       " u'courtesy',\n",
       " u'coys',\n",
       " u'crasstrump',\n",
       " u'crawl',\n",
       " u'creates',\n",
       " u'creating',\n",
       " u'creator',\n",
       " u'creep',\n",
       " u'creepy',\n",
       " u'criminal',\n",
       " u'critical',\n",
       " u'criticizing',\n",
       " u'crnc',\n",
       " u'crook',\n",
       " u'crooked',\n",
       " u'crookeddonny',\n",
       " u'crookedhilary',\n",
       " u'crookedhillary',\n",
       " u'crookedobama',\n",
       " u'crush',\n",
       " u'crushed',\n",
       " u'cruz',\n",
       " u'cspanwj',\n",
       " u'cuba',\n",
       " u'cubs',\n",
       " u'cujxobaqeg',\n",
       " u'culinary226',\n",
       " u'cultivate',\n",
       " u'cure',\n",
       " u'cx8s6ctxmf',\n",
       " u'cyber',\n",
       " u'cynicalarch',\n",
       " u'd7htaiclyw',\n",
       " u'd9e14i0h2v',\n",
       " u'd_seaman',\n",
       " u'daily',\n",
       " u'dailycartoon',\n",
       " u'damn',\n",
       " u'dangerous',\n",
       " u'dann',\n",
       " u'danscavino',\n",
       " u'dare',\n",
       " u'darknetxx',\n",
       " u'dataviz',\n",
       " u'daughter',\n",
       " u'daughters',\n",
       " u'davidtheroux',\n",
       " u'day',\n",
       " u'days',\n",
       " u'dbblny',\n",
       " u'dc',\n",
       " u'de',\n",
       " u'deadbeat',\n",
       " u'deaiid',\n",
       " u'deal',\n",
       " u'dealer',\n",
       " u'dealing',\n",
       " u'dear',\n",
       " u'death',\n",
       " u'debate',\n",
       " u'debate2016',\n",
       " u'debatenight',\n",
       " u'debates',\n",
       " u'debates2016',\n",
       " u'debramessing',\n",
       " u'debt',\n",
       " u'decades',\n",
       " u'deceptive',\n",
       " u'decided',\n",
       " u'decision2016',\n",
       " u'defending',\n",
       " u'defense',\n",
       " u'deferments',\n",
       " u'definitely',\n",
       " u'definition',\n",
       " u'delaying',\n",
       " u'deleteyouraccount',\n",
       " u'deliciousness',\n",
       " u'deliegitmize',\n",
       " u'delivers',\n",
       " u'delusional',\n",
       " u'demeaned',\n",
       " u'democracy',\n",
       " u'democratic',\n",
       " u'democraticparty',\n",
       " u'dems',\n",
       " u'demvolctr',\n",
       " u'dep',\n",
       " u'deplorable',\n",
       " u'dept',\n",
       " u'derailleurs',\n",
       " u'deserve',\n",
       " u'designatedsurvivor',\n",
       " u'destroy',\n",
       " u'destroys',\n",
       " u'destruction',\n",
       " u'details',\n",
       " u'devil',\n",
       " u'dhilburn7',\n",
       " u'dialysis',\n",
       " u'diamondandsilk',\n",
       " u'diazepam',\n",
       " u'dibzz',\n",
       " u'did',\n",
       " u'didn',\n",
       " u'didnt',\n",
       " u'die',\n",
       " u'died',\n",
       " u'dipshit',\n",
       " u'director',\n",
       " u'dirty',\n",
       " u'disappointments',\n",
       " u'disaster',\n",
       " u'disciplined',\n",
       " u'discover',\n",
       " u'discuss',\n",
       " u'disgusting',\n",
       " u'disheartening',\n",
       " u'dishonestmedia',\n",
       " u'divorced',\n",
       " u'dizivizi',\n",
       " u'djyptl1sle',\n",
       " u'dlfunaro',\n",
       " u'dm8m4x768c',\n",
       " u'dmvfpywlpf',\n",
       " u'do',\n",
       " u'does',\n",
       " u'doesn',\n",
       " u'dogs',\n",
       " u'dogsagainsttrump',\n",
       " u'doing',\n",
       " u'dole',\n",
       " u'dollar',\n",
       " u'dollars',\n",
       " u'dolt',\n",
       " u'don',\n",
       " u'donal',\n",
       " u'donald',\n",
       " u'donaldjtrump',\n",
       " u'donaldtrump',\n",
       " u'donated',\n",
       " u'donations',\n",
       " u'donner',\n",
       " u'dont',\n",
       " u'dontrumpprez',\n",
       " u'dontvotefortrump',\n",
       " u'doors',\n",
       " u'double',\n",
       " u'doubles',\n",
       " u'down',\n",
       " u'download',\n",
       " u'downright',\n",
       " u'dpwufemwgc',\n",
       " u'dqwdyu0eas',\n",
       " u'draft',\n",
       " u'drag',\n",
       " u'dragade',\n",
       " u'dragqueen',\n",
       " u'drewsgqtn2',\n",
       " u'drink',\n",
       " u'driver',\n",
       " u'drone',\n",
       " u'drones',\n",
       " u'drop',\n",
       " u'drug',\n",
       " u'drumpf',\n",
       " u'drunk',\n",
       " u'dsmdphen67',\n",
       " u'dumb',\n",
       " u'dumptrump',\n",
       " u'during',\n",
       " u'dw7ti0kigi',\n",
       " u'dyg10b7xir',\n",
       " u'dystopianhellscape',\n",
       " u'e5vhctcmml',\n",
       " u'e8lqpuqb6l',\n",
       " u'e_flom',\n",
       " u'eaenyr44y3',\n",
       " u'early',\n",
       " u'earned',\n",
       " u'earth',\n",
       " u'east',\n",
       " u'easy',\n",
       " u'ec7cgnbz53',\n",
       " u'ecd5ehrq1m',\n",
       " u'economy',\n",
       " u'edition',\n",
       " u'editorial',\n",
       " u'educateyourselves',\n",
       " u'education',\n",
       " u'eduyeshima',\n",
       " u'eeads53aas',\n",
       " u'eff',\n",
       " u'effing',\n",
       " u'egyptian',\n",
       " u'eh',\n",
       " u'eichenwald',\n",
       " u'either',\n",
       " u'elec',\n",
       " u'elected',\n",
       " u'election',\n",
       " u'election2016',\n",
       " u'electionfraud',\n",
       " u'electionriggin',\n",
       " u'elves',\n",
       " u'emails',\n",
       " u'embargo',\n",
       " u'embarrassment',\n",
       " u'emergeamerica',\n",
       " u'empty',\n",
       " u'enabled',\n",
       " u'enabling',\n",
       " u'endorsing',\n",
       " u'ends',\n",
       " u'enemy',\n",
       " u'enforecement',\n",
       " u'engaged',\n",
       " u'enough',\n",
       " u'ensure',\n",
       " u'enthusiastic',\n",
       " u'entire',\n",
       " u'entrepreneurial',\n",
       " u'ept75izecq',\n",
       " u'equal',\n",
       " u'equally',\n",
       " u'erase',\n",
       " u'ereguly',\n",
       " u'eric',\n",
       " u'ericmccormack',\n",
       " u'ericschiffer',\n",
       " u'erictrump',\n",
       " u'errant',\n",
       " u'erratic',\n",
       " u'erreicht',\n",
       " u'errors',\n",
       " u'erschrec',\n",
       " u'esmail_cfc',\n",
       " u'especially',\n",
       " u'estblshmnt',\n",
       " u'ethanbearman',\n",
       " u'ethanol',\n",
       " u'etj1kxxjmw',\n",
       " u'eugenics',\n",
       " u'evading',\n",
       " u'evangelical',\n",
       " u'evangelicals',\n",
       " u'even',\n",
       " u'ever',\n",
       " u'every',\n",
       " u'everyone',\n",
       " u'everythin',\n",
       " u'everything',\n",
       " u'evil',\n",
       " u'evils',\n",
       " u'ewg2irsrgw',\n",
       " u'ews7fxemq5',\n",
       " u'ewww',\n",
       " u'exactly',\n",
       " u'excellent',\n",
       " u'except',\n",
       " u'exclusive',\n",
       " u'exeptionalism',\n",
       " u'expand',\n",
       " u'experience',\n",
       " u'experienced',\n",
       " u'explained',\n",
       " u'exquisite',\n",
       " u'f5m4zbgnml',\n",
       " u'fa5_dannyv',\n",
       " u'faced',\n",
       " u'facing',\n",
       " u'fact',\n",
       " u'factcheck',\n",
       " u'facts',\n",
       " u'fail',\n",
       " u'failed',\n",
       " u'failure',\n",
       " u'fair',\n",
       " u'fairplay',\n",
       " u'fake',\n",
       " u'false',\n",
       " u'familiar',\n",
       " u'families',\n",
       " u'family',\n",
       " u'fan',\n",
       " u'fantasyfootball',\n",
       " u'fascination',\n",
       " u'fascism',\n",
       " u'fat',\n",
       " u'father',\n",
       " u'fatshaming',\n",
       " u'faults',\n",
       " u'favor',\n",
       " u'favorite',\n",
       " u'favoritethings',\n",
       " u'fawfulfan',\n",
       " u'fcuer5vf7c',\n",
       " u'fear',\n",
       " u'fearing',\n",
       " u'feartwd',\n",
       " u'feature',\n",
       " u'featuring',\n",
       " u'february',\n",
       " u'feed',\n",
       " u'feelthebern11',\n",
       " u'fell',\n",
       " u'feminism',\n",
       " u'fhewjxue4w',\n",
       " u'fiduciary',\n",
       " u'fight',\n",
       " u'finally',\n",
       " u'find',\n",
       " u'finest',\n",
       " u'finished',\n",
       " u'fired',\n",
       " u'first',\n",
       " u'fit',\n",
       " u'fits',\n",
       " u'five',\n",
       " u'fiverights',\n",
       " u'fj_bering',\n",
       " u'fkr3e3dt8h',\n",
       " u'flash',\n",
       " u'fm',\n",
       " u'fodnjg6fgp',\n",
       " u'follow',\n",
       " u'following',\n",
       " u'followthemoney',\n",
       " u'fool',\n",
       " u'fooled',\n",
       " u'footsteps',\n",
       " u'for',\n",
       " u'foreign',\n",
       " u'foreplay',\n",
       " u'forget',\n",
       " u'forgetting',\n",
       " u'forgot',\n",
       " u'foundation',\n",
       " u'fox',\n",
       " u'foxandfriends',\n",
       " u'foxnews',\n",
       " u'fp4tard02p',\n",
       " u'francisco',\n",
       " u'fraud',\n",
       " u'free',\n",
       " u'freedom',\n",
       " u'frenzy',\n",
       " u'friday',\n",
       " u'friend',\n",
       " u'friends',\n",
       " u'frivolous',\n",
       " u'from',\n",
       " u'front',\n",
       " u'ftrump',\n",
       " u'fu',\n",
       " u'fuck',\n",
       " u'fucking',\n",
       " u'full',\n",
       " u'fund',\n",
       " u'funded',\n",
       " u'fundraising',\n",
       " u'furry',\n",
       " u'fvziasiy8v',\n",
       " u'fywtjkk40t',\n",
       " u'g1nppodznn',\n",
       " u'g2hgcudxfi',\n",
       " u'g7yns8bfxn',\n",
       " u'g9fhlnm5bk',\n",
       " u'game',\n",
       " u'gamers',\n",
       " u'gaming',\n",
       " u'gas',\n",
       " u'gave',\n",
       " u'gbzdnb7hof',\n",
       " u'gd3f2fl4bi',\n",
       " u'gear',\n",
       " u'gelb6npzb5',\n",
       " u'gen',\n",
       " u'gender',\n",
       " u'genepool',\n",
       " u'general',\n",
       " u'generals',\n",
       " u'genius',\n",
       " u'gentleman',\n",
       " u'german',\n",
       " u'get',\n",
       " u'gets',\n",
       " u'gettin',\n",
       " u'getting',\n",
       " u'gfrdqdkber',\n",
       " u'gfxxsh4avu',\n",
       " u'ghmszdsebm',\n",
       " u'gift',\n",
       " u'gigitracyxo',\n",
       " u'giphy',\n",
       " u'girls',\n",
       " u'giuliani',\n",
       " u'give',\n",
       " u'given',\n",
       " u'giving',\n",
       " u'glad',\n",
       " u'glasses',\n",
       " u'glasshouses',\n",
       " u'go',\n",
       " u'goaded',\n",
       " u'goal',\n",
       " u'god',\n",
       " u'goddess',\n",
       " u'going',\n",
       " u'gold',\n",
       " u'golden',\n",
       " u'goldengirls',\n",
       " u'goldenrule',\n",
       " u'golfgirl',\n",
       " u'gonegonz',\n",
       " u'good',\n",
       " u'gop',\n",
       " u'gorgeous',\n",
       " u'got',\n",
       " u'gotv',\n",
       " u'gov',\n",
       " u'govhowarddean',\n",
       " u'govt',\n",
       " u'gqufpsnqdj',\n",
       " u'grace',\n",
       " u'grand',\n",
       " u'great',\n",
       " u'greatest',\n",
       " u'grh9wcvend',\n",
       " u'griffin',\n",
       " u'grill',\n",
       " u'gross',\n",
       " u'gro\\xdfartiges',\n",
       " u'grzbvjmled',\n",
       " u'gsbvanz1pz',\n",
       " u'gsfozplrdg',\n",
       " u'gt',\n",
       " u'gtmyxo5tvs',\n",
       " u'gtql57bess',\n",
       " u'gtwkewaqmv',\n",
       " u'guess',\n",
       " u'guiltyoftreason',\n",
       " u'guns',\n",
       " u'gunsense',\n",
       " u'guy',\n",
       " u'gv9oxkmcuk',\n",
       " u'gy1bbcvoiq',\n",
       " u'gz_clothing',\n",
       " u'gzh9lstvap',\n",
       " u'gzuof702xj',\n",
       " u'h0p1xksdmw',\n",
       " u'h3qmbb0vda',\n",
       " u'ha',\n",
       " u'haben',\n",
       " u'hackers',\n",
       " u'had',\n",
       " u'haha',\n",
       " u'hahahaha',\n",
       " u'hahahahha',\n",
       " u'hahfolpoan',\n",
       " u'handle',\n",
       " u'hanging',\n",
       " u'hannity',\n",
       " u'hanoi',\n",
       " u'happened',\n",
       " u'happens',\n",
       " u'happier',\n",
       " u'happiness',\n",
       " u'happyholidays',\n",
       " u'harbor',\n",
       " u'hard',\n",
       " u'harder',\n",
       " u'hardworking',\n",
       " u'harsher',\n",
       " u'has',\n",
       " u'hashtag',\n",
       " u'hasn',\n",
       " u'hat',\n",
       " u'hate',\n",
       " u'hatred',\n",
       " u'have',\n",
       " u'hawks',\n",
       " u'he',\n",
       " u'head',\n",
       " u'health',\n",
       " u'hear',\n",
       " u'heav',\n",
       " u'hell',\n",
       " u'help',\n",
       " u'her',\n",
       " u'here',\n",
       " u'heritage',\n",
       " u'hey',\n",
       " u'hfa',\n",
       " u'hfb8srgzuh',\n",
       " u'hi',\n",
       " u'hiding',\n",
       " u'high',\n",
       " u'highest',\n",
       " u'hilarious',\n",
       " u'hilary',\n",
       " ...]"
      ]
     },
     "execution_count": 29,
     "metadata": {},
     "output_type": "execute_result"
    }
   ],
   "source": [
    "vect.get_feature_names()"
   ]
  },
  {
   "cell_type": "code",
   "execution_count": 30,
   "metadata": {
    "collapsed": false
   },
   "outputs": [
    {
     "data": {
      "text/plain": [
       "(682, 2378)"
      ]
     },
     "execution_count": 30,
     "metadata": {},
     "output_type": "execute_result"
    }
   ],
   "source": [
    "dtm_df = pd.DataFrame(tweets_dtm.toarray(), columns=vect.get_feature_names())\n",
    "dtm_df.shape"
   ]
  },
  {
   "cell_type": "code",
   "execution_count": 31,
   "metadata": {
    "collapsed": false,
    "scrolled": true
   },
   "outputs": [
    {
     "data": {
      "text/html": [
       "<div>\n",
       "<table border=\"1\" class=\"dataframe\">\n",
       "  <thead>\n",
       "    <tr style=\"text-align: right;\">\n",
       "      <th></th>\n",
       "      <th>000</th>\n",
       "      <th>00am</th>\n",
       "      <th>00pm</th>\n",
       "      <th>02</th>\n",
       "      <th>066if566hq</th>\n",
       "      <th>06nqcpdbnc</th>\n",
       "      <th>0bgeposlod</th>\n",
       "      <th>0nzbprev7f</th>\n",
       "      <th>0rr6lxrseq</th>\n",
       "      <th>10</th>\n",
       "      <th>...</th>\n",
       "      <th>yrs</th>\n",
       "      <th>yugaxkhoc9</th>\n",
       "      <th>yvfcvpwfeh</th>\n",
       "      <th>ywk3j9qoau</th>\n",
       "      <th>yybsgoiq5q</th>\n",
       "      <th>zie2y6m6dk</th>\n",
       "      <th>zm7uzzsd3f</th>\n",
       "      <th>zones</th>\n",
       "      <th>ztrn891uxr</th>\n",
       "      <th>zusammengekommen</th>\n",
       "    </tr>\n",
       "  </thead>\n",
       "  <tbody>\n",
       "    <tr>\n",
       "      <th>0</th>\n",
       "      <td>0</td>\n",
       "      <td>0</td>\n",
       "      <td>0</td>\n",
       "      <td>0</td>\n",
       "      <td>0</td>\n",
       "      <td>0</td>\n",
       "      <td>0</td>\n",
       "      <td>0</td>\n",
       "      <td>0</td>\n",
       "      <td>0</td>\n",
       "      <td>...</td>\n",
       "      <td>0</td>\n",
       "      <td>0</td>\n",
       "      <td>0</td>\n",
       "      <td>0</td>\n",
       "      <td>0</td>\n",
       "      <td>0</td>\n",
       "      <td>0</td>\n",
       "      <td>0</td>\n",
       "      <td>0</td>\n",
       "      <td>0</td>\n",
       "    </tr>\n",
       "    <tr>\n",
       "      <th>1</th>\n",
       "      <td>0</td>\n",
       "      <td>0</td>\n",
       "      <td>0</td>\n",
       "      <td>0</td>\n",
       "      <td>0</td>\n",
       "      <td>0</td>\n",
       "      <td>0</td>\n",
       "      <td>0</td>\n",
       "      <td>0</td>\n",
       "      <td>0</td>\n",
       "      <td>...</td>\n",
       "      <td>0</td>\n",
       "      <td>0</td>\n",
       "      <td>0</td>\n",
       "      <td>0</td>\n",
       "      <td>0</td>\n",
       "      <td>0</td>\n",
       "      <td>0</td>\n",
       "      <td>0</td>\n",
       "      <td>0</td>\n",
       "      <td>0</td>\n",
       "    </tr>\n",
       "    <tr>\n",
       "      <th>2</th>\n",
       "      <td>0</td>\n",
       "      <td>0</td>\n",
       "      <td>0</td>\n",
       "      <td>0</td>\n",
       "      <td>0</td>\n",
       "      <td>0</td>\n",
       "      <td>0</td>\n",
       "      <td>0</td>\n",
       "      <td>0</td>\n",
       "      <td>0</td>\n",
       "      <td>...</td>\n",
       "      <td>0</td>\n",
       "      <td>0</td>\n",
       "      <td>0</td>\n",
       "      <td>0</td>\n",
       "      <td>0</td>\n",
       "      <td>0</td>\n",
       "      <td>0</td>\n",
       "      <td>0</td>\n",
       "      <td>0</td>\n",
       "      <td>0</td>\n",
       "    </tr>\n",
       "    <tr>\n",
       "      <th>3</th>\n",
       "      <td>0</td>\n",
       "      <td>0</td>\n",
       "      <td>0</td>\n",
       "      <td>0</td>\n",
       "      <td>0</td>\n",
       "      <td>0</td>\n",
       "      <td>0</td>\n",
       "      <td>0</td>\n",
       "      <td>0</td>\n",
       "      <td>0</td>\n",
       "      <td>...</td>\n",
       "      <td>0</td>\n",
       "      <td>0</td>\n",
       "      <td>0</td>\n",
       "      <td>0</td>\n",
       "      <td>0</td>\n",
       "      <td>0</td>\n",
       "      <td>0</td>\n",
       "      <td>0</td>\n",
       "      <td>0</td>\n",
       "      <td>0</td>\n",
       "    </tr>\n",
       "    <tr>\n",
       "      <th>4</th>\n",
       "      <td>0</td>\n",
       "      <td>0</td>\n",
       "      <td>0</td>\n",
       "      <td>0</td>\n",
       "      <td>0</td>\n",
       "      <td>0</td>\n",
       "      <td>0</td>\n",
       "      <td>0</td>\n",
       "      <td>0</td>\n",
       "      <td>0</td>\n",
       "      <td>...</td>\n",
       "      <td>0</td>\n",
       "      <td>0</td>\n",
       "      <td>0</td>\n",
       "      <td>0</td>\n",
       "      <td>0</td>\n",
       "      <td>0</td>\n",
       "      <td>0</td>\n",
       "      <td>0</td>\n",
       "      <td>0</td>\n",
       "      <td>0</td>\n",
       "    </tr>\n",
       "  </tbody>\n",
       "</table>\n",
       "<p>5 rows × 2378 columns</p>\n",
       "</div>"
      ],
      "text/plain": [
       "   000  00am  00pm  02  066if566hq  06nqcpdbnc  0bgeposlod  0nzbprev7f  \\\n",
       "0    0     0     0   0           0           0           0           0   \n",
       "1    0     0     0   0           0           0           0           0   \n",
       "2    0     0     0   0           0           0           0           0   \n",
       "3    0     0     0   0           0           0           0           0   \n",
       "4    0     0     0   0           0           0           0           0   \n",
       "\n",
       "   0rr6lxrseq  10        ...         yrs  yugaxkhoc9  yvfcvpwfeh  ywk3j9qoau  \\\n",
       "0           0   0        ...           0           0           0           0   \n",
       "1           0   0        ...           0           0           0           0   \n",
       "2           0   0        ...           0           0           0           0   \n",
       "3           0   0        ...           0           0           0           0   \n",
       "4           0   0        ...           0           0           0           0   \n",
       "\n",
       "   yybsgoiq5q  zie2y6m6dk  zm7uzzsd3f  zones  ztrn891uxr  zusammengekommen  \n",
       "0           0           0           0      0           0                 0  \n",
       "1           0           0           0      0           0                 0  \n",
       "2           0           0           0      0           0                 0  \n",
       "3           0           0           0      0           0                 0  \n",
       "4           0           0           0      0           0                 0  \n",
       "\n",
       "[5 rows x 2378 columns]"
      ]
     },
     "execution_count": 31,
     "metadata": {},
     "output_type": "execute_result"
    }
   ],
   "source": [
    "dtm_df.head()"
   ]
  },
  {
   "cell_type": "code",
   "execution_count": 32,
   "metadata": {
    "collapsed": false
   },
   "outputs": [
    {
     "data": {
      "text/plain": [
       "<1x2378 sparse matrix of type '<type 'numpy.int64'>'\n",
       "\twith 19 stored elements in Compressed Sparse Row format>"
      ]
     },
     "execution_count": 32,
     "metadata": {},
     "output_type": "execute_result"
    }
   ],
   "source": [
    "tweets_dtm[0]"
   ]
  },
  {
   "cell_type": "code",
   "execution_count": 33,
   "metadata": {
    "collapsed": false
   },
   "outputs": [
    {
     "data": {
      "text/html": [
       "<div>\n",
       "<table border=\"1\" class=\"dataframe\">\n",
       "  <thead>\n",
       "    <tr style=\"text-align: right;\">\n",
       "      <th></th>\n",
       "      <th>date</th>\n",
       "      <th>text</th>\n",
       "      <th>favorite_count</th>\n",
       "      <th>favorited</th>\n",
       "      <th>language</th>\n",
       "      <th>geocode</th>\n",
       "      <th>retweet_count</th>\n",
       "      <th>retweeted</th>\n",
       "      <th>coordinates</th>\n",
       "      <th>sentiment</th>\n",
       "      <th>...</th>\n",
       "      <th>yrs</th>\n",
       "      <th>yugaxkhoc9</th>\n",
       "      <th>yvfcvpwfeh</th>\n",
       "      <th>ywk3j9qoau</th>\n",
       "      <th>yybsgoiq5q</th>\n",
       "      <th>zie2y6m6dk</th>\n",
       "      <th>zm7uzzsd3f</th>\n",
       "      <th>zones</th>\n",
       "      <th>ztrn891uxr</th>\n",
       "      <th>zusammengekommen</th>\n",
       "    </tr>\n",
       "  </thead>\n",
       "  <tbody>\n",
       "    <tr>\n",
       "      <th>0</th>\n",
       "      <td>2016-10-03 20:06:30</td>\n",
       "      <td>Now #donaldtrump #trumptrain says #war #vetera...</td>\n",
       "      <td>0</td>\n",
       "      <td>False</td>\n",
       "      <td>en</td>\n",
       "      <td>None</td>\n",
       "      <td>0</td>\n",
       "      <td>False</td>\n",
       "      <td>None</td>\n",
       "      <td>0.270833</td>\n",
       "      <td>...</td>\n",
       "      <td>0</td>\n",
       "      <td>0</td>\n",
       "      <td>0</td>\n",
       "      <td>0</td>\n",
       "      <td>0</td>\n",
       "      <td>0</td>\n",
       "      <td>0</td>\n",
       "      <td>0</td>\n",
       "      <td>0</td>\n",
       "      <td>0</td>\n",
       "    </tr>\n",
       "    <tr>\n",
       "      <th>1</th>\n",
       "      <td>2016-10-03 18:05:35</td>\n",
       "      <td>@robertcaruso Being an equal opportunity offen...</td>\n",
       "      <td>0</td>\n",
       "      <td>False</td>\n",
       "      <td>en</td>\n",
       "      <td>None</td>\n",
       "      <td>0</td>\n",
       "      <td>False</td>\n",
       "      <td>None</td>\n",
       "      <td>-0.233333</td>\n",
       "      <td>...</td>\n",
       "      <td>0</td>\n",
       "      <td>0</td>\n",
       "      <td>0</td>\n",
       "      <td>0</td>\n",
       "      <td>0</td>\n",
       "      <td>0</td>\n",
       "      <td>0</td>\n",
       "      <td>0</td>\n",
       "      <td>0</td>\n",
       "      <td>0</td>\n",
       "    </tr>\n",
       "    <tr>\n",
       "      <th>2</th>\n",
       "      <td>2016-10-03 16:27:17</td>\n",
       "      <td>Right, that too! #trumptrain is #insane and fu...</td>\n",
       "      <td>1</td>\n",
       "      <td>False</td>\n",
       "      <td>en</td>\n",
       "      <td>None</td>\n",
       "      <td>0</td>\n",
       "      <td>False</td>\n",
       "      <td>None</td>\n",
       "      <td>-0.097619</td>\n",
       "      <td>...</td>\n",
       "      <td>0</td>\n",
       "      <td>0</td>\n",
       "      <td>0</td>\n",
       "      <td>0</td>\n",
       "      <td>0</td>\n",
       "      <td>0</td>\n",
       "      <td>0</td>\n",
       "      <td>0</td>\n",
       "      <td>0</td>\n",
       "      <td>0</td>\n",
       "    </tr>\n",
       "    <tr>\n",
       "      <th>3</th>\n",
       "      <td>2016-10-03 16:10:45</td>\n",
       "      <td>RT @sonnylebythebay: As #DonaldTrump offends, ...</td>\n",
       "      <td>0</td>\n",
       "      <td>False</td>\n",
       "      <td>en</td>\n",
       "      <td>None</td>\n",
       "      <td>3</td>\n",
       "      <td>False</td>\n",
       "      <td>None</td>\n",
       "      <td>0.000000</td>\n",
       "      <td>...</td>\n",
       "      <td>0</td>\n",
       "      <td>0</td>\n",
       "      <td>0</td>\n",
       "      <td>0</td>\n",
       "      <td>0</td>\n",
       "      <td>0</td>\n",
       "      <td>0</td>\n",
       "      <td>0</td>\n",
       "      <td>0</td>\n",
       "      <td>0</td>\n",
       "    </tr>\n",
       "    <tr>\n",
       "      <th>4</th>\n",
       "      <td>2016-10-03 15:44:59</td>\n",
       "      <td>RT @sonnylebythebay: As #DonaldTrump offends, ...</td>\n",
       "      <td>0</td>\n",
       "      <td>False</td>\n",
       "      <td>en</td>\n",
       "      <td>None</td>\n",
       "      <td>3</td>\n",
       "      <td>False</td>\n",
       "      <td>None</td>\n",
       "      <td>0.000000</td>\n",
       "      <td>...</td>\n",
       "      <td>0</td>\n",
       "      <td>0</td>\n",
       "      <td>0</td>\n",
       "      <td>0</td>\n",
       "      <td>0</td>\n",
       "      <td>0</td>\n",
       "      <td>0</td>\n",
       "      <td>0</td>\n",
       "      <td>0</td>\n",
       "      <td>0</td>\n",
       "    </tr>\n",
       "  </tbody>\n",
       "</table>\n",
       "<p>5 rows × 2389 columns</p>\n",
       "</div>"
      ],
      "text/plain": [
       "                 date                                               text  \\\n",
       "0 2016-10-03 20:06:30  Now #donaldtrump #trumptrain says #war #vetera...   \n",
       "1 2016-10-03 18:05:35  @robertcaruso Being an equal opportunity offen...   \n",
       "2 2016-10-03 16:27:17  Right, that too! #trumptrain is #insane and fu...   \n",
       "3 2016-10-03 16:10:45  RT @sonnylebythebay: As #DonaldTrump offends, ...   \n",
       "4 2016-10-03 15:44:59  RT @sonnylebythebay: As #DonaldTrump offends, ...   \n",
       "\n",
       "   favorite_count favorited language geocode  retweet_count retweeted  \\\n",
       "0               0     False       en    None              0     False   \n",
       "1               0     False       en    None              0     False   \n",
       "2               1     False       en    None              0     False   \n",
       "3               0     False       en    None              3     False   \n",
       "4               0     False       en    None              3     False   \n",
       "\n",
       "  coordinates  sentiment        ...         yrs  yugaxkhoc9  yvfcvpwfeh  \\\n",
       "0        None   0.270833        ...           0           0           0   \n",
       "1        None  -0.233333        ...           0           0           0   \n",
       "2        None  -0.097619        ...           0           0           0   \n",
       "3        None   0.000000        ...           0           0           0   \n",
       "4        None   0.000000        ...           0           0           0   \n",
       "\n",
       "   ywk3j9qoau  yybsgoiq5q  zie2y6m6dk  zm7uzzsd3f  zones  ztrn891uxr  \\\n",
       "0           0           0           0           0      0           0   \n",
       "1           0           0           0           0      0           0   \n",
       "2           0           0           0           0      0           0   \n",
       "3           0           0           0           0      0           0   \n",
       "4           0           0           0           0      0           0   \n",
       "\n",
       "   zusammengekommen  \n",
       "0                 0  \n",
       "1                 0  \n",
       "2                 0  \n",
       "3                 0  \n",
       "4                 0  \n",
       "\n",
       "[5 rows x 2389 columns]"
      ]
     },
     "execution_count": 33,
     "metadata": {},
     "output_type": "execute_result"
    }
   ],
   "source": [
    "# concatinate it to your main dataframe\n",
    "tweets_with_dtm = pd.concat([tweets, dtm_df], axis=1)\n",
    "tweets_with_dtm.head()"
   ]
  },
  {
   "cell_type": "code",
   "execution_count": 34,
   "metadata": {
    "collapsed": false
   },
   "outputs": [
    {
     "data": {
      "text/plain": [
       "(682, 2389)"
      ]
     },
     "execution_count": 34,
     "metadata": {},
     "output_type": "execute_result"
    }
   ],
   "source": [
    "tweets_with_dtm.shape"
   ]
  },
  {
   "cell_type": "markdown",
   "metadata": {},
   "source": [
    "## 6. Use kmean to create clusters for the dataframe"
   ]
  },
  {
   "cell_type": "code",
   "execution_count": 35,
   "metadata": {
    "collapsed": true
   },
   "outputs": [],
   "source": [
    "# 6 Use kmean to create clusters for the dataframe (choose an optimal k)\n",
    "# Don't add clusters to the original dataframe"
   ]
  },
  {
   "cell_type": "code",
   "execution_count": 36,
   "metadata": {
    "collapsed": true
   },
   "outputs": [],
   "source": [
    "from sklearn.cluster import KMeans\n",
    "from sklearn import metrics"
   ]
  },
  {
   "cell_type": "code",
   "execution_count": null,
   "metadata": {
    "collapsed": true
   },
   "outputs": [],
   "source": []
  },
  {
   "cell_type": "code",
   "execution_count": null,
   "metadata": {
    "collapsed": true
   },
   "outputs": [],
   "source": []
  },
  {
   "cell_type": "code",
   "execution_count": 37,
   "metadata": {
    "collapsed": true
   },
   "outputs": [],
   "source": [
    "# calculate SC for K=2 through K=19\n",
    "k_range = range(2, 20)\n",
    "scores = []\n",
    "for k in k_range:\n",
    "    km = KMeans(n_clusters=k, random_state=1)\n",
    "    km.fit(dtm_df)\n",
    "    scores.append(metrics.silhouette_score(dtm_df, km.labels_))"
   ]
  },
  {
   "cell_type": "code",
   "execution_count": 38,
   "metadata": {
    "collapsed": true
   },
   "outputs": [],
   "source": [
    "%matplotlib inline\n",
    "import matplotlib.pyplot as plt"
   ]
  },
  {
   "cell_type": "code",
   "execution_count": 39,
   "metadata": {
    "collapsed": false
   },
   "outputs": [
    {
     "data": {
      "image/png": "[encoded data removed]",
      "text/plain": [
       "<matplotlib.figure.Figure at 0x11b1b1d90>"
      ]
     },
     "metadata": {},
     "output_type": "display_data"
    }
   ],
   "source": [
    "# plot the results\n",
    "plt.plot(k_range, scores)\n",
    "plt.xlabel('Number of clusters')\n",
    "plt.ylabel('Silhouette Coefficient')\n",
    "plt.grid(True)"
   ]
  },
  {
   "cell_type": "markdown",
   "metadata": {},
   "source": [
    "## 7. Explore the clusters"
   ]
  },
  {
   "cell_type": "code",
   "execution_count": null,
   "metadata": {
    "collapsed": true
   },
   "outputs": [],
   "source": [
    "# 7 Explore the clusters\n",
    "# What is interesting? Surprising? Can you draw any inferences about each cluster?\n",
    "# Write your answer to these questions in markdown"
   ]
  },
  {
   "cell_type": "markdown",
   "metadata": {
    "collapsed": true
   },
   "source": [
    "The silhouette coefficient is not showing a dip to indicate an optimal k.\n",
    "\n",
    "Am I using the right dataframe? More clusters?"
   ]
  },
  {
   "cell_type": "markdown",
   "metadata": {},
   "source": [
    "## 8. Create a column called 'democrat'"
   ]
  },
  {
   "cell_type": "code",
   "execution_count": 40,
   "metadata": {
    "collapsed": true
   },
   "outputs": [],
   "source": [
    "# 8 Create a column called 'democrat' and assign it to the corresponding candidate name for all the records\n",
    "# 1 for hilary and 0 for donald trump\n",
    "# Make a boxplot of sentiment for each candidate by the \"democrat\" column"
   ]
  },
  {
   "cell_type": "code",
   "execution_count": 41,
   "metadata": {
    "collapsed": false
   },
   "outputs": [
    {
     "data": {
      "text/html": [
       "<div>\n",
       "<table border=\"1\" class=\"dataframe\">\n",
       "  <thead>\n",
       "    <tr style=\"text-align: right;\">\n",
       "      <th></th>\n",
       "      <th>date</th>\n",
       "      <th>text</th>\n",
       "      <th>favorite_count</th>\n",
       "      <th>favorited</th>\n",
       "      <th>language</th>\n",
       "      <th>geocode</th>\n",
       "      <th>retweet_count</th>\n",
       "      <th>retweeted</th>\n",
       "      <th>coordinates</th>\n",
       "      <th>sentiment</th>\n",
       "      <th>word_count</th>\n",
       "      <th>democrat</th>\n",
       "    </tr>\n",
       "  </thead>\n",
       "  <tbody>\n",
       "    <tr>\n",
       "      <th>0</th>\n",
       "      <td>2016-10-03 20:37:05</td>\n",
       "      <td>Trump attacked G.S. parents, POWs, generals &amp;a...</td>\n",
       "      <td>0</td>\n",
       "      <td>False</td>\n",
       "      <td>en</td>\n",
       "      <td>None</td>\n",
       "      <td>0</td>\n",
       "      <td>False</td>\n",
       "      <td>None</td>\n",
       "      <td>0.00</td>\n",
       "      <td>21</td>\n",
       "      <td>1</td>\n",
       "    </tr>\n",
       "    <tr>\n",
       "      <th>1</th>\n",
       "      <td>2016-10-03 20:29:33</td>\n",
       "      <td>I hope it was @itsmarlamaples.\\n\\n#ImWithHer #...</td>\n",
       "      <td>0</td>\n",
       "      <td>False</td>\n",
       "      <td>en</td>\n",
       "      <td>None</td>\n",
       "      <td>0</td>\n",
       "      <td>False</td>\n",
       "      <td>None</td>\n",
       "      <td>0.00</td>\n",
       "      <td>9</td>\n",
       "      <td>1</td>\n",
       "    </tr>\n",
       "    <tr>\n",
       "      <th>2</th>\n",
       "      <td>2016-10-03 20:20:48</td>\n",
       "      <td>@dhilburn7 @CaroleRadziwill @PmDuarte we aren'...</td>\n",
       "      <td>0</td>\n",
       "      <td>False</td>\n",
       "      <td>en</td>\n",
       "      <td>None</td>\n",
       "      <td>0</td>\n",
       "      <td>False</td>\n",
       "      <td>None</td>\n",
       "      <td>0.00</td>\n",
       "      <td>21</td>\n",
       "      <td>1</td>\n",
       "    </tr>\n",
       "    <tr>\n",
       "      <th>3</th>\n",
       "      <td>2016-10-03 20:15:45</td>\n",
       "      <td>In defense of Trump, he thought he was buying ...</td>\n",
       "      <td>1</td>\n",
       "      <td>False</td>\n",
       "      <td>en</td>\n",
       "      <td>None</td>\n",
       "      <td>0</td>\n",
       "      <td>False</td>\n",
       "      <td>None</td>\n",
       "      <td>0.00</td>\n",
       "      <td>21</td>\n",
       "      <td>1</td>\n",
       "    </tr>\n",
       "    <tr>\n",
       "      <th>4</th>\n",
       "      <td>2016-10-03 20:07:54</td>\n",
       "      <td>RT @man_baby2016: Trump should be ashamed to \"...</td>\n",
       "      <td>0</td>\n",
       "      <td>False</td>\n",
       "      <td>en</td>\n",
       "      <td>None</td>\n",
       "      <td>2</td>\n",
       "      <td>False</td>\n",
       "      <td>None</td>\n",
       "      <td>-0.05</td>\n",
       "      <td>21</td>\n",
       "      <td>1</td>\n",
       "    </tr>\n",
       "  </tbody>\n",
       "</table>\n",
       "</div>"
      ],
      "text/plain": [
       "                 date                                               text  \\\n",
       "0 2016-10-03 20:37:05  Trump attacked G.S. parents, POWs, generals &a...   \n",
       "1 2016-10-03 20:29:33  I hope it was @itsmarlamaples.\\n\\n#ImWithHer #...   \n",
       "2 2016-10-03 20:20:48  @dhilburn7 @CaroleRadziwill @PmDuarte we aren'...   \n",
       "3 2016-10-03 20:15:45  In defense of Trump, he thought he was buying ...   \n",
       "4 2016-10-03 20:07:54  RT @man_baby2016: Trump should be ashamed to \"...   \n",
       "\n",
       "   favorite_count favorited language geocode  retweet_count retweeted  \\\n",
       "0               0     False       en    None              0     False   \n",
       "1               0     False       en    None              0     False   \n",
       "2               0     False       en    None              0     False   \n",
       "3               1     False       en    None              0     False   \n",
       "4               0     False       en    None              2     False   \n",
       "\n",
       "  coordinates  sentiment  word_count  democrat  \n",
       "0        None       0.00          21         1  \n",
       "1        None       0.00           9         1  \n",
       "2        None       0.00          21         1  \n",
       "3        None       0.00          21         1  \n",
       "4        None      -0.05          21         1  "
      ]
     },
     "execution_count": 41,
     "metadata": {},
     "output_type": "execute_result"
    }
   ],
   "source": [
    "hilary_tweets_df = pd.DataFrame(hilary_tweets, columns=feature_cols)\n",
    "hilary_tweets_df['sentiment'] = hilary_tweets_df.text.apply(detect_sentiment)\n",
    "hilary_tweets_df['word_count'] = hilary_tweets_df.text.str.split().apply(len)\n",
    "hilary_tweets_df['democrat'] = 1\n",
    "\n",
    "donald_tweets_df = pd.DataFrame(the_donald_tweets, columns=feature_cols)\n",
    "donald_tweets_df['sentiment'] = donald_tweets_df.text.apply(detect_sentiment)\n",
    "donald_tweets_df['word_count'] = donald_tweets_df.text.str.split().apply(len)\n",
    "donald_tweets_df['democrat'] = 0\n",
    "\n",
    "tweets = pd.concat([hilary_tweets_df, donald_tweets_df])\n",
    "tweets.head()"
   ]
  },
  {
   "cell_type": "code",
   "execution_count": 42,
   "metadata": {
    "collapsed": false
   },
   "outputs": [
    {
     "data": {
      "text/html": [
       "<div>\n",
       "<table border=\"1\" class=\"dataframe\">\n",
       "  <thead>\n",
       "    <tr style=\"text-align: right;\">\n",
       "      <th></th>\n",
       "      <th>date</th>\n",
       "      <th>text</th>\n",
       "      <th>favorite_count</th>\n",
       "      <th>favorited</th>\n",
       "      <th>language</th>\n",
       "      <th>geocode</th>\n",
       "      <th>retweet_count</th>\n",
       "      <th>retweeted</th>\n",
       "      <th>coordinates</th>\n",
       "      <th>sentiment</th>\n",
       "      <th>word_count</th>\n",
       "      <th>democrat</th>\n",
       "    </tr>\n",
       "  </thead>\n",
       "  <tbody>\n",
       "    <tr>\n",
       "      <th>377</th>\n",
       "      <td>2016-09-30 03:05:19</td>\n",
       "      <td>Are you ready to #MakeAmericaGreatAgain ? #Uni...</td>\n",
       "      <td>1</td>\n",
       "      <td>False</td>\n",
       "      <td>en</td>\n",
       "      <td>None</td>\n",
       "      <td>0</td>\n",
       "      <td>False</td>\n",
       "      <td>None</td>\n",
       "      <td>0.2</td>\n",
       "      <td>12</td>\n",
       "      <td>0</td>\n",
       "    </tr>\n",
       "    <tr>\n",
       "      <th>378</th>\n",
       "      <td>2016-09-30 02:52:57</td>\n",
       "      <td>I support Team Trump! Download the official ap...</td>\n",
       "      <td>0</td>\n",
       "      <td>False</td>\n",
       "      <td>en</td>\n",
       "      <td>None</td>\n",
       "      <td>0</td>\n",
       "      <td>False</td>\n",
       "      <td>None</td>\n",
       "      <td>0.0</td>\n",
       "      <td>12</td>\n",
       "      <td>0</td>\n",
       "    </tr>\n",
       "    <tr>\n",
       "      <th>379</th>\n",
       "      <td>2016-09-30 02:33:21</td>\n",
       "      <td>So much gold it looks like a grill #Olympics #...</td>\n",
       "      <td>0</td>\n",
       "      <td>False</td>\n",
       "      <td>en</td>\n",
       "      <td>None</td>\n",
       "      <td>0</td>\n",
       "      <td>False</td>\n",
       "      <td>None</td>\n",
       "      <td>0.1</td>\n",
       "      <td>15</td>\n",
       "      <td>0</td>\n",
       "    </tr>\n",
       "    <tr>\n",
       "      <th>380</th>\n",
       "      <td>2016-09-30 01:58:45</td>\n",
       "      <td>@real trump @TrumpVsHilary #Badmove if only fo...</td>\n",
       "      <td>0</td>\n",
       "      <td>False</td>\n",
       "      <td>en</td>\n",
       "      <td>None</td>\n",
       "      <td>0</td>\n",
       "      <td>False</td>\n",
       "      <td>None</td>\n",
       "      <td>0.1</td>\n",
       "      <td>11</td>\n",
       "      <td>0</td>\n",
       "    </tr>\n",
       "    <tr>\n",
       "      <th>381</th>\n",
       "      <td>2016-09-30 00:48:17</td>\n",
       "      <td>@realDonaldTrump I donated!!! #MakeAmericaGrea...</td>\n",
       "      <td>0</td>\n",
       "      <td>False</td>\n",
       "      <td>en</td>\n",
       "      <td>None</td>\n",
       "      <td>0</td>\n",
       "      <td>False</td>\n",
       "      <td>None</td>\n",
       "      <td>0.0</td>\n",
       "      <td>4</td>\n",
       "      <td>0</td>\n",
       "    </tr>\n",
       "  </tbody>\n",
       "</table>\n",
       "</div>"
      ],
      "text/plain": [
       "                   date                                               text  \\\n",
       "377 2016-09-30 03:05:19  Are you ready to #MakeAmericaGreatAgain ? #Uni...   \n",
       "378 2016-09-30 02:52:57  I support Team Trump! Download the official ap...   \n",
       "379 2016-09-30 02:33:21  So much gold it looks like a grill #Olympics #...   \n",
       "380 2016-09-30 01:58:45  @real trump @TrumpVsHilary #Badmove if only fo...   \n",
       "381 2016-09-30 00:48:17  @realDonaldTrump I donated!!! #MakeAmericaGrea...   \n",
       "\n",
       "     favorite_count favorited language geocode  retweet_count retweeted  \\\n",
       "377               1     False       en    None              0     False   \n",
       "378               0     False       en    None              0     False   \n",
       "379               0     False       en    None              0     False   \n",
       "380               0     False       en    None              0     False   \n",
       "381               0     False       en    None              0     False   \n",
       "\n",
       "    coordinates  sentiment  word_count  democrat  \n",
       "377        None        0.2          12         0  \n",
       "378        None        0.0          12         0  \n",
       "379        None        0.1          15         0  \n",
       "380        None        0.1          11         0  \n",
       "381        None        0.0           4         0  "
      ]
     },
     "execution_count": 42,
     "metadata": {},
     "output_type": "execute_result"
    }
   ],
   "source": [
    "tweets.tail()"
   ]
  },
  {
   "cell_type": "code",
   "execution_count": 43,
   "metadata": {
    "collapsed": false
   },
   "outputs": [
    {
     "data": {
      "text/plain": [
       "<matplotlib.axes._subplots.AxesSubplot at 0x122667950>"
      ]
     },
     "execution_count": 43,
     "metadata": {},
     "output_type": "execute_result"
    },
    {
     "data": {
      "image/png": "[encoded data removed]",
      "text/plain": [
       "<matplotlib.figure.Figure at 0x122b4ec90>"
      ]
     },
     "metadata": {},
     "output_type": "display_data"
    }
   ],
   "source": [
    "# Make a boxplot of sentiment for each candidate by the \"democrat\" column\n",
    "import matplotlib.pyplot as plt\n",
    "%matplotlib inline\n",
    "\n",
    "tweets.boxplot(column='sentiment', by='democrat')\n",
    "\n",
    "# Check. This does not look right. There's no box on the left."
   ]
  },
  {
   "cell_type": "code",
   "execution_count": null,
   "metadata": {
    "collapsed": true
   },
   "outputs": [],
   "source": []
  },
  {
   "cell_type": "code",
   "execution_count": null,
   "metadata": {
    "collapsed": true
   },
   "outputs": [],
   "source": []
  },
  {
   "cell_type": "markdown",
   "metadata": {},
   "source": [
    "## 9. Estimate classification models using knn and logistic regession."
   ]
  },
  {
   "cell_type": "code",
   "execution_count": null,
   "metadata": {
    "collapsed": true
   },
   "outputs": [],
   "source": [
    "# 9 Estimate classification models using knn and logistic regession.  Dont forget to use cross validation \n",
    "    # (do not use cross_val_score because we will want a confusion matrix).\n",
    "# The cateogrical response here is predict democrat or republican\n",
    "# Your features can EITHER be your countvectorizer document term matrix OR \n",
    "# data from the original dataframe (sentiment, word count, etc)"
   ]
  },
  {
   "cell_type": "code",
   "execution_count": 47,
   "metadata": {
    "collapsed": false
   },
   "outputs": [],
   "source": [
    "from sklearn.cross_validation import train_test_split\n",
    "from sklearn.neighbors import KNeighborsClassifier\n",
    "from sklearn.linear_model import LogisticRegression\n",
    "knn = KNeighborsClassifier()\n",
    "logreg = LogisticRegression()\n",
    "\n",
    "feature_cols = tweets.columns[:-1]\n",
    "X = tweets[feature_cols]\n",
    "y = tweets.democrat\n",
    "\n",
    "knn.fit(X, y)\n",
    "logreg.fit(X, y)\n"
   ]
  },
  {
   "cell_type": "code",
   "execution_count": null,
   "metadata": {
    "collapsed": true
   },
   "outputs": [],
   "source": []
  },
  {
   "cell_type": "code",
   "execution_count": null,
   "metadata": {
    "collapsed": true
   },
   "outputs": [],
   "source": []
  },
  {
   "cell_type": "code",
   "execution_count": null,
   "metadata": {
    "collapsed": true
   },
   "outputs": [],
   "source": []
  },
  {
   "cell_type": "markdown",
   "metadata": {},
   "source": [
    "## 10. Initialize a classification model (for both knn and logistic)"
   ]
  },
  {
   "cell_type": "code",
   "execution_count": null,
   "metadata": {
    "collapsed": true
   },
   "outputs": [],
   "source": [
    "# 10 Initialize a classification model (for both knn and logistic)\n",
    "# This is separate from step 9 because I will eventually want a \n",
    "# confusion matrix and we can't do that via cros validation"
   ]
  },
  {
   "cell_type": "code",
   "execution_count": null,
   "metadata": {
    "collapsed": true
   },
   "outputs": [],
   "source": []
  },
  {
   "cell_type": "markdown",
   "metadata": {},
   "source": [
    "## 11. Split and Train"
   ]
  },
  {
   "cell_type": "code",
   "execution_count": null,
   "metadata": {
    "collapsed": true
   },
   "outputs": [],
   "source": [
    "# 11 Split your data into training and testing tests and then\n",
    "# train your classification model  (for both knn and logistic)"
   ]
  },
  {
   "cell_type": "code",
   "execution_count": null,
   "metadata": {
    "collapsed": true
   },
   "outputs": [],
   "source": [
    "X_train, X_test, y_train, y_test = train_test_split(X, y, random_state=1)"
   ]
  },
  {
   "cell_type": "markdown",
   "metadata": {},
   "source": [
    "## 12. Predict on your test features and targets"
   ]
  },
  {
   "cell_type": "code",
   "execution_count": null,
   "metadata": {
    "collapsed": true
   },
   "outputs": [],
   "source": [
    "# 12 Predict on your test features and targets (for both knn and logistic)"
   ]
  },
  {
   "cell_type": "code",
   "execution_count": null,
   "metadata": {
    "collapsed": true
   },
   "outputs": [],
   "source": []
  },
  {
   "cell_type": "markdown",
   "metadata": {},
   "source": [
    "## 13. output your accuracy"
   ]
  },
  {
   "cell_type": "code",
   "execution_count": null,
   "metadata": {
    "collapsed": true
   },
   "outputs": [],
   "source": [
    "# 13 output your accuracy (for both knn and logistic)"
   ]
  },
  {
   "cell_type": "code",
   "execution_count": null,
   "metadata": {
    "collapsed": true
   },
   "outputs": [],
   "source": []
  },
  {
   "cell_type": "markdown",
   "metadata": {},
   "source": [
    "## 14. Create a confusion matrix"
   ]
  },
  {
   "cell_type": "code",
   "execution_count": null,
   "metadata": {
    "collapsed": true
   },
   "outputs": [],
   "source": [
    "# 14 Create a confusion matrix for your predictions (for both knn and logistic)\n",
    "# What is the sensitivity and specificity?"
   ]
  },
  {
   "cell_type": "code",
   "execution_count": null,
   "metadata": {
    "collapsed": true
   },
   "outputs": [],
   "source": [
    "from sklearn import metrics\n",
    "\n",
    "preds = knn.predict(X)\n",
    "print metrics.confusion_matrix(y, preds)\n",
    "\n",
    "preds = logreg.predict(X)\n",
    "print metrics.confusion_matrix(y, preds)"
   ]
  },
  {
   "cell_type": "code",
   "execution_count": null,
   "metadata": {
    "collapsed": true
   },
   "outputs": [],
   "source": [
    "# Top Left: True Negatives \n",
    "# Top Right False Negatives \n",
    "# Bottom Left: False Negatives \n",
    "# Bottom Right: True Positives \n",
    "\n",
    "Sensitivity = TP/actual yes\n",
    "\n",
    "Specificity = "
   ]
  },
  {
   "cell_type": "markdown",
   "metadata": {},
   "source": [
    "## 15. Who is the easiest candidate to predict?"
   ]
  },
  {
   "cell_type": "code",
   "execution_count": null,
   "metadata": {
    "collapsed": true
   },
   "outputs": [],
   "source": [
    "# 15 Who is the easiest candidate to predict? Why do you think? \n",
    "# Who is the hardest? Why do you think?\n",
    "# Write your answers in markdown (for both knn and logistic)"
   ]
  },
  {
   "cell_type": "code",
   "execution_count": null,
   "metadata": {
    "collapsed": true
   },
   "outputs": [],
   "source": []
  },
  {
   "cell_type": "markdown",
   "metadata": {},
   "source": [
    "## Bonus"
   ]
  },
  {
   "cell_type": "code",
   "execution_count": null,
   "metadata": {
    "collapsed": true
   },
   "outputs": [],
   "source": [
    "# 16 BONUS: make a pipeline with the first step being a feature union of countvectorizer\n",
    "# and tfidfvectorizer and no other features and our second step is\n",
    "# a ML model (your choice) predict our binary response\n"
   ]
  },
  {
   "cell_type": "code",
   "execution_count": 16,
   "metadata": {
    "collapsed": true
   },
   "outputs": [],
   "source": [
    "# 17: BONUS: grid search the model in step 16 to obtain the best features (up to you)"
   ]
  },
  {
   "cell_type": "code",
   "execution_count": null,
   "metadata": {
    "collapsed": true
   },
   "outputs": [],
   "source": [
    "# 18: SUPER BONUS: make a custom transformer that extracts sentiment and word count\n",
    "# make a pipeline that combines countvec, tfidfvec and your custom transformer\n",
    "# and try to get the possible accuracy for predicting whether or not the person is talking\n",
    "# about democrats or republicans"
   ]
  }
 ],
 "metadata": {
  "anaconda-cloud": {},
  "kernelspec": {
   "display_name": "Python [sfdat26]",
   "language": "python",
   "name": "Python [sfdat26]"
  },
  "language_info": {
   "codemirror_mode": {
    "name": "ipython",
    "version": 2
   },
   "file_extension": ".py",
   "mimetype": "text/x-python",
   "name": "python",
   "nbconvert_exporter": "python",
   "pygments_lexer": "ipython2",
   "version": "2.7.12"
  }
 },
 "nbformat": 4,
 "nbformat_minor": 0
}
